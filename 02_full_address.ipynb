{
 "cells": [
  {
   "cell_type": "code",
   "execution_count": 25,
   "metadata": {
    "collapsed": true
   },
   "outputs": [],
   "source": [
    "import numpy as np\n",
    "import pandas as pd\n",
    "\n",
    "from geopy.geocoders import Nominatim\n",
    "geolocator = Nominatim()\n",
    "\n",
    "\"\"\"geopy makes it easy for Python developers to locate the coordinates of addresses, cities, countries, \n",
    "and landmarks across the globe using third-party geocoders and other data sources.\n",
    "\n",
    "geopy includes geocoder classes for the OpenStreetMap Nominatim, Google Geocoding API (V3), \n",
    "and many other geocoding services. The full list is available on the Geocoders doc section. \n",
    "Geocoder classes are located in geopy.geocoders.\n",
    "\n",
    "link: https://pypi.org/project/geopy/\"\"\"\n",
    "\n",
    "import itertools"
   ]
  },
  {
   "cell_type": "code",
   "execution_count": 9,
   "metadata": {
    "collapsed": false
   },
   "outputs": [],
   "source": [
    "data = {'tra': pd.read_csv(r'...\\train_set.csv', \n",
    "                           error_bad_lines=False, index_col=False, dtype='unicode'),\n",
    "        'tes': pd.read_csv(r'...\\test_set.csv', \n",
    "                           error_bad_lines=False, index_col=False, dtype='unicode'),\n",
    "        'sub': pd.read_csv(r'...\\sample.csv')}\n",
    "\n",
    "data['tra'] = data['tra'].rename(columns={'pos_adress_lat':'pos_address_lat', 'pos_adress_lon':'pos_address_lon'})"
   ]
  },
  {
   "cell_type": "code",
   "execution_count": 10,
   "metadata": {
    "collapsed": false
   },
   "outputs": [
    {
     "data": {
      "text/plain": [
       "Index(['amount', 'atm_address', 'atm_address_lat', 'atm_address_lon', 'city',\n",
       "       'country', 'currency', 'customer_id', 'home_add_lat', 'home_add_lon',\n",
       "       'mcc', 'pos_address', 'pos_address_lat', 'pos_address_lon',\n",
       "       'terminal_id', 'transaction_date', 'work_add_lat', 'work_add_lon'],\n",
       "      dtype='object')"
      ]
     },
     "execution_count": 10,
     "metadata": {},
     "output_type": "execute_result"
    }
   ],
   "source": [
    "data['tra'].columns"
   ]
  },
  {
   "cell_type": "code",
   "execution_count": 11,
   "metadata": {
    "collapsed": false
   },
   "outputs": [],
   "source": [
    "pos_address = data['tra'][['pos_address_lat','pos_address_lon']]"
   ]
  },
  {
   "cell_type": "code",
   "execution_count": 21,
   "metadata": {
    "collapsed": false
   },
   "outputs": [],
   "source": [
    "data['tra']['pos_address_lon'] = data['tra']['pos_address_lon'].apply(str)\n",
    "data['tra']['pos_address_lat'] = data['tra']['pos_address_lat'].apply(str)\n",
    "\n",
    "data['tra']['pos_address'] = data['tra'].pos_address_lat + ', ' + data['tra'].pos_address_lon"
   ]
  },
  {
   "cell_type": "code",
   "execution_count": 42,
   "metadata": {
    "collapsed": false
   },
   "outputs": [],
   "source": [
    "pos_address = data['tra'][['pos_address']]\n",
    "pos_address = pos_address.drop_duplicates()\n",
    "pos_address.index = np.arange(len(pos_address))"
   ]
  },
  {
   "cell_type": "code",
   "execution_count": null,
   "metadata": {
    "collapsed": true
   },
   "outputs": [],
   "source": []
  },
  {
   "cell_type": "code",
   "execution_count": 56,
   "metadata": {
    "collapsed": true
   },
   "outputs": [],
   "source": [
    "def getUniqueWords(allWords) :\n",
    "    uniqueWords = [] \n",
    "    for i in allWords:\n",
    "        if not i in uniqueWords:\n",
    "            uniqueWords.append(i)\n",
    "    return uniqueWords"
   ]
  },
  {
   "cell_type": "code",
   "execution_count": 78,
   "metadata": {
    "collapsed": false
   },
   "outputs": [
    {
     "name": "stdout",
     "output_type": "stream",
     "text": [
      "Wall time: 6.77 s\n"
     ]
    }
   ],
   "source": [
    "%%time\n",
    "dir_add_list = []\n",
    "\n",
    "for i in np.arange(20):\n",
    "    x = geolocator.reverse(pos_address.values[i][0]).raw['address']\n",
    "    dir_add_list.append(x)"
   ]
  },
  {
   "cell_type": "code",
   "execution_count": 79,
   "metadata": {
    "collapsed": false
   },
   "outputs": [
    {
     "name": "stdout",
     "output_type": "stream",
     "text": [
      "Wall time: 0 ns\n"
     ]
    }
   ],
   "source": [
    "%%time\n",
    "un_keys=[]\n",
    "\n",
    "for i in np.arange(len(dir_add_list)):\n",
    "    x = list(dir_add_list[i].keys())\n",
    "    un_keys.append(x)"
   ]
  },
  {
   "cell_type": "code",
   "execution_count": 80,
   "metadata": {
    "collapsed": false
   },
   "outputs": [],
   "source": [
    "un_keys = getUniqueWords(list(itertools.chain.from_iterable(un_keys)))"
   ]
  },
  {
   "cell_type": "code",
   "execution_count": 81,
   "metadata": {
    "collapsed": false
   },
   "outputs": [
    {
     "data": {
      "text/plain": [
       "['supermarket',\n",
       " 'house_number',\n",
       " 'road',\n",
       " 'suburb',\n",
       " 'city',\n",
       " 'state_district',\n",
       " 'state',\n",
       " 'postcode',\n",
       " 'country',\n",
       " 'country_code',\n",
       " 'fast_food',\n",
       " 'department_store',\n",
       " 'city_district',\n",
       " 'county',\n",
       " 'cafe',\n",
       " 'building',\n",
       " 'mall',\n",
       " 'bank']"
      ]
     },
     "execution_count": 81,
     "metadata": {},
     "output_type": "execute_result"
    }
   ],
   "source": [
    "un_keys"
   ]
  },
  {
   "cell_type": "code",
   "execution_count": 82,
   "metadata": {
    "collapsed": false
   },
   "outputs": [
    {
     "data": {
      "text/plain": [
       "{'city': 'округ Юго-Запад',\n",
       " 'country': 'РФ',\n",
       " 'country_code': 'ru',\n",
       " 'fast_food': 'Макдоналдс',\n",
       " 'house_number': '31 к1',\n",
       " 'postcode': '190000',\n",
       " 'road': 'проспект Маршала Жукова',\n",
       " 'state': 'Санкт-Петербург',\n",
       " 'state_district': 'Красносельский район',\n",
       " 'suburb': 'Юго-Запад'}"
      ]
     },
     "execution_count": 82,
     "metadata": {},
     "output_type": "execute_result"
    }
   ],
   "source": [
    "dir_add_list[1]"
   ]
  },
  {
   "cell_type": "code",
   "execution_count": 83,
   "metadata": {
    "collapsed": false
   },
   "outputs": [
    {
     "data": {
      "text/plain": [
       "'О’КЕЙ'"
      ]
     },
     "execution_count": 83,
     "metadata": {},
     "output_type": "execute_result"
    }
   ],
   "source": [
    "dir_add_list[0][un_keys[0]]"
   ]
  },
  {
   "cell_type": "code",
   "execution_count": null,
   "metadata": {
    "collapsed": true
   },
   "outputs": [],
   "source": []
  },
  {
   "cell_type": "markdown",
   "metadata": {},
   "source": [
    "#### Find full address for all lat/lon coordinates "
   ]
  },
  {
   "cell_type": "code",
   "execution_count": null,
   "metadata": {
    "collapsed": true
   },
   "outputs": [],
   "source": [
    "address = pd.read_csv(r'...\\latlon.csv', names=['latlon'])\n",
    "address = list(address.latlon)"
   ]
  },
  {
   "cell_type": "code",
   "execution_count": null,
   "metadata": {
    "collapsed": true
   },
   "outputs": [],
   "source": [
    "def do_geocode(address):\n",
    "    try:\n",
    "        return geolocator.reverse(address).raw['address']\n",
    "    except:\n",
    "        return do_geocode(address)"
   ]
  },
  {
   "cell_type": "code",
   "execution_count": null,
   "metadata": {
    "collapsed": true
   },
   "outputs": [],
   "source": [
    "%%time\n",
    "dir_add_list = []\n",
    "\n",
    "for i in trange(0,len(address)):\n",
    "    time.sleep(1.1)\n",
    "    dir_add_list.append(do_geocode(address[i]))"
   ]
  },
  {
   "cell_type": "code",
   "execution_count": null,
   "metadata": {
    "collapsed": true
   },
   "outputs": [],
   "source": []
  },
  {
   "cell_type": "code",
   "execution_count": null,
   "metadata": {
    "collapsed": true
   },
   "outputs": [],
   "source": []
  }
 ],
 "metadata": {
  "kernelspec": {
   "display_name": "Python 3",
   "language": "python",
   "name": "python3"
  },
  "language_info": {
   "codemirror_mode": {
    "name": "ipython",
    "version": 3
   },
   "file_extension": ".py",
   "mimetype": "text/x-python",
   "name": "python",
   "nbconvert_exporter": "python",
   "pygments_lexer": "ipython3",
   "version": "3.6.2"
  }
 },
 "nbformat": 4,
 "nbformat_minor": 2
}
