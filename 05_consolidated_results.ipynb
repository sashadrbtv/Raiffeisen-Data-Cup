{
 "cells": [
  {
   "cell_type": "code",
   "execution_count": 1,
   "metadata": {
    "collapsed": false
   },
   "outputs": [],
   "source": [
    "import numpy as np\n",
    "import pandas as pd\n",
    "\n",
    "import math\n",
    "import os\n",
    "\n",
    "from sklearn.preprocessing import LabelEncoder, OneHotEncoder\n",
    "\n",
    "%matplotlib inline\n",
    "import matplotlib.pyplot as plt\n",
    "\n",
    "os.chdir(r'...')\n",
    "\n",
    "pd.options.mode.chained_assignment = None  # default='warn'\n",
    "\n",
    "from tqdm import tnrange, tqdm_notebook\n",
    "\n",
    "import os\n",
    "import folium\n",
    "\n",
    "from folium.plugins import HeatMap\n",
    "import seaborn as sns; sns.set(style=\"white\", color_codes=True)\n",
    "\n",
    "RADIUS = 0.02"
   ]
  },
  {
   "cell_type": "code",
   "execution_count": 2,
   "metadata": {
    "collapsed": true
   },
   "outputs": [],
   "source": [
    "# Честное вычисление расстояния по координатам точек\n",
    "# http://stackoverflow.com/questions/4913349/haversine-formula-in-python-bearing-and-distance-between-two-gps-points\n",
    "def haversine(lat1, lon1, lat2, lon2):\n",
    "    lon1, lat1, lon2, lat2 = list(map(math.radians, [lon1, lat1, lon2, lat2]))\n",
    "    dlon = lon2 - lon1 \n",
    "    dlat = lat2 - lat1 \n",
    "    a = math.sin(dlat / 2) ** 2 + math.cos(lat1) * math.cos(lat2) * math.sin(dlon / 2) ** 2\n",
    "    c = 2 * math.asin(math.sqrt(a)) \n",
    "    r = 6371000 # Radius of earth in meters\n",
    "    return c * r"
   ]
  },
  {
   "cell_type": "code",
   "execution_count": 3,
   "metadata": {
    "collapsed": true
   },
   "outputs": [],
   "source": [
    "# Честное вычисление работает очень долго, потому что в нем много тригонометрических функций\n",
    "# Напишем более быструю функцию для нахождения маленьких расстояний (в этом случае поверхность Земли можно\n",
    "# рассматривать как плоскость)\n",
    "\n",
    "# длина в метрах одной сотой градуса по широте\n",
    "LAT_001_DIST = haversine(0, 0, 0.01, 0)\n",
    "# длина в метрах одной сотой градуса по долготе для каждой широты с шагом 0.01\n",
    "LON_001_DIST = [haversine(i / 100.0, 0, i / 100.0, 0.01) for i in range(7500)]\n",
    "\n",
    "def haversine_fast_sq(lat1, lon1, lat2, lon2):\n",
    "    y = (lat1 - lat2) * LAT_001_DIST * 100\n",
    "    key = int(100.0 * lat1)\n",
    "    x = (lon1 - lon2) * LON_001_DIST[key] * 100\n",
    "    return x * x + y * y\n",
    "\n",
    "def haversine_fast(lat1, lon1, lat2, lon2):\n",
    "    return math.sqrt(haversine_fast_sq(lat1, lon1, lat2, lon2))\n",
    "\n",
    "# Переводит latlon координаты в x, y относительно origin\n",
    "# Предполагается, что latlons находятся в первой четверти относительно origin и расстояния не очень\n",
    "# большие, то есть поверхность можно рассматривать как плоскость \n",
    "def latlon_to_xy(latlons, origin):\n",
    "    olat, olon = origin\n",
    "    return [(haversine_fast(lat, lon, lat, olon), haversine_fast(lat, lon, olat, lon)) for lat, lon in latlons]\n",
    "\n",
    "# Переводит x, y координаты в latlon относительно origin\n",
    "def xy_to_latlon(xy, origin):\n",
    "    olat, olon = origin\n",
    "    lon = olon + xy[0] / (LON_001_DIST[int(100.0 * olat)] * 100)\n",
    "    lat = olat + xy[1] / (LAT_001_DIST * 100)\n",
    "    return lat, lon"
   ]
  },
  {
   "cell_type": "code",
   "execution_count": 4,
   "metadata": {
    "collapsed": false
   },
   "outputs": [
    {
     "name": "stdout",
     "output_type": "stream",
     "text": [
      "705366 364532 705366 364532\n"
     ]
    }
   ],
   "source": [
    "train_results_class_work = pd.read_csv('2018_03_16_work_xgb_biclass_train.csv')\n",
    "train_results_regres_work = pd.read_csv('2018_03_19_work_xgb_regression_train.csv')\n",
    "train_results_class_home = pd.read_csv('2018_03_16_home_xgb_biclass_train.csv')\n",
    "train_results_regres_home = pd.read_csv('2018_03_19_home_xgb_regression_train.csv')\n",
    "\n",
    "#nearby_work_prob = pd.read_csv('2018_03_14_nearby_work_prob.csv', names=['work_prob'])\n",
    "#sub_results_class_work['work_prob'] = nearby_work_prob\n",
    "\n",
    "#nearby_home_prob = pd.read_csv('2018_03_14_nearby_home_prob.csv', names=['home_prob'])\n",
    "#sub_results_class_home['home_prob'] = nearby_home_prob\n",
    "\n",
    "train_results_class_work = train_results_class_work[train_results_class_work.columns[1:]]\n",
    "train_results_regres_work = train_results_regres_work[train_results_regres_work.columns[1:]]\n",
    "train_results_class_home = train_results_class_home[train_results_class_home.columns[1:]]\n",
    "train_results_regres_home = train_results_regres_home[train_results_regres_home.columns[1:]]\n",
    "\n",
    "train_results_class_home.rename(columns={'0':'h1'}, inplace=True)\n",
    "train_results_class_work.rename(columns={'0':'w1'}, inplace=True)\n",
    "train_results_regres_work.rename(columns={'0':'work_dist'}, inplace=True)\n",
    "train_results_regres_home.rename(columns={'0':'home_dist'}, inplace=True)\n",
    "\n",
    "print(len(train_results_regres_home), len(train_results_regres_work), \n",
    "      len(train_results_class_home), len(train_results_class_work))\n",
    "\n",
    "#consolidated = pd.concat([sub_results_class_work, sub_results_class_home['h1']], axis=1)"
   ]
  },
  {
   "cell_type": "code",
   "execution_count": 5,
   "metadata": {
    "collapsed": false
   },
   "outputs": [],
   "source": [
    "train_home = pd.read_csv(r'...\\data\\\\\n",
    "train and test for modeling\\2018_03_20_home_regression_train.csv')"
   ]
  },
  {
   "cell_type": "code",
   "execution_count": 6,
   "metadata": {
    "collapsed": false
   },
   "outputs": [],
   "source": [
    "train_results_class_home['neighb_count'] = train_home['neighb_count']"
   ]
  },
  {
   "cell_type": "code",
   "execution_count": null,
   "metadata": {
    "collapsed": true
   },
   "outputs": [],
   "source": []
  },
  {
   "cell_type": "code",
   "execution_count": 7,
   "metadata": {
    "collapsed": false
   },
   "outputs": [
    {
     "data": {
      "text/plain": [
       "(121491, 231142)"
      ]
     },
     "execution_count": 7,
     "metadata": {},
     "output_type": "execute_result"
    }
   ],
   "source": [
    "\"\"\"берем медиану расстояния\"\"\"\n",
    "distance_with_key_work = train_results_regres_work.groupby(\n",
    "    ['customer_id', 'address_lat', 'address_lon'])['work_dist'].median().reset_index()\n",
    "distance_with_key_home = train_results_regres_home.groupby(\n",
    "    ['customer_id', 'address_lat', 'address_lon'])['home_dist'].median().reset_index()\n",
    "len(distance_with_key_work), len(distance_with_key_home)"
   ]
  },
  {
   "cell_type": "code",
   "execution_count": 8,
   "metadata": {
    "collapsed": true
   },
   "outputs": [],
   "source": [
    "\"\"\"создаем ключ latlon\"\"\"\n",
    "distance_with_key_work['gps'] = (distance_with_key_work['address_lat'].astype(str) + ', ' \n",
    "                                 + distance_with_key_work['address_lon'].astype(str))\n",
    "distance_with_key_home['gps'] = (distance_with_key_home['address_lat'].astype(str) + ', ' \n",
    "                                 + distance_with_key_home['address_lon'].astype(str))\n",
    "train_results_class_work['gps'] = (train_results_class_work['address_lat'].astype(str) + ', ' \n",
    "                                   + train_results_class_work['address_lon'].astype(str))\n",
    "train_results_class_home['gps'] = (train_results_class_home['address_lat'].astype(str) + ', ' \n",
    "                                   + train_results_class_home['address_lon'].astype(str))"
   ]
  },
  {
   "cell_type": "code",
   "execution_count": 9,
   "metadata": {
    "collapsed": true
   },
   "outputs": [],
   "source": [
    "train_results_class_work = pd.merge(train_results_class_work, distance_with_key_work[['customer_id', 'gps', 'work_dist']], \n",
    "                             on=['customer_id', 'gps'], how='left')\n",
    "train_results_class_home = pd.merge(train_results_class_home, distance_with_key_home[['customer_id', 'gps', 'home_dist']], \n",
    "                             on=['customer_id', 'gps'], how='left')"
   ]
  },
  {
   "cell_type": "code",
   "execution_count": null,
   "metadata": {
    "collapsed": true
   },
   "outputs": [],
   "source": []
  },
  {
   "cell_type": "code",
   "execution_count": null,
   "metadata": {
    "collapsed": true
   },
   "outputs": [],
   "source": [
    "#consolidated df - skip this step"
   ]
  },
  {
   "cell_type": "code",
   "execution_count": 10,
   "metadata": {
    "collapsed": false
   },
   "outputs": [],
   "source": [
    "consolidated = pd.merge(train_results_class_work, \n",
    "                        train_results_class_home[['customer_id', 'gps', 'h1', 'home_dist', 'neighb_count']], \n",
    "         on=['customer_id','gps'], how='left')"
   ]
  },
  {
   "cell_type": "code",
   "execution_count": 344,
   "metadata": {
    "collapsed": false
   },
   "outputs": [],
   "source": [
    "consolidated = consolidated[consolidated.h1.isnull()==0]"
   ]
  },
  {
   "cell_type": "code",
   "execution_count": 355,
   "metadata": {
    "collapsed": false
   },
   "outputs": [],
   "source": [
    "regular = 0\n",
    "\n",
    "consolidated['w2'] = consolidated['w1'] - (consolidated['neighb_count'] == 1).astype(int) * regular\n",
    "consolidated['h2'] = consolidated['h1'] - (consolidated['neighb_count'] == 1).astype(int) * regular"
   ]
  },
  {
   "cell_type": "code",
   "execution_count": 236,
   "metadata": {
    "collapsed": false
   },
   "outputs": [],
   "source": [
    "consolidated['w2'] = ((consolidated['w1'] / (consolidated['w1'] + consolidated['h1'])) * 0.2 + consolidated['w1'] * 0.8) \n",
    "consolidated['h2'] = ((consolidated['h1'] / (consolidated['w1'] + consolidated['h1'])) * 0.2 + consolidated['h1'] * 0.8) "
   ]
  },
  {
   "cell_type": "code",
   "execution_count": 330,
   "metadata": {
    "collapsed": false
   },
   "outputs": [],
   "source": [
    "consolidated['w2'] = 1 - ((np.log1p(consolidated['work_dist']) / \n",
    "                           (np.log1p(consolidated['work_dist']) + np.log1p(consolidated['home_dist']))))\n",
    "consolidated['h2'] = (np.log1p(consolidated['work_dist']) / \n",
    "                      (np.log1p(consolidated['work_dist']) + np.log1p(consolidated['home_dist'])))"
   ]
  },
  {
   "cell_type": "code",
   "execution_count": 322,
   "metadata": {
    "collapsed": true
   },
   "outputs": [],
   "source": [
    "consolidated['w2'] = (consolidated['w2'] + consolidated['w1']) / 2\n",
    "consolidated['h2'] = (consolidated['h2'] + consolidated['h1']) / 2"
   ]
  },
  {
   "cell_type": "code",
   "execution_count": 366,
   "metadata": {
    "collapsed": true
   },
   "outputs": [],
   "source": [
    "consolidated['w2'] = ((1 / consolidated['work_dist']**2)  * consolidated['w1'])\n",
    "consolidated['h2'] = ((1 / consolidated['home_dist']**2)  * consolidated['h1'])"
   ]
  },
  {
   "cell_type": "code",
   "execution_count": 345,
   "metadata": {
    "collapsed": false
   },
   "outputs": [
    {
     "data": {
      "text/html": [
       "<div>\n",
       "<table border=\"1\" class=\"dataframe\">\n",
       "  <thead>\n",
       "    <tr style=\"text-align: right;\">\n",
       "      <th></th>\n",
       "      <th>w1</th>\n",
       "      <th>y</th>\n",
       "      <th>ttl_count</th>\n",
       "      <th>address_lat</th>\n",
       "      <th>address_lon</th>\n",
       "      <th>customer_id</th>\n",
       "      <th>clusters</th>\n",
       "      <th>home_add_lat</th>\n",
       "      <th>home_add_lon</th>\n",
       "      <th>work_add_lat</th>\n",
       "      <th>work_add_lon</th>\n",
       "      <th>gps</th>\n",
       "      <th>work_dist_x</th>\n",
       "      <th>prob_dist</th>\n",
       "      <th>work_dist_y</th>\n",
       "      <th>work_dist</th>\n",
       "      <th>h1</th>\n",
       "      <th>home_dist</th>\n",
       "      <th>neighb_count</th>\n",
       "    </tr>\n",
       "  </thead>\n",
       "  <tbody>\n",
       "    <tr>\n",
       "      <th>0</th>\n",
       "      <td>0.9947</td>\n",
       "      <td>1.0</td>\n",
       "      <td>38.0</td>\n",
       "      <td>59.844074</td>\n",
       "      <td>30.179153</td>\n",
       "      <td>0dc0137d280a2a82d2dc89282450ff1b</td>\n",
       "      <td>0</td>\n",
       "      <td>59.851</td>\n",
       "      <td>30.232</td>\n",
       "      <td>59.847</td>\n",
       "      <td>30.177</td>\n",
       "      <td>59.8440742493, 30.1791534424</td>\n",
       "      <td>340.641174</td>\n",
       "      <td>0.000009</td>\n",
       "      <td>340.641174</td>\n",
       "      <td>340.641174</td>\n",
       "      <td>0.018225</td>\n",
       "      <td>2843.996582</td>\n",
       "      <td>28.0</td>\n",
       "    </tr>\n",
       "    <tr>\n",
       "      <th>1</th>\n",
       "      <td>0.9947</td>\n",
       "      <td>1.0</td>\n",
       "      <td>38.0</td>\n",
       "      <td>59.844074</td>\n",
       "      <td>30.179153</td>\n",
       "      <td>0dc0137d280a2a82d2dc89282450ff1b</td>\n",
       "      <td>0</td>\n",
       "      <td>59.851</td>\n",
       "      <td>30.232</td>\n",
       "      <td>59.847</td>\n",
       "      <td>30.177</td>\n",
       "      <td>59.8440742493, 30.1791534424</td>\n",
       "      <td>340.641174</td>\n",
       "      <td>0.000009</td>\n",
       "      <td>340.641174</td>\n",
       "      <td>340.641174</td>\n",
       "      <td>0.016951</td>\n",
       "      <td>2843.996582</td>\n",
       "      <td>28.0</td>\n",
       "    </tr>\n",
       "    <tr>\n",
       "      <th>2</th>\n",
       "      <td>0.9947</td>\n",
       "      <td>1.0</td>\n",
       "      <td>38.0</td>\n",
       "      <td>59.844074</td>\n",
       "      <td>30.179153</td>\n",
       "      <td>0dc0137d280a2a82d2dc89282450ff1b</td>\n",
       "      <td>0</td>\n",
       "      <td>59.851</td>\n",
       "      <td>30.232</td>\n",
       "      <td>59.847</td>\n",
       "      <td>30.177</td>\n",
       "      <td>59.8440742493, 30.1791534424</td>\n",
       "      <td>340.641174</td>\n",
       "      <td>0.000009</td>\n",
       "      <td>340.641174</td>\n",
       "      <td>340.641174</td>\n",
       "      <td>0.017793</td>\n",
       "      <td>2843.996582</td>\n",
       "      <td>28.0</td>\n",
       "    </tr>\n",
       "    <tr>\n",
       "      <th>3</th>\n",
       "      <td>0.9947</td>\n",
       "      <td>1.0</td>\n",
       "      <td>38.0</td>\n",
       "      <td>59.844074</td>\n",
       "      <td>30.179153</td>\n",
       "      <td>0dc0137d280a2a82d2dc89282450ff1b</td>\n",
       "      <td>0</td>\n",
       "      <td>59.851</td>\n",
       "      <td>30.232</td>\n",
       "      <td>59.847</td>\n",
       "      <td>30.177</td>\n",
       "      <td>59.8440742493, 30.1791534424</td>\n",
       "      <td>340.641174</td>\n",
       "      <td>0.000009</td>\n",
       "      <td>340.641174</td>\n",
       "      <td>340.641174</td>\n",
       "      <td>0.020062</td>\n",
       "      <td>2843.996582</td>\n",
       "      <td>28.0</td>\n",
       "    </tr>\n",
       "    <tr>\n",
       "      <th>4</th>\n",
       "      <td>0.9947</td>\n",
       "      <td>1.0</td>\n",
       "      <td>38.0</td>\n",
       "      <td>59.844074</td>\n",
       "      <td>30.179153</td>\n",
       "      <td>0dc0137d280a2a82d2dc89282450ff1b</td>\n",
       "      <td>0</td>\n",
       "      <td>59.851</td>\n",
       "      <td>30.232</td>\n",
       "      <td>59.847</td>\n",
       "      <td>30.177</td>\n",
       "      <td>59.8440742493, 30.1791534424</td>\n",
       "      <td>340.641174</td>\n",
       "      <td>0.000009</td>\n",
       "      <td>340.641174</td>\n",
       "      <td>340.641174</td>\n",
       "      <td>0.018079</td>\n",
       "      <td>2843.996582</td>\n",
       "      <td>28.0</td>\n",
       "    </tr>\n",
       "  </tbody>\n",
       "</table>\n",
       "</div>"
      ],
      "text/plain": [
       "       w1    y  ttl_count  address_lat  address_lon  \\\n",
       "0  0.9947  1.0       38.0    59.844074    30.179153   \n",
       "1  0.9947  1.0       38.0    59.844074    30.179153   \n",
       "2  0.9947  1.0       38.0    59.844074    30.179153   \n",
       "3  0.9947  1.0       38.0    59.844074    30.179153   \n",
       "4  0.9947  1.0       38.0    59.844074    30.179153   \n",
       "\n",
       "                        customer_id  clusters  home_add_lat  home_add_lon  \\\n",
       "0  0dc0137d280a2a82d2dc89282450ff1b         0        59.851        30.232   \n",
       "1  0dc0137d280a2a82d2dc89282450ff1b         0        59.851        30.232   \n",
       "2  0dc0137d280a2a82d2dc89282450ff1b         0        59.851        30.232   \n",
       "3  0dc0137d280a2a82d2dc89282450ff1b         0        59.851        30.232   \n",
       "4  0dc0137d280a2a82d2dc89282450ff1b         0        59.851        30.232   \n",
       "\n",
       "   work_add_lat  work_add_lon                           gps  work_dist_x  \\\n",
       "0        59.847        30.177  59.8440742493, 30.1791534424   340.641174   \n",
       "1        59.847        30.177  59.8440742493, 30.1791534424   340.641174   \n",
       "2        59.847        30.177  59.8440742493, 30.1791534424   340.641174   \n",
       "3        59.847        30.177  59.8440742493, 30.1791534424   340.641174   \n",
       "4        59.847        30.177  59.8440742493, 30.1791534424   340.641174   \n",
       "\n",
       "   prob_dist  work_dist_y   work_dist        h1    home_dist  neighb_count  \n",
       "0   0.000009   340.641174  340.641174  0.018225  2843.996582          28.0  \n",
       "1   0.000009   340.641174  340.641174  0.016951  2843.996582          28.0  \n",
       "2   0.000009   340.641174  340.641174  0.017793  2843.996582          28.0  \n",
       "3   0.000009   340.641174  340.641174  0.020062  2843.996582          28.0  \n",
       "4   0.000009   340.641174  340.641174  0.018079  2843.996582          28.0  "
      ]
     },
     "execution_count": 345,
     "metadata": {},
     "output_type": "execute_result"
    }
   ],
   "source": [
    "consolidated.head()"
   ]
  },
  {
   "cell_type": "code",
   "execution_count": 329,
   "metadata": {
    "collapsed": false
   },
   "outputs": [
    {
     "data": {
      "text/plain": [
       "1.9998596906661987"
      ]
     },
     "execution_count": 329,
     "metadata": {},
     "output_type": "execute_result"
    }
   ],
   "source": [
    "(consolidated['w1'] + consolidated['h1']).max()"
   ]
  },
  {
   "cell_type": "code",
   "execution_count": null,
   "metadata": {
    "collapsed": true
   },
   "outputs": [],
   "source": []
  },
  {
   "cell_type": "code",
   "execution_count": null,
   "metadata": {
    "collapsed": true
   },
   "outputs": [],
   "source": []
  },
  {
   "cell_type": "code",
   "execution_count": 12,
   "metadata": {
    "collapsed": false
   },
   "outputs": [],
   "source": [
    "\"\"\"BEST SCORE\"\"\"\n",
    "train_results_class_work['prob_dist'] = ((1 / train_results_class_work['work_dist']**2)  * train_results_class_work['w1'])\n",
    "train_results_class_home['prob_dist'] = ((1 / train_results_class_home['home_dist']**2)  * train_results_class_home['h1'])"
   ]
  },
  {
   "cell_type": "code",
   "execution_count": 63,
   "metadata": {
    "collapsed": false
   },
   "outputs": [],
   "source": [
    "#train_results_class_work['prob_dist'] = ((2000 >= train_results_class_work['work_dist'])\n",
    "#                                         * train_results_class_work['work_dist'] / 20000  + train_results_class_work['w1'])\n",
    "#train_results_class_home['prob_dist'] = ((2000 >= train_results_class_home['home_dist'])\n",
    "#                                         * train_results_class_home['home_dist'] / 20000  + train_results_class_home['h1'])"
   ]
  },
  {
   "cell_type": "code",
   "execution_count": 92,
   "metadata": {
    "collapsed": true
   },
   "outputs": [],
   "source": [
    "#train_results_class_work['prob_dist'] = (2000 / train_results_class_work['work_dist']) * 0.2 + train_results_class_work['w1']\n",
    "#train_results_class_home['prob_dist'] = (2000 / train_results_class_home['home_dist']) * 0.2 + train_results_class_home['h1']"
   ]
  },
  {
   "cell_type": "code",
   "execution_count": 100,
   "metadata": {
    "collapsed": true
   },
   "outputs": [],
   "source": [
    "#train_results_class_work['prob_dist'] = train_results_class_work['w1']\n",
    "#train_results_class_home['prob_dist'] = train_results_class_home['h1']"
   ]
  },
  {
   "cell_type": "code",
   "execution_count": 115,
   "metadata": {
    "collapsed": true
   },
   "outputs": [],
   "source": [
    "#train_results_class_work['prob_dist'] = (1 / train_results_class_work['work_dist'])\n",
    "#train_results_class_home['prob_dist'] = (1 / train_results_class_home['home_dist'])"
   ]
  },
  {
   "cell_type": "code",
   "execution_count": null,
   "metadata": {
    "collapsed": true
   },
   "outputs": [],
   "source": []
  },
  {
   "cell_type": "code",
   "execution_count": 15,
   "metadata": {
    "collapsed": false
   },
   "outputs": [],
   "source": [
    "work_answer_train = train_results_class_work[train_results_class_work.groupby(\n",
    "['customer_id'])['prob_dist'].transform(max) == train_results_class_work['prob_dist'] ].drop_duplicates(\n",
    "    'customer_id')[['customer_id','address_lat','address_lon', 'work_add_lat', 'work_add_lon']]\n",
    "\n",
    "home_answer_train = train_results_class_home[train_results_class_home.groupby(\n",
    "['customer_id'])['prob_dist'].transform(max) == train_results_class_home['prob_dist'] ].drop_duplicates(\n",
    "    'customer_id')[['customer_id','address_lat','address_lon', 'home_add_lat', 'home_add_lon']]"
   ]
  },
  {
   "cell_type": "code",
   "execution_count": null,
   "metadata": {
    "collapsed": false
   },
   "outputs": [],
   "source": [
    "#work_answer_train = consolidated[consolidated.groupby(\n",
    "#['customer_id'])['w2'].transform(max) == consolidated['w2'] ].drop_duplicates(\n",
    "#    'customer_id')[['customer_id','address_lat','address_lon', 'work_add_lat', 'work_add_lon']]\n",
    "\n",
    "#home_answer_train = consolidated[consolidated.groupby(\n",
    "#['customer_id'])['h2'].transform(max) == consolidated['h2'] ].drop_duplicates(\n",
    "#    'customer_id')[['customer_id','address_lat','address_lon', 'home_add_lat', 'home_add_lon']]"
   ]
  },
  {
   "cell_type": "code",
   "execution_count": 73,
   "metadata": {
    "collapsed": false
   },
   "outputs": [
    {
     "data": {
      "text/plain": [
       "(3732, 7649)"
      ]
     },
     "execution_count": 73,
     "metadata": {},
     "output_type": "execute_result"
    }
   ],
   "source": [
    "len(work_answer_train), len(home_answer_train)"
   ]
  },
  {
   "cell_type": "code",
   "execution_count": null,
   "metadata": {
    "collapsed": false
   },
   "outputs": [],
   "source": []
  },
  {
   "cell_type": "code",
   "execution_count": 368,
   "metadata": {
    "collapsed": false
   },
   "outputs": [
    {
     "data": {
      "text/plain": [
       "0.35619754680438992"
      ]
     },
     "execution_count": 368,
     "metadata": {},
     "output_type": "execute_result"
    }
   ],
   "source": [
    "\"\"\"WORK\"\"\"\n",
    "(np.where((np.sqrt(((work_answer_train.address_lat - work_answer_train.work_add_lat) ** 2) + \n",
    "        ((work_answer_train.address_lon - work_answer_train.work_add_lon) ** 2)) <= RADIUS), .5, 0).sum()\n",
    " / len(work_answer_train))"
   ]
  },
  {
   "cell_type": "code",
   "execution_count": 369,
   "metadata": {
    "collapsed": false
   },
   "outputs": [
    {
     "data": {
      "text/plain": [
       "0.43237572627501614"
      ]
     },
     "execution_count": 369,
     "metadata": {},
     "output_type": "execute_result"
    }
   ],
   "source": [
    "\"\"\"HOME\"\"\"\n",
    "(np.where((np.sqrt(((home_answer_train.address_lat - home_answer_train.home_add_lat) ** 2) + \n",
    "        ((home_answer_train.address_lon - home_answer_train.home_add_lon) ** 2)) <= RADIUS), .5, 0).sum()\n",
    " / len(home_answer_train))"
   ]
  },
  {
   "cell_type": "code",
   "execution_count": null,
   "metadata": {
    "collapsed": false
   },
   "outputs": [],
   "source": []
  },
  {
   "cell_type": "code",
   "execution_count": 391,
   "metadata": {
    "collapsed": false
   },
   "outputs": [
    {
     "data": {
      "text/plain": [
       "168594    0d1c8fffd6e35a942e89ba2264837573\n",
       "177575    785f11d626ac8e6b21c512e5e00bef95\n",
       "216263    c21999a5ad31fa3c1731e14580d80d04\n",
       "219741    4bec4641fa65c9e6e8a72432dcf6e6c4\n",
       "228397    a3751c8c4c5a381a39b7a87ddf391e0a\n",
       "264980    31d2c43181588b84811159985e74c18a\n",
       "266783    4263d63bb06695064038e693ae6761a2\n",
       "283334    741269285416cf8f5cbadc5a4fa62b3d\n",
       "295821    b595b93570eb333b73f8d93ff7ace6cd\n",
       "296429    bd92aa5b0ef60b6b35dedd79710ead99\n",
       "308252    35f2ab84350fa8b620b9c605360cf0c4\n",
       "328661    95a5f1fdcb9c27bdb6279cbb46598c93\n",
       "333941    afe1e6acfdbdfa823f9104fdd0065dd0\n",
       "335286    b4e4d954511acc1c7e7710c38975248e\n",
       "338617    0ac47205e183896b0164a6692604142a\n",
       "387002    af8e3c224509de92b734eb929e8466be\n",
       "390133    14d0f64dd51b3bab4b1fcd58092ea509\n",
       "405345    9c3674d189e58317c425e3bd755d811c\n",
       "417008    4a3cf489f6505ab557de7036aa21ef18\n",
       "417758    ef2ac658bde43c9ea81df37638d5a7c3\n",
       "Name: customer_id, dtype: object"
      ]
     },
     "execution_count": 391,
     "metadata": {},
     "output_type": "execute_result"
    }
   ],
   "source": [
    "home_answer_train[(np.where((np.sqrt(((home_answer_train.address_lat - home_answer_train.home_add_lat) ** 2) + \n",
    "        ((home_answer_train.address_lon - home_answer_train.home_add_lon) ** 2)) <= RADIUS), .5, 0) == 0) == 1]['customer_id'][10:30]"
   ]
  },
  {
   "cell_type": "code",
   "execution_count": 16,
   "metadata": {
    "collapsed": false
   },
   "outputs": [
    {
     "data": {
      "text/html": [
       "<div>\n",
       "<style scoped>\n",
       "    .dataframe tbody tr th:only-of-type {\n",
       "        vertical-align: middle;\n",
       "    }\n",
       "\n",
       "    .dataframe tbody tr th {\n",
       "        vertical-align: top;\n",
       "    }\n",
       "\n",
       "    .dataframe thead th {\n",
       "        text-align: right;\n",
       "    }\n",
       "</style>\n",
       "<table border=\"1\" class=\"dataframe\">\n",
       "  <thead>\n",
       "    <tr style=\"text-align: right;\">\n",
       "      <th></th>\n",
       "      <th>customer_id</th>\n",
       "      <th>address_lat</th>\n",
       "      <th>address_lon</th>\n",
       "      <th>work_add_lat</th>\n",
       "      <th>work_add_lon</th>\n",
       "    </tr>\n",
       "  </thead>\n",
       "  <tbody>\n",
       "    <tr>\n",
       "      <th>8879</th>\n",
       "      <td>785f11d626ac8e6b21c512e5e00bef95</td>\n",
       "      <td>55.653</td>\n",
       "      <td>37.620712</td>\n",
       "      <td>55.746</td>\n",
       "      <td>37.595</td>\n",
       "    </tr>\n",
       "  </tbody>\n",
       "</table>\n",
       "</div>"
      ],
      "text/plain": [
       "                           customer_id  address_lat  address_lon  \\\n",
       "8879  785f11d626ac8e6b21c512e5e00bef95       55.653    37.620712   \n",
       "\n",
       "      work_add_lat  work_add_lon  \n",
       "8879        55.746        37.595  "
      ]
     },
     "execution_count": 16,
     "metadata": {},
     "output_type": "execute_result"
    }
   ],
   "source": [
    "work_answer_train[work_answer_train.customer_id == '785f11d626ac8e6b21c512e5e00bef95']"
   ]
  },
  {
   "cell_type": "code",
   "execution_count": 17,
   "metadata": {
    "collapsed": false
   },
   "outputs": [
    {
     "data": {
      "text/html": [
       "<div style=\"width:100%;\"><div style=\"position:relative;width:100%;height:0;padding-bottom:60%;\"><iframe src=\"data:text/html;charset=utf-8;base64,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\" style=\"position:absolute;width:100%;height:100%;left:0;top:0;border:none !important;\" allowfullscreen webkitallowfullscreen mozallowfullscreen></iframe></div></div>"
      ],
      "text/plain": [
       "<folium.folium.Map at 0x16a25bdaef0>"
      ]
     },
     "execution_count": 17,
     "metadata": {},
     "output_type": "execute_result"
    }
   ],
   "source": [
    "idn = '0ac47205e183896b0164a6692604142a'\n",
    "\n",
    "m = folium.Map([55., 37.], tiles='stamentoner', zoom_start=6)\n",
    "\n",
    "HeatMap(consolidated[consolidated.customer_id == idn]\n",
    "        [['address_lat', 'address_lon']].values.tolist()).add_to(m)\n",
    "\n",
    "folium.Marker([work_answer_train[work_answer_train.customer_id == idn]['address_lat'].mean(), \n",
    "               work_answer_train[work_answer_train.customer_id == idn]['address_lon'].mean()], \n",
    "              popup='work', icon=folium.Icon(color='green')).add_to(m)\n",
    "folium.Marker([work_answer_train[work_answer_train.customer_id == idn]['work_add_lat'].mean(), \n",
    "               work_answer_train[work_answer_train.customer_id == idn]['work_add_lon'].mean()], \n",
    "              popup='work', icon=folium.Icon(color='red')).add_to(m)\n",
    "\n",
    "folium.Marker([home_answer_train[home_answer_train.customer_id == idn]['address_lat'].mean(), \n",
    "               home_answer_train[home_answer_train.customer_id == idn]['address_lon'].mean()], \n",
    "              popup='home', icon=folium.Icon(color='green')).add_to(m)\n",
    "folium.Marker([home_answer_train[home_answer_train.customer_id == idn]['home_add_lat'].mean(), \n",
    "               home_answer_train[home_answer_train.customer_id == idn]['home_add_lon'].mean()], \n",
    "              popup='home', icon=folium.Icon(color='red')).add_to(m)\n",
    "\n",
    "m"
   ]
  },
  {
   "cell_type": "code",
   "execution_count": null,
   "metadata": {
    "collapsed": true
   },
   "outputs": [],
   "source": []
  },
  {
   "cell_type": "code",
   "execution_count": null,
   "metadata": {
    "collapsed": true
   },
   "outputs": [],
   "source": []
  },
  {
   "cell_type": "code",
   "execution_count": null,
   "metadata": {
    "collapsed": true
   },
   "outputs": [],
   "source": []
  },
  {
   "cell_type": "code",
   "execution_count": 155,
   "metadata": {
    "collapsed": true
   },
   "outputs": [],
   "source": [
    "\"\"\"вычисляем топ по каждому ID\"\"\"\n",
    "def top(df, n=3, column='y_pred'):\n",
    "    return df.sort_values(by=column)[-n:]\n",
    "\n",
    "\"\"\"вычислям взвешенное среднее значение\"\"\"\n",
    "def weighted_average(df,data_col,weight_col,by_col):\n",
    "    df['_data_times_weight'] = df[data_col]*df[weight_col]\n",
    "    df['_weight_where_notnull'] = df[weight_col]*pd.notnull(df[data_col])\n",
    "    g = df.groupby(by_col)\n",
    "    result = g['_data_times_weight'].sum() / g['_weight_where_notnull'].sum()\n",
    "    del df['_data_times_weight'], df['_weight_where_notnull']\n",
    "    return result"
   ]
  },
  {
   "cell_type": "code",
   "execution_count": 156,
   "metadata": {
    "collapsed": true
   },
   "outputs": [],
   "source": [
    "train_results_class_work['gps'] = (train_results_class_work['address_lat'].astype(str) + ', '\n",
    "                                   + train_results_class_work['address_lon'].astype(str))\n",
    "train_results_class_home['gps'] = (train_results_class_home['address_lat'].astype(str) + ', '\n",
    "                                   + train_results_class_home['address_lon'].astype(str))"
   ]
  },
  {
   "cell_type": "code",
   "execution_count": null,
   "metadata": {
    "collapsed": true
   },
   "outputs": [],
   "source": []
  },
  {
   "cell_type": "code",
   "execution_count": 189,
   "metadata": {
    "collapsed": false
   },
   "outputs": [
    {
     "name": "stdout",
     "output_type": "stream",
     "text": [
      "Wall time: 1min 16s\n"
     ]
    }
   ],
   "source": [
    "%%time\n",
    "work_results_dic_median_prob = {}\n",
    "#work_results_dic_max = {}\n",
    "\n",
    "for q in [1,2,3,4,5,7,9,11]:\n",
    "    \n",
    "    \"\"\"по уникальным координатам ищем максимальные значения\"\"\"\n",
    "    un_gps_only = train_results_class_work.groupby(['customer_id', 'gps']).agg({'w1': [np.size, np.median]}).reset_index()\n",
    "    un_gps_only.columns = un_gps_only.columns.droplevel(1)\n",
    "    un_gps_only.columns = ['customer_id', 'gps', 'count', 'mean']\n",
    "\n",
    "    \"\"\"находим топ-n по вер-ти\"\"\"\n",
    "    un_gps_only = un_gps_only.groupby('customer_id').apply(top, n=q, column='mean')\n",
    "    un_gps_only.reset_index(drop=True, inplace=True)\n",
    "    un_gps_only['address_lat'] = un_gps_only['gps'].map(lambda x: str(x).split(',')[0]).apply(float)\n",
    "    un_gps_only['address_lon'] = un_gps_only['gps'].map(lambda x: str(x).split(',')[1]).apply(float)\n",
    "\n",
    "\n",
    "    un_gps_only['max_prob'] = un_gps_only.groupby(['customer_id'])['mean'].transform(max)\n",
    "    max_prob_key = pd.DataFrame(un_gps_only.groupby(['customer_id'])['mean'].max()).reset_index()\n",
    "    max_prob_key = pd.merge(max_prob_key, un_gps_only[['customer_id', 'mean', 'address_lat', 'address_lon']], \n",
    "             on=['customer_id', 'mean'], how='left')\n",
    "    un_gps_only = pd.merge(un_gps_only, max_prob_key[['customer_id', 'address_lat', 'address_lon']],\n",
    "                           on='customer_id', how='left')\n",
    "\n",
    "    for r in [0.02, 0.025, 0.03, 0.035, 0.04, 0.045, 0.05, 0.055, 0.06, 0.065, 0.07, 0.075, 0.08, 0.085, 0.09]:\n",
    "        \n",
    "        proximity_radius = r\n",
    "        un_gps_only['is_close'] = (un_gps_only['address_lat_x'].between(un_gps_only['address_lat_y'] - proximity_radius, \n",
    "                                              un_gps_only['address_lat_y'] + proximity_radius, inclusive=True) &\n",
    "         un_gps_only['address_lon_x'].between(un_gps_only['address_lon_y'] - proximity_radius, \n",
    "                                              un_gps_only['address_lon_y'] + proximity_radius, inclusive=True)).astype(int)\n",
    "\n",
    "\n",
    "        un_gps_only_nearest_points = un_gps_only[un_gps_only.is_close == 1]\n",
    "\n",
    "        work_lat_answer = pd.DataFrame(weighted_average(un_gps_only_nearest_points, data_col='address_lat_x', \n",
    "                                                        weight_col='mean', by_col='customer_id')).reset_index()\n",
    "        work_lon_answer = pd.DataFrame(weighted_average(un_gps_only_nearest_points, data_col='address_lon_x', \n",
    "                                                        weight_col='mean', by_col='customer_id')).reset_index()\n",
    "        work_answer = pd.merge(work_lat_answer, work_lon_answer, on='customer_id', how='left')\n",
    "\n",
    "        work_answer.columns = ['customer_id', 'address_lat', 'address_lon']\n",
    "        work_answer_train.drop(['address_lat', 'address_lon'], axis=1, inplace=True)\n",
    "        work_answer_train = pd.merge(work_answer_train, work_answer, on='customer_id', how='left')\n",
    "\n",
    "        work_results_dic_median_prob[q, r] = (np.where((\n",
    "            np.sqrt(((work_answer_train.address_lat - work_answer_train.work_add_lat) ** 2) \n",
    "                    + ((work_answer_train.address_lon - work_answer_train.work_add_lon) ** 2)) <= RADIUS), 0.5, 0).sum() \n",
    "                                         / len(work_answer_train))"
   ]
  },
  {
   "cell_type": "code",
   "execution_count": 187,
   "metadata": {
    "collapsed": false
   },
   "outputs": [
    {
     "data": {
      "text/html": [
       "<div>\n",
       "<table border=\"1\" class=\"dataframe\">\n",
       "  <thead>\n",
       "    <tr style=\"text-align: right;\">\n",
       "      <th></th>\n",
       "      <th>customer_id</th>\n",
       "      <th>0</th>\n",
       "    </tr>\n",
       "  </thead>\n",
       "  <tbody>\n",
       "    <tr>\n",
       "      <th>0</th>\n",
       "      <td>0001f322716470bf9bfc1708f06f00fc</td>\n",
       "      <td>44.716842</td>\n",
       "    </tr>\n",
       "    <tr>\n",
       "      <th>1</th>\n",
       "      <td>0007297d86e14bd68bd87b1dbdefe302</td>\n",
       "      <td>55.799905</td>\n",
       "    </tr>\n",
       "    <tr>\n",
       "      <th>2</th>\n",
       "      <td>000b709c6c6fb1e8efcfd95e57c2a9de</td>\n",
       "      <td>54.994608</td>\n",
       "    </tr>\n",
       "    <tr>\n",
       "      <th>3</th>\n",
       "      <td>0027a7618d97cc9fbda55fac457eaeb7</td>\n",
       "      <td>55.746592</td>\n",
       "    </tr>\n",
       "    <tr>\n",
       "      <th>4</th>\n",
       "      <td>002b9f6e118c54f1292e03d1a04d516e</td>\n",
       "      <td>55.802018</td>\n",
       "    </tr>\n",
       "    <tr>\n",
       "      <th>5</th>\n",
       "      <td>0031915eb230f772681fb5dc5a8d1c31</td>\n",
       "      <td>55.776548</td>\n",
       "    </tr>\n",
       "    <tr>\n",
       "      <th>6</th>\n",
       "      <td>003360bff9882ca4a4f93394dd984822</td>\n",
       "      <td>59.213757</td>\n",
       "    </tr>\n",
       "    <tr>\n",
       "      <th>7</th>\n",
       "      <td>0037f3de3d890df1022cc760a1dfd9d6</td>\n",
       "      <td>55.686178</td>\n",
       "    </tr>\n",
       "    <tr>\n",
       "      <th>8</th>\n",
       "      <td>003fa58414cc55531fcc38423bea8f8e</td>\n",
       "      <td>55.763176</td>\n",
       "    </tr>\n",
       "    <tr>\n",
       "      <th>9</th>\n",
       "      <td>0046c2952fb808aa11f74abce5abe097</td>\n",
       "      <td>54.671926</td>\n",
       "    </tr>\n",
       "    <tr>\n",
       "      <th>10</th>\n",
       "      <td>005194bf7238734eb49c142258c5a263</td>\n",
       "      <td>51.712413</td>\n",
       "    </tr>\n",
       "    <tr>\n",
       "      <th>11</th>\n",
       "      <td>005d6f1ee97276374cefe4d0c65e9a89</td>\n",
       "      <td>55.857617</td>\n",
       "    </tr>\n",
       "    <tr>\n",
       "      <th>12</th>\n",
       "      <td>006e9e0d6587c61da4317b8a6935a7bd</td>\n",
       "      <td>56.037252</td>\n",
       "    </tr>\n",
       "    <tr>\n",
       "      <th>13</th>\n",
       "      <td>007525af0bc3ce72137b586a298f7b98</td>\n",
       "      <td>55.821809</td>\n",
       "    </tr>\n",
       "    <tr>\n",
       "      <th>14</th>\n",
       "      <td>007a45db1a78be386e368612dd59be77</td>\n",
       "      <td>56.008223</td>\n",
       "    </tr>\n",
       "    <tr>\n",
       "      <th>15</th>\n",
       "      <td>007bb42c2a4eb9aa33f9bc5abae7632f</td>\n",
       "      <td>56.764645</td>\n",
       "    </tr>\n",
       "    <tr>\n",
       "      <th>16</th>\n",
       "      <td>0086aa6c4ebc89dd5a20eed71a625df1</td>\n",
       "      <td>55.739263</td>\n",
       "    </tr>\n",
       "    <tr>\n",
       "      <th>17</th>\n",
       "      <td>0089100aa33a523bd2e697dec264a71a</td>\n",
       "      <td>55.415433</td>\n",
       "    </tr>\n",
       "    <tr>\n",
       "      <th>18</th>\n",
       "      <td>008b0844115d2c7aafe51ccb3c4b2c2e</td>\n",
       "      <td>55.661707</td>\n",
       "    </tr>\n",
       "    <tr>\n",
       "      <th>19</th>\n",
       "      <td>00a840ccc4f35f8ead26610f788a6a61</td>\n",
       "      <td>59.945189</td>\n",
       "    </tr>\n",
       "    <tr>\n",
       "      <th>20</th>\n",
       "      <td>00ab4bcdef7c20583e61d5d2ac7617cb</td>\n",
       "      <td>59.847845</td>\n",
       "    </tr>\n",
       "    <tr>\n",
       "      <th>21</th>\n",
       "      <td>00ac474dcf0252f6a6992e25f49fa01c</td>\n",
       "      <td>55.687529</td>\n",
       "    </tr>\n",
       "    <tr>\n",
       "      <th>22</th>\n",
       "      <td>00b0b0ea6c290c3bd197a01fe21bea02</td>\n",
       "      <td>59.949524</td>\n",
       "    </tr>\n",
       "    <tr>\n",
       "      <th>23</th>\n",
       "      <td>00bbac7f2b95830cf7552fa398ed0b15</td>\n",
       "      <td>54.767188</td>\n",
       "    </tr>\n",
       "    <tr>\n",
       "      <th>24</th>\n",
       "      <td>00cefcb1c777d2bf7a32f082c040088f</td>\n",
       "      <td>55.680698</td>\n",
       "    </tr>\n",
       "    <tr>\n",
       "      <th>25</th>\n",
       "      <td>00d7a8b5d813ba578b5d2e12ee533be5</td>\n",
       "      <td>43.580485</td>\n",
       "    </tr>\n",
       "    <tr>\n",
       "      <th>26</th>\n",
       "      <td>00e090fa8609abb31807380ec091630b</td>\n",
       "      <td>55.787541</td>\n",
       "    </tr>\n",
       "    <tr>\n",
       "      <th>27</th>\n",
       "      <td>00e108dc39c087b4bc8688f14981c43a</td>\n",
       "      <td>59.909801</td>\n",
       "    </tr>\n",
       "    <tr>\n",
       "      <th>28</th>\n",
       "      <td>00e7bdc359aab2339bda46e5012c3924</td>\n",
       "      <td>55.744742</td>\n",
       "    </tr>\n",
       "    <tr>\n",
       "      <th>29</th>\n",
       "      <td>00e95d5d93e0789cca48a7cf52e279f8</td>\n",
       "      <td>55.896882</td>\n",
       "    </tr>\n",
       "    <tr>\n",
       "      <th>...</th>\n",
       "      <td>...</td>\n",
       "      <td>...</td>\n",
       "    </tr>\n",
       "    <tr>\n",
       "      <th>7619</th>\n",
       "      <td>fe9a80f2f7101885268d11784e78fc43</td>\n",
       "      <td>59.912057</td>\n",
       "    </tr>\n",
       "    <tr>\n",
       "      <th>7620</th>\n",
       "      <td>fe9ba5ff9ec6cc7beb4a2d73498eaf7e</td>\n",
       "      <td>54.998975</td>\n",
       "    </tr>\n",
       "    <tr>\n",
       "      <th>7621</th>\n",
       "      <td>fea1584dbe0a46916b6f76fae96c1383</td>\n",
       "      <td>59.133000</td>\n",
       "    </tr>\n",
       "    <tr>\n",
       "      <th>7622</th>\n",
       "      <td>feab6584fc032169d32e29f2b4d58f38</td>\n",
       "      <td>52.253412</td>\n",
       "    </tr>\n",
       "    <tr>\n",
       "      <th>7623</th>\n",
       "      <td>fec0402b83aa2b3dec30a7a47295b5e3</td>\n",
       "      <td>55.627402</td>\n",
       "    </tr>\n",
       "    <tr>\n",
       "      <th>7624</th>\n",
       "      <td>feca3b58587a8dafb3cf44fb5283d544</td>\n",
       "      <td>55.757593</td>\n",
       "    </tr>\n",
       "    <tr>\n",
       "      <th>7625</th>\n",
       "      <td>fecc1d9c65b9bc15bb6189d18e5a5bfa</td>\n",
       "      <td>55.918048</td>\n",
       "    </tr>\n",
       "    <tr>\n",
       "      <th>7626</th>\n",
       "      <td>fee0deb1e45dac1b1fb8e0d73ee4a45f</td>\n",
       "      <td>55.067072</td>\n",
       "    </tr>\n",
       "    <tr>\n",
       "      <th>7627</th>\n",
       "      <td>fee49e06d1a358ab16bc11d40cb3c74f</td>\n",
       "      <td>57.152232</td>\n",
       "    </tr>\n",
       "    <tr>\n",
       "      <th>7628</th>\n",
       "      <td>fee6606ac69a1227df1cf227d42667a1</td>\n",
       "      <td>59.846487</td>\n",
       "    </tr>\n",
       "    <tr>\n",
       "      <th>7629</th>\n",
       "      <td>fee85979bb637b3a0f41886bb77fde7a</td>\n",
       "      <td>55.852553</td>\n",
       "    </tr>\n",
       "    <tr>\n",
       "      <th>7630</th>\n",
       "      <td>fef2bad1cfc99918d8152bc5529835c6</td>\n",
       "      <td>55.833949</td>\n",
       "    </tr>\n",
       "    <tr>\n",
       "      <th>7631</th>\n",
       "      <td>ff1a31f7bb7fbc93945b77dbf3d907fd</td>\n",
       "      <td>55.057647</td>\n",
       "    </tr>\n",
       "    <tr>\n",
       "      <th>7632</th>\n",
       "      <td>ff1faa9044771b36f0f0093a97a2902b</td>\n",
       "      <td>55.714810</td>\n",
       "    </tr>\n",
       "    <tr>\n",
       "      <th>7633</th>\n",
       "      <td>ff27a04e51feb4fc30b0d15b168a195a</td>\n",
       "      <td>52.340563</td>\n",
       "    </tr>\n",
       "    <tr>\n",
       "      <th>7634</th>\n",
       "      <td>ff305fc4b6bbbb547078a26f8079c0e8</td>\n",
       "      <td>64.537757</td>\n",
       "    </tr>\n",
       "    <tr>\n",
       "      <th>7635</th>\n",
       "      <td>ff30b3967d188209ab84874e3a75143d</td>\n",
       "      <td>59.928057</td>\n",
       "    </tr>\n",
       "    <tr>\n",
       "      <th>7636</th>\n",
       "      <td>ff3683cdd31e4baaa5e85548381959d8</td>\n",
       "      <td>57.434837</td>\n",
       "    </tr>\n",
       "    <tr>\n",
       "      <th>7637</th>\n",
       "      <td>ff463f782f65fbde0e4f7ea4e327d99e</td>\n",
       "      <td>55.013479</td>\n",
       "    </tr>\n",
       "    <tr>\n",
       "      <th>7638</th>\n",
       "      <td>ff4bcb4ea454c4a38b97dc20cda7932c</td>\n",
       "      <td>59.979630</td>\n",
       "    </tr>\n",
       "    <tr>\n",
       "      <th>7639</th>\n",
       "      <td>ff70bf60dcdf63f99bf1af5af5d6c145</td>\n",
       "      <td>60.001296</td>\n",
       "    </tr>\n",
       "    <tr>\n",
       "      <th>7640</th>\n",
       "      <td>ff70c3c5f2dca00f255705305d75111d</td>\n",
       "      <td>59.706359</td>\n",
       "    </tr>\n",
       "    <tr>\n",
       "      <th>7641</th>\n",
       "      <td>ff71bdbcba59047f1fad88dcb7052151</td>\n",
       "      <td>55.646852</td>\n",
       "    </tr>\n",
       "    <tr>\n",
       "      <th>7642</th>\n",
       "      <td>ff7a887d347a8d598dc8e559d3aaec2f</td>\n",
       "      <td>56.519359</td>\n",
       "    </tr>\n",
       "    <tr>\n",
       "      <th>7643</th>\n",
       "      <td>ff7e1c6c07469b28a07847540385e767</td>\n",
       "      <td>55.641017</td>\n",
       "    </tr>\n",
       "    <tr>\n",
       "      <th>7644</th>\n",
       "      <td>ff869ee855dc3f9b382c943eb43cc4ec</td>\n",
       "      <td>55.030843</td>\n",
       "    </tr>\n",
       "    <tr>\n",
       "      <th>7645</th>\n",
       "      <td>ff92d5420f5fb92a37e1280d1fc9e5f4</td>\n",
       "      <td>56.509819</td>\n",
       "    </tr>\n",
       "    <tr>\n",
       "      <th>7646</th>\n",
       "      <td>ffaeae55d4dbf29058f04e7a6a764f02</td>\n",
       "      <td>55.679846</td>\n",
       "    </tr>\n",
       "    <tr>\n",
       "      <th>7647</th>\n",
       "      <td>ffc5289194413ec68c3f7adc8121d69b</td>\n",
       "      <td>55.891637</td>\n",
       "    </tr>\n",
       "    <tr>\n",
       "      <th>7648</th>\n",
       "      <td>ffdd5ec2a90e355cf40525eac1a6fd34</td>\n",
       "      <td>55.931724</td>\n",
       "    </tr>\n",
       "  </tbody>\n",
       "</table>\n",
       "<p>7649 rows × 2 columns</p>\n",
       "</div>"
      ],
      "text/plain": [
       "                           customer_id          0\n",
       "0     0001f322716470bf9bfc1708f06f00fc  44.716842\n",
       "1     0007297d86e14bd68bd87b1dbdefe302  55.799905\n",
       "2     000b709c6c6fb1e8efcfd95e57c2a9de  54.994608\n",
       "3     0027a7618d97cc9fbda55fac457eaeb7  55.746592\n",
       "4     002b9f6e118c54f1292e03d1a04d516e  55.802018\n",
       "5     0031915eb230f772681fb5dc5a8d1c31  55.776548\n",
       "6     003360bff9882ca4a4f93394dd984822  59.213757\n",
       "7     0037f3de3d890df1022cc760a1dfd9d6  55.686178\n",
       "8     003fa58414cc55531fcc38423bea8f8e  55.763176\n",
       "9     0046c2952fb808aa11f74abce5abe097  54.671926\n",
       "10    005194bf7238734eb49c142258c5a263  51.712413\n",
       "11    005d6f1ee97276374cefe4d0c65e9a89  55.857617\n",
       "12    006e9e0d6587c61da4317b8a6935a7bd  56.037252\n",
       "13    007525af0bc3ce72137b586a298f7b98  55.821809\n",
       "14    007a45db1a78be386e368612dd59be77  56.008223\n",
       "15    007bb42c2a4eb9aa33f9bc5abae7632f  56.764645\n",
       "16    0086aa6c4ebc89dd5a20eed71a625df1  55.739263\n",
       "17    0089100aa33a523bd2e697dec264a71a  55.415433\n",
       "18    008b0844115d2c7aafe51ccb3c4b2c2e  55.661707\n",
       "19    00a840ccc4f35f8ead26610f788a6a61  59.945189\n",
       "20    00ab4bcdef7c20583e61d5d2ac7617cb  59.847845\n",
       "21    00ac474dcf0252f6a6992e25f49fa01c  55.687529\n",
       "22    00b0b0ea6c290c3bd197a01fe21bea02  59.949524\n",
       "23    00bbac7f2b95830cf7552fa398ed0b15  54.767188\n",
       "24    00cefcb1c777d2bf7a32f082c040088f  55.680698\n",
       "25    00d7a8b5d813ba578b5d2e12ee533be5  43.580485\n",
       "26    00e090fa8609abb31807380ec091630b  55.787541\n",
       "27    00e108dc39c087b4bc8688f14981c43a  59.909801\n",
       "28    00e7bdc359aab2339bda46e5012c3924  55.744742\n",
       "29    00e95d5d93e0789cca48a7cf52e279f8  55.896882\n",
       "...                                ...        ...\n",
       "7619  fe9a80f2f7101885268d11784e78fc43  59.912057\n",
       "7620  fe9ba5ff9ec6cc7beb4a2d73498eaf7e  54.998975\n",
       "7621  fea1584dbe0a46916b6f76fae96c1383  59.133000\n",
       "7622  feab6584fc032169d32e29f2b4d58f38  52.253412\n",
       "7623  fec0402b83aa2b3dec30a7a47295b5e3  55.627402\n",
       "7624  feca3b58587a8dafb3cf44fb5283d544  55.757593\n",
       "7625  fecc1d9c65b9bc15bb6189d18e5a5bfa  55.918048\n",
       "7626  fee0deb1e45dac1b1fb8e0d73ee4a45f  55.067072\n",
       "7627  fee49e06d1a358ab16bc11d40cb3c74f  57.152232\n",
       "7628  fee6606ac69a1227df1cf227d42667a1  59.846487\n",
       "7629  fee85979bb637b3a0f41886bb77fde7a  55.852553\n",
       "7630  fef2bad1cfc99918d8152bc5529835c6  55.833949\n",
       "7631  ff1a31f7bb7fbc93945b77dbf3d907fd  55.057647\n",
       "7632  ff1faa9044771b36f0f0093a97a2902b  55.714810\n",
       "7633  ff27a04e51feb4fc30b0d15b168a195a  52.340563\n",
       "7634  ff305fc4b6bbbb547078a26f8079c0e8  64.537757\n",
       "7635  ff30b3967d188209ab84874e3a75143d  59.928057\n",
       "7636  ff3683cdd31e4baaa5e85548381959d8  57.434837\n",
       "7637  ff463f782f65fbde0e4f7ea4e327d99e  55.013479\n",
       "7638  ff4bcb4ea454c4a38b97dc20cda7932c  59.979630\n",
       "7639  ff70bf60dcdf63f99bf1af5af5d6c145  60.001296\n",
       "7640  ff70c3c5f2dca00f255705305d75111d  59.706359\n",
       "7641  ff71bdbcba59047f1fad88dcb7052151  55.646852\n",
       "7642  ff7a887d347a8d598dc8e559d3aaec2f  56.519359\n",
       "7643  ff7e1c6c07469b28a07847540385e767  55.641017\n",
       "7644  ff869ee855dc3f9b382c943eb43cc4ec  55.030843\n",
       "7645  ff92d5420f5fb92a37e1280d1fc9e5f4  56.509819\n",
       "7646  ffaeae55d4dbf29058f04e7a6a764f02  55.679846\n",
       "7647  ffc5289194413ec68c3f7adc8121d69b  55.891637\n",
       "7648  ffdd5ec2a90e355cf40525eac1a6fd34  55.931724\n",
       "\n",
       "[7649 rows x 2 columns]"
      ]
     },
     "execution_count": 187,
     "metadata": {},
     "output_type": "execute_result"
    }
   ],
   "source": [
    "weighted_average(un_gps_only_nearest_points, data_col='address_lat_x', \n",
    "                                                        weight_col='mean', by_col='customer_id').reset_index()"
   ]
  },
  {
   "cell_type": "code",
   "execution_count": 188,
   "metadata": {
    "collapsed": false
   },
   "outputs": [
    {
     "data": {
      "text/html": [
       "<div>\n",
       "<table border=\"1\" class=\"dataframe\">\n",
       "  <thead>\n",
       "    <tr style=\"text-align: right;\">\n",
       "      <th></th>\n",
       "      <th>customer_id</th>\n",
       "      <th>gps</th>\n",
       "      <th>count</th>\n",
       "      <th>mean</th>\n",
       "      <th>address_lat_x</th>\n",
       "      <th>address_lon_x</th>\n",
       "      <th>max_prob</th>\n",
       "      <th>address_lat_y</th>\n",
       "      <th>address_lon_y</th>\n",
       "      <th>is_close</th>\n",
       "    </tr>\n",
       "  </thead>\n",
       "  <tbody>\n",
       "    <tr>\n",
       "      <th>0</th>\n",
       "      <td>0001f322716470bf9bfc1708f06f00fc</td>\n",
       "      <td>44.7377204895, 37.793006897</td>\n",
       "      <td>3.0</td>\n",
       "      <td>1.370705e-09</td>\n",
       "      <td>44.737720</td>\n",
       "      <td>37.793007</td>\n",
       "      <td>5.816093e-07</td>\n",
       "      <td>44.713001</td>\n",
       "      <td>37.777000</td>\n",
       "      <td>1</td>\n",
       "    </tr>\n",
       "    <tr>\n",
       "      <th>1</th>\n",
       "      <td>0001f322716470bf9bfc1708f06f00fc</td>\n",
       "      <td>44.7239990234, 37.8120002747</td>\n",
       "      <td>1.0</td>\n",
       "      <td>1.418683e-09</td>\n",
       "      <td>44.723999</td>\n",
       "      <td>37.812000</td>\n",
       "      <td>5.816093e-07</td>\n",
       "      <td>44.713001</td>\n",
       "      <td>37.777000</td>\n",
       "      <td>1</td>\n",
       "    </tr>\n",
       "    <tr>\n",
       "      <th>2</th>\n",
       "      <td>0001f322716470bf9bfc1708f06f00fc</td>\n",
       "      <td>44.7319984436, 37.8149986267</td>\n",
       "      <td>1.0</td>\n",
       "      <td>1.561652e-09</td>\n",
       "      <td>44.731998</td>\n",
       "      <td>37.814999</td>\n",
       "      <td>5.816093e-07</td>\n",
       "      <td>44.713001</td>\n",
       "      <td>37.777000</td>\n",
       "      <td>1</td>\n",
       "    </tr>\n",
       "    <tr>\n",
       "      <th>3</th>\n",
       "      <td>0001f322716470bf9bfc1708f06f00fc</td>\n",
       "      <td>44.7260017395, 37.8120002747</td>\n",
       "      <td>1.0</td>\n",
       "      <td>1.811778e-09</td>\n",
       "      <td>44.726002</td>\n",
       "      <td>37.812000</td>\n",
       "      <td>5.816093e-07</td>\n",
       "      <td>44.713001</td>\n",
       "      <td>37.777000</td>\n",
       "      <td>1</td>\n",
       "    </tr>\n",
       "    <tr>\n",
       "      <th>4</th>\n",
       "      <td>0001f322716470bf9bfc1708f06f00fc</td>\n",
       "      <td>44.7455368042, 37.7262763977</td>\n",
       "      <td>2.0</td>\n",
       "      <td>2.272952e-09</td>\n",
       "      <td>44.745537</td>\n",
       "      <td>37.726276</td>\n",
       "      <td>5.816093e-07</td>\n",
       "      <td>44.713001</td>\n",
       "      <td>37.777000</td>\n",
       "      <td>1</td>\n",
       "    </tr>\n",
       "    <tr>\n",
       "      <th>5</th>\n",
       "      <td>0001f322716470bf9bfc1708f06f00fc</td>\n",
       "      <td>44.7299995422, 37.8190002441</td>\n",
       "      <td>1.0</td>\n",
       "      <td>2.402163e-09</td>\n",
       "      <td>44.730000</td>\n",
       "      <td>37.819000</td>\n",
       "      <td>5.816093e-07</td>\n",
       "      <td>44.713001</td>\n",
       "      <td>37.777000</td>\n",
       "      <td>1</td>\n",
       "    </tr>\n",
       "    <tr>\n",
       "      <th>6</th>\n",
       "      <td>0001f322716470bf9bfc1708f06f00fc</td>\n",
       "      <td>44.726726532, 37.7558631897</td>\n",
       "      <td>1.0</td>\n",
       "      <td>6.588235e-08</td>\n",
       "      <td>44.726727</td>\n",
       "      <td>37.755863</td>\n",
       "      <td>5.816093e-07</td>\n",
       "      <td>44.713001</td>\n",
       "      <td>37.777000</td>\n",
       "      <td>1</td>\n",
       "    </tr>\n",
       "    <tr>\n",
       "      <th>7</th>\n",
       "      <td>0001f322716470bf9bfc1708f06f00fc</td>\n",
       "      <td>44.7256851196, 37.7627334595</td>\n",
       "      <td>1.0</td>\n",
       "      <td>1.297524e-07</td>\n",
       "      <td>44.725685</td>\n",
       "      <td>37.762733</td>\n",
       "      <td>5.816093e-07</td>\n",
       "      <td>44.713001</td>\n",
       "      <td>37.777000</td>\n",
       "      <td>1</td>\n",
       "    </tr>\n",
       "    <tr>\n",
       "      <th>8</th>\n",
       "      <td>0001f322716470bf9bfc1708f06f00fc</td>\n",
       "      <td>44.7210006714, 37.7659988403</td>\n",
       "      <td>1.0</td>\n",
       "      <td>1.542050e-07</td>\n",
       "      <td>44.721001</td>\n",
       "      <td>37.765999</td>\n",
       "      <td>5.816093e-07</td>\n",
       "      <td>44.713001</td>\n",
       "      <td>37.777000</td>\n",
       "      <td>1</td>\n",
       "    </tr>\n",
       "    <tr>\n",
       "      <th>9</th>\n",
       "      <td>0001f322716470bf9bfc1708f06f00fc</td>\n",
       "      <td>44.7159996033, 37.7770004272</td>\n",
       "      <td>1.0</td>\n",
       "      <td>4.541670e-07</td>\n",
       "      <td>44.716000</td>\n",
       "      <td>37.777000</td>\n",
       "      <td>5.816093e-07</td>\n",
       "      <td>44.713001</td>\n",
       "      <td>37.777000</td>\n",
       "      <td>1</td>\n",
       "    </tr>\n",
       "    <tr>\n",
       "      <th>10</th>\n",
       "      <td>0001f322716470bf9bfc1708f06f00fc</td>\n",
       "      <td>44.7130012512, 37.7770004272</td>\n",
       "      <td>1.0</td>\n",
       "      <td>5.816093e-07</td>\n",
       "      <td>44.713001</td>\n",
       "      <td>37.777000</td>\n",
       "      <td>5.816093e-07</td>\n",
       "      <td>44.713001</td>\n",
       "      <td>37.777000</td>\n",
       "      <td>1</td>\n",
       "    </tr>\n",
       "    <tr>\n",
       "      <th>11</th>\n",
       "      <td>0007297d86e14bd68bd87b1dbdefe302</td>\n",
       "      <td>55.8009986877, 37.408000946</td>\n",
       "      <td>2.0</td>\n",
       "      <td>5.616458e-07</td>\n",
       "      <td>55.800999</td>\n",
       "      <td>37.408001</td>\n",
       "      <td>2.482394e-06</td>\n",
       "      <td>55.799839</td>\n",
       "      <td>37.396824</td>\n",
       "      <td>1</td>\n",
       "    </tr>\n",
       "    <tr>\n",
       "      <th>12</th>\n",
       "      <td>0007297d86e14bd68bd87b1dbdefe302</td>\n",
       "      <td>55.7999992371, 37.40599823</td>\n",
       "      <td>1.0</td>\n",
       "      <td>6.027472e-07</td>\n",
       "      <td>55.799999</td>\n",
       "      <td>37.405998</td>\n",
       "      <td>2.482394e-06</td>\n",
       "      <td>55.799839</td>\n",
       "      <td>37.396824</td>\n",
       "      <td>1</td>\n",
       "    </tr>\n",
       "    <tr>\n",
       "      <th>13</th>\n",
       "      <td>0007297d86e14bd68bd87b1dbdefe302</td>\n",
       "      <td>55.7980003357, 37.4070014954</td>\n",
       "      <td>1.0</td>\n",
       "      <td>6.059998e-07</td>\n",
       "      <td>55.798000</td>\n",
       "      <td>37.407001</td>\n",
       "      <td>2.482394e-06</td>\n",
       "      <td>55.799839</td>\n",
       "      <td>37.396824</td>\n",
       "      <td>1</td>\n",
       "    </tr>\n",
       "    <tr>\n",
       "      <th>14</th>\n",
       "      <td>0007297d86e14bd68bd87b1dbdefe302</td>\n",
       "      <td>55.7960014343, 37.40599823</td>\n",
       "      <td>1.0</td>\n",
       "      <td>6.131152e-07</td>\n",
       "      <td>55.796001</td>\n",
       "      <td>37.405998</td>\n",
       "      <td>2.482394e-06</td>\n",
       "      <td>55.799839</td>\n",
       "      <td>37.396824</td>\n",
       "      <td>1</td>\n",
       "    </tr>\n",
       "    <tr>\n",
       "      <th>15</th>\n",
       "      <td>0007297d86e14bd68bd87b1dbdefe302</td>\n",
       "      <td>55.7989997864, 37.408000946</td>\n",
       "      <td>1.0</td>\n",
       "      <td>6.206625e-07</td>\n",
       "      <td>55.799000</td>\n",
       "      <td>37.408001</td>\n",
       "      <td>2.482394e-06</td>\n",
       "      <td>55.799839</td>\n",
       "      <td>37.396824</td>\n",
       "      <td>1</td>\n",
       "    </tr>\n",
       "    <tr>\n",
       "      <th>16</th>\n",
       "      <td>0007297d86e14bd68bd87b1dbdefe302</td>\n",
       "      <td>55.8013916016, 37.4078903198</td>\n",
       "      <td>6.0</td>\n",
       "      <td>6.464597e-07</td>\n",
       "      <td>55.801392</td>\n",
       "      <td>37.407890</td>\n",
       "      <td>2.482394e-06</td>\n",
       "      <td>55.799839</td>\n",
       "      <td>37.396824</td>\n",
       "      <td>1</td>\n",
       "    </tr>\n",
       "    <tr>\n",
       "      <th>17</th>\n",
       "      <td>0007297d86e14bd68bd87b1dbdefe302</td>\n",
       "      <td>55.8023033142, 37.4066505432</td>\n",
       "      <td>7.0</td>\n",
       "      <td>7.011754e-07</td>\n",
       "      <td>55.802303</td>\n",
       "      <td>37.406651</td>\n",
       "      <td>2.482394e-06</td>\n",
       "      <td>55.799839</td>\n",
       "      <td>37.396824</td>\n",
       "      <td>1</td>\n",
       "    </tr>\n",
       "    <tr>\n",
       "      <th>18</th>\n",
       "      <td>0007297d86e14bd68bd87b1dbdefe302</td>\n",
       "      <td>55.7998046875, 37.4072761536</td>\n",
       "      <td>3.0</td>\n",
       "      <td>8.236700e-07</td>\n",
       "      <td>55.799805</td>\n",
       "      <td>37.407276</td>\n",
       "      <td>2.482394e-06</td>\n",
       "      <td>55.799839</td>\n",
       "      <td>37.396824</td>\n",
       "      <td>1</td>\n",
       "    </tr>\n",
       "    <tr>\n",
       "      <th>19</th>\n",
       "      <td>0007297d86e14bd68bd87b1dbdefe302</td>\n",
       "      <td>55.8027076721, 37.4009628296</td>\n",
       "      <td>4.0</td>\n",
       "      <td>1.045703e-06</td>\n",
       "      <td>55.802708</td>\n",
       "      <td>37.400963</td>\n",
       "      <td>2.482394e-06</td>\n",
       "      <td>55.799839</td>\n",
       "      <td>37.396824</td>\n",
       "      <td>1</td>\n",
       "    </tr>\n",
       "    <tr>\n",
       "      <th>20</th>\n",
       "      <td>0007297d86e14bd68bd87b1dbdefe302</td>\n",
       "      <td>55.7987136841, 37.3968505859</td>\n",
       "      <td>6.0</td>\n",
       "      <td>1.581333e-06</td>\n",
       "      <td>55.798714</td>\n",
       "      <td>37.396851</td>\n",
       "      <td>2.482394e-06</td>\n",
       "      <td>55.799839</td>\n",
       "      <td>37.396824</td>\n",
       "      <td>1</td>\n",
       "    </tr>\n",
       "    <tr>\n",
       "      <th>21</th>\n",
       "      <td>0007297d86e14bd68bd87b1dbdefe302</td>\n",
       "      <td>55.7998390198, 37.3968238831</td>\n",
       "      <td>30.0</td>\n",
       "      <td>2.482394e-06</td>\n",
       "      <td>55.799839</td>\n",
       "      <td>37.396824</td>\n",
       "      <td>2.482394e-06</td>\n",
       "      <td>55.799839</td>\n",
       "      <td>37.396824</td>\n",
       "      <td>1</td>\n",
       "    </tr>\n",
       "    <tr>\n",
       "      <th>22</th>\n",
       "      <td>000b709c6c6fb1e8efcfd95e57c2a9de</td>\n",
       "      <td>55.043586731, 82.9299545288</td>\n",
       "      <td>1.0</td>\n",
       "      <td>2.724059e-10</td>\n",
       "      <td>55.043587</td>\n",
       "      <td>82.929955</td>\n",
       "      <td>6.911605e-07</td>\n",
       "      <td>54.989365</td>\n",
       "      <td>82.859444</td>\n",
       "      <td>1</td>\n",
       "    </tr>\n",
       "    <tr>\n",
       "      <th>24</th>\n",
       "      <td>000b709c6c6fb1e8efcfd95e57c2a9de</td>\n",
       "      <td>55.0383224487, 82.9030990601</td>\n",
       "      <td>1.0</td>\n",
       "      <td>5.225704e-10</td>\n",
       "      <td>55.038322</td>\n",
       "      <td>82.903099</td>\n",
       "      <td>6.911605e-07</td>\n",
       "      <td>54.989365</td>\n",
       "      <td>82.859444</td>\n",
       "      <td>1</td>\n",
       "    </tr>\n",
       "    <tr>\n",
       "      <th>25</th>\n",
       "      <td>000b709c6c6fb1e8efcfd95e57c2a9de</td>\n",
       "      <td>55.0286064148, 82.9365692139</td>\n",
       "      <td>1.0</td>\n",
       "      <td>6.815277e-10</td>\n",
       "      <td>55.028606</td>\n",
       "      <td>82.936569</td>\n",
       "      <td>6.911605e-07</td>\n",
       "      <td>54.989365</td>\n",
       "      <td>82.859444</td>\n",
       "      <td>1</td>\n",
       "    </tr>\n",
       "    <tr>\n",
       "      <th>26</th>\n",
       "      <td>000b709c6c6fb1e8efcfd95e57c2a9de</td>\n",
       "      <td>55.0393409729, 82.9029922485</td>\n",
       "      <td>1.0</td>\n",
       "      <td>1.544627e-09</td>\n",
       "      <td>55.039341</td>\n",
       "      <td>82.902992</td>\n",
       "      <td>6.911605e-07</td>\n",
       "      <td>54.989365</td>\n",
       "      <td>82.859444</td>\n",
       "      <td>1</td>\n",
       "    </tr>\n",
       "    <tr>\n",
       "      <th>27</th>\n",
       "      <td>000b709c6c6fb1e8efcfd95e57c2a9de</td>\n",
       "      <td>55.0221443176, 82.9015579224</td>\n",
       "      <td>1.0</td>\n",
       "      <td>2.536539e-09</td>\n",
       "      <td>55.022144</td>\n",
       "      <td>82.901558</td>\n",
       "      <td>6.911605e-07</td>\n",
       "      <td>54.989365</td>\n",
       "      <td>82.859444</td>\n",
       "      <td>1</td>\n",
       "    </tr>\n",
       "    <tr>\n",
       "      <th>28</th>\n",
       "      <td>000b709c6c6fb1e8efcfd95e57c2a9de</td>\n",
       "      <td>54.9829521179, 82.885383606</td>\n",
       "      <td>1.0</td>\n",
       "      <td>2.991552e-09</td>\n",
       "      <td>54.982952</td>\n",
       "      <td>82.885384</td>\n",
       "      <td>6.911605e-07</td>\n",
       "      <td>54.989365</td>\n",
       "      <td>82.859444</td>\n",
       "      <td>1</td>\n",
       "    </tr>\n",
       "    <tr>\n",
       "      <th>29</th>\n",
       "      <td>000b709c6c6fb1e8efcfd95e57c2a9de</td>\n",
       "      <td>55.0112915039, 82.8742904663</td>\n",
       "      <td>1.0</td>\n",
       "      <td>6.705144e-08</td>\n",
       "      <td>55.011292</td>\n",
       "      <td>82.874290</td>\n",
       "      <td>6.911605e-07</td>\n",
       "      <td>54.989365</td>\n",
       "      <td>82.859444</td>\n",
       "      <td>1</td>\n",
       "    </tr>\n",
       "    <tr>\n",
       "      <th>30</th>\n",
       "      <td>000b709c6c6fb1e8efcfd95e57c2a9de</td>\n",
       "      <td>55.0101242065, 82.876159668</td>\n",
       "      <td>1.0</td>\n",
       "      <td>6.748799e-08</td>\n",
       "      <td>55.010124</td>\n",
       "      <td>82.876160</td>\n",
       "      <td>6.911605e-07</td>\n",
       "      <td>54.989365</td>\n",
       "      <td>82.859444</td>\n",
       "      <td>1</td>\n",
       "    </tr>\n",
       "    <tr>\n",
       "      <th>...</th>\n",
       "      <td>...</td>\n",
       "      <td>...</td>\n",
       "      <td>...</td>\n",
       "      <td>...</td>\n",
       "      <td>...</td>\n",
       "      <td>...</td>\n",
       "      <td>...</td>\n",
       "      <td>...</td>\n",
       "      <td>...</td>\n",
       "      <td>...</td>\n",
       "    </tr>\n",
       "    <tr>\n",
       "      <th>80145</th>\n",
       "      <td>ff869ee855dc3f9b382c943eb43cc4ec</td>\n",
       "      <td>55.020866394, 36.7134857178</td>\n",
       "      <td>4.0</td>\n",
       "      <td>4.086673e-09</td>\n",
       "      <td>55.020866</td>\n",
       "      <td>36.713486</td>\n",
       "      <td>8.631692e-05</td>\n",
       "      <td>55.030647</td>\n",
       "      <td>36.749828</td>\n",
       "      <td>1</td>\n",
       "    </tr>\n",
       "    <tr>\n",
       "      <th>80146</th>\n",
       "      <td>ff869ee855dc3f9b382c943eb43cc4ec</td>\n",
       "      <td>55.0240821838, 36.7357978821</td>\n",
       "      <td>12.0</td>\n",
       "      <td>8.640826e-07</td>\n",
       "      <td>55.024082</td>\n",
       "      <td>36.735798</td>\n",
       "      <td>8.631692e-05</td>\n",
       "      <td>55.030647</td>\n",
       "      <td>36.749828</td>\n",
       "      <td>1</td>\n",
       "    </tr>\n",
       "    <tr>\n",
       "      <th>80147</th>\n",
       "      <td>ff869ee855dc3f9b382c943eb43cc4ec</td>\n",
       "      <td>55.0253944397, 36.7415657043</td>\n",
       "      <td>2.0</td>\n",
       "      <td>1.530522e-06</td>\n",
       "      <td>55.025394</td>\n",
       "      <td>36.741566</td>\n",
       "      <td>8.631692e-05</td>\n",
       "      <td>55.030647</td>\n",
       "      <td>36.749828</td>\n",
       "      <td>1</td>\n",
       "    </tr>\n",
       "    <tr>\n",
       "      <th>80148</th>\n",
       "      <td>ff869ee855dc3f9b382c943eb43cc4ec</td>\n",
       "      <td>55.0343360901, 36.7516021729</td>\n",
       "      <td>6.0</td>\n",
       "      <td>5.881479e-06</td>\n",
       "      <td>55.034336</td>\n",
       "      <td>36.751602</td>\n",
       "      <td>8.631692e-05</td>\n",
       "      <td>55.030647</td>\n",
       "      <td>36.749828</td>\n",
       "      <td>1</td>\n",
       "    </tr>\n",
       "    <tr>\n",
       "      <th>80149</th>\n",
       "      <td>ff869ee855dc3f9b382c943eb43cc4ec</td>\n",
       "      <td>55.0317153931, 36.7465171814</td>\n",
       "      <td>4.0</td>\n",
       "      <td>1.215452e-05</td>\n",
       "      <td>55.031715</td>\n",
       "      <td>36.746517</td>\n",
       "      <td>8.631692e-05</td>\n",
       "      <td>55.030647</td>\n",
       "      <td>36.749828</td>\n",
       "      <td>1</td>\n",
       "    </tr>\n",
       "    <tr>\n",
       "      <th>80150</th>\n",
       "      <td>ff869ee855dc3f9b382c943eb43cc4ec</td>\n",
       "      <td>55.0306472778, 36.7498283386</td>\n",
       "      <td>16.0</td>\n",
       "      <td>8.631692e-05</td>\n",
       "      <td>55.030647</td>\n",
       "      <td>36.749828</td>\n",
       "      <td>8.631692e-05</td>\n",
       "      <td>55.030647</td>\n",
       "      <td>36.749828</td>\n",
       "      <td>1</td>\n",
       "    </tr>\n",
       "    <tr>\n",
       "      <th>80154</th>\n",
       "      <td>ff92d5420f5fb92a37e1280d1fc9e5f4</td>\n",
       "      <td>56.5098190308, 56.0816078186</td>\n",
       "      <td>9.0</td>\n",
       "      <td>1.216655e-06</td>\n",
       "      <td>56.509819</td>\n",
       "      <td>56.081608</td>\n",
       "      <td>1.216655e-06</td>\n",
       "      <td>56.509819</td>\n",
       "      <td>56.081608</td>\n",
       "      <td>1</td>\n",
       "    </tr>\n",
       "    <tr>\n",
       "      <th>80157</th>\n",
       "      <td>ffaeae55d4dbf29058f04e7a6a764f02</td>\n",
       "      <td>55.6837921143, 37.8533554077</td>\n",
       "      <td>16.0</td>\n",
       "      <td>5.600924e-10</td>\n",
       "      <td>55.683792</td>\n",
       "      <td>37.853355</td>\n",
       "      <td>8.597262e-09</td>\n",
       "      <td>55.676502</td>\n",
       "      <td>37.858467</td>\n",
       "      <td>1</td>\n",
       "    </tr>\n",
       "    <tr>\n",
       "      <th>80158</th>\n",
       "      <td>ffaeae55d4dbf29058f04e7a6a764f02</td>\n",
       "      <td>55.6866416931, 37.8504753113</td>\n",
       "      <td>19.0</td>\n",
       "      <td>5.979039e-10</td>\n",
       "      <td>55.686642</td>\n",
       "      <td>37.850475</td>\n",
       "      <td>8.597262e-09</td>\n",
       "      <td>55.676502</td>\n",
       "      <td>37.858467</td>\n",
       "      <td>1</td>\n",
       "    </tr>\n",
       "    <tr>\n",
       "      <th>80159</th>\n",
       "      <td>ffaeae55d4dbf29058f04e7a6a764f02</td>\n",
       "      <td>55.6859092712, 37.850933075</td>\n",
       "      <td>4.0</td>\n",
       "      <td>8.980269e-10</td>\n",
       "      <td>55.685909</td>\n",
       "      <td>37.850933</td>\n",
       "      <td>8.597262e-09</td>\n",
       "      <td>55.676502</td>\n",
       "      <td>37.858467</td>\n",
       "      <td>1</td>\n",
       "    </tr>\n",
       "    <tr>\n",
       "      <th>80160</th>\n",
       "      <td>ffaeae55d4dbf29058f04e7a6a764f02</td>\n",
       "      <td>55.6816482544, 37.8505172729</td>\n",
       "      <td>1.0</td>\n",
       "      <td>1.387465e-09</td>\n",
       "      <td>55.681648</td>\n",
       "      <td>37.850517</td>\n",
       "      <td>8.597262e-09</td>\n",
       "      <td>55.676502</td>\n",
       "      <td>37.858467</td>\n",
       "      <td>1</td>\n",
       "    </tr>\n",
       "    <tr>\n",
       "      <th>80161</th>\n",
       "      <td>ffaeae55d4dbf29058f04e7a6a764f02</td>\n",
       "      <td>55.6848526001, 37.8530235291</td>\n",
       "      <td>4.0</td>\n",
       "      <td>1.425451e-09</td>\n",
       "      <td>55.684853</td>\n",
       "      <td>37.853024</td>\n",
       "      <td>8.597262e-09</td>\n",
       "      <td>55.676502</td>\n",
       "      <td>37.858467</td>\n",
       "      <td>1</td>\n",
       "    </tr>\n",
       "    <tr>\n",
       "      <th>80162</th>\n",
       "      <td>ffaeae55d4dbf29058f04e7a6a764f02</td>\n",
       "      <td>55.6864814758, 37.855091095</td>\n",
       "      <td>1.0</td>\n",
       "      <td>1.746089e-09</td>\n",
       "      <td>55.686481</td>\n",
       "      <td>37.855091</td>\n",
       "      <td>8.597262e-09</td>\n",
       "      <td>55.676502</td>\n",
       "      <td>37.858467</td>\n",
       "      <td>1</td>\n",
       "    </tr>\n",
       "    <tr>\n",
       "      <th>80163</th>\n",
       "      <td>ffaeae55d4dbf29058f04e7a6a764f02</td>\n",
       "      <td>55.6821136475, 37.851726532</td>\n",
       "      <td>2.0</td>\n",
       "      <td>2.453277e-09</td>\n",
       "      <td>55.682114</td>\n",
       "      <td>37.851727</td>\n",
       "      <td>8.597262e-09</td>\n",
       "      <td>55.676502</td>\n",
       "      <td>37.858467</td>\n",
       "      <td>1</td>\n",
       "    </tr>\n",
       "    <tr>\n",
       "      <th>80164</th>\n",
       "      <td>ffaeae55d4dbf29058f04e7a6a764f02</td>\n",
       "      <td>55.6786842346, 37.8535842896</td>\n",
       "      <td>1.0</td>\n",
       "      <td>8.397641e-09</td>\n",
       "      <td>55.678684</td>\n",
       "      <td>37.853584</td>\n",
       "      <td>8.597262e-09</td>\n",
       "      <td>55.676502</td>\n",
       "      <td>37.858467</td>\n",
       "      <td>1</td>\n",
       "    </tr>\n",
       "    <tr>\n",
       "      <th>80165</th>\n",
       "      <td>ffaeae55d4dbf29058f04e7a6a764f02</td>\n",
       "      <td>55.6765022278, 37.8584671021</td>\n",
       "      <td>1.0</td>\n",
       "      <td>8.597262e-09</td>\n",
       "      <td>55.676502</td>\n",
       "      <td>37.858467</td>\n",
       "      <td>8.597262e-09</td>\n",
       "      <td>55.676502</td>\n",
       "      <td>37.858467</td>\n",
       "      <td>1</td>\n",
       "    </tr>\n",
       "    <tr>\n",
       "      <th>80174</th>\n",
       "      <td>ffc5289194413ec68c3f7adc8121d69b</td>\n",
       "      <td>55.8963775635, 37.4803771973</td>\n",
       "      <td>1.0</td>\n",
       "      <td>8.648196e-09</td>\n",
       "      <td>55.896378</td>\n",
       "      <td>37.480377</td>\n",
       "      <td>1.817745e-08</td>\n",
       "      <td>55.889313</td>\n",
       "      <td>37.472748</td>\n",
       "      <td>1</td>\n",
       "    </tr>\n",
       "    <tr>\n",
       "      <th>80175</th>\n",
       "      <td>ffc5289194413ec68c3f7adc8121d69b</td>\n",
       "      <td>55.8917388916, 37.4787864685</td>\n",
       "      <td>1.0</td>\n",
       "      <td>1.217411e-08</td>\n",
       "      <td>55.891739</td>\n",
       "      <td>37.478786</td>\n",
       "      <td>1.817745e-08</td>\n",
       "      <td>55.889313</td>\n",
       "      <td>37.472748</td>\n",
       "      <td>1</td>\n",
       "    </tr>\n",
       "    <tr>\n",
       "      <th>80176</th>\n",
       "      <td>ffc5289194413ec68c3f7adc8121d69b</td>\n",
       "      <td>55.8893127441, 37.4727478027</td>\n",
       "      <td>3.0</td>\n",
       "      <td>1.817745e-08</td>\n",
       "      <td>55.889313</td>\n",
       "      <td>37.472748</td>\n",
       "      <td>1.817745e-08</td>\n",
       "      <td>55.889313</td>\n",
       "      <td>37.472748</td>\n",
       "      <td>1</td>\n",
       "    </tr>\n",
       "    <tr>\n",
       "      <th>80177</th>\n",
       "      <td>ffdd5ec2a90e355cf40525eac1a6fd34</td>\n",
       "      <td>55.9506988525, 37.5122375488</td>\n",
       "      <td>2.0</td>\n",
       "      <td>2.555554e-08</td>\n",
       "      <td>55.950699</td>\n",
       "      <td>37.512238</td>\n",
       "      <td>5.555069e-07</td>\n",
       "      <td>55.933201</td>\n",
       "      <td>37.521610</td>\n",
       "      <td>1</td>\n",
       "    </tr>\n",
       "    <tr>\n",
       "      <th>80178</th>\n",
       "      <td>ffdd5ec2a90e355cf40525eac1a6fd34</td>\n",
       "      <td>55.9319152832, 37.5013084412</td>\n",
       "      <td>2.0</td>\n",
       "      <td>4.842719e-08</td>\n",
       "      <td>55.931915</td>\n",
       "      <td>37.501308</td>\n",
       "      <td>5.555069e-07</td>\n",
       "      <td>55.933201</td>\n",
       "      <td>37.521610</td>\n",
       "      <td>1</td>\n",
       "    </tr>\n",
       "    <tr>\n",
       "      <th>80179</th>\n",
       "      <td>ffdd5ec2a90e355cf40525eac1a6fd34</td>\n",
       "      <td>55.9095039368, 37.5401268005</td>\n",
       "      <td>2.0</td>\n",
       "      <td>2.862649e-07</td>\n",
       "      <td>55.909504</td>\n",
       "      <td>37.540127</td>\n",
       "      <td>5.555069e-07</td>\n",
       "      <td>55.933201</td>\n",
       "      <td>37.521610</td>\n",
       "      <td>1</td>\n",
       "    </tr>\n",
       "    <tr>\n",
       "      <th>80180</th>\n",
       "      <td>ffdd5ec2a90e355cf40525eac1a6fd34</td>\n",
       "      <td>55.9401321411, 37.5190429688</td>\n",
       "      <td>2.0</td>\n",
       "      <td>3.513859e-07</td>\n",
       "      <td>55.940132</td>\n",
       "      <td>37.519043</td>\n",
       "      <td>5.555069e-07</td>\n",
       "      <td>55.933201</td>\n",
       "      <td>37.521610</td>\n",
       "      <td>1</td>\n",
       "    </tr>\n",
       "    <tr>\n",
       "      <th>80181</th>\n",
       "      <td>ffdd5ec2a90e355cf40525eac1a6fd34</td>\n",
       "      <td>55.9356956482, 37.5191841125</td>\n",
       "      <td>20.0</td>\n",
       "      <td>4.212868e-07</td>\n",
       "      <td>55.935696</td>\n",
       "      <td>37.519184</td>\n",
       "      <td>5.555069e-07</td>\n",
       "      <td>55.933201</td>\n",
       "      <td>37.521610</td>\n",
       "      <td>1</td>\n",
       "    </tr>\n",
       "    <tr>\n",
       "      <th>80182</th>\n",
       "      <td>ffdd5ec2a90e355cf40525eac1a6fd34</td>\n",
       "      <td>55.9160308838, 37.5399856567</td>\n",
       "      <td>8.0</td>\n",
       "      <td>4.503952e-07</td>\n",
       "      <td>55.916031</td>\n",
       "      <td>37.539986</td>\n",
       "      <td>5.555069e-07</td>\n",
       "      <td>55.933201</td>\n",
       "      <td>37.521610</td>\n",
       "      <td>1</td>\n",
       "    </tr>\n",
       "    <tr>\n",
       "      <th>80183</th>\n",
       "      <td>ffdd5ec2a90e355cf40525eac1a6fd34</td>\n",
       "      <td>55.9315071106, 37.5173683167</td>\n",
       "      <td>2.0</td>\n",
       "      <td>4.626924e-07</td>\n",
       "      <td>55.931507</td>\n",
       "      <td>37.517368</td>\n",
       "      <td>5.555069e-07</td>\n",
       "      <td>55.933201</td>\n",
       "      <td>37.521610</td>\n",
       "      <td>1</td>\n",
       "    </tr>\n",
       "    <tr>\n",
       "      <th>80184</th>\n",
       "      <td>ffdd5ec2a90e355cf40525eac1a6fd34</td>\n",
       "      <td>55.9390945435, 37.5166397095</td>\n",
       "      <td>2.0</td>\n",
       "      <td>4.627593e-07</td>\n",
       "      <td>55.939095</td>\n",
       "      <td>37.516640</td>\n",
       "      <td>5.555069e-07</td>\n",
       "      <td>55.933201</td>\n",
       "      <td>37.521610</td>\n",
       "      <td>1</td>\n",
       "    </tr>\n",
       "    <tr>\n",
       "      <th>80185</th>\n",
       "      <td>ffdd5ec2a90e355cf40525eac1a6fd34</td>\n",
       "      <td>55.937374115, 37.5203208923</td>\n",
       "      <td>2.0</td>\n",
       "      <td>5.079182e-07</td>\n",
       "      <td>55.937374</td>\n",
       "      <td>37.520321</td>\n",
       "      <td>5.555069e-07</td>\n",
       "      <td>55.933201</td>\n",
       "      <td>37.521610</td>\n",
       "      <td>1</td>\n",
       "    </tr>\n",
       "    <tr>\n",
       "      <th>80186</th>\n",
       "      <td>ffdd5ec2a90e355cf40525eac1a6fd34</td>\n",
       "      <td>55.9341163635, 37.5200843811</td>\n",
       "      <td>4.0</td>\n",
       "      <td>5.466138e-07</td>\n",
       "      <td>55.934116</td>\n",
       "      <td>37.520084</td>\n",
       "      <td>5.555069e-07</td>\n",
       "      <td>55.933201</td>\n",
       "      <td>37.521610</td>\n",
       "      <td>1</td>\n",
       "    </tr>\n",
       "    <tr>\n",
       "      <th>80187</th>\n",
       "      <td>ffdd5ec2a90e355cf40525eac1a6fd34</td>\n",
       "      <td>55.9332008362, 37.52161026</td>\n",
       "      <td>4.0</td>\n",
       "      <td>5.555069e-07</td>\n",
       "      <td>55.933201</td>\n",
       "      <td>37.521610</td>\n",
       "      <td>5.555069e-07</td>\n",
       "      <td>55.933201</td>\n",
       "      <td>37.521610</td>\n",
       "      <td>1</td>\n",
       "    </tr>\n",
       "  </tbody>\n",
       "</table>\n",
       "<p>71846 rows × 10 columns</p>\n",
       "</div>"
      ],
      "text/plain": [
       "                            customer_id                           gps  count  \\\n",
       "0      0001f322716470bf9bfc1708f06f00fc   44.7377204895, 37.793006897    3.0   \n",
       "1      0001f322716470bf9bfc1708f06f00fc  44.7239990234, 37.8120002747    1.0   \n",
       "2      0001f322716470bf9bfc1708f06f00fc  44.7319984436, 37.8149986267    1.0   \n",
       "3      0001f322716470bf9bfc1708f06f00fc  44.7260017395, 37.8120002747    1.0   \n",
       "4      0001f322716470bf9bfc1708f06f00fc  44.7455368042, 37.7262763977    2.0   \n",
       "5      0001f322716470bf9bfc1708f06f00fc  44.7299995422, 37.8190002441    1.0   \n",
       "6      0001f322716470bf9bfc1708f06f00fc   44.726726532, 37.7558631897    1.0   \n",
       "7      0001f322716470bf9bfc1708f06f00fc  44.7256851196, 37.7627334595    1.0   \n",
       "8      0001f322716470bf9bfc1708f06f00fc  44.7210006714, 37.7659988403    1.0   \n",
       "9      0001f322716470bf9bfc1708f06f00fc  44.7159996033, 37.7770004272    1.0   \n",
       "10     0001f322716470bf9bfc1708f06f00fc  44.7130012512, 37.7770004272    1.0   \n",
       "11     0007297d86e14bd68bd87b1dbdefe302   55.8009986877, 37.408000946    2.0   \n",
       "12     0007297d86e14bd68bd87b1dbdefe302    55.7999992371, 37.40599823    1.0   \n",
       "13     0007297d86e14bd68bd87b1dbdefe302  55.7980003357, 37.4070014954    1.0   \n",
       "14     0007297d86e14bd68bd87b1dbdefe302    55.7960014343, 37.40599823    1.0   \n",
       "15     0007297d86e14bd68bd87b1dbdefe302   55.7989997864, 37.408000946    1.0   \n",
       "16     0007297d86e14bd68bd87b1dbdefe302  55.8013916016, 37.4078903198    6.0   \n",
       "17     0007297d86e14bd68bd87b1dbdefe302  55.8023033142, 37.4066505432    7.0   \n",
       "18     0007297d86e14bd68bd87b1dbdefe302  55.7998046875, 37.4072761536    3.0   \n",
       "19     0007297d86e14bd68bd87b1dbdefe302  55.8027076721, 37.4009628296    4.0   \n",
       "20     0007297d86e14bd68bd87b1dbdefe302  55.7987136841, 37.3968505859    6.0   \n",
       "21     0007297d86e14bd68bd87b1dbdefe302  55.7998390198, 37.3968238831   30.0   \n",
       "22     000b709c6c6fb1e8efcfd95e57c2a9de   55.043586731, 82.9299545288    1.0   \n",
       "24     000b709c6c6fb1e8efcfd95e57c2a9de  55.0383224487, 82.9030990601    1.0   \n",
       "25     000b709c6c6fb1e8efcfd95e57c2a9de  55.0286064148, 82.9365692139    1.0   \n",
       "26     000b709c6c6fb1e8efcfd95e57c2a9de  55.0393409729, 82.9029922485    1.0   \n",
       "27     000b709c6c6fb1e8efcfd95e57c2a9de  55.0221443176, 82.9015579224    1.0   \n",
       "28     000b709c6c6fb1e8efcfd95e57c2a9de   54.9829521179, 82.885383606    1.0   \n",
       "29     000b709c6c6fb1e8efcfd95e57c2a9de  55.0112915039, 82.8742904663    1.0   \n",
       "30     000b709c6c6fb1e8efcfd95e57c2a9de   55.0101242065, 82.876159668    1.0   \n",
       "...                                 ...                           ...    ...   \n",
       "80145  ff869ee855dc3f9b382c943eb43cc4ec   55.020866394, 36.7134857178    4.0   \n",
       "80146  ff869ee855dc3f9b382c943eb43cc4ec  55.0240821838, 36.7357978821   12.0   \n",
       "80147  ff869ee855dc3f9b382c943eb43cc4ec  55.0253944397, 36.7415657043    2.0   \n",
       "80148  ff869ee855dc3f9b382c943eb43cc4ec  55.0343360901, 36.7516021729    6.0   \n",
       "80149  ff869ee855dc3f9b382c943eb43cc4ec  55.0317153931, 36.7465171814    4.0   \n",
       "80150  ff869ee855dc3f9b382c943eb43cc4ec  55.0306472778, 36.7498283386   16.0   \n",
       "80154  ff92d5420f5fb92a37e1280d1fc9e5f4  56.5098190308, 56.0816078186    9.0   \n",
       "80157  ffaeae55d4dbf29058f04e7a6a764f02  55.6837921143, 37.8533554077   16.0   \n",
       "80158  ffaeae55d4dbf29058f04e7a6a764f02  55.6866416931, 37.8504753113   19.0   \n",
       "80159  ffaeae55d4dbf29058f04e7a6a764f02   55.6859092712, 37.850933075    4.0   \n",
       "80160  ffaeae55d4dbf29058f04e7a6a764f02  55.6816482544, 37.8505172729    1.0   \n",
       "80161  ffaeae55d4dbf29058f04e7a6a764f02  55.6848526001, 37.8530235291    4.0   \n",
       "80162  ffaeae55d4dbf29058f04e7a6a764f02   55.6864814758, 37.855091095    1.0   \n",
       "80163  ffaeae55d4dbf29058f04e7a6a764f02   55.6821136475, 37.851726532    2.0   \n",
       "80164  ffaeae55d4dbf29058f04e7a6a764f02  55.6786842346, 37.8535842896    1.0   \n",
       "80165  ffaeae55d4dbf29058f04e7a6a764f02  55.6765022278, 37.8584671021    1.0   \n",
       "80174  ffc5289194413ec68c3f7adc8121d69b  55.8963775635, 37.4803771973    1.0   \n",
       "80175  ffc5289194413ec68c3f7adc8121d69b  55.8917388916, 37.4787864685    1.0   \n",
       "80176  ffc5289194413ec68c3f7adc8121d69b  55.8893127441, 37.4727478027    3.0   \n",
       "80177  ffdd5ec2a90e355cf40525eac1a6fd34  55.9506988525, 37.5122375488    2.0   \n",
       "80178  ffdd5ec2a90e355cf40525eac1a6fd34  55.9319152832, 37.5013084412    2.0   \n",
       "80179  ffdd5ec2a90e355cf40525eac1a6fd34  55.9095039368, 37.5401268005    2.0   \n",
       "80180  ffdd5ec2a90e355cf40525eac1a6fd34  55.9401321411, 37.5190429688    2.0   \n",
       "80181  ffdd5ec2a90e355cf40525eac1a6fd34  55.9356956482, 37.5191841125   20.0   \n",
       "80182  ffdd5ec2a90e355cf40525eac1a6fd34  55.9160308838, 37.5399856567    8.0   \n",
       "80183  ffdd5ec2a90e355cf40525eac1a6fd34  55.9315071106, 37.5173683167    2.0   \n",
       "80184  ffdd5ec2a90e355cf40525eac1a6fd34  55.9390945435, 37.5166397095    2.0   \n",
       "80185  ffdd5ec2a90e355cf40525eac1a6fd34   55.937374115, 37.5203208923    2.0   \n",
       "80186  ffdd5ec2a90e355cf40525eac1a6fd34  55.9341163635, 37.5200843811    4.0   \n",
       "80187  ffdd5ec2a90e355cf40525eac1a6fd34    55.9332008362, 37.52161026    4.0   \n",
       "\n",
       "               mean  address_lat_x  address_lon_x      max_prob  \\\n",
       "0      1.370705e-09      44.737720      37.793007  5.816093e-07   \n",
       "1      1.418683e-09      44.723999      37.812000  5.816093e-07   \n",
       "2      1.561652e-09      44.731998      37.814999  5.816093e-07   \n",
       "3      1.811778e-09      44.726002      37.812000  5.816093e-07   \n",
       "4      2.272952e-09      44.745537      37.726276  5.816093e-07   \n",
       "5      2.402163e-09      44.730000      37.819000  5.816093e-07   \n",
       "6      6.588235e-08      44.726727      37.755863  5.816093e-07   \n",
       "7      1.297524e-07      44.725685      37.762733  5.816093e-07   \n",
       "8      1.542050e-07      44.721001      37.765999  5.816093e-07   \n",
       "9      4.541670e-07      44.716000      37.777000  5.816093e-07   \n",
       "10     5.816093e-07      44.713001      37.777000  5.816093e-07   \n",
       "11     5.616458e-07      55.800999      37.408001  2.482394e-06   \n",
       "12     6.027472e-07      55.799999      37.405998  2.482394e-06   \n",
       "13     6.059998e-07      55.798000      37.407001  2.482394e-06   \n",
       "14     6.131152e-07      55.796001      37.405998  2.482394e-06   \n",
       "15     6.206625e-07      55.799000      37.408001  2.482394e-06   \n",
       "16     6.464597e-07      55.801392      37.407890  2.482394e-06   \n",
       "17     7.011754e-07      55.802303      37.406651  2.482394e-06   \n",
       "18     8.236700e-07      55.799805      37.407276  2.482394e-06   \n",
       "19     1.045703e-06      55.802708      37.400963  2.482394e-06   \n",
       "20     1.581333e-06      55.798714      37.396851  2.482394e-06   \n",
       "21     2.482394e-06      55.799839      37.396824  2.482394e-06   \n",
       "22     2.724059e-10      55.043587      82.929955  6.911605e-07   \n",
       "24     5.225704e-10      55.038322      82.903099  6.911605e-07   \n",
       "25     6.815277e-10      55.028606      82.936569  6.911605e-07   \n",
       "26     1.544627e-09      55.039341      82.902992  6.911605e-07   \n",
       "27     2.536539e-09      55.022144      82.901558  6.911605e-07   \n",
       "28     2.991552e-09      54.982952      82.885384  6.911605e-07   \n",
       "29     6.705144e-08      55.011292      82.874290  6.911605e-07   \n",
       "30     6.748799e-08      55.010124      82.876160  6.911605e-07   \n",
       "...             ...            ...            ...           ...   \n",
       "80145  4.086673e-09      55.020866      36.713486  8.631692e-05   \n",
       "80146  8.640826e-07      55.024082      36.735798  8.631692e-05   \n",
       "80147  1.530522e-06      55.025394      36.741566  8.631692e-05   \n",
       "80148  5.881479e-06      55.034336      36.751602  8.631692e-05   \n",
       "80149  1.215452e-05      55.031715      36.746517  8.631692e-05   \n",
       "80150  8.631692e-05      55.030647      36.749828  8.631692e-05   \n",
       "80154  1.216655e-06      56.509819      56.081608  1.216655e-06   \n",
       "80157  5.600924e-10      55.683792      37.853355  8.597262e-09   \n",
       "80158  5.979039e-10      55.686642      37.850475  8.597262e-09   \n",
       "80159  8.980269e-10      55.685909      37.850933  8.597262e-09   \n",
       "80160  1.387465e-09      55.681648      37.850517  8.597262e-09   \n",
       "80161  1.425451e-09      55.684853      37.853024  8.597262e-09   \n",
       "80162  1.746089e-09      55.686481      37.855091  8.597262e-09   \n",
       "80163  2.453277e-09      55.682114      37.851727  8.597262e-09   \n",
       "80164  8.397641e-09      55.678684      37.853584  8.597262e-09   \n",
       "80165  8.597262e-09      55.676502      37.858467  8.597262e-09   \n",
       "80174  8.648196e-09      55.896378      37.480377  1.817745e-08   \n",
       "80175  1.217411e-08      55.891739      37.478786  1.817745e-08   \n",
       "80176  1.817745e-08      55.889313      37.472748  1.817745e-08   \n",
       "80177  2.555554e-08      55.950699      37.512238  5.555069e-07   \n",
       "80178  4.842719e-08      55.931915      37.501308  5.555069e-07   \n",
       "80179  2.862649e-07      55.909504      37.540127  5.555069e-07   \n",
       "80180  3.513859e-07      55.940132      37.519043  5.555069e-07   \n",
       "80181  4.212868e-07      55.935696      37.519184  5.555069e-07   \n",
       "80182  4.503952e-07      55.916031      37.539986  5.555069e-07   \n",
       "80183  4.626924e-07      55.931507      37.517368  5.555069e-07   \n",
       "80184  4.627593e-07      55.939095      37.516640  5.555069e-07   \n",
       "80185  5.079182e-07      55.937374      37.520321  5.555069e-07   \n",
       "80186  5.466138e-07      55.934116      37.520084  5.555069e-07   \n",
       "80187  5.555069e-07      55.933201      37.521610  5.555069e-07   \n",
       "\n",
       "       address_lat_y  address_lon_y  is_close  \n",
       "0          44.713001      37.777000         1  \n",
       "1          44.713001      37.777000         1  \n",
       "2          44.713001      37.777000         1  \n",
       "3          44.713001      37.777000         1  \n",
       "4          44.713001      37.777000         1  \n",
       "5          44.713001      37.777000         1  \n",
       "6          44.713001      37.777000         1  \n",
       "7          44.713001      37.777000         1  \n",
       "8          44.713001      37.777000         1  \n",
       "9          44.713001      37.777000         1  \n",
       "10         44.713001      37.777000         1  \n",
       "11         55.799839      37.396824         1  \n",
       "12         55.799839      37.396824         1  \n",
       "13         55.799839      37.396824         1  \n",
       "14         55.799839      37.396824         1  \n",
       "15         55.799839      37.396824         1  \n",
       "16         55.799839      37.396824         1  \n",
       "17         55.799839      37.396824         1  \n",
       "18         55.799839      37.396824         1  \n",
       "19         55.799839      37.396824         1  \n",
       "20         55.799839      37.396824         1  \n",
       "21         55.799839      37.396824         1  \n",
       "22         54.989365      82.859444         1  \n",
       "24         54.989365      82.859444         1  \n",
       "25         54.989365      82.859444         1  \n",
       "26         54.989365      82.859444         1  \n",
       "27         54.989365      82.859444         1  \n",
       "28         54.989365      82.859444         1  \n",
       "29         54.989365      82.859444         1  \n",
       "30         54.989365      82.859444         1  \n",
       "...              ...            ...       ...  \n",
       "80145      55.030647      36.749828         1  \n",
       "80146      55.030647      36.749828         1  \n",
       "80147      55.030647      36.749828         1  \n",
       "80148      55.030647      36.749828         1  \n",
       "80149      55.030647      36.749828         1  \n",
       "80150      55.030647      36.749828         1  \n",
       "80154      56.509819      56.081608         1  \n",
       "80157      55.676502      37.858467         1  \n",
       "80158      55.676502      37.858467         1  \n",
       "80159      55.676502      37.858467         1  \n",
       "80160      55.676502      37.858467         1  \n",
       "80161      55.676502      37.858467         1  \n",
       "80162      55.676502      37.858467         1  \n",
       "80163      55.676502      37.858467         1  \n",
       "80164      55.676502      37.858467         1  \n",
       "80165      55.676502      37.858467         1  \n",
       "80174      55.889313      37.472748         1  \n",
       "80175      55.889313      37.472748         1  \n",
       "80176      55.889313      37.472748         1  \n",
       "80177      55.933201      37.521610         1  \n",
       "80178      55.933201      37.521610         1  \n",
       "80179      55.933201      37.521610         1  \n",
       "80180      55.933201      37.521610         1  \n",
       "80181      55.933201      37.521610         1  \n",
       "80182      55.933201      37.521610         1  \n",
       "80183      55.933201      37.521610         1  \n",
       "80184      55.933201      37.521610         1  \n",
       "80185      55.933201      37.521610         1  \n",
       "80186      55.933201      37.521610         1  \n",
       "80187      55.933201      37.521610         1  \n",
       "\n",
       "[71846 rows x 10 columns]"
      ]
     },
     "execution_count": 188,
     "metadata": {},
     "output_type": "execute_result"
    }
   ],
   "source": [
    "un_gps_only_nearest_points"
   ]
  },
  {
   "cell_type": "code",
   "execution_count": null,
   "metadata": {
    "collapsed": true
   },
   "outputs": [],
   "source": []
  },
  {
   "cell_type": "code",
   "execution_count": 177,
   "metadata": {
    "collapsed": false
   },
   "outputs": [
    {
     "data": {
      "text/plain": [
       "(1, 0.02)"
      ]
     },
     "execution_count": 177,
     "metadata": {},
     "output_type": "execute_result"
    }
   ],
   "source": [
    "max(work_results_dic_median, key=work_results_dic_median.get)"
   ]
  },
  {
   "cell_type": "code",
   "execution_count": null,
   "metadata": {
    "collapsed": false
   },
   "outputs": [],
   "source": []
  },
  {
   "cell_type": "code",
   "execution_count": 191,
   "metadata": {
    "collapsed": false
   },
   "outputs": [
    {
     "data": {
      "text/plain": [
       "{(1, 0.02): 0.30359056806002144,\n",
       " (1, 0.025): 0.30359056806002144,\n",
       " (1, 0.03): 0.30359056806002144,\n",
       " (1, 0.035): 0.30359056806002144,\n",
       " (1, 0.04): 0.30359056806002144,\n",
       " (1, 0.045): 0.30359056806002144,\n",
       " (1, 0.05): 0.30359056806002144,\n",
       " (1, 0.055): 0.30359056806002144,\n",
       " (1, 0.06): 0.30359056806002144,\n",
       " (1, 0.065): 0.30359056806002144,\n",
       " (1, 0.07): 0.30359056806002144,\n",
       " (1, 0.075): 0.30359056806002144,\n",
       " (1, 0.08): 0.30359056806002144,\n",
       " (1, 0.085): 0.30359056806002144,\n",
       " (1, 0.09): 0.30359056806002144,\n",
       " (2, 0.02): 0.3088156484458735,\n",
       " (2, 0.025): 0.31162915326902463,\n",
       " (2, 0.03): 0.31390675241157556,\n",
       " (2, 0.035): 0.31524651661307612,\n",
       " (2, 0.04): 0.3163183279742765,\n",
       " (2, 0.045): 0.31712218649517687,\n",
       " (2, 0.05): 0.317524115755627,\n",
       " (2, 0.055): 0.31806002143622725,\n",
       " (2, 0.06): 0.31806002143622725,\n",
       " (2, 0.065): 0.31806002143622725,\n",
       " (2, 0.07): 0.31806002143622725,\n",
       " (2, 0.075): 0.31806002143622725,\n",
       " (2, 0.08): 0.31819399785637725,\n",
       " (2, 0.085): 0.31819399785637725,\n",
       " (2, 0.09): 0.31806002143622725,\n",
       " (3, 0.02): 0.31296891747052519,\n",
       " (3, 0.025): 0.3161843515541265,\n",
       " (3, 0.03): 0.31899785637727762,\n",
       " (3, 0.035): 0.3212754555198285,\n",
       " (3, 0.04): 0.32154340836012862,\n",
       " (3, 0.045): 0.32261521972132906,\n",
       " (3, 0.05): 0.32288317256162913,\n",
       " (3, 0.055): 0.32328510182207931,\n",
       " (3, 0.06): 0.32355305466237944,\n",
       " (3, 0.065): 0.32355305466237944,\n",
       " (3, 0.07): 0.32355305466237944,\n",
       " (3, 0.075): 0.3236870310825295,\n",
       " (3, 0.08): 0.3238210075026795,\n",
       " (3, 0.085): 0.3236870310825295,\n",
       " (3, 0.09): 0.3238210075026795,\n",
       " (4, 0.02): 0.31189710610932475,\n",
       " (4, 0.025): 0.314978563772776,\n",
       " (4, 0.03): 0.31792604501607719,\n",
       " (4, 0.035): 0.320069667738478,\n",
       " (4, 0.04): 0.32087352625937837,\n",
       " (4, 0.045): 0.32167738478027869,\n",
       " (4, 0.05): 0.32207931404072881,\n",
       " (4, 0.055): 0.32234726688102894,\n",
       " (4, 0.06): 0.32261521972132906,\n",
       " (4, 0.065): 0.32261521972132906,\n",
       " (4, 0.07): 0.32261521972132906,\n",
       " (4, 0.075): 0.32261521972132906,\n",
       " (4, 0.08): 0.32274919614147912,\n",
       " (4, 0.085): 0.32288317256162913,\n",
       " (4, 0.09): 0.32301714898177919,\n",
       " (5, 0.02): 0.31176312968917469,\n",
       " (5, 0.025): 0.31538049303322613,\n",
       " (5, 0.03): 0.31939978563772775,\n",
       " (5, 0.035): 0.32167738478027869,\n",
       " (5, 0.04): 0.32261521972132906,\n",
       " (5, 0.045): 0.32341907824222937,\n",
       " (5, 0.05): 0.3236870310825295,\n",
       " (5, 0.055): 0.32422293676312969,\n",
       " (5, 0.06): 0.32449088960342981,\n",
       " (5, 0.065): 0.32449088960342981,\n",
       " (5, 0.07): 0.32449088960342981,\n",
       " (5, 0.075): 0.32449088960342981,\n",
       " (5, 0.08): 0.32475884244372988,\n",
       " (5, 0.085): 0.32475884244372988,\n",
       " (5, 0.09): 0.32489281886387994,\n",
       " (7, 0.02): 0.31136120042872456,\n",
       " (7, 0.025): 0.31551446945337619,\n",
       " (7, 0.03): 0.31966773847802787,\n",
       " (7, 0.035): 0.32207931404072881,\n",
       " (7, 0.04): 0.32301714898177919,\n",
       " (7, 0.045): 0.3238210075026795,\n",
       " (7, 0.05): 0.32435691318327975,\n",
       " (7, 0.055): 0.32475884244372988,\n",
       " (7, 0.06): 0.32489281886387994,\n",
       " (7, 0.065): 0.32489281886387994,\n",
       " (7, 0.07): 0.32502679528403,\n",
       " (7, 0.075): 0.32489281886387994,\n",
       " (7, 0.08): 0.32502679528403,\n",
       " (7, 0.085): 0.32516077170418006,\n",
       " (7, 0.09): 0.32516077170418006,\n",
       " (9, 0.02): 0.31216505894962487,\n",
       " (9, 0.025): 0.31591639871382637,\n",
       " (9, 0.03): 0.31953376205787781,\n",
       " (9, 0.035): 0.32154340836012862,\n",
       " (9, 0.04): 0.32328510182207931,\n",
       " (9, 0.045): 0.32408896034297963,\n",
       " (9, 0.05): 0.32489281886387994,\n",
       " (9, 0.055): 0.32489281886387994,\n",
       " (9, 0.06): 0.32516077170418006,\n",
       " (9, 0.065): 0.32542872454448019,\n",
       " (9, 0.07): 0.32556270096463025,\n",
       " (9, 0.075): 0.32542872454448019,\n",
       " (9, 0.08): 0.32556270096463025,\n",
       " (9, 0.085): 0.32569667738478025,\n",
       " (9, 0.09): 0.32542872454448019,\n",
       " (11, 0.02): 0.31176312968917469,\n",
       " (11, 0.025): 0.31551446945337619,\n",
       " (11, 0.03): 0.31939978563772775,\n",
       " (11, 0.035): 0.32181136120042875,\n",
       " (11, 0.04): 0.32355305466237944,\n",
       " (11, 0.045): 0.32395498392282956,\n",
       " (11, 0.05): 0.32502679528403,\n",
       " (11, 0.055): 0.32502679528403,\n",
       " (11, 0.06): 0.32529474812433012,\n",
       " (11, 0.065): 0.32556270096463025,\n",
       " (11, 0.07): 0.32583065380493031,\n",
       " (11, 0.075): 0.32569667738478025,\n",
       " (11, 0.08): 0.32569667738478025,\n",
       " (11, 0.085): 0.32596463022508038,\n",
       " (11, 0.09): 0.32569667738478025}"
      ]
     },
     "execution_count": 191,
     "metadata": {},
     "output_type": "execute_result"
    }
   ],
   "source": [
    "work_results_dic_median_prob"
   ]
  },
  {
   "cell_type": "code",
   "execution_count": 190,
   "metadata": {
    "collapsed": false
   },
   "outputs": [
    {
     "data": {
      "text/plain": [
       "<matplotlib.axes._subplots.AxesSubplot at 0x1ef8022bf60>"
      ]
     },
     "execution_count": 190,
     "metadata": {},
     "output_type": "execute_result"
    },
    {
     "data": {
      "image/png": "[encoded data removed]",
      "text/plain": [
       "<matplotlib.figure.Figure at 0x1ef8c2954a8>"
      ]
     },
     "metadata": {},
     "output_type": "display_data"
    }
   ],
   "source": [
    "pd.Series(work_results_dic_median_prob).plot()"
   ]
  },
  {
   "cell_type": "code",
   "execution_count": 179,
   "metadata": {
    "collapsed": false
   },
   "outputs": [
    {
     "data": {
      "text/plain": [
       "<matplotlib.axes._subplots.AxesSubplot at 0x1ef8fa04f60>"
      ]
     },
     "execution_count": 179,
     "metadata": {},
     "output_type": "execute_result"
    },
    {
     "data": {
      "image/png": "[encoded data removed]",
      "text/plain": [
       "<matplotlib.figure.Figure at 0x1ef9374f0f0>"
      ]
     },
     "metadata": {},
     "output_type": "display_data"
    }
   ],
   "source": [
    "pd.Series(work_results_dic_max).plot()"
   ]
  },
  {
   "cell_type": "code",
   "execution_count": 166,
   "metadata": {
    "collapsed": false
   },
   "outputs": [
    {
     "data": {
      "text/plain": [
       "<matplotlib.axes._subplots.AxesSubplot at 0x1efd43af198>"
      ]
     },
     "execution_count": 166,
     "metadata": {},
     "output_type": "execute_result"
    },
    {
     "data": {
      "image/png": "[encoded data removed]",
      "text/plain": [
       "<matplotlib.figure.Figure at 0x1ef8022f320>"
      ]
     },
     "metadata": {},
     "output_type": "display_data"
    }
   ],
   "source": [
    "pd.Series(work_results_dic_median).plot()"
   ]
  },
  {
   "cell_type": "code",
   "execution_count": 88,
   "metadata": {
    "collapsed": false
   },
   "outputs": [
    {
     "data": {
      "image/png": "[encoded data removed]",
      "text/plain": [
       "<matplotlib.figure.Figure at 0x7d8d5b4e0>"
      ]
     },
     "metadata": {},
     "output_type": "display_data"
    }
   ],
   "source": [
    "pd.Series(radius_dic).plot();"
   ]
  },
  {
   "cell_type": "code",
   "execution_count": 89,
   "metadata": {
    "collapsed": false
   },
   "outputs": [
    {
     "data": {
      "image/png": "[encoded data removed]",
      "text/plain": [
       "<matplotlib.figure.Figure at 0x7d96c99b0>"
      ]
     },
     "metadata": {},
     "output_type": "display_data"
    }
   ],
   "source": [
    "pd.Series(results_dic).plot();"
   ]
  },
  {
   "cell_type": "code",
   "execution_count": 94,
   "metadata": {
    "collapsed": false
   },
   "outputs": [
    {
     "data": {
      "text/plain": [
       "dict_keys([0.02, 0.025, 0.03, 0.035, 0.04, 0.045, 0.05, 0.055, 0.06, 0.065, 0.07, 0.075, 0.08, 0.085, 0.09])"
      ]
     },
     "execution_count": 94,
     "metadata": {},
     "output_type": "execute_result"
    }
   ],
   "source": [
    "radius_dic.keys()"
   ]
  },
  {
   "cell_type": "code",
   "execution_count": 184,
   "metadata": {
    "collapsed": false
   },
   "outputs": [
    {
     "name": "stdout",
     "output_type": "stream",
     "text": [
      "Wall time: 1min 28s\n"
     ]
    }
   ],
   "source": [
    "%%time\n",
    "home_results_dic_median = {}\n",
    "#home_results_dic_max = {}\n",
    "\n",
    "for q in [1,2,3,4,5,7,9,11]:\n",
    "    \n",
    "    \"\"\"по уникальным координатам ищем максимальные значения\"\"\"\n",
    "    un_gps_only = train_results_class_home.groupby(['customer_id', 'gps']).agg({'prob_dist': [np.size, np.median]}).reset_index()\n",
    "    un_gps_only.columns = un_gps_only.columns.droplevel(1)\n",
    "    un_gps_only.columns = ['customer_id', 'gps', 'count', 'mean']\n",
    "\n",
    "    \"\"\"находим топ-n по вер-ти\"\"\"\n",
    "    un_gps_only = un_gps_only.groupby('customer_id').apply(top, n=q, column='mean')\n",
    "    un_gps_only.reset_index(drop=True, inplace=True)\n",
    "    un_gps_only['address_lat'] = un_gps_only['gps'].map(lambda x: str(x).split(',')[0]).apply(float)\n",
    "    un_gps_only['address_lon'] = un_gps_only['gps'].map(lambda x: str(x).split(',')[1]).apply(float)\n",
    "\n",
    "\n",
    "    un_gps_only['max_prob'] = un_gps_only.groupby(['customer_id'])['mean'].transform(max)\n",
    "    max_prob_key = pd.DataFrame(un_gps_only.groupby(['customer_id'])['mean'].max()).reset_index()\n",
    "    max_prob_key = pd.merge(max_prob_key, un_gps_only[['customer_id', 'mean', 'address_lat', 'address_lon']], \n",
    "             on=['customer_id', 'mean'], how='left')\n",
    "    un_gps_only = pd.merge(un_gps_only, max_prob_key[['customer_id', 'address_lat', 'address_lon']],\n",
    "                           on='customer_id', how='left')\n",
    "\n",
    "    for r in [0.02, 0.025, 0.03, 0.035, 0.04, 0.045, 0.05, 0.055, 0.06, 0.065, 0.07, 0.075, 0.08, 0.085, 0.09]:\n",
    "        \n",
    "        proximity_radius = r\n",
    "        un_gps_only['is_close'] = (un_gps_only['address_lat_x'].between(un_gps_only['address_lat_y'] - proximity_radius, \n",
    "                                              un_gps_only['address_lat_y'] + proximity_radius, inclusive=True) &\n",
    "         un_gps_only['address_lon_x'].between(un_gps_only['address_lon_y'] - proximity_radius, \n",
    "                                              un_gps_only['address_lon_y'] + proximity_radius, inclusive=True)).astype(int)\n",
    "\n",
    "\n",
    "        un_gps_only_nearest_points = un_gps_only[un_gps_only.is_close == 1]\n",
    "\n",
    "        home_lat_answer = pd.DataFrame(weighted_average(un_gps_only_nearest_points, data_col='address_lat_x', \n",
    "                                                        weight_col='mean', by_col='customer_id')).reset_index()\n",
    "        home_lon_answer = pd.DataFrame(weighted_average(un_gps_only_nearest_points, data_col='address_lon_x', \n",
    "                                                        weight_col='mean', by_col='customer_id')).reset_index()\n",
    "        home_answer = pd.merge(home_lat_answer, home_lon_answer, on='customer_id', how='left')\n",
    "\n",
    "        home_answer.columns = ['customer_id', 'address_lat', 'address_lon']\n",
    "        home_answer_train.drop(['address_lat', 'address_lon'], axis=1, inplace=True)\n",
    "        home_answer_train = pd.merge(home_answer_train, home_answer, on='customer_id', how='left')\n",
    "\n",
    "        home_results_dic_median[q, r] = (np.where((\n",
    "            np.sqrt(((home_answer_train.address_lat - home_answer_train.home_add_lat) ** 2) \n",
    "                    + ((home_answer_train.address_lon - home_answer_train.home_add_lon) ** 2)) <= RADIUS), 0.5, 0).sum() \n",
    "                                         / len(home_answer_train))"
   ]
  },
  {
   "cell_type": "code",
   "execution_count": null,
   "metadata": {
    "collapsed": true
   },
   "outputs": [],
   "source": []
  },
  {
   "cell_type": "code",
   "execution_count": 194,
   "metadata": {
    "collapsed": false
   },
   "outputs": [
    {
     "data": {
      "text/plain": [
       "{(1, 0.02): 0.42966400836710683,\n",
       " (1, 0.025): 0.42966400836710683,\n",
       " (1, 0.03): 0.42966400836710683,\n",
       " (1, 0.035): 0.42966400836710683,\n",
       " (1, 0.04): 0.42966400836710683,\n",
       " (1, 0.045): 0.42966400836710683,\n",
       " (1, 0.05): 0.42966400836710683,\n",
       " (1, 0.055): 0.42966400836710683,\n",
       " (1, 0.06): 0.42966400836710683,\n",
       " (1, 0.065): 0.42966400836710683,\n",
       " (1, 0.07): 0.42966400836710683,\n",
       " (1, 0.075): 0.42966400836710683,\n",
       " (1, 0.08): 0.42966400836710683,\n",
       " (1, 0.085): 0.42966400836710683,\n",
       " (1, 0.09): 0.42966400836710683,\n",
       " (2, 0.02): 0.42992548045496143,\n",
       " (2, 0.025): 0.4297947444110341,\n",
       " (2, 0.03): 0.42972937638907049,\n",
       " (2, 0.035): 0.42966400836710683,\n",
       " (2, 0.04): 0.42966400836710683,\n",
       " (2, 0.045): 0.42972937638907049,\n",
       " (2, 0.05): 0.42992548045496143,\n",
       " (2, 0.055): 0.43005621649888875,\n",
       " (2, 0.06): 0.43005621649888875,\n",
       " (2, 0.065): 0.43005621649888875,\n",
       " (2, 0.07): 0.43005621649888875,\n",
       " (2, 0.075): 0.43005621649888875,\n",
       " (2, 0.08): 0.43005621649888875,\n",
       " (2, 0.085): 0.43005621649888875,\n",
       " (2, 0.09): 0.43012158452085242,\n",
       " (3, 0.02): 0.42946790430121584,\n",
       " (3, 0.025): 0.42927180023532485,\n",
       " (3, 0.03): 0.42920643221336124,\n",
       " (3, 0.035): 0.42901032814747025,\n",
       " (3, 0.04): 0.42894496012550659,\n",
       " (3, 0.045): 0.42907569616943392,\n",
       " (3, 0.05): 0.42914106419139758,\n",
       " (3, 0.055): 0.42933716825728852,\n",
       " (3, 0.06): 0.42940253627925218,\n",
       " (3, 0.065): 0.42940253627925218,\n",
       " (3, 0.07): 0.42933716825728852,\n",
       " (3, 0.075): 0.42933716825728852,\n",
       " (3, 0.08): 0.42933716825728852,\n",
       " (3, 0.085): 0.42927180023532485,\n",
       " (3, 0.09): 0.42933716825728852,\n",
       " (4, 0.02): 0.42901032814747025,\n",
       " (4, 0.025): 0.42861812001568833,\n",
       " (4, 0.03): 0.42835664792783368,\n",
       " (4, 0.035): 0.42822591188390641,\n",
       " (4, 0.04): 0.42835664792783368,\n",
       " (4, 0.045): 0.42855275199372467,\n",
       " (4, 0.05): 0.42829127990587007,\n",
       " (4, 0.055): 0.42842201594979734,\n",
       " (4, 0.06): 0.428487383971761,\n",
       " (4, 0.065): 0.428487383971761,\n",
       " (4, 0.07): 0.42842201594979734,\n",
       " (4, 0.075): 0.42842201594979734,\n",
       " (4, 0.08): 0.428487383971761,\n",
       " (4, 0.085): 0.42842201594979734,\n",
       " (4, 0.09): 0.428487383971761,\n",
       " (5, 0.02): 0.42861812001568833,\n",
       " (5, 0.025): 0.42809517583997908,\n",
       " (5, 0.03): 0.42776833573016082,\n",
       " (5, 0.035): 0.42750686364230617,\n",
       " (5, 0.04): 0.42763759968623349,\n",
       " (5, 0.045): 0.42783370375212448,\n",
       " (5, 0.05): 0.42757223166426983,\n",
       " (5, 0.055): 0.42770296770819716,\n",
       " (5, 0.06): 0.42770296770819716,\n",
       " (5, 0.065): 0.42763759968623349,\n",
       " (5, 0.07): 0.42757223166426983,\n",
       " (5, 0.075): 0.42763759968623349,\n",
       " (5, 0.08): 0.42763759968623349,\n",
       " (5, 0.085): 0.42763759968623349,\n",
       " (5, 0.09): 0.42770296770819716,\n",
       " (7, 0.02): 0.42796443979605175,\n",
       " (7, 0.025): 0.42750686364230617,\n",
       " (7, 0.03): 0.42691855144463331,\n",
       " (7, 0.035): 0.42678781540070598,\n",
       " (7, 0.04): 0.42691855144463331,\n",
       " (7, 0.045): 0.42704928748856058,\n",
       " (7, 0.05): 0.42685318342266965,\n",
       " (7, 0.055): 0.42685318342266965,\n",
       " (7, 0.06): 0.42685318342266965,\n",
       " (7, 0.065): 0.42678781540070598,\n",
       " (7, 0.07): 0.42678781540070598,\n",
       " (7, 0.075): 0.42678781540070598,\n",
       " (7, 0.08): 0.42678781540070598,\n",
       " (7, 0.085): 0.42652634331285133,\n",
       " (7, 0.09): 0.42659171133481499,\n",
       " (9, 0.02): 0.4273761275983789,\n",
       " (9, 0.025): 0.42691855144463331,\n",
       " (9, 0.03): 0.42619950320303307,\n",
       " (9, 0.035): 0.42613413518106941,\n",
       " (9, 0.04): 0.4263302392469604,\n",
       " (9, 0.045): 0.42639560726892406,\n",
       " (9, 0.05): 0.42619950320303307,\n",
       " (9, 0.055): 0.42619950320303307,\n",
       " (9, 0.06): 0.42606876715910574,\n",
       " (9, 0.065): 0.42600339913714214,\n",
       " (9, 0.07): 0.42613413518106941,\n",
       " (9, 0.075): 0.42613413518106941,\n",
       " (9, 0.08): 0.42613413518106941,\n",
       " (9, 0.085): 0.42593803111517847,\n",
       " (9, 0.09): 0.42593803111517847,\n",
       " (11, 0.02): 0.42698391946659692,\n",
       " (11, 0.025): 0.42672244737874232,\n",
       " (11, 0.03): 0.42593803111517847,\n",
       " (11, 0.035): 0.42580729507125115,\n",
       " (11, 0.04): 0.42606876715910574,\n",
       " (11, 0.045): 0.42600339913714214,\n",
       " (11, 0.05): 0.42567655902732382,\n",
       " (11, 0.055): 0.42554582298339655,\n",
       " (11, 0.06): 0.42554582298339655,\n",
       " (11, 0.065): 0.42548045496143289,\n",
       " (11, 0.07): 0.42548045496143289,\n",
       " (11, 0.075): 0.42548045496143289,\n",
       " (11, 0.08): 0.42548045496143289,\n",
       " (11, 0.085): 0.4252843508955419,\n",
       " (11, 0.09): 0.42541508693946922}"
      ]
     },
     "execution_count": 194,
     "metadata": {},
     "output_type": "execute_result"
    }
   ],
   "source": [
    "home_results_dic_median"
   ]
  },
  {
   "cell_type": "code",
   "execution_count": 192,
   "metadata": {
    "collapsed": false
   },
   "outputs": [
    {
     "data": {
      "image/png": "[encoded data removed]",
      "text/plain": [
       "<matplotlib.figure.Figure at 0x1ef92beda58>"
      ]
     },
     "metadata": {},
     "output_type": "display_data"
    }
   ],
   "source": [
    "pd.Series(home_results_dic_median).plot();"
   ]
  },
  {
   "cell_type": "code",
   "execution_count": 183,
   "metadata": {
    "collapsed": false
   },
   "outputs": [
    {
     "data": {
      "image/png": "[encoded data removed]",
      "text/plain": [
       "<matplotlib.figure.Figure at 0x1efa0717b38>"
      ]
     },
     "metadata": {},
     "output_type": "display_data"
    }
   ],
   "source": [
    "pd.Series(home_results_dic_max).plot();"
   ]
  },
  {
   "cell_type": "code",
   "execution_count": 87,
   "metadata": {
    "collapsed": false
   },
   "outputs": [
    {
     "data": {
      "image/png": "[encoded data removed]",
      "text/plain": [
       "<matplotlib.figure.Figure at 0x7d87a4a90>"
      ]
     },
     "metadata": {},
     "output_type": "display_data"
    }
   ],
   "source": [
    "pd.Series(results_dic_home).plot();"
   ]
  },
  {
   "cell_type": "code",
   "execution_count": null,
   "metadata": {
    "collapsed": true
   },
   "outputs": [],
   "source": []
  },
  {
   "cell_type": "code",
   "execution_count": null,
   "metadata": {
    "collapsed": true
   },
   "outputs": [],
   "source": []
  },
  {
   "cell_type": "code",
   "execution_count": null,
   "metadata": {
    "collapsed": true
   },
   "outputs": [],
   "source": []
  },
  {
   "cell_type": "code",
   "execution_count": null,
   "metadata": {
    "collapsed": true
   },
   "outputs": [],
   "source": []
  },
  {
   "cell_type": "code",
   "execution_count": null,
   "metadata": {
    "collapsed": true
   },
   "outputs": [],
   "source": []
  },
  {
   "cell_type": "code",
   "execution_count": 62,
   "metadata": {
    "collapsed": false
   },
   "outputs": [
    {
     "data": {
      "text/plain": [
       "(298023, 298015)"
      ]
     },
     "execution_count": 62,
     "metadata": {},
     "output_type": "execute_result"
    }
   ],
   "source": [
    "\"\"\"берем медиану расстояния\"\"\"\n",
    "distance_with_key_work = sub_results_regres_work.groupby(\n",
    "    ['customer_id', 'address_lat', 'address_lon'])['work_dist'].median().reset_index()\n",
    "distance_with_key_home = sub_results_regres_home.groupby(\n",
    "    ['customer_id', 'address_lat', 'address_lon'])['home_dist'].median().reset_index()\n",
    "len(distance_with_key_work), len(distance_with_key_home)"
   ]
  },
  {
   "cell_type": "code",
   "execution_count": 63,
   "metadata": {
    "collapsed": true
   },
   "outputs": [],
   "source": [
    "\"\"\"создаем ключ latlon\"\"\"\n",
    "distance_with_key_work['gps'] = (distance_with_key_work['address_lat'].astype(str) + ', ' \n",
    "                                 + distance_with_key_work['address_lon'].astype(str))\n",
    "distance_with_key_home['gps'] = (distance_with_key_home['address_lat'].astype(str) + ', ' \n",
    "                                 + distance_with_key_home['address_lon'].astype(str))\n",
    "consolidated['gps'] = consolidated['address_lat'].astype(str) + ', ' + consolidated['address_lon'].astype(str)"
   ]
  },
  {
   "cell_type": "code",
   "execution_count": 64,
   "metadata": {
    "collapsed": true
   },
   "outputs": [],
   "source": [
    "\"\"\"добавляем дистанцию\"\"\"\n",
    "consolidated = pd.merge(consolidated, distance_with_key_work[['customer_id', 'gps', 'work_dist']], \n",
    "                             on=['customer_id', 'gps'], how='left')\n",
    "consolidated = pd.merge(consolidated, distance_with_key_home[['customer_id', 'gps', 'home_dist']], \n",
    "                             on=['customer_id', 'gps'], how='left')\n",
    "#consolidated.drop('y_pred', axis=1, inplace=True)\n",
    "\"\"\"NaN можно выкинуть\"\"\"\n",
    "consolidated.dropna(inplace=True)"
   ]
  },
  {
   "cell_type": "code",
   "execution_count": null,
   "metadata": {
    "collapsed": true
   },
   "outputs": [],
   "source": []
  },
  {
   "cell_type": "code",
   "execution_count": 64,
   "metadata": {
    "collapsed": true
   },
   "outputs": [],
   "source": [
    "\"\"\"выгружаем реальные координаты домов/работы\"\"\"\n",
    "train_real_address = pd.read_excel(r'...\\2018_03_13_train_real_address.xlsx')"
   ]
  },
  {
   "cell_type": "code",
   "execution_count": 119,
   "metadata": {
    "collapsed": true
   },
   "outputs": [],
   "source": [
    "\"\"\"offline подход (быстрый): https://github.com/thampiman/reverse-geocoder \"\"\"\n",
    "import reverse_geocoder as rg\n",
    "\n",
    "latlon_subset = consolidated[['address_lat', 'address_lon']]\n",
    "latlon_tuple = [tuple(x) for x in latlon_subset.values]\n",
    "reverse_geo = rg.search(latlon_tuple)\n",
    "reverse_geo_df = pd.DataFrame(reverse_geo)\n",
    "\n",
    "consolidated['country'] = reverse_geo_df['cc'].values\n",
    "consolidated['region'] = reverse_geo_df['admin1'].values\n",
    "consolidated['place'] = reverse_geo_df['name'].values                            \n",
    "\n",
    "latlon_subset = train_real_address[train_real_address['work_add_lat'].isnull()==0][['work_add_lat', 'work_add_lon']]\n",
    "latlon_tuple = [tuple(x) for x in latlon_subset.values]\n",
    "reverse_geo = rg.search(latlon_tuple)\n",
    "reverse_geo_df = pd.DataFrame(reverse_geo)\n",
    "\n",
    "train_real_address.loc[train_real_address[train_real_address['work_add_lat'].isnull()==0].index,\n",
    "                       'w_country'] = reverse_geo_df['cc'].values\n",
    "train_real_address.loc[train_real_address[train_real_address['work_add_lat'].isnull()==0].index,\n",
    "                       'w_region'] = reverse_geo_df['admin1'].values\n",
    "train_real_address.loc[train_real_address[train_real_address['work_add_lat'].isnull()==0].index,\n",
    "                       'w_place'] = reverse_geo_df['name'].values\n",
    "\n",
    "latlon_subset = train_real_address[['home_add_lat', 'home_add_lon']]\n",
    "latlon_tuple = [tuple(x) for x in latlon_subset.values]\n",
    "reverse_geo = rg.search(latlon_tuple)\n",
    "reverse_geo_df = pd.DataFrame(reverse_geo)\n",
    "\n",
    "train_real_address['h_country'] = reverse_geo_df['cc'].values\n",
    "train_real_address['h_region'] = reverse_geo_df['admin1'].values\n",
    "train_real_address['h_place'] = reverse_geo_df['name'].values  "
   ]
  },
  {
   "cell_type": "code",
   "execution_count": null,
   "metadata": {
    "collapsed": true
   },
   "outputs": [],
   "source": []
  },
  {
   "cell_type": "code",
   "execution_count": 74,
   "metadata": {
    "collapsed": false
   },
   "outputs": [
    {
     "data": {
      "text/plain": [
       "5402"
      ]
     },
     "execution_count": 74,
     "metadata": {},
     "output_type": "execute_result"
    }
   ],
   "source": [
    "(submission['_WORK_LAT_'].between(submission['_HOME_LAT_'] - RADIUS, \n",
    "                                      submission['_HOME_LAT_'] + RADIUS, inclusive=True) &\n",
    " (submission['_WORK_LON_'].between(submission['_HOME_LON_'] - RADIUS, \n",
    "                                      submission['_HOME_LON_'] + RADIUS, inclusive=True))).astype(int).sum()"
   ]
  },
  {
   "cell_type": "code",
   "execution_count": 120,
   "metadata": {
    "collapsed": true
   },
   "outputs": [],
   "source": [
    "sub35['in'] = (sub35['_WORK_LAT_'].between(sub35['_HOME_LAT_'] - RADIUS, \n",
    "                                      sub35['_HOME_LAT_'] + RADIUS, inclusive=True) &\n",
    " (sub35['_WORK_LON_'].between(sub35['_HOME_LON_'] - RADIUS, \n",
    "                                      sub35['_HOME_LON_'] + RADIUS, inclusive=True))).astype(int)"
   ]
  },
  {
   "cell_type": "code",
   "execution_count": 123,
   "metadata": {
    "collapsed": true
   },
   "outputs": [],
   "source": [
    "sub35 = pd.merge(sub35, pd.DataFrame(consolidated.groupby('customer_id')['h1'].count()).reset_index(), \n",
    "                 left_on='_ID_', right_on='customer_id', how='left')"
   ]
  },
  {
   "cell_type": "code",
   "execution_count": 127,
   "metadata": {
    "collapsed": false
   },
   "outputs": [
    {
     "data": {
      "text/plain": [
       "<matplotlib.axes._subplots.AxesSubplot at 0x18b05769f60>"
      ]
     },
     "execution_count": 127,
     "metadata": {},
     "output_type": "execute_result"
    },
    {
     "data": {
      "image/png": "[encoded data removed]",
      "text/plain": [
       "<matplotlib.figure.Figure at 0x18b062854e0>"
      ]
     },
     "metadata": {},
     "output_type": "display_data"
    }
   ],
   "source": [
    "sub35.plot.scatter(y='in', x='h1')ж"
   ]
  },
  {
   "cell_type": "code",
   "execution_count": null,
   "metadata": {
    "collapsed": true
   },
   "outputs": [],
   "source": []
  },
  {
   "cell_type": "code",
   "execution_count": 56,
   "metadata": {
    "collapsed": true
   },
   "outputs": [],
   "source": [
    "sub38 = pd.read_csv(r'...\\sub38.csv')\n",
    "sub40 = pd.read_csv(r'...\\sub40.csv')"
   ]
  },
  {
   "cell_type": "code",
   "execution_count": 76,
   "metadata": {
    "collapsed": false
   },
   "outputs": [
    {
     "data": {
      "text/plain": [
       "0.54956486946083827"
      ]
     },
     "execution_count": 76,
     "metadata": {},
     "output_type": "execute_result"
    }
   ],
   "source": [
    "\"\"\"доля пересечения работа / дом в сабе\"\"\"\n",
    "(sub38['_WORK_LAT_'].between(sub38['_HOME_LAT_'] - RADIUS, \n",
    "                                      sub38['_HOME_LAT_'] + RADIUS, inclusive=True) &\n",
    " (sub38['_WORK_LON_'].between(sub38['_HOME_LON_'] - RADIUS, \n",
    "                                      sub38['_HOME_LON_'] + RADIUS, inclusive=True))).astype(int).sum() / 9997"
   ]
  },
  {
   "cell_type": "code",
   "execution_count": 77,
   "metadata": {
    "collapsed": false
   },
   "outputs": [
    {
     "data": {
      "text/plain": [
       "0.20395502132609539"
      ]
     },
     "execution_count": 77,
     "metadata": {},
     "output_type": "execute_result"
    }
   ],
   "source": [
    "\"\"\"доля пересечения работа / дом в трейне\"\"\"\n",
    "(train_real_address[\n",
    "    train_real_address.work_add_lat.isnull()==0]['work_add_lat'].between(\n",
    "    train_real_address[train_real_address.work_add_lat.isnull()==0]['home_add_lat'] - RADIUS,\n",
    "    train_real_address[train_real_address.work_add_lat.isnull()==0]['home_add_lat'] + RADIUS, inclusive=True) & (\n",
    "    train_real_address[train_real_address.work_add_lat.isnull()==0]['work_add_lon'].between(\n",
    "        train_real_address[train_real_address.work_add_lat.isnull()==0]['work_add_lon'] - RADIUS, \n",
    "        train_real_address[train_real_address.work_add_lat.isnull()==0]['home_add_lon'] + RADIUS, \n",
    "        inclusive=True))).astype(int).sum() / len(train_real_address[train_real_address.work_add_lat.isnull()==0])"
   ]
  },
  {
   "cell_type": "code",
   "execution_count": null,
   "metadata": {
    "collapsed": true
   },
   "outputs": [],
   "source": []
  },
  {
   "cell_type": "code",
   "execution_count": 123,
   "metadata": {
    "collapsed": true
   },
   "outputs": [],
   "source": [
    "latlon_subset = sub35[['_WORK_LAT_', '_WORK_LON_']]\n",
    "latlon_tuple = [tuple(x) for x in latlon_subset.values]\n",
    "reverse_geo = rg.search(latlon_tuple)\n",
    "reverse_geo_df = pd.DataFrame(reverse_geo)\n",
    "\n",
    "sub35['w_country'] = reverse_geo_df['cc'].values\n",
    "sub35['w_region'] = reverse_geo_df['admin1'].values\n",
    "sub35['w_place'] = reverse_geo_df['name'].values                              \n",
    "\n",
    "latlon_subset = sub35[['_HOME_LAT_', '_HOME_LON_']]\n",
    "latlon_tuple = [tuple(x) for x in latlon_subset.values]\n",
    "reverse_geo = rg.search(latlon_tuple)\n",
    "reverse_geo_df = pd.DataFrame(reverse_geo)\n",
    "\n",
    "sub35['h_country'] = reverse_geo_df['cc'].values\n",
    "sub35['h_region'] = reverse_geo_df['admin1'].values\n",
    "sub35['h_place'] = reverse_geo_df['name'].values"
   ]
  },
  {
   "cell_type": "code",
   "execution_count": null,
   "metadata": {
    "collapsed": true
   },
   "outputs": [],
   "source": []
  },
  {
   "cell_type": "code",
   "execution_count": 133,
   "metadata": {
    "collapsed": false
   },
   "outputs": [
    {
     "data": {
      "text/plain": [
       "0.22866894197952217"
      ]
     },
     "execution_count": 133,
     "metadata": {},
     "output_type": "execute_result"
    }
   ],
   "source": [
    "((sub35[sub35.w_place == \"Zamoskvorech'ye\"]['w_place'] == sub35[sub35.w_place == \"Zamoskvorech'ye\"]['h_place']).sum() / \n",
    "(sub35[sub35.w_place == \"Zamoskvorech'ye\"]['w_place'] == sub35[sub35.w_place == \"Zamoskvorech'ye\"]['h_place']).count())"
   ]
  },
  {
   "cell_type": "code",
   "execution_count": 134,
   "metadata": {
    "collapsed": false
   },
   "outputs": [
    {
     "data": {
      "text/plain": [
       "0.032967032967032968"
      ]
     },
     "execution_count": 134,
     "metadata": {},
     "output_type": "execute_result"
    }
   ],
   "source": [
    "((train_real_address[train_real_address.w_place == \"Zamoskvorech'ye\"]['w_place'] == \n",
    "  train_real_address[train_real_address.w_place == \"Zamoskvorech'ye\"]['h_place']).sum() / \n",
    "(train_real_address[train_real_address.w_place == \"Zamoskvorech'ye\"]['w_place'] == \n",
    " train_real_address[train_real_address.w_place == \"Zamoskvorech'ye\"]['h_place']).count())"
   ]
  },
  {
   "cell_type": "code",
   "execution_count": null,
   "metadata": {
    "collapsed": true
   },
   "outputs": [],
   "source": []
  },
  {
   "cell_type": "code",
   "execution_count": 63,
   "metadata": {
    "collapsed": false
   },
   "outputs": [
    {
     "data": {
      "text/plain": [
       "customer_id\n",
       "510af4ee2f937ea642d74fa506825090    113\n",
       "2477378894819f88ffa5dc10146b902c    113\n",
       "a43cdce7e3463eb8719607ff9f7571bd    113\n",
       "f4fb8c79f10318566202bc9558964abf    113\n",
       "530f596aa79efde2885f1d3abcea8292    113\n",
       "a39b720b7a4795edc01fd6f052e2ccf3    113\n",
       "d0c494ec5edbd9833aeb1bc39e4ce413    113\n",
       "89555985aab3bbd4462ab36d6b9cd6b2    113\n",
       "ac58df29f0759f9196f54941907cb3e5    113\n",
       "07b1d7b7d7f8b488aa95ec991f5badcd    113\n",
       "07ae8911763c78f68dc0da6cfa742b22    113\n",
       "e75532906c913e3e0c82c6df06021045    113\n",
       "a8e64ad69991a2bfc5f3c28e17dbbabd    113\n",
       "9b61281e4cad5ab476733884a138d452    113\n",
       "e6a315859a11a6108bcd695d03717861    113\n",
       "3ce2cc35988aed3d2aff0d6459f6b033    113\n",
       "b52ed9058580811d6d86909a09f68791    113\n",
       "0fd1cbb537c03feb8ff11bdff0b8e28b    113\n",
       "374e336c7dbea7be2d0b6bd4b0b92707    113\n",
       "63b70f6c527c0e184301829a23e01ff0    113\n",
       "Name: w0, dtype: int64"
      ]
     },
     "execution_count": 63,
     "metadata": {},
     "output_type": "execute_result"
    }
   ],
   "source": [
    "consolidated.groupby('customer_id')['w0'].count().sort_values(ascending=False)[2800:2820]"
   ]
  },
  {
   "cell_type": "code",
   "execution_count": 85,
   "metadata": {
    "collapsed": false
   },
   "outputs": [
    {
     "data": {
      "text/plain": [
       "{'5bff2736109861f59b8c9e00031534b0',\n",
       " '9cb829d0bd22c31ec4828fe9215bf73b',\n",
       " '91cccea3b88c87dcbeb45ee152f681d7',\n",
       " '5361e90f3618c968cd7165c437e6be9d',\n",
       " 'da4e0c1cf46cc61d60cc70e6b2734649',\n",
       " 'ff652e6110b6e6ce92b46c6c9a3fa28b',\n",
       " '919c9785e93057844d50c9c55c4e29db',\n",
       " 'a0d39c5651b635ba25505adc97c2aed2',\n",
       " '3a17ea367d8409cab6214cd21232bc2a',\n",
       " '0deaeea2319a24e64bbe3a99c901f13d',\n",
       " 'f00f7bb9d5bdc43feb6246eed3277709',\n",
       " '942c395613ebad87e5d48a892a4a1483',\n",
       " '0383ed5988dae368decc851ebee83ac2',\n",
       " 'cb0513055e0e35ef303cdf29cbaca586',\n",
       " '680e0ac03dc7a8fd48c5b7bdb9b453e6',\n",
       " '75de993c30b80f42a7cf5f9f4edf4dc8',\n",
       " '07256d1385556ff54ce256e7bf3a49fb',\n",
       " '4690725e826044d55766f3de44f16f11',\n",
       " '8e4a0c8129601e4ea62083c8827bbbc2',\n",
       " '719bb6fc541af641d5a9f1555b346938',\n",
       " '89a369b87006319eb13add7a11d77211',\n",
       " '639b0b984c5e5846c9b67390a7c2fdb4',\n",
       " 'cd78ce2a86e8ee1fb7d9f20ffe3f3289',\n",
       " '66f43adeadb4cd5f3cec8129bbf58b25',\n",
       " '374e58e034cac4356594728f0b43fef5',\n",
       " '924fa79b5e67ceecea21e6ce996b362f',\n",
       " '9004a3f3af00fba7106c4805c1b54781',\n",
       " 'cdedd02e6b63eebd02e72d9a987c2cd9',\n",
       " 'ccf3c68c7a4d1d89cf6f7a0005a3295c',\n",
       " 'dea4f20ab8aeef0fbdbca4387898a33e',\n",
       " '75a87cdd5681b6f2ffa4c44c3e85f88f',\n",
       " 'dff74c3c250df6ec7dfd9dc52c789c60',\n",
       " '0828e99f7096c74cc4badba4071bcc20',\n",
       " 'a041b1aa26e79e99485e0b5876556cd5',\n",
       " '4183b651ba4c00486da5db3594978728',\n",
       " '1972ca61dbc0dc8fba1c334ca67a285b',\n",
       " 'f185b8552c0b56c953c67c6184909b91',\n",
       " 'c25a0e3dc4540b46c20038c6405b73e1',\n",
       " '850ce7b1db08281b9ba8005e15bc5dbd',\n",
       " '6807ee3d4edc30102b23a67e41b7a11f',\n",
       " '8a6d58cbd608084686e66f58876b7397',\n",
       " 'd777b60bb895dfa09106f04503613c4e',\n",
       " '0ead5ed1de5f972ba5924c51fe444992',\n",
       " '492291de8e968c2a6b4ffe057fe2513d',\n",
       " '8979b60329cfcf2981fcb8f70d56db47',\n",
       " '2c94d7be2c49e4537b8488187cbca783',\n",
       " '8172b38f6b086e3881888dec78c510a6',\n",
       " '312827a73b6c3d7ab06e3a8627104c50',\n",
       " '174ba3a685fad97265b687f8a2d11271',\n",
       " '3e1bb9a57aa0a65acb23dc69aa885e45',\n",
       " 'ebf64fbd271d33de7867b092569d59c8',\n",
       " '15544687b6e54843c0634e3449b4a5cc',\n",
       " '875c7f41d0f27302bb5572076fbef1aa',\n",
       " '22169dd3f7fd9dd2905c00bd90c4fa30',\n",
       " 'f2498023a29095f19daa5d38647c55d6',\n",
       " '029f2a86b9ac7641f3d7ecbaa79bf27a',\n",
       " 'ea49e520e28c863d35d1af8b9659a9be',\n",
       " 'abc2c4f548517894dd41c77ca1918b14',\n",
       " '75282714c116bf065618e6c68fb7a85b',\n",
       " '4d94c6f3e96515b32dbb55787ae733c4',\n",
       " 'b3d01d144d0730d8f3681e3431967a36',\n",
       " '2314d0df0321981b25e31f75b539b320',\n",
       " '7857c21c0c7e1a2f4224e4040714f700',\n",
       " '651d41681447bce0bc77befe3dc3e47d',\n",
       " 'af5b1e936bff89e38f50c4b655344938',\n",
       " '28b2e887a39839a104ee17e2c444093b',\n",
       " '78aefbf174fb1eebc6584e42f4477905',\n",
       " '79dfa910092b085ec7361de542008b33',\n",
       " '1618acbb857169cea0f4c8bd77622413',\n",
       " '5c0033ba0a188f4feef8e983e4b6437f',\n",
       " '84097e817d7e4bf26dcf569b15aa822c',\n",
       " '81d57c5bff7d051d5e1831e9ac4098a2',\n",
       " '769ac9e60652753aed6c0ffe1086e5ea',\n",
       " 'fd2badeb169efc00a83da09dc0444a99',\n",
       " 'a45be28182a5df37ccc40d4f105c8ea2',\n",
       " '345cd54701bc7a2945e3140452d68bb4',\n",
       " '79b0a81af94ad3d20b7463af08a62116',\n",
       " '4ac44464a879a789324535adc63cd5a3',\n",
       " '9caf3d70a47fd8c6cd92f3239d6c1bf9',\n",
       " '9f7eb1d93a31365ab79ff9d0fd262544',\n",
       " 'bb0d1e203e05ac4080dd0af0973e545e',\n",
       " '55ad7157870ce70480a25793f51e1b60',\n",
       " 'a0b54e5756b9049ce2156f3fa298e683',\n",
       " '36da04600bc43ed0aa40cdcd244e44f8',\n",
       " '2fdea9751c9fcf86edb3a593cb30222f',\n",
       " '3cd5ad2bb4543df6b0534c06e105d734',\n",
       " 'd449f82545893765215423a74e6b1442',\n",
       " '9efc8313d788d26ee9f637d4eb6e4078',\n",
       " '042e008a7a9496e5e09d13c459266757',\n",
       " '169625e1bdea6ef896ab87f76b689895',\n",
       " '3ef9795f9cfc9728e50cbb1cfbe0f6cf',\n",
       " '2db02856af8e93f15fb599462ff05133',\n",
       " '05bb2395c7b2c2eb26e689c4478ffc8c',\n",
       " 'eec8cf7d7e68bb3289aee23c19527f85',\n",
       " '4059e54168cd14d5c27e87fa0a6340a9',\n",
       " '8da0a697102ea919463ce6994aa8f2f5',\n",
       " '10a701be95c8afb700c1abbd6d38a225',\n",
       " '459aafb8021a15530646920359a06e53',\n",
       " '28c2c37d164623acdae43c956b2c95d6',\n",
       " 'a4a401cd2841a106e7bb06348be76a15',\n",
       " '20869aed601b56f5087c5826f3fed199',\n",
       " 'da4b6e74099c920a48cbd9d7b53692d0',\n",
       " '21b07d8031c44a7ac61fc78b2d515361',\n",
       " '42df0012a8df848aed939c7760b8a814',\n",
       " 'e6d22ffff1d59b42937c85b62631b8a3',\n",
       " 'd0f31f8ff90340279d874dcc70c64fd5',\n",
       " '312adf3023a92add03ec790c4b0bb914',\n",
       " '11245ef57d440abe59688b04e21f07f0',\n",
       " '5529d4b13338c6c1db98c1fab1c2b1f1',\n",
       " '599ab6a775459e3d6257540f2419e778',\n",
       " '2386c11cdfb05675e5815cdacc4cf19a',\n",
       " '205e7af4cb8f6b15c5fb86a0ee588f4b',\n",
       " '04d91e64995ec9f912f68a91e13c11bf',\n",
       " 'bd850aae9be8ac3fdff4e79a3e1cafca',\n",
       " '729685ce30b6859ed2a5ade79866ead9',\n",
       " '8e07a7ec7232cceb551ac02b49ff030f',\n",
       " '2152152b672ffd30d07d93a830652c99',\n",
       " 'b15fd1b48d619416c32df25628d02c96',\n",
       " 'ca6b3e1cbecd2d93547df8283463cddc',\n",
       " '670484482b9b7ab2ef62777c7a10028b',\n",
       " 'f8f438a1327145ae115ca992addf3fb3',\n",
       " '7de3eb4148b5f9c5f5a5e259162c95eb',\n",
       " '7782967b6ced3c9d493349f23b9f13af',\n",
       " '15eb50a050ea66296514d04e06d83dcd',\n",
       " 'a7b5ba5460c2fa02e9d182eaeb93bef3',\n",
       " '7e316ef538526cebbb8926b43a49b37d',\n",
       " 'c8cdba34494ba60824e5b3b4e840b67f',\n",
       " '1d2f53554bf455c6ccb2e0dc26b475f8',\n",
       " 'e8e391d6e26bf279e3e307d857617e0c',\n",
       " '881dc77f6fc5a4bf50755243e0043f5c',\n",
       " 'a5ad194e8ff3c01e71462c9ee9e59251',\n",
       " 'b5d513c8cdd993ba84d36298110a1a20',\n",
       " 'e410873409880272091bc7bd8eab554d',\n",
       " 'a3feac9ddeab6a100b5abbcaeb7f9a94',\n",
       " '31c608202c6512489c662b2a5d8ce36d',\n",
       " 'fd92e94faf3c807153ba009ac0048b80',\n",
       " '4cba231aecb3384c505e2262764b393e',\n",
       " 'bc4acd8a1a8f2ebcf47e5e29c13da3f5',\n",
       " '398dd876dbdc8357dffe51744e8119fe',\n",
       " '8969fd4323d958abc867e922b0136249',\n",
       " '268b1bb2e9207da83a38f990670d864a',\n",
       " 'a8fb00f9a31036bdd6a7891bada03ffa',\n",
       " '6fa0aa5f367a85264964542d442cfbe4',\n",
       " '3f1b257724145a7ae6b7d4c68549cb60',\n",
       " '03e3ec86e242646d8cee3104b0c8d70c',\n",
       " 'e27f8ed516928e7f86ed9a7c1a3edd9f',\n",
       " '56772c0a3ccc08ec38ff81ccdcdcae64',\n",
       " '1e06b2b92d1f4f3912dba92ba7a7bc76',\n",
       " '946d4999e090d7389a4d8e9883af72be',\n",
       " '1d10c73f500ed4c9c3aede95d0ed3da0',\n",
       " 'f19a7246fe37eda59a1e4db8da9a2c69',\n",
       " 'edc70e514a26dc6ab897f6a2bf0212e8',\n",
       " '99d076c97307369f44c8364b8a896fc7',\n",
       " '35632fb95d69834dc0484a37199116e2',\n",
       " '9e08f02c703fe55967346157e42dddb0',\n",
       " '14eaa263cc314f6bf337c79ba01083e1',\n",
       " 'b6a6bd745ca393d192a874586efda77f',\n",
       " 'cb3851f3003af4150c2ea66d4422cbcd',\n",
       " '08ebcdc4d3cfce099db487b4faa48efc',\n",
       " '17bf2238e00af1a2a8e4d76bee8a7a7e',\n",
       " 'd88e99e8e1a6b4fd583d79d5ebed6596',\n",
       " 'da48a3bffa50fd66d44fc313722beaf3',\n",
       " 'c12fe193dbcfc16fb3ce3499a13d1bc9',\n",
       " '01cab20cbdd54e05cd41eb501dd0f6dc',\n",
       " 'b3ecfc57df148ebcd948abcafe3393d1',\n",
       " '77e3fba1c6aae5b3a7a6e85c3720fb79',\n",
       " '7a2f1a71ef3b26f8994cbdec6937990b',\n",
       " 'cc7f9d8e609f190585309e2713f7ea1c',\n",
       " '9493285ac0b44a6dac82aa497b975562',\n",
       " '848747aad5eefa76cbb263ed79726317',\n",
       " '57ecd154601d1ac12dff9087f519a98b',\n",
       " '2ad28199ff39cf5c8306175237da8472',\n",
       " '7e9fd9f5bd46309cbc109b0e120f0b42',\n",
       " '138fe9db3baf0f093798125230d099c8',\n",
       " '4879551a16a02b5eb3455b177801a9d2',\n",
       " '52175eabb2f834280527bf4e0dfaea42',\n",
       " '2ff662f4e07e384fe3a3be803aab22f4',\n",
       " 'd20234fd9065dc5901cbe8048caccc69',\n",
       " '4ff251cb91cd602e51c0dacaaf6a91e8',\n",
       " '6500ded26f0a496545e0049e997d5aa1',\n",
       " 'f8eaa1de1dadad08377586d7dc00f88c',\n",
       " '4c4b2e7496158b3231fd08337ac98eb2',\n",
       " '6563449f1fa81ad385d709d77f91a5b8',\n",
       " '92eb0d158b32a23b92c5275f542d8f22',\n",
       " '1399d4573f9ddc1b4a68d8e329518dd1',\n",
       " '20aa08b94471a0759cbaac8f21e9b7b4',\n",
       " '7d9be90e936f9ec182438ec68165dc9f',\n",
       " '3f86550d4b0b489dcef4155907f4ce41',\n",
       " '4476b48fcc34e5348fd036d44c1688dd',\n",
       " '3f63988e58a0bd86e6aa9dff6bcaf3c1',\n",
       " 'f1cf3d05d6d3e206c3d0ec2eddc83447',\n",
       " 'acaa7816030723845450c20e15cb746e',\n",
       " '0bf1927d8e8c28f45eee24cda086e2e0',\n",
       " '23e24d28850c9ff2013a092d40be063b',\n",
       " '13bb55c46a2f5a2912eba0ba6679f26f',\n",
       " 'ee3e57ecd22797547bb5dc23fd687ed0',\n",
       " 'a182977c3e34128d563d2becfc0769ce',\n",
       " '2d6360e6bc3c5f6c88d3a2a8d1851a18',\n",
       " '59ae0d7a166fd7ce488c34950bbaf15d',\n",
       " 'bd95a546eb913bfa494e9a9414d75f2e',\n",
       " '87987662f870d5e9881e930cde28bab3',\n",
       " '118ecd10806b1367c2d11153ba2355c3',\n",
       " '3e767d2ae2f3b2d83d5a4f74c4940252',\n",
       " '785ea81747271e7d6cd7102875f7869d',\n",
       " 'aff1bbe2301bead4a29dc5b377264b42',\n",
       " '02fe9a8ba58e9ad59e38383f7558670d',\n",
       " '0f213a2466b081a28c67ecc15026a7ae',\n",
       " '3313c39d3484fd4ad2d415e7c17163c5',\n",
       " '163946b8edb367a447c963bcbba64809',\n",
       " '059fdd8a752b78bd4ea41d294991d768',\n",
       " '9cb62a384e72bc8f3655f5d1de649e4b',\n",
       " '3b329b121ad2c06bfbaf64fc70cf67da',\n",
       " '80478da1723e2f9b95f5fe7664497c84',\n",
       " '74c87c30551ac12ff3ea4363f2d15524',\n",
       " '7e8fc654675538d65207d56f44ef9fe4',\n",
       " '100bbd01b86214fb268157571995a791',\n",
       " '15f96285edff7f7d4e1dc6ca83ec1416',\n",
       " 'bffa28c1028addfefe394c60161b3f25',\n",
       " 'a46983ad0b467613df15f2e84ded1d09',\n",
       " '5f79b347d7be0d648688b1b5d7a31960',\n",
       " '452d7a723cd07c0f1611af6164ce8741',\n",
       " '95d582d120e8746a185c533471c2bb84',\n",
       " '7f76212974d1bbe43a9059bfd161327c',\n",
       " '88c29be6ac1d0a7d6f720a5fad099fae',\n",
       " '5d5230f77e3dfc89ef99a05975dcac62',\n",
       " 'ea232a3693674e6de919231d5514a3e1',\n",
       " '8ab6eab325c29e5ad7eaa7b5ca465dbb',\n",
       " '0d05a20a88a11e8d4ab1f139992c0992',\n",
       " '99bf383a005c13e9654f80c95a5348f2',\n",
       " '3b73a0aa33e81ce3200c9569291a7f6a',\n",
       " 'afee22893f2e488de841ff78c060800f',\n",
       " '91a49ec8688db72bb9a5e929a9e2b845',\n",
       " '385530083d5f5573c9bfc7f2ea701798',\n",
       " '4bf79d999bf63286e6d09ed5360e0e56',\n",
       " '06e0e0d98deaf7ae3f83fc12d8053c63',\n",
       " '99a07dae10ca3aaa3ca00311ac67e47d',\n",
       " '84b8e80fa4678958be849071671da357',\n",
       " 'ec69b9f23285be5b6aba14d2c485834c',\n",
       " '88f1d84c2549768a2f065811491d525a',\n",
       " 'e2069afdadeb103d1d9cea91cf7b8a1c',\n",
       " '8461310d5e484e97a67af20aa06cfa72',\n",
       " '0175c595d9114b2b1baa41465c8aad9c',\n",
       " '201fc08a2ee0d32bc2b9b5c93772de09',\n",
       " '36a2add470b8e342cdff46f8cd37d328',\n",
       " '38b473547495bc1e7965aebb643c1da7',\n",
       " 'f6a46d85f1e3e07f04669f2c2661f334',\n",
       " '9c911a4f2837668ce0b7847cbaa366fb',\n",
       " 'ba3a219941e062dac3a591145bb8ea8d',\n",
       " '9315915c9db73945319ea410fb5eba17',\n",
       " '7704d8a3c6718e41f435caff28f524b8',\n",
       " '152dce44add94e4690b5e8e2cd6d7363',\n",
       " '395cc12928fcacfdd0787dfe7878685a',\n",
       " 'd187c78d03cc925b9e4b7d9f4eba24d0',\n",
       " '970e0c4930a1c5f16a122b803659cfdd',\n",
       " 'f3a132f45b93f15330ff5318386ed283',\n",
       " 'cea080e16ce1ee90915ea3f78ef8629c',\n",
       " 'f6dffdabdd723980dfc4377366ebcee6',\n",
       " '6e77f60d26986ff27037581f85ac0f30',\n",
       " '8d9ddb4e2805ef4e56df23d98702f607',\n",
       " '7673d4eae79f8d37bdb2adbb7e5603ac',\n",
       " '337a42883a9cd8c10b618067ca739e56',\n",
       " '9a45e580e2bc94367bffa65b408c7fbd',\n",
       " '8167c3bd95c4108a211c48fe7bbfad2a',\n",
       " 'a67229ab379071aeed1d3dd41c154ba2',\n",
       " '72c6e6f752797edc0ca3dd566bb6c770',\n",
       " '15fad088ecd8dcc606e3e5a29b84ce7e',\n",
       " '12917a1dc1525c525df058676ce419c3',\n",
       " '02e887a27ad9857f9f9eac01375b0743',\n",
       " '82c1f8888b81ac3a8d904741e35a7232',\n",
       " 'f13b6fdbe167e8b0f46c27b8c3d84cba',\n",
       " 'eedffcb37d6cf560acc7a49b279f8a2f',\n",
       " '224a77801f187d4fafbc48734667ee65',\n",
       " '39b6acd9dc56febd03f3771c19be7241',\n",
       " '8635f60f0c283ca06e15af82b92936ab',\n",
       " '2c81d4a590d0badfcf262d9f88ab762b',\n",
       " '589eaf1a41554e6a20cc85d8b51c408e',\n",
       " '56aa52dc2af22a65629afe1b48c97052',\n",
       " '56b70d25215b30e12a9e2621549ac18f',\n",
       " 'b27d6397f889d546a6bc340838c82c74',\n",
       " '1f221b936203fe5aa349a04b16a5cfe4',\n",
       " 'f2d3f46efaa355db9a2c5583816732b0',\n",
       " '16ad939cd08ad60b781a749417dcec97',\n",
       " '2591d7f4131425ec30555989914958fe',\n",
       " '65041284d147320a189008b843eb2454',\n",
       " '8912ce74ba51a30196dd92eaf8bddcb0',\n",
       " '64b3661458b42241979213bdbdd9bb22',\n",
       " 'b65952902d1e430f1c930638cfd719bf',\n",
       " '5564dbc15de17dee203be391e3288178',\n",
       " '6a228483dc981905220823f2f48d4d70',\n",
       " '70f96b6e7408c1bf7b5d13a3d870d7de',\n",
       " '81f5a515a7e21586e771ae680cd7ce04',\n",
       " '0fb4e66b0030fefd97904a214949ef47',\n",
       " '789979c6d962c6ac8f4d3e41fa2ace60',\n",
       " '483d54624ef9638adc8cb6fcf217b8eb',\n",
       " '3b328796ec2c7ad7e4577cbe9238eb23',\n",
       " '9d87e034c8595c345c4f53e1c2d5b63e',\n",
       " '3234b151388803d9539f25d2755bb19b',\n",
       " '3402305843baa235b5633180db48dc4e',\n",
       " '3acf991acd7e218bb0019bfbf52f5120',\n",
       " '924b9fd295e7f3e0aab8856a00bc931c',\n",
       " 'ef15a42967d974769d7a866825b6a377',\n",
       " '8b8d437f176803f299dba77af969c460',\n",
       " '6c067715e481603989890a659f7e254a',\n",
       " '735625f54a54ef4c35910e2063151b89',\n",
       " 'd47518d7fb1de3696bc6de88487f4b56',\n",
       " '3d917f4968e500719d018352a026cc3c',\n",
       " '263c6b79128a9092c7b00e221814b5f3',\n",
       " '2f0c529b433a64041f8fd93c98b03f0a',\n",
       " '2b1839bf57287175a5660f494f0917b5',\n",
       " '0d23ae3b0757af7c133314256fd7fac1',\n",
       " '24e4aed1b580cee7c730e6a9c1aa1a12',\n",
       " '16207b6fc39380eef0a412400cd3dc87',\n",
       " 'bcb912e4bf31d841e8d2ea96e1bb1a53',\n",
       " '794ecb8a5a4a1d565023935762496712',\n",
       " '6871a1e751ba10012cb69e20c46adfa7',\n",
       " '50e45d1eeb5b738eb282932e6d0aacda',\n",
       " 'ac618672564d6cbcc755850c07b10e43',\n",
       " '50a70e553b78a33744ebafbc21214971',\n",
       " 'fdd681511ef3d6f2f5e269ea93c24d15',\n",
       " 'cd6f684a59da3c7d5607418733768273',\n",
       " '0ef05ab29e8e4b79caaa580a63bcc2d7',\n",
       " '77c58c89251a6081a3def39d22e9ee18',\n",
       " '564efbe82f73de6a6fc6d5c582afdd7f',\n",
       " '48af212388932d66e9e95812c261151f',\n",
       " '13ccbdac4db6600f020d5606c86d2924',\n",
       " 'bcaba84f8c9fb5638565a53030ccea77',\n",
       " '878d217d16af14694d90318bedcc1797',\n",
       " 'ad959aef4a0151c91bc88ec49189dd3c',\n",
       " '9bd2a56bf8e3bbf4d2c7d134de39e9a9',\n",
       " '7c69c3be4de49cb09ad148f470af47d5',\n",
       " '0697c963149ca17015f7dabbd4d4ba89',\n",
       " 'f3ebe035811fbdd5d2b52b00cd2ba53f',\n",
       " '4a6054b98e65aebb6774f2c90829809c',\n",
       " 'a62684ad31ed5575dc8a499e5deaa70e',\n",
       " '621799b3ce96f1646b30c953c6be081f',\n",
       " 'f7b7b448d880bfd439d5676a1a354c31',\n",
       " '607f5497f099d27a0e64a2b3c93831f0',\n",
       " '27b1f1429cbf70e22198f4e9c3ae4f67',\n",
       " '5874999d2a960c55fb21e2bd3fc7f2b7',\n",
       " 'c4e8da9e317d65d6b462647cd0f27456',\n",
       " 'cf5de3cd7a765d11ee933862dc26aaf5',\n",
       " 'fbee25b856525336b688ee6d6f735901',\n",
       " '47276665f4c75e9e73b27cb6e289482a',\n",
       " '4d301346ac7877f066d3f9de120545f1',\n",
       " '7717ef83a204cd1b4ac5ecc3ce54c44c',\n",
       " '7068d8fd3700c01346022b44b03644d3',\n",
       " '8a82e74354864777f64dd49655c0d417',\n",
       " 'd8d9d9ec2cb1b0931d7c5a65de253eed',\n",
       " 'd4037679a9bb94348427b7245950d400',\n",
       " '36736e6191edb6e6831349e5f86c78ee',\n",
       " '59ce18e8f907825e8c332d5bb312309b',\n",
       " '84a16dca23fd11523fc9d9241e88176f',\n",
       " 'a89058aeda0f6399299be828a04b14cd',\n",
       " '8b60a747f08562f0d6372859232a4602',\n",
       " 'af40fe5b40007b38a769c8b65acfd437',\n",
       " '30463ff1b67eb84c77912418a0af2aa5',\n",
       " '8e680b740e77544bf630eb6153c509b5',\n",
       " '745b447acd7c3ac609196824a429bcac',\n",
       " '8797d73c2cfb5eb2cbda90ad3f6a8eeb',\n",
       " '820e1458310538a4b45279743e456d72',\n",
       " '7dfb56b5a74ec422facdb0a4526fc0f5',\n",
       " '3b8f07bff74fe57b2ecd7ba797c8d028',\n",
       " 'b6dff9ade0a1c70cb47d0f4dc5554426',\n",
       " 'dd00216f2a4aae03ec849e39d5ccdf7d',\n",
       " '17542e12ca35114e2f7fd3e695c61220',\n",
       " '172f2bbd3b31c2c1c6a00e284945927d',\n",
       " 'a7fde74bf21c4237395bec28676850aa',\n",
       " '52a96138e955f3dc9f10c3dc7fdeaa29',\n",
       " '4481175c1df1e3d749af402a99779eeb',\n",
       " '133852919fe1bbaf54ded3356c5f797d',\n",
       " 'e264e75778798fd7d6d456c36ae8d6e8',\n",
       " '4256dc9fd560b0f41aab523177ba17cd',\n",
       " 'cd9d5f34cf192608c3c2da55502d69df',\n",
       " '55a26777698140001a4d1f392f94205b',\n",
       " '5c53f77718df67d76f09bee68bd81128',\n",
       " '546ddc0f4f729cb2d29d486bcb47aba0',\n",
       " '1dcf1c29979f4fb3c1b1849700650214',\n",
       " '916c5944ff5d95c58fc3d5afbb77e6cd',\n",
       " 'eadc38d9262662bfb24570703607f880',\n",
       " 'd1e6c704bd475e5be2db4dd056941d86',\n",
       " 'f8fad8ece8f450aac008e85c850a4c9a',\n",
       " 'aadb8805f9b29e06fd951214a5957975',\n",
       " '26fb2afb728076819d3756120bea4db9',\n",
       " 'fe1118e237ff49d679e58f89e5e27788',\n",
       " 'a708a15762c1a831bf2b8f587446b5e5',\n",
       " '05ba17e3f5f4a6a3e6d0a40e0d3b9e71',\n",
       " 'a4ca75034e8d741fe3bea3516864a485',\n",
       " 'f571cd3573768d87a0b00c9b85cfd7b0',\n",
       " '116aff5db8d1d3a3188034697c15ce91',\n",
       " '5afad5e4fbd12f6a170390461acd9bdf',\n",
       " '6b2f55bee8c7cff1326f312189cf17a9',\n",
       " '593d0cf8ae52c2e53bffa8eb1834b3d8',\n",
       " '367bd5cd48735054df9ace83a4f8d5d6',\n",
       " '05d3af3d1acbd112614b940ed7b54263',\n",
       " '2974096af4ef71085ac4c720e0af98c5',\n",
       " 'fa1a9027bd771db147b44dee9d071abe',\n",
       " '7012281eb9c31141674bc5651bf27d2e',\n",
       " '258e1cddc8c127ca1ce54c128921731c',\n",
       " 'fe5ad501ff1c452c6678c6b26c8182b0',\n",
       " '258c4361f111e4ffd663a2d33acb9366',\n",
       " '523f5ef95c93647fbe2a68550c72dfb0',\n",
       " '016870800d4d728ae8369bc77b601b88',\n",
       " '479ca80aa9541517f433d082be8a18c6',\n",
       " '2673f07b4abbfe1927aa44691f28d34e',\n",
       " '8b0ca51eb0ecc6dda113cf96cd8d1587',\n",
       " '271eab6a5c5cc5f850a4e57bcf0d3a88',\n",
       " '4c13d0f24ce89470a44918b79c6a0e34',\n",
       " '65d41d2c2f38fd6d7c244a102a4b3e7b',\n",
       " '8d9cd9009b27346a346f943978789562',\n",
       " '159673c2adc0b2be66aa48e9f80f738a',\n",
       " '3377377de7ba806481f8cb5098fff480',\n",
       " '2f82b39cbc0c3d62f5406d2affbc02d9',\n",
       " '43059b2fe565867a42f378992053576d',\n",
       " 'afd096bcfe85139c7e88bd7f9e46843c',\n",
       " '301f23d9fdb0522135734f1043204310',\n",
       " '02f94655bc6c57197c3903f2bc2eb45d',\n",
       " '23e8be336d24d0e7845d367885390c6d',\n",
       " '4b25bf55465bde0edbf1470069868618',\n",
       " 'b62c524855b2f080ffb1588893622afc',\n",
       " '5ef80c0ad59274ba6f0610397687109b',\n",
       " '1c5f35c011f7c7571de47d9a033a2f3d',\n",
       " '484944357183f56b22aaefde12bdcd37',\n",
       " 'b1bda39eef3f6a211e1bddd566ae0c2f',\n",
       " 'e85410c9b0a6ae79b29e774941c5f375',\n",
       " '6740458fce6881674b870f73da8be109',\n",
       " '59439d37390d0eb9c4dae1b109188640',\n",
       " 'a1803ca5ce0c61d531e041337f3b0ba4',\n",
       " '2c6d3f7eae7288982decd865dc559f6b',\n",
       " '4bc5382d071ff5cafb47351baeb94d83',\n",
       " 'e439928587733b9985aef56096be4223',\n",
       " '7fe9a1d5e1596b9b274480998a8c1686',\n",
       " '0cfb7a0fe3d40b5ea5bec023ad5bdb31',\n",
       " '5042f4bddb7fb7faa0abfea3e041dc1c',\n",
       " 'b5165692b26633ed8f5fdb134d04aa30',\n",
       " '206fb7e21606c95d37a1d3df79d50d61',\n",
       " 'a2a5ebda31e9b16ac436d0e63f5f63bd',\n",
       " '5daf442b0b03c396a37bc21758e1dd82',\n",
       " 'b8b59259970539e23f379aa0be1cf136',\n",
       " '348b23a91d84f553d2739b779342d5e9',\n",
       " 'e6253dc863f4ecb3471d7500c9659984',\n",
       " '1d750c3fd73c6c3dee326054ee463f9e',\n",
       " '18352c0ab981b66270e221a58245b5a2',\n",
       " '0f65a4cb79d56629cdf63cdeb0c0376f',\n",
       " '9c637c36095d55e651467861d20956f6',\n",
       " '3aa9c5537e9ff759eea444bd011d5dd7',\n",
       " 'f34d889c8ff2ac326b5977b6fb479767',\n",
       " '0df5b7d51ec31252b0bca2ce30d1984e',\n",
       " 'fc4dc05aba996bce089a58f0d866b530',\n",
       " '5297a7cb9ad1a2bc23af96cf7ebde080',\n",
       " '4d4328c537114b1dcfeefad6221a8543',\n",
       " '4b3147e8a56fbf07c1c885d4c2752172',\n",
       " '0e1b3ec75dd2fb1aceefd46c031ab43b',\n",
       " '7c2ab9885dac9a7bf7178647da0d81f3',\n",
       " 'bfbf377a318fc2e6a5811bd0eb921e43',\n",
       " '5e7a43d36ea0be5f0263f407f7c686b8',\n",
       " 'fcdcc5732354ff1adbede14688639e1b',\n",
       " 'c344004ea935a5762fc3384455680373',\n",
       " '5d683e3de647069d56db018f249744d4',\n",
       " '2f70e36cdb667aea562d28400cc9ff8b',\n",
       " 'cddbd188a9ebec2fcc0104b37cf63df1',\n",
       " '3fb99e7bc9380e07758da77880d1c4a1',\n",
       " '66df29b69f8cbf054f73ea4cf9e469f1',\n",
       " '443b25ccc6dac092f0f62348b597ca44',\n",
       " '54339500921062bd0db0cf89280c3f43',\n",
       " '681a3636ee3c260f14d241e4e127079f',\n",
       " 'cf61b87b9afd45d65cd74d435c6e406e',\n",
       " '28c46ee74a5ba5a6feea650cac00bf23',\n",
       " '7777277daeeafc5b4f625516c42e1714',\n",
       " '5ffdbdeb440af94b49e03a8dbfd8a099',\n",
       " '94e0eb1af4baa051d5ab6e17f9f6d3bc',\n",
       " '774e26cb842943916b7ea4611f5bb773',\n",
       " '4d93ebc1c796304c91d6e1e1dce73fe8',\n",
       " '1a0babcb45805ea20aab18e621e84882',\n",
       " '296f042a10de922e953e8533bf4e5887',\n",
       " '4ed798a5e506f537e6e18a8c4a6db8c7',\n",
       " '59d656cddca4cf859e75b5349fd3c9c3',\n",
       " '85344f14496ffa9cb0b0dffd94a562a3',\n",
       " '232b3a623a41a41c664a50dc973c744d',\n",
       " '13cb276917a255bfb288d97d0150f9e7',\n",
       " 'b3e24939bd188aaacc13192561bbe7f1',\n",
       " '198cf964ba8d8634daf75b02ca5781ad',\n",
       " 'ae2374b4e5d49bccc4fc4a802926f878',\n",
       " '7a4dd5741063076074ce878074a19495',\n",
       " '6e77eb7811d11ba51031e5e87673f226',\n",
       " '33f3de136e2dc7b08aad4633a82f82dc',\n",
       " '4ec7c129e53e448688eb210528749746',\n",
       " '203a7aebae52a7c933e2af22d77466f4',\n",
       " '35ed2c572c2bfd9f94e175afb9b127fc',\n",
       " '7a61e0a4f765a4dde0d93cebe70aca65',\n",
       " '897611c33db5a563e78e72f926a4e29a',\n",
       " '07936c8cc83ec41f6bdbb431d4c8fafd',\n",
       " '1e01866ec6df671e2ee9457e86333d04',\n",
       " '211c04a9328050561afaf39b5128b774',\n",
       " '6a45db3c93f144a8065318321d533c19',\n",
       " 'e5266c9019035db70f514ffc1b77e370',\n",
       " '92da65460f737b683cbf381acd68a005',\n",
       " 'c758ddbbc8a138608160bb21c7496f25',\n",
       " '6079d14424ee2371e9ad6a9aa91e4c9b',\n",
       " 'fe2454f97473f5979e66e4b68aca9927',\n",
       " '8cc051029ae4d3f1d5ba053e40734209',\n",
       " 'a932cf1887646255199f07ecedd0e948',\n",
       " 'a07ae18fb500f032ac34ed6213a9c0ca',\n",
       " '0f9004ec2fb79941326b88318933fa26',\n",
       " '5386643385d1a2fbc855cc1b72ffb2cc',\n",
       " '28d3261672b848becf46e8ddab36c4a8',\n",
       " '4eaa949ea498c6a3aa55fe318274b396',\n",
       " '7fa3e7941be0f628df855c7441eba1a9',\n",
       " '97cbfb289b0ad5508e7bee87dae75f46',\n",
       " '4d4731f5d2bdae5c194b4cf756bed8af',\n",
       " '197a627d5e0dbfae94373cb114c06c3a',\n",
       " '207280b12bcb7ff57d21a54149845bd7',\n",
       " '00a9c3a172cfc6d2e0198da4c539b3c9',\n",
       " '2bb7de3a9e39278185c2d11cab94ccfd',\n",
       " '253bd1c9f9bac010f6762f0b7e133fed',\n",
       " 'cfd11661dffb8650f67421f6b2200b3a',\n",
       " '394e922fcecfa14b3ab363477744d9d6',\n",
       " '65c1f74aa3c2f961bd89bbcef183d9ba',\n",
       " '465e14d7144d8b22ae131baccfe9c1a4',\n",
       " 'aeafcb5c83df226382288adf0bdbe4da',\n",
       " '015e6138f7b991d8f450312b3721f5b4',\n",
       " '412b0180d247f50415b6ae651b4f2456',\n",
       " '766620e4b9a6d8ea3ad766480b4deb6e',\n",
       " '09c83f24e2f8b401212b403e62487a83',\n",
       " 'e46b355d92fa7a72ace219deebabc9a8',\n",
       " 'c068a921c704145f9fed05ebedd4bd71',\n",
       " '796d2f7c72718e88f13cff6f6d9fc39f',\n",
       " '8d68f7566a295f7eb0401391e9254209',\n",
       " '10146179a4b47211f42258c49f266124',\n",
       " '38b72f2c5adf8f6475578da5b191c02d',\n",
       " '74924e9f581ec28cd5813ec2590bcf94',\n",
       " '75c493ff41bab7f7c61494976a8f965a',\n",
       " '4405634c04ca5c7ce128c390054cd734',\n",
       " '8a9d5aa3622dd222c1f90294da8ed88a',\n",
       " 'd94ed648299fc738a1e7725361147c35',\n",
       " '4e0dbd6944ead844b2b4e4cbf3022037',\n",
       " '9eaeb0b9e49d5ac142efb7da84012c49',\n",
       " 'b2595821f68022e81a69e197d8bf1eda',\n",
       " '70e12b27ffc460ed56bef4e8e7d4b9d4',\n",
       " '5e32a7c1d310912398f82d8875e097fb',\n",
       " 'b2518e2c3bed10b44f51bb804f148693',\n",
       " '5914edb6f8b5f3902bc5e82d77a47501',\n",
       " 'be20b01c2a7494b936858502f134fa9a',\n",
       " '568f422d79e69bb5c56fa92821763162',\n",
       " 'ac2a72be12cddbb07b7a3f9a3740e70f',\n",
       " '6184ed775f46b554133d538991e68b3b',\n",
       " 'eba81e62a800f1f81084b8493ea9a94b',\n",
       " 'cd245e64d44424a0f8328d1fa1d6cb4a',\n",
       " '0d97d69e0c74fea2f9f6a404657bcaf4',\n",
       " '455f964cff4085a582de8461ef92ba34',\n",
       " 'f6f9a922c49a49de5a91d2d90ad72fd3',\n",
       " '3cc3ea12d0bdbbe8d92e7f95321764c4',\n",
       " 'ab6a59b03757e9a577ba339ec398377e',\n",
       " '0b19da7f149179b4184462a781eb2234',\n",
       " 'c8384c656d7906fad9df1a099f8ea23c',\n",
       " '9dff9011ad53e7180025f650339edd2f',\n",
       " 'de80fdb3f094ef38f479feff23167645',\n",
       " '85fe33e8240ac3eb462f8ac023dc8193',\n",
       " '533a8b51bf079e282aeb201bd5837885',\n",
       " '86a7fddfb751d0a08a9852aabefedfd2',\n",
       " '1ac6cfea9dda28102fc9971457f2443c',\n",
       " 'c06db54ac252d9df775ae72f3868359c',\n",
       " '238849ef861ed95169b2544dd1407f3c',\n",
       " 'c47915176018ed9bcaa92d6a41661a81',\n",
       " 'cc5798f30ca61160fe62b07d225944c3',\n",
       " '768c718dd0177c14e55b967f57e1ec7e',\n",
       " '1d83c52b7f87ec7039798acf91f13501',\n",
       " '7ec9bd8ad97136e43080a7ba41d5d219',\n",
       " '7d24daa5142d88544b97a67fb40d8578',\n",
       " 'e7a8d7ed4c4e8f9e3cbc7bf4ed849229',\n",
       " '37cf4154018e718095680fcf72c1045b',\n",
       " '15dbb19dce87cb6bfdab9471ed5cb2d0',\n",
       " '68059e02ab205784ed6ef530922fbb93',\n",
       " 'c74bcf307119657ef390428d3948818f',\n",
       " '875d9bbe5e3a1374fd41a1ede18c78f7',\n",
       " 'd295ada91b839931cce66fd12c3e95d5',\n",
       " 'a07ba155c2232d332829dd47bf2957b3',\n",
       " '1fe90f7a2ab448f4c4cb3023c073e58e',\n",
       " 'c6f7e20f4a4da454303fdbf6bf0b6741',\n",
       " 'fab0fcd4d97fe3e3ac5ddac779cffa3d',\n",
       " '54da844aec568fe4ae1be0c8cd908d39',\n",
       " 'aba876e4a05e87de16c58a614572b87f',\n",
       " '8616bf8e4fe6a78f6593e1247eaebfc5',\n",
       " 'd066a1a0fb4c49b8f6210f8d763ea2aa',\n",
       " '38ae0d6316f02708389a2a15c5d34d08',\n",
       " '50ff013d04ae51572cb3ec55fd90ddfe',\n",
       " 'ce8b756134f104ed083c8000c55b2677',\n",
       " '475ab51356d065582b554701424d6d95',\n",
       " '63eec3e25287568c5da0f1bbda83cac8',\n",
       " '86f0d23b97687a9ab8245ec60d7e57ce',\n",
       " 'a37b8441dd725e5526262b1ab74ed088',\n",
       " '547433132282d60f13901b765cd27696',\n",
       " '31bab78e060d2e8c4a9aed75a74e5112',\n",
       " 'e05dd37333a44ba1eae05ad5df224700',\n",
       " '574b8e19f962bddc95339688f1761aac',\n",
       " '4e7c2043f3d0419c7ea52bfbd1546d33',\n",
       " 'b796e979764ef2f3877ed3fdddd95452',\n",
       " 'a5443a8742399008054f92d9b3bcfd7c',\n",
       " '3ed4aba8cfbd45b8917d0f4eac003634',\n",
       " '22c230b2f251c960adab86e4492ae6b0',\n",
       " '77869c021990934ce4f09fc6694b644c',\n",
       " '444584235b20c2776d18acf9ebdff704',\n",
       " '7aa55a0b74d5c50d51835515502418c3',\n",
       " 'aa978cece4e7626bbf17aab17de96f55',\n",
       " '6f75c84bb4088420ab3e2be7d1e00bcc',\n",
       " '0d1b5336a5763dd0aa183e9ff8ac92ce',\n",
       " 'c1592377364d82fd5cec60e0979bb455',\n",
       " '848e16fdb08cc2e689675f5d36b49426',\n",
       " '7b695db46c523839f8e56bfcb0197cd4',\n",
       " '100ebf0daf61caca9b9f76359e659436',\n",
       " '880c6c356f5709d0e6ab770b6e25cb4a',\n",
       " '715b3a13567921a8b5efde34ec0e10e5',\n",
       " '97e718bf239f7b733a94046fa3219b93',\n",
       " '366649402d5c9bc4ba5c1b346d0c2e14',\n",
       " '239a951e65e8d025ed5bff3e80a6ce06',\n",
       " '3517c15d8483d2ff4df8b66d686fccc7',\n",
       " 'fc25ea702afdeea01540c377a3fd6c7c',\n",
       " 'd0c54141960463a8dd571ebd02f53e06',\n",
       " '81a5dd30a090d85a6b2ce946c79cb4cc',\n",
       " '14089600c356253a9fd0ef86a95b2ead',\n",
       " '6c3e14f0242f8edd3664f721659e8170',\n",
       " 'a67f54fb934858478dd675ccde262a21',\n",
       " '9aaaf2b40e5f883b3f437479af567fb4',\n",
       " '63fa3a99621dffee1c4feee2f123150b',\n",
       " 'af86ee85a8a84b6bb38a02a8d0d1bc44',\n",
       " '1f00e90c0830ac0a3609d503ceaeed70',\n",
       " '9171cabcd517c105fc1a8a173e9d09f8',\n",
       " '4064faf23bf8bcb68f1fe377cd9e1c71',\n",
       " '2eb90432e24d0fbf00e03d50236ee41b',\n",
       " '0cc14e99ac3e453e554622ee499645ea',\n",
       " '9a8695475b0647e346bd1e34d9f2edfc',\n",
       " '2a4c3bbe32333478775a82cd5cdde148',\n",
       " '20031c742c7bfeebb47de31d78e222e2',\n",
       " '1af4150996d838a072893b024560f007',\n",
       " 'b04b20843933c83a5e9716be906488d0',\n",
       " 'bafa8b3ce70df6989adf6e8ae817cdf2',\n",
       " 'a192aeaa87f48230885c554131b17d35',\n",
       " '76d8751c942b36872fcd0c0de380af9f',\n",
       " '3e976bd6ac9f01585d38d3eb570f8523',\n",
       " 'c765d6790b60b81a290a2f9d6e1baed6',\n",
       " '041e1902514060090fa6e15c8427d03e',\n",
       " '4bbaa28dae42615c8bd0cadff1301dba',\n",
       " '7fa81c39a31a8b0ebfef473fc703c95f',\n",
       " '3b49939c41b8d96e247daa604904e1cf',\n",
       " '688b14277c518c21980e4c748dc7a313',\n",
       " '3b5a315921cf23dc3a8bb15333a5d47e',\n",
       " 'e64483a85693cab5a91123cc655e8d1d',\n",
       " 'a642c0efa845f55bc59dac742fa10d99',\n",
       " '96004f3068efb3a2fe3cc4a5218cb596',\n",
       " '5ce5339d446a34cd5c39e2a18cab3393',\n",
       " '8178aa7e92740072647c45b02c7953f2',\n",
       " '285c2a6bcec95f530e270c31a4065fa3',\n",
       " '4f8b6fdacc4f035c6979c58d967084c4',\n",
       " '55b0ca84dd065a8185996edf969311c0',\n",
       " '2de8e285870aacdc174e93e784daa1ff',\n",
       " '423b625db53d968dd97c39e258bf1939',\n",
       " '2f26198311a5d5ecc9e848cd016933f1',\n",
       " '1058c8297a1794fedec382258191fd96',\n",
       " '83633e15a116151bc46ce0dc05692841',\n",
       " 'c9a840de25c90940720cbe9837323acd',\n",
       " 'd950be7e3e24119faf604e633396fa63',\n",
       " 'eea86273279b655ed55a4bf1ff14567f',\n",
       " 'f959ab0d3cf4d92bfb90d6e6914c8d82',\n",
       " 'c11a63f9dbb3b06cfc8517df5a714ebc',\n",
       " '991c0cb06db61f53f42baac82bf63858',\n",
       " '2ed05859d4484326f4e902d2520796b2',\n",
       " '6040ce21119ed551c8e7b86b6e75d0a6',\n",
       " '962adc5b7946179cdc867fbd4f2d946d',\n",
       " '4036341bbaade97a0b95dc917c673059',\n",
       " '67927b67b08a420b365190f6683a6b98',\n",
       " 'ce57d087008b87ac34703770a63eb868',\n",
       " '0c37629d84f65208c1e5006166385c74',\n",
       " 'b507b724e2dc87c6e112f28fc72b40d2',\n",
       " 'e05a2e5ab6cf61ff5c66ac0141a97c72',\n",
       " 'eed2d2f28030b074f19bec715f551cfc',\n",
       " 'b0817cec3aaf6b9c291aa078daf0ef38',\n",
       " '1c86b77f3bb4475fa8f166201aa90a70',\n",
       " '077409a8f9c23dfdebad6ccb5f26a841',\n",
       " '36ead02aaad0edb75d98bc746c8852bf',\n",
       " 'f8a73ab380dc4432f92d40ea817c00dd',\n",
       " 'ea14317183c5849fcfe1394cd2ff03ff',\n",
       " '9455e015a3080f0153fc33b156f9a536',\n",
       " '0dbef7e6818b33b51c1347457087ee44',\n",
       " '31b2f5b5b8a4c76a5310f3c2d116d3f5',\n",
       " '43fe268687cd97d53376d0cbbb7003c9',\n",
       " '197958ff32b35a3d8964c44e76e88f19',\n",
       " '1d7017c4952c903f6ddbebe9e32d1b48',\n",
       " '1715493bd4d185dba1946ebb67503d85',\n",
       " '1b0c12a996f742d27125d31f8155be88',\n",
       " 'bd8e2c8f660aeb4b583a9ce32052c1a3',\n",
       " '0f29ffca00ef4b091bbc7bd69ca8963b',\n",
       " '5fce475abefa770ce0148301293a527c',\n",
       " '65c7fbd81a946e08a991f8335cbd1bf6',\n",
       " '59887ca2452f7c75305d7b38b751f28e',\n",
       " '33b08dea811014cfd8ce328f008b4afc',\n",
       " '84e3aab8cc93144c5ec8f459e7c70518',\n",
       " 'a3573997f7ccdafe373078656f8d33e5',\n",
       " 'caa5c6a1803acbbe35130711619e1df2',\n",
       " '54585bc40e99133dd6652398d4ba6d7b',\n",
       " '2d37f5d1d208967bf0fdc4227beb44fa',\n",
       " '4b00c58a3c62755c8868837080657f70',\n",
       " '6206c8c9a541b7429bfb62d34fbb5c83',\n",
       " '754e9f862af694f39d9c2eb0641f7676',\n",
       " '7b431b00746da3b0ae60fe031f866ca9',\n",
       " '37ba6417fe80186b78081e75f475acfb',\n",
       " 'e90916cb9edda0aad9f3519901e86be4',\n",
       " '8bde31954d57bf7722d2aeafece11f9e',\n",
       " 'aaad5d654647c78c3fcea561c5afc02d',\n",
       " '4447afcfb0819ca3d9f920c8565bb39d',\n",
       " 'fe6e16d58e2a722d2cd957e712f6d694',\n",
       " '17190e1cc4b18c9684ebd435abd5f3d5',\n",
       " 'ffad3c72297eb6d9a4b3672cd731396c',\n",
       " '7129ba9e400a4ba7969df63750a1336b',\n",
       " 'd3251475f496224c9bf6ebb3ab7be436',\n",
       " '6bcfe743a3f3cf99c38d90efe49b1176',\n",
       " '8cc5867c125db80401cccd4c3ae9ae02',\n",
       " 'f0b87e682d58d7ed643d3721739f9b9c',\n",
       " '33e0224bf79d2c5dc6d6ea43ac655941',\n",
       " 'a81a388a846055db6500d52c70564870',\n",
       " 'f26ee73cf4a791bc73917a872558ef81',\n",
       " '9394774df38d11033e9938b89f4658ea',\n",
       " '4bba9fa97535a2cf0d725d1af8d5f009',\n",
       " 'fdb04757c90a19d138ee1f0177a630ff',\n",
       " '59939f46a0132f52542f5f1326ee980a',\n",
       " 'e213f79791372d0ad323f375967bdc34',\n",
       " '4e63a313a6a162627d819a4bba702f5f',\n",
       " '673340d32ae37302af21e3f044627ee7',\n",
       " 'd9ddf29fa74f39ab408bace6496e47b9',\n",
       " 'fb70bb7b0a2026ab47489b6a8408d42d',\n",
       " '895f8b6c17abe0f872b455eda53b220f',\n",
       " '2ffbf1d53d2ed5597d875d711572bcd0',\n",
       " '10cc72405c1f491e3bdbf95bc8ddf19f',\n",
       " 'f1f2986756f775c7ddb550e1e5c1a4a7',\n",
       " 'd0b5d28241816fe4851ffe5f13fa4155',\n",
       " '6fe9cd79d69568dec7ab295ba08adefb',\n",
       " 'f94ad0dd6f36f971402bf8aba8d3689b',\n",
       " '60ef1fefb95669cda55f960d92530c5e',\n",
       " '7bc1d066509392c18ab1e0bd29fa1bb0',\n",
       " 'a62c2753b95a4d8dd981ef9d4af48735',\n",
       " 'dc05b1a2338825a6da9d7069d88203fd',\n",
       " '34f9ea91fa6a39dd29795a58018d4f2b',\n",
       " '095627783e2ba4ec766a446e13866d43',\n",
       " '329bb0de51d612875e57d0156f4f8c48',\n",
       " '27f358b508421b4331eebeaa2cda140d',\n",
       " '57b6fe95e54050d06517d5a6fa7ae87d',\n",
       " '27fb4996f24056d9f7961c30483758bc',\n",
       " '0d224d64f679410713f584aa296c23fe',\n",
       " 'c9f45445f64c02cc0e464224b170e1d1',\n",
       " '7ebab41becf95f55834c525751e75838',\n",
       " '32d7c79f7a46fea27bbb950d698ad85b',\n",
       " '14da2cd33284f6f472005dc35696e617',\n",
       " '4ed22efc97a0752a4873e4087fb46879',\n",
       " '999b09a374fbb7e819a18c759f19f32b',\n",
       " '8ad73bcbbd76c2c272863e4b304fe34c',\n",
       " 'f893ed0a16638c3dda67356749bcdf7f',\n",
       " '9d8ce9ce2fe620476d6fac62a1780383',\n",
       " 'f68d32cd684bec7e8d1ad040195404f7',\n",
       " '2da39a4ce12fd3a0ac052c8779843a80',\n",
       " '526cf8d6fe9adb742584742357b3e2c2',\n",
       " '24eef77523433cd21c1ca2bcf422bd79',\n",
       " '8645038cf9a4a9c617cd8c3f99a2da8e',\n",
       " '7c7212265b49778fcec956b543970195',\n",
       " '14ee4fdffaf6519810e2a3841a775d23',\n",
       " '0311ec93525c6d64d1d214642953ebfa',\n",
       " '51b25babd84b5f77f06910a2a69f9411',\n",
       " '4c8a06a06c8fc2257a11fb2c3b7a5ddd',\n",
       " '5e69f9853256c390dfdf6455c34accf6',\n",
       " 'aea002db84d8acf90402dd3d831265ad',\n",
       " 'cced1513c457a876051b205556cdf7a9',\n",
       " '454650e8102838d26889690ccf826238',\n",
       " 'c0f8fbc14db523c11a0ce26ec31aec7c',\n",
       " 'ffb8fcf3f9d17ac3197b9e27cb757539',\n",
       " '2c865d851efcbe55e2d7aaa076f82b3e',\n",
       " '4eaccb877bfde8ecc14397cb495a67f2',\n",
       " '5f85a6abe6016607b4ecf82aa83c223e',\n",
       " '85b61d439faaeaf93be6a3477555689a',\n",
       " '7b5975dcde945c9bbd30aaa637526600',\n",
       " '4d76ce7cf1c2dac4e72b940822baeb1f',\n",
       " '1a3516e98f6ce8e555d0be9328b226a7',\n",
       " '43eec9c309f3f4d600da2b9280465188',\n",
       " 'e6df12727bcead961e0e35fc4baba440',\n",
       " 'c58273f2d374b8b2f92adda4810ef7b6',\n",
       " '25b9e02113072401baea3a4344209159',\n",
       " '482e7cc9e836615ee38ea2e518083131',\n",
       " '05600918ac9f5c14c1628bf85a580f26',\n",
       " '423e74ff18a1a9b788242e28727940fa',\n",
       " '3db840a72b745c424b2c52fa40450e3c',\n",
       " '77ad3e93cdd82bb369c1cc35ef057110',\n",
       " '99cc22b9af96550ac8a1a33aa1184071',\n",
       " '05d900b12653fb805ef4f196fe9e08b6',\n",
       " '4dab22322c4cfdbcfdb92696bfb7253d',\n",
       " '46fb6fe69de5f662f0c763eaaa8a3abb',\n",
       " '89087abceb7d6bf4ca52e6e1046f5b4c',\n",
       " '94588ac37968b6c7c57dc3bd6105028b',\n",
       " 'aad7d28f0a2a49dd150614807d777661',\n",
       " 'a11b518736f34e79224eb80e82592956',\n",
       " 'e67a3289b99c7db5afebfdb06e3536b2',\n",
       " '4135b91afb549e6ddf1fb74e4044a0ed',\n",
       " '0d10a968617f5798048e6a24088087d9',\n",
       " '9756fc43f126b6be27dd83bbed056605',\n",
       " '09321d0ac0d712290521c62a98d0bafb',\n",
       " 'c77cc3660226446ba079807a89e87f5d',\n",
       " '7945b34a3c346f4a85a81a3b53a5f5f0',\n",
       " '72c431e7be72156089bd57e62f889697',\n",
       " '000c589e94c95984721de4b2bfb9ee4e',\n",
       " '1f220456a79595117824cd468af2d17b',\n",
       " 'eb9b388cc7412d6225c5ca2d35aa66d5',\n",
       " 'dba7b419060e3c4d04805cb14a522586',\n",
       " '3fb6839ff2cde14d7c071fb524edfeff',\n",
       " 'b0055b4abc88d22bf764e6c676ae1b58',\n",
       " '65d328ad64fd4a91ca6e779d1d7c8831',\n",
       " 'b58ed43fcff6f3d7c36321bdbb92378f',\n",
       " 'ab0771f1163d7a01b1d383201b4216a6',\n",
       " '09ab3353fba67ea28e41c1fe19f20ae9',\n",
       " '5fa1168d5cf152f74e4521788d8d74e3',\n",
       " 'a6311ece5a48140cd7981abcd96c9507',\n",
       " '99edaf6268be970cb7b7600cae3eec37',\n",
       " '6c1c5c2b6072d08aa40d86ea6de0f14b',\n",
       " '0b32c6166708d5d9d075a013fe91b1d1',\n",
       " 'e29a95d07e11b6c8435b22dff68c049e',\n",
       " '3be5c7b238b963d892929a50f44efec8',\n",
       " '3360a8ef394c677607e6a6f23e69041e',\n",
       " '2813ce2c16a7f2e21eed7abfed16ecda',\n",
       " '6ecb7d5b20a14eaf27ddd54efa26bd1f',\n",
       " 'b5048c61285ed90f5bb8811e5aaa9eb4',\n",
       " 'dcd2fb7da4174ac3c7f4ce8298ca2bc7',\n",
       " '438b3556eff00aa8fcb0fed535683002',\n",
       " 'c672e69fa0436a378baacf64eec39d68',\n",
       " 'e48b9846912d54ba7a9be7d40121077c',\n",
       " 'e68a2727389139cf611755036abe5159',\n",
       " '2ef3baa776c60b6e9cc0218a1113f100',\n",
       " '2b19539ccb9e4b5db72b437fb74ffe2f',\n",
       " '02a02f1b2e0a3dac8d8345478c87105f',\n",
       " '2a633f9ebce50112c9e039409b32e98e',\n",
       " 'cf588c6ec39aa1c5fc8fcd9f867631b9',\n",
       " '8f13dcc8863db7085b2a7f9c52a620c9',\n",
       " '789028058aab6be314ebfde4ccdd4be3',\n",
       " '7f0a02ceae036d830ab104a324c32205',\n",
       " '749b4301d9edc2eb52bf69c2885c8c8b',\n",
       " '381481f52477b1bee20ef7db35eb157f',\n",
       " '6afad351f1072685cc6d56cb2c2a1775',\n",
       " 'd229e374c58f06991575fae854ead1ec',\n",
       " '8e5493a339a28a778ff973428eb073ff',\n",
       " '8d08bd37ae53113b1e86f0a4979623cd',\n",
       " 'b7c4e438520b52ee57a7c43c4b979b57',\n",
       " '8bac17446c415a92cc61a3984535a38b',\n",
       " 'f9466385880e5f4439d7619a0721402e',\n",
       " '30c470e1f268c1b056b3458c97aaf43d',\n",
       " '6906978c3f8d5ced18f80f14ce3ecfc2',\n",
       " '17c4954ec52e9a07b6fca89d4029d73e',\n",
       " '16b69c72b15b7bf40e0de8d507f81274',\n",
       " '0e45f5f3fc84405c2a7a832f0fcc5353',\n",
       " 'fe3decc76d3cab6d63809921ea3ac49d',\n",
       " '6199001d7652eff14a0e6953ccabdffc',\n",
       " '3f1815d99f59573f2b118760f9270c2b',\n",
       " 'dfdd8c0db8d2e189f5e0e9c6dbfef30b',\n",
       " '941253f649682e6d83d3dc9fa7249b59',\n",
       " '82f11ecba61e6f8b9eb7d70beb38d190',\n",
       " '79b63f76d7b85ebf293dbfd9e02ea84c',\n",
       " '026cfa8c8ec1c3e153ec979f36ed2929',\n",
       " 'b311ccf9c0b1aafb11f3a23615923353',\n",
       " 'a836164eec912fd81a94d7babfeba379',\n",
       " 'c2ca455606aba44a0b9fccbc4cc4f26b',\n",
       " 'dbf1e920aa58e4e3da9da7fe5244e65c',\n",
       " 'ba988ce2dd0cc0c0dd5de0d3530a4f09',\n",
       " '595c639bdc5cfc3ab13d5d951c8aa7ae',\n",
       " 'c71142c4850f3803610ceae7b0edee02',\n",
       " '4a960a43353759860fc4a8119db01a2b',\n",
       " '673151f03ed3532ce7d8c36c9a43b689',\n",
       " 'ce998e5f4678c05dc4b3b9370254f13f',\n",
       " '27953dd3a8441328e411057df32a2280',\n",
       " 'dc8ed6d2ee6748ac255980a6dc648ed0',\n",
       " '60f6c14f5536ad9aaa2ccea2ca125a2f',\n",
       " 'a8c3170d294904cb5e955e7212b6a805',\n",
       " '008c9f725cf88093477cc5f7278a2351',\n",
       " 'e91c999bd01fd727877488cb99adf18a',\n",
       " '45fb00f76ef65a9b7d68f757e4795b42',\n",
       " 'bb8ec1429faad9f2d2c5b58574c352ea',\n",
       " 'a01593ee03f80d2488b9daab54ec797b',\n",
       " '72b15ef5eb727ec55e3904bed1c02bec',\n",
       " '0b80731e1bd61895163afeadc05d06bf',\n",
       " 'd9537cbb2475891552991bb8189cbdc6',\n",
       " 'f1b2d255770e348f8896c674cff85326',\n",
       " 'f71e047a87b728e303b7c2a5c6eb4f99',\n",
       " '1dd84f0954cc99f75f083dd552c68cd5',\n",
       " 'dea20dd77fc44a17411261b64715e2dc',\n",
       " '838db4a889a6d25d91f586ac28cbc056',\n",
       " '4d9651ae4330c8d799578cb6a9bc7c5c',\n",
       " 'ac81dec4144af17b11bc706bf3263d59',\n",
       " 'dc8448feb050acb4ebc20feed58b0e09',\n",
       " '99cbd2a7be236f4fe498aa2a978a817c',\n",
       " 'ed61a787f3b694beea0e6bae61d933b6',\n",
       " 'e7dc718f4c4f72039af4d7ccf57d3796',\n",
       " '5b5536dbe73a62e3dc38d902b908284d',\n",
       " '9137c1f6188cf3e9456d9fc8f473ef87',\n",
       " 'f62dde7051b00eba9fc46ba0a9ac5f2f',\n",
       " '27b5c27d1cb373e5c04011bb6339056c',\n",
       " '40ff83ed4683b0bf2ff98d6f5f024ee0',\n",
       " '910bd3346b41e3ccbefd8ecbbaacef38',\n",
       " '5a334f4af908055bf329c4b182262c46',\n",
       " 'c599f633c9e8682b1a757e1b7345cd46',\n",
       " '86c7f0b2dad896e53f910fa5f002f83b',\n",
       " '4d2307c2980687dbd57235a746e72d3d',\n",
       " '5fc2c32a4db234f036674c9841dc627d',\n",
       " '796906f7311ba4c6fe407a0f238f8d61',\n",
       " '3dae1189bd522d8cde701039bd7865d5',\n",
       " '6fc35348668070afa12aa6d6cece632b',\n",
       " '38d23204f025cd17fdc5ffa7a9fda1df',\n",
       " '7b49f6a3c81868a82d886c08a3a8e1d2',\n",
       " 'b059cbd6307a4a5de3d5cbefbf395fe9',\n",
       " 'ef7e82aa6ec5d814d6504d184b817fe1',\n",
       " '41f2753dcc89c5b1401ca06bf7ac36d4',\n",
       " '754f35e1bb564be811a3874fe83bbc6b',\n",
       " '2dfe1901800923992cec310a98bb4d23',\n",
       " '3b03a0c978698d6e65e2816be5f88c61',\n",
       " 'a73aebb42c9239e67368019557a888e4',\n",
       " '54b16cc41471a3506d1883467dd9142f',\n",
       " 'edce137ebd5ed51b264c4387337704a8',\n",
       " 'c4c57cf4e0935fa3945d1d9e2c67bd8f',\n",
       " '7a6e6913496563be8e1687b11912fdf7',\n",
       " '590bbf0fffc8b34b8ce9481f491bd707',\n",
       " 'a6db0809478c1b6cb65ab2d90f7dfb6b',\n",
       " 'df43ec968290e25ab10c00b9a963ceec',\n",
       " 'f5e5c2534422fecc3e97268cca307493',\n",
       " '4db0ea12317f9945c9a29f96e9ea5afb',\n",
       " 'aac1d1e94919f580972b8b30c45fc438',\n",
       " 'efa62aad05792308bfe7b877e147e492',\n",
       " 'c24ab4e81cdaf157cd9048417fa79f0c',\n",
       " '1032074adc37eaf3cd48899fbce0cd38',\n",
       " 'b0033ab084f83c0214ab5f6be20cb623',\n",
       " '81b5f2de1d5064023fa6ea2888207731',\n",
       " '90860e692d02f6e3f8b14efc4d33f37a',\n",
       " '0c47b496d946f556972b0c8357946170',\n",
       " '28fe2887f6c11949edfb06271a694948',\n",
       " '29d3bbf763fdaff026392866ac58af35',\n",
       " 'e55d44bc03811067fe2906c625a4126a',\n",
       " '71a47977bf9201877bf2d0e79b1038cc',\n",
       " '769b55a493c5a19a491360e32c1dde93',\n",
       " 'dc6e83d8c8385f376f495ba21f538b0f',\n",
       " '24865841a09f5465fcd818cec318571b',\n",
       " '55cf2ef40ca10fdc0b6534719acec1e0',\n",
       " '5d2c3e57df5b50c34fd1b2adbdffc602',\n",
       " '23134fe11316a5b553fa1eeb357292bd',\n",
       " '7ec38ad81b0177455264d0854a38704c',\n",
       " 'd1d5f7c6b65e681770f425fdbbd96b4a',\n",
       " '81a49dd08483dfe9334c674d746e0889',\n",
       " '28a892837167e2ab3bbad006e4fda9c7',\n",
       " '8c2216334261009111583b0e7ed8a1cc',\n",
       " '7dc84909df45152416412fbdd6136983',\n",
       " 'b90f89b9761ba094e629f1e27cf1217c',\n",
       " 'be4886b737641b3bb8e3d49fe04f21c0',\n",
       " 'ac8f37329cf8cbd06c398b904a079608',\n",
       " '8e40aa7aeb431ac3115aada05943f26d',\n",
       " 'a257e6de0080347dd007f895de6198ab',\n",
       " '3248a9f773a302075b0133e1ccadd7f8',\n",
       " 'dfd944bd8d212d238615bb48fa34b16d',\n",
       " '0226c9b47e596ad2c130bda4645d63f3',\n",
       " '4f05b1433971a4bdcea4a64d6a06e1c7',\n",
       " '08e2951a520e8c68b706e611e17d88d8',\n",
       " 'ac9277de986f4d188a3d5fe7c5d4e035',\n",
       " '512dd6f87f92f40e9f556581fe82d270',\n",
       " '2e2dc2419719eeba2f42d8bc12b7538a',\n",
       " '16ed8f3c054d0a542320c7e616ffa5d2',\n",
       " '18e2a8c8941ece4a1a3714dec0a4862e',\n",
       " 'b05434b9c188182df9d8fc77a1e8ce75',\n",
       " 'b6a9bdac18e4ee346761ca4249acdca5',\n",
       " '131e56a3099aac28c6a7555e8d640f27',\n",
       " '864271d599be586b965236926a9b43e0',\n",
       " '1702104b633fb87efcd95c5e86718e5e',\n",
       " '453e837e2df3aaf86eec02caa9f21ea9',\n",
       " 'b4363389078bb516259b0bec8dc2653c',\n",
       " '7c7dbbc56dad12f1209280397158f0fe',\n",
       " 'e86b86233a153b660816cb53e7780af4',\n",
       " 'bcb3c8fda6b05785428231c56f296efa',\n",
       " '072013c24aed144b0a0707166fed5db2',\n",
       " '91a0dc40fc41d1c89a038ce465f2ad3b',\n",
       " '9114c5d67827baa4f9712cd6f1657f44',\n",
       " '67dbeed972da51c1d2ea776f88c35173',\n",
       " '2500ad9043bc5813f839f58704af8b66',\n",
       " '98d7cd88bfd7f8dd536b608ae55d9071',\n",
       " 'df5679428d830622c428637c1fcb932c',\n",
       " '809093632886c9e24db6dec16b0646f8',\n",
       " 'b640ba972b7ac0f7689c0a3510a65a5a',\n",
       " '7512484fe2f04d8eadd5b6235ebc501a',\n",
       " '9139d82800bede94b90b0e5e001d26b4',\n",
       " '397692628c1acfb13a128afebac3842c',\n",
       " '9600c40baf0a672f1f7ace00abcfc9a4',\n",
       " '4e9b3995897a3b099949389c54c6a401',\n",
       " '4695f216f43ce35ac8f51a28935a2a0c',\n",
       " 'a43cdce7e3463eb8719607ff9f7571bd',\n",
       " 'e72706c0cede9184e6ff178a800a2999',\n",
       " 'bbc4282b263bb9818392f4662e16669f',\n",
       " 'aefcf974a2b6f46f2991546038cc85bf',\n",
       " '70f92b1e03f7fc464a0431a213c65ece',\n",
       " '96d55789943a426a134ddb5c3c9d5a91',\n",
       " '9e9cff715b27f32eed02f6d62d64d8c9',\n",
       " '8dc9273aadeda6cabb8f2e9b5b2f210f',\n",
       " '002c40ec938e91de248400dec824bd49',\n",
       " '1d30b5dc308df3ace5133312df63a0e6',\n",
       " '98cf30aa2c89077216b5d75b44bdf8e3',\n",
       " '421b9df34afb4d8c0b9993ac21942b3b',\n",
       " ...}"
      ]
     },
     "execution_count": 85,
     "metadata": {},
     "output_type": "execute_result"
    }
   ],
   "source": [
    "set(list(consolidated['customer_id'].unique())) - set(list(consolidated[consolidated.h1 > 0.6]['customer_id'].unique()))"
   ]
  },
  {
   "cell_type": "code",
   "execution_count": 498,
   "metadata": {
    "collapsed": false
   },
   "outputs": [
    {
     "data": {
      "image/png": "[encoded data removed]",
      "text/plain": [
       "<matplotlib.figure.Figure at 0x1268aafa8d0>"
      ]
     },
     "metadata": {},
     "output_type": "display_data"
    }
   ],
   "source": [
    "idn = 'ff4e78a42acf6bbb27d1678dc0f0e5a1'\n",
    "\n",
    "coords = consolidated[consolidated.customer_id==idn][['address_lat','address_lon', \n",
    "                                                      'w1', 'h1', 'work_dist', 'home_dist']].copy()\n",
    "\n",
    "latlon_pred = np.array(sub38[sub38._ID_== idn])\n",
    "latlon_pred = latlon_pred[:,1:5]\n",
    "\n",
    "y, x = coords.address_lat, coords.address_lon\n",
    "df = pd.DataFrame(dict(x=x, y=y))\n",
    "\n",
    "circle3 = plt.Circle((latlon_pred[0,1], latlon_pred[0,0]), 0.02, fill=False, color='r', ls='--');\n",
    "circle4 = plt.Circle((latlon_pred[0,3], latlon_pred[0,2]), 0.02, fill=False, color='r', ls='--');\n",
    "\n",
    "# Plot\n",
    "fig, ax = plt.subplots(figsize=(8, 6))\n",
    "\n",
    "ax.scatter(x, y, s=coords.w1*100, marker='o')\n",
    "\n",
    "plt.scatter(latlon_pred[0,1], latlon_pred[0,0], s=70, marker='x', color='r', label='work_p');\n",
    "plt.scatter(latlon_pred[0,3], latlon_pred[0,2], s=70, marker='v', color='r', label='home_p');    \n",
    "\n",
    "ax.legend()\n",
    "\n",
    "ax.add_artist(circle3)\n",
    "ax.add_artist(circle4)\n",
    "#plt.ylim(x.mean()-0.01,x.mean()+0.01)\n",
    "#plt.xlim(y.mean()-0.01,y.mean()+0.01)\n",
    "\n",
    "plt.show()"
   ]
  },
  {
   "cell_type": "code",
   "execution_count": 499,
   "metadata": {
    "collapsed": false
   },
   "outputs": [
    {
     "data": {
      "text/html": [
       "<div style=\"width:100%;\"><div style=\"position:relative;width:100%;height:0;padding-bottom:60%;\"><iframe src=\"data:text/html;charset=utf-8;base64,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\" style=\"position:absolute;width:100%;height:100%;left:0;top:0;border:none !important;\" allowfullscreen webkitallowfullscreen mozallowfullscreen></iframe></div></div>"
      ],
      "text/plain": [
       "<folium.folium.Map at 0x1268b0ff748>"
      ]
     },
     "execution_count": 499,
     "metadata": {},
     "output_type": "execute_result"
    }
   ],
   "source": [
    "#idn = '3e5d772b1a8537d06d7ab760e153fafc'\n",
    "\n",
    "m = folium.Map([55., 37.], tiles='stamentoner', zoom_start=6)\n",
    "\n",
    "HeatMap(consolidated[consolidated.customer_id == idn]\n",
    "        [['address_lat', 'address_lon']].values.tolist()).add_to(m)\n",
    "\n",
    "folium.Marker([sub40[sub40._ID_ == idn]['_WORK_LAT_'].mean(), sub40[sub40._ID_ == idn]['_WORK_LON_'].mean()], \n",
    "              popup='work sub40', icon=folium.Icon(color='green')).add_to(m)\n",
    "folium.Marker([sub40[sub40._ID_ == idn]['_HOME_LAT_'].mean(), sub40[sub40._ID_ == idn]['_HOME_LON_'].mean()], \n",
    "              popup='home sub40', icon=folium.Icon(color='red')).add_to(m)\n",
    "\n",
    "folium.Marker([sub38[sub38._ID_ == idn]['_WORK_LAT_'].mean(), sub38[sub38._ID_ == idn]['_WORK_LON_'].mean()], \n",
    "              popup='work sub38', icon=folium.Icon(color='green')).add_to(m)\n",
    "folium.Marker([sub38[sub38._ID_ == idn]['_HOME_LAT_'].mean(), sub38[sub38._ID_ == idn]['_HOME_LON_'].mean()], \n",
    "              popup='home sub38', icon=folium.Icon(color='red')).add_to(m)\n",
    "\n",
    "\n",
    "m"
   ]
  },
  {
   "cell_type": "code",
   "execution_count": 47,
   "metadata": {
    "collapsed": false
   },
   "outputs": [
    {
     "data": {
      "image/png": "[encoded data removed]",
      "text/plain": [
       "<matplotlib.figure.Figure at 0x18b06abbcc0>"
      ]
     },
     "metadata": {},
     "output_type": "display_data"
    }
   ],
   "source": [
    "sns.jointplot(x='address_lon', y='address_lat', \n",
    "              data=consolidated[consolidated.customer_id == idn], kind='reg');"
   ]
  },
  {
   "cell_type": "code",
   "execution_count": null,
   "metadata": {
    "collapsed": true
   },
   "outputs": [],
   "source": []
  },
  {
   "cell_type": "code",
   "execution_count": null,
   "metadata": {
    "collapsed": true
   },
   "outputs": [],
   "source": []
  },
  {
   "cell_type": "code",
   "execution_count": null,
   "metadata": {
    "collapsed": true
   },
   "outputs": [],
   "source": []
  },
  {
   "cell_type": "code",
   "execution_count": 8,
   "metadata": {
    "collapsed": true
   },
   "outputs": [],
   "source": [
    "\"\"\"вычисляем топ по каждому ID\"\"\"\n",
    "def top(df, n=3, column='y_pred'):\n",
    "    return df.sort_values(by=column)[-n:]\n",
    "\n",
    "\"\"\"вычислям взвешенное среднее значение\"\"\"\n",
    "def weighted_average(df,data_col,weight_col,by_col):\n",
    "    df['_data_times_weight'] = df[data_col]*df[weight_col]\n",
    "    df['_weight_where_notnull'] = df[weight_col]*pd.notnull(df[data_col])\n",
    "    g = df.groupby(by_col)\n",
    "    result = g['_data_times_weight'].sum() / g['_weight_where_notnull'].sum()\n",
    "    del df['_data_times_weight'], df['_weight_where_notnull']\n",
    "    return result"
   ]
  },
  {
   "cell_type": "code",
   "execution_count": null,
   "metadata": {
    "collapsed": true
   },
   "outputs": [],
   "source": []
  },
  {
   "cell_type": "code",
   "execution_count": 140,
   "metadata": {
    "collapsed": true
   },
   "outputs": [],
   "source": [
    "#consolidated['h11'] = consolidated[['h1', 'home_prob']].mean(axis=1)"
   ]
  },
  {
   "cell_type": "code",
   "execution_count": 12,
   "metadata": {
    "collapsed": true
   },
   "outputs": [],
   "source": [
    "consolidated['h_dist_prob'] = (2 / consolidated['home_dist'])  + consolidated['h1']\n",
    "consolidated['w_dist_prob'] = (2 / consolidated['work_dist'])  + consolidated['w1']"
   ]
  },
  {
   "cell_type": "code",
   "execution_count": 65,
   "metadata": {
    "collapsed": true
   },
   "outputs": [],
   "source": [
    "consolidated['h_dist_prob'] = (1 / consolidated['home_dist'])  * consolidated['h1']\n",
    "consolidated['w_dist_prob'] = (1 / consolidated['work_dist'])  * consolidated['w1']"
   ]
  },
  {
   "cell_type": "code",
   "execution_count": null,
   "metadata": {
    "collapsed": true
   },
   "outputs": [],
   "source": []
  },
  {
   "cell_type": "code",
   "execution_count": 120,
   "metadata": {
    "collapsed": true
   },
   "outputs": [],
   "source": [
    "home_lat_answer = pd.DataFrame(weighted_average(un_gps_only_nearest_points, data_col='address_lat_x', \n",
    "                                                weight_col='mean', by_col='customer_id')).reset_index()\n",
    "home_lon_answer = pd.DataFrame(weighted_average(un_gps_only_nearest_points, data_col='address_lon_x', \n",
    "                                                weight_col='mean', by_col='customer_id')).reset_index()\n",
    "home_answer = pd.merge(home_lat_answer, home_lon_answer, on='customer_id', how='left')"
   ]
  },
  {
   "cell_type": "code",
   "execution_count": null,
   "metadata": {
    "collapsed": true
   },
   "outputs": [],
   "source": []
  },
  {
   "cell_type": "code",
   "execution_count": null,
   "metadata": {
    "collapsed": true
   },
   "outputs": [],
   "source": []
  },
  {
   "cell_type": "code",
   "execution_count": 121,
   "metadata": {
    "collapsed": true
   },
   "outputs": [],
   "source": [
    "un_gps_only = consolidated.groupby(['customer_id', 'gps']).agg({'w1': [np.size, np.median]}).reset_index()\n",
    "un_gps_only.columns = un_gps_only.columns.droplevel(1)\n",
    "un_gps_only.columns = ['customer_id', 'gps', 'count', 'mean']"
   ]
  },
  {
   "cell_type": "code",
   "execution_count": 122,
   "metadata": {
    "collapsed": true
   },
   "outputs": [],
   "source": [
    "un_gps_only = un_gps_only.groupby('customer_id').apply(top, n=7, column='mean')\n",
    "un_gps_only.reset_index(drop=True, inplace=True)\n",
    "un_gps_only['address_lat'] = un_gps_only['gps'].map(lambda x: str(x).split(',')[0]).apply(float)\n",
    "un_gps_only['address_lon'] = un_gps_only['gps'].map(lambda x: str(x).split(',')[1]).apply(float)"
   ]
  },
  {
   "cell_type": "code",
   "execution_count": null,
   "metadata": {
    "collapsed": true
   },
   "outputs": [],
   "source": [
    "un_gps_only['max_prob'] = un_gps_only.groupby(['customer_id'])['mean'].transform(max)\n",
    "max_prob_key = pd.DataFrame(un_gps_only.groupby(['customer_id'])['mean'].max()).reset_index()\n",
    "max_prob_key = pd.merge(max_prob_key, un_gps_only[['customer_id', 'mean', 'address_lat', 'address_lon']], \n",
    "         on=['customer_id', 'mean'], how='left')\n",
    "un_gps_only = pd.merge(un_gps_only, max_prob_key[['customer_id', 'address_lat', 'address_lon']], on='customer_id', how='left')"
   ]
  },
  {
   "cell_type": "code",
   "execution_count": 75,
   "metadata": {
    "collapsed": false
   },
   "outputs": [
    {
     "name": "stdout",
     "output_type": "stream",
     "text": [
      "0.8910405266239929\n"
     ]
    }
   ],
   "source": [
    "proximity_radius = 0.04\n",
    "un_gps_only['is_close'] = (un_gps_only['address_lat_x'].between(un_gps_only['address_lat_y'] - proximity_radius, \n",
    "                                      un_gps_only['address_lat_y'] + proximity_radius, inclusive=True) &\n",
    " un_gps_only['address_lon_x'].between(un_gps_only['address_lon_y'] - proximity_radius, \n",
    "                                      un_gps_only['address_lon_y'] + proximity_radius, inclusive=True)).astype(int)\n",
    "\n",
    "un_gps_only['is_close'].sum() / len(un_gps_only['is_close'])\n",
    "un_gps_only_nearest_points = un_gps_only[un_gps_only.is_close == 1]\n",
    "print(len(un_gps_only_nearest_points) / len(un_gps_only))"
   ]
  },
  {
   "cell_type": "code",
   "execution_count": 76,
   "metadata": {
    "collapsed": true
   },
   "outputs": [],
   "source": []
  },
  {
   "cell_type": "code",
   "execution_count": null,
   "metadata": {
    "collapsed": true
   },
   "outputs": [],
   "source": []
  },
  {
   "cell_type": "code",
   "execution_count": 77,
   "metadata": {
    "collapsed": true
   },
   "outputs": [],
   "source": [
    "submission = pd.merge(work_answer, home_answer, on='customer_id', how='left')"
   ]
  },
  {
   "cell_type": "code",
   "execution_count": 78,
   "metadata": {
    "collapsed": true
   },
   "outputs": [],
   "source": [
    "submission.columns = ['_ID_', '_WORK_LAT_', '_WORK_LON_', '_HOME_LAT_', '_HOME_LON_']\n",
    "submission.index = submission._ID_\n",
    "submission.drop(\"_ID_\", axis=1, inplace=True)"
   ]
  },
  {
   "cell_type": "code",
   "execution_count": 79,
   "metadata": {
    "collapsed": false
   },
   "outputs": [
    {
     "name": "stdout",
     "output_type": "stream",
     "text": [
      "<class 'pandas.core.frame.DataFrame'>\n",
      "Index: 9997 entries, 00021683ccb416637fe9a4cd35e4606e to ffebf4ea02c72183128d966721976ec9\n",
      "Data columns (total 4 columns):\n",
      "_WORK_LAT_    9997 non-null float64\n",
      "_WORK_LON_    9997 non-null float64\n",
      "_HOME_LAT_    9997 non-null float64\n",
      "_HOME_LON_    9997 non-null float64\n",
      "dtypes: float64(4)\n",
      "memory usage: 390.5+ KB\n"
     ]
    }
   ],
   "source": [
    "submission.info()"
   ]
  },
  {
   "cell_type": "code",
   "execution_count": 80,
   "metadata": {
    "collapsed": true
   },
   "outputs": [],
   "source": [
    "submission.to_csv(r'...\\subs\\sub44.csv')"
   ]
  },
  {
   "cell_type": "code",
   "execution_count": null,
   "metadata": {
    "collapsed": true
   },
   "outputs": [],
   "source": []
  },
  {
   "cell_type": "code",
   "execution_count": 88,
   "metadata": {
    "collapsed": false
   },
   "outputs": [
    {
     "data": {
      "text/plain": [
       "4919"
      ]
     },
     "execution_count": 88,
     "metadata": {},
     "output_type": "execute_result"
    }
   ],
   "source": [
    "\"\"\"устанавливаем порог\"\"\"\n",
    "low_prob_level_id = list(consolidated[(consolidated.w1 >= 0.2) & (consolidated.h1 >= 0.2)]['customer_id'].unique())\n",
    "consolidated[(consolidated.w1 >= 0.2) & (consolidated.h1 >= 0.2)]['customer_id'].nunique()"
   ]
  },
  {
   "cell_type": "code",
   "execution_count": 89,
   "metadata": {
    "collapsed": true
   },
   "outputs": [],
   "source": [
    "\"\"\"берем только те ID, в которых есть больше 2 кластеров (не считая -1 кластер)\"\"\"\n",
    "with_two_or_more_clusters = consolidated[(consolidated.clusters >= 0)].groupby('customer_id')['clusters'].nunique().reset_index()\n",
    "with_two_or_more_clusters = list(with_two_or_more_clusters[with_two_or_more_clusters.clusters >= 2]['customer_id'])\n",
    "\n",
    "\"\"\"выбираем ID, которые следует проверить\"\"\"\n",
    "id_to_change = list(set(list(with_two_or_more_clusters)) - \n",
    "                    set(low_prob_level_id))\n",
    "\n",
    "df_to_choose_clusters = consolidated[consolidated.customer_id.isin(id_to_change)].groupby(\n",
    "    ['customer_id', 'clusters'])[['w1','h1']].median().reset_index()\n",
    "\n",
    "df_to_choose_clusters = pd.concat([df_to_choose_clusters, \n",
    "                                   df_to_choose_clusters.groupby('customer_id')[['w1', 'h1']].transform(max)], axis=1)\n",
    "df_to_choose_clusters.columns = ['customer_id', 'clusters', 'w1', 'h1', 'w1_max', 'h1_max']\n",
    "\n",
    "\"добавляем 2, чтобы убрать 0\"\n",
    "df_to_choose_clusters['clusters'] = df_to_choose_clusters['clusters'] + 2\n",
    "\n",
    "\"\"\"выбираем лидеров по ID: work/home; для них закрепляем опредленный кластер\"\"\"\n",
    "df_to_choose_clusters['wm'] = (df_to_choose_clusters['w1'] == df_to_choose_clusters['w1_max']).astype(int)\n",
    "df_to_choose_clusters['hm'] = (df_to_choose_clusters['h1'] == df_to_choose_clusters['h1_max']).astype(int)\n",
    "df_to_choose_clusters['wh'] = (df_to_choose_clusters['w1_max'] > df_to_choose_clusters['h1_max']).astype(int)\n",
    "df_to_choose_clusters['hw'] = (df_to_choose_clusters['w1_max'] < df_to_choose_clusters['h1_max']).astype(int)\n",
    "\n",
    "df_to_choose_clusters['w_cl'] = df_to_choose_clusters['wh'] * df_to_choose_clusters['wm'] * df_to_choose_clusters['clusters']\n",
    "df_to_choose_clusters['h_cl'] = df_to_choose_clusters['hw'] * df_to_choose_clusters['hm'] * df_to_choose_clusters['clusters']\n",
    "\n",
    "\"\"\"группируем по ID и возвращаем реальные значения кластеров\"\"\"\n",
    "df_to_choose_clusters = df_to_choose_clusters.groupby('customer_id')[['w_cl', 'h_cl']].sum().reset_index()\n",
    "df_to_choose_clusters['w_cl'] = df_to_choose_clusters['w_cl'] - 2\n",
    "df_to_choose_clusters['h_cl'] = df_to_choose_clusters['h_cl'] - 2\n",
    "df_to_choose_clusters = df_to_choose_clusters.replace(-2,np.nan)"
   ]
  },
  {
   "cell_type": "code",
   "execution_count": 90,
   "metadata": {
    "collapsed": true
   },
   "outputs": [],
   "source": [
    "\"\"\"WORK mask\n",
    "    mask - ID+кластеры, которые должен изменить\"\"\"\n",
    "\n",
    "mask1 = df_to_choose_clusters[df_to_choose_clusters.h_cl.isnull()==0][\n",
    "    ['customer_id', 'h_cl']].rename(columns={'h_cl':'clusters'}).reset_index(drop=True)\n",
    "mask1.clusters = mask1.clusters.astype(int)\n",
    "mask1['marker'] = True\n",
    "\n",
    "\"\"\"создаем DF \"\"\"\n",
    "df1 = pd.merge(consolidated, mask1, on=['customer_id','clusters'], how='left')\n",
    "df1 = df1[df1.marker.isnull()].drop('marker', axis=1)\n",
    "df1 = df1[df1.customer_id.isin(mask1.customer_id)]"
   ]
  },
  {
   "cell_type": "code",
   "execution_count": 91,
   "metadata": {
    "collapsed": true
   },
   "outputs": [],
   "source": [
    "\"\"\"HOME mask\n",
    "    mask - ID+кластеры, которые должен изменить\"\"\"\n",
    "\n",
    "mask2 = df_to_choose_clusters[df_to_choose_clusters.w_cl.isnull()==0][\n",
    "    ['customer_id', 'w_cl']].rename(columns={'w_cl':'clusters'}).reset_index(drop=True)\n",
    "mask2.clusters = mask2.clusters.astype(int)\n",
    "mask2['marker'] = True\n",
    "\n",
    "\"\"\"создаем DF \"\"\"\n",
    "df2 = pd.merge(consolidated, mask2, on=['customer_id','clusters'], how='left')\n",
    "df2 = df2[df2.marker.isnull()].drop('marker', axis=1)\n",
    "df2 = df2[df2.customer_id.isin(mask2.customer_id)]"
   ]
  },
  {
   "cell_type": "code",
   "execution_count": 92,
   "metadata": {
    "collapsed": false
   },
   "outputs": [
    {
     "data": {
      "text/plain": [
       "(2632, 1858)"
      ]
     },
     "execution_count": 92,
     "metadata": {},
     "output_type": "execute_result"
    }
   ],
   "source": [
    "df1.customer_id.nunique(), df2.customer_id.nunique()"
   ]
  },
  {
   "cell_type": "code",
   "execution_count": 93,
   "metadata": {
    "collapsed": false
   },
   "outputs": [
    {
     "data": {
      "text/plain": [
       "(2632, 1858)"
      ]
     },
     "execution_count": 93,
     "metadata": {},
     "output_type": "execute_result"
    }
   ],
   "source": [
    "df1[df1.clusters>= 0].customer_id.nunique(), df2[df2.clusters>= 0].customer_id.nunique(),"
   ]
  },
  {
   "cell_type": "code",
   "execution_count": 94,
   "metadata": {
    "collapsed": true
   },
   "outputs": [],
   "source": [
    "df1 = df1[df1.clusters>= 0]\n",
    "df2 = df2[df2.clusters>= 0]"
   ]
  },
  {
   "cell_type": "code",
   "execution_count": null,
   "metadata": {
    "collapsed": true
   },
   "outputs": [],
   "source": []
  },
  {
   "cell_type": "code",
   "execution_count": 95,
   "metadata": {
    "collapsed": true
   },
   "outputs": [],
   "source": [
    "un_gps_only = df1.groupby(['customer_id', 'gps']).agg({'w_dist_prob': [np.size, np.median]}).reset_index()\n",
    "un_gps_only.columns = un_gps_only.columns.droplevel(1)\n",
    "un_gps_only.columns = ['customer_id', 'gps', 'count', 'mean']"
   ]
  },
  {
   "cell_type": "code",
   "execution_count": 96,
   "metadata": {
    "collapsed": true
   },
   "outputs": [],
   "source": [
    "un_gps_only = un_gps_only.groupby('customer_id').apply(top, n=5, column='mean')\n",
    "un_gps_only.reset_index(drop=True, inplace=True)\n",
    "un_gps_only['address_lat'] = un_gps_only['gps'].map(lambda x: str(x).split(',')[0]).apply(float)\n",
    "un_gps_only['address_lon'] = un_gps_only['gps'].map(lambda x: str(x).split(',')[1]).apply(float)"
   ]
  },
  {
   "cell_type": "code",
   "execution_count": 97,
   "metadata": {
    "collapsed": true
   },
   "outputs": [],
   "source": [
    "un_gps_only['max_prob'] = un_gps_only.groupby(['customer_id'])['mean'].transform(max)\n",
    "max_prob_key = pd.DataFrame(un_gps_only.groupby(['customer_id'])['mean'].max()).reset_index()\n",
    "max_prob_key = pd.merge(max_prob_key, un_gps_only[['customer_id', 'mean', 'address_lat', 'address_lon']], \n",
    "         on=['customer_id', 'mean'], how='left')\n",
    "un_gps_only = pd.merge(un_gps_only, max_prob_key[['customer_id', 'address_lat', 'address_lon']], on='customer_id', how='left')"
   ]
  },
  {
   "cell_type": "code",
   "execution_count": 98,
   "metadata": {
    "collapsed": false
   },
   "outputs": [
    {
     "name": "stdout",
     "output_type": "stream",
     "text": [
      "0.8210637887839661\n"
     ]
    }
   ],
   "source": [
    "proximity_radius = 0.04\n",
    "un_gps_only['is_close'] = (un_gps_only['address_lat_x'].between(un_gps_only['address_lat_y'] - proximity_radius, \n",
    "                                      un_gps_only['address_lat_y'] + proximity_radius, inclusive=True) &\n",
    " un_gps_only['address_lon_x'].between(un_gps_only['address_lon_y'] - proximity_radius, \n",
    "                                      un_gps_only['address_lon_y'] + proximity_radius, inclusive=True)).astype(int)\n",
    "\n",
    "un_gps_only['is_close'].sum() / len(un_gps_only['is_close'])\n",
    "un_gps_only_nearest_points = un_gps_only[un_gps_only.is_close == 1]\n",
    "print(len(un_gps_only_nearest_points) / len(un_gps_only))"
   ]
  },
  {
   "cell_type": "code",
   "execution_count": 99,
   "metadata": {
    "collapsed": true
   },
   "outputs": [],
   "source": [
    "work_lat_answer_adj = pd.DataFrame(weighted_average(un_gps_only_nearest_points, data_col='address_lat_x', \n",
    "                                                weight_col='mean', by_col='customer_id')).reset_index()\n",
    "work_lon_answer_adj = pd.DataFrame(weighted_average(un_gps_only_nearest_points, data_col='address_lon_x', \n",
    "                                                weight_col='mean', by_col='customer_id')).reset_index()\n",
    "work_answer_adj = pd.merge(work_lat_answer_adj, work_lon_answer_adj, on='customer_id', how='left')"
   ]
  },
  {
   "cell_type": "code",
   "execution_count": 100,
   "metadata": {
    "collapsed": false
   },
   "outputs": [
    {
     "data": {
      "text/plain": [
       "2632"
      ]
     },
     "execution_count": 100,
     "metadata": {},
     "output_type": "execute_result"
    }
   ],
   "source": [
    "len(work_answer_adj)"
   ]
  },
  {
   "cell_type": "code",
   "execution_count": null,
   "metadata": {
    "collapsed": true
   },
   "outputs": [],
   "source": []
  },
  {
   "cell_type": "code",
   "execution_count": 101,
   "metadata": {
    "collapsed": true
   },
   "outputs": [],
   "source": [
    "un_gps_only = df2.groupby(['customer_id', 'gps']).agg({'h_dist_prob': [np.size, np.median]}).reset_index()\n",
    "un_gps_only.columns = un_gps_only.columns.droplevel(1)\n",
    "un_gps_only.columns = ['customer_id', 'gps', 'count', 'mean']"
   ]
  },
  {
   "cell_type": "code",
   "execution_count": 102,
   "metadata": {
    "collapsed": true
   },
   "outputs": [],
   "source": [
    "un_gps_only = un_gps_only.groupby('customer_id').apply(top, n=5, column='mean')\n",
    "un_gps_only.reset_index(drop=True, inplace=True)\n",
    "un_gps_only['address_lat'] = un_gps_only['gps'].map(lambda x: str(x).split(',')[0]).apply(float)\n",
    "un_gps_only['address_lon'] = un_gps_only['gps'].map(lambda x: str(x).split(',')[1]).apply(float)"
   ]
  },
  {
   "cell_type": "code",
   "execution_count": 103,
   "metadata": {
    "collapsed": true
   },
   "outputs": [],
   "source": [
    "un_gps_only['max_prob'] = un_gps_only.groupby(['customer_id'])['mean'].transform(max)\n",
    "max_prob_key = pd.DataFrame(un_gps_only.groupby(['customer_id'])['mean'].max()).reset_index()\n",
    "max_prob_key = pd.merge(max_prob_key, un_gps_only[['customer_id', 'mean', 'address_lat', 'address_lon']], \n",
    "         on=['customer_id', 'mean'], how='left')\n",
    "un_gps_only = pd.merge(un_gps_only, max_prob_key[['customer_id', 'address_lat', 'address_lon']], on='customer_id', how='left')"
   ]
  },
  {
   "cell_type": "code",
   "execution_count": 104,
   "metadata": {
    "collapsed": false
   },
   "outputs": [
    {
     "name": "stdout",
     "output_type": "stream",
     "text": [
      "0.8809865900383141\n"
     ]
    }
   ],
   "source": [
    "proximity_radius = 0.04\n",
    "un_gps_only['is_close'] = (un_gps_only['address_lat_x'].between(un_gps_only['address_lat_y'] - proximity_radius, \n",
    "                                      un_gps_only['address_lat_y'] + proximity_radius, inclusive=True) &\n",
    " un_gps_only['address_lon_x'].between(un_gps_only['address_lon_y'] - proximity_radius, \n",
    "                                      un_gps_only['address_lon_y'] + proximity_radius, inclusive=True)).astype(int)\n",
    "\n",
    "un_gps_only['is_close'].sum() / len(un_gps_only['is_close'])\n",
    "un_gps_only_nearest_points = un_gps_only[un_gps_only.is_close == 1]\n",
    "print(len(un_gps_only_nearest_points) / len(un_gps_only))"
   ]
  },
  {
   "cell_type": "code",
   "execution_count": 105,
   "metadata": {
    "collapsed": true
   },
   "outputs": [],
   "source": [
    "home_lat_answer_adj = pd.DataFrame(weighted_average(un_gps_only_nearest_points, data_col='address_lat_x', \n",
    "                                                weight_col='mean', by_col='customer_id')).reset_index()\n",
    "home_lon_answer_adj = pd.DataFrame(weighted_average(un_gps_only_nearest_points, data_col='address_lon_x', \n",
    "                                                weight_col='mean', by_col='customer_id')).reset_index()\n",
    "home_answer_adj = pd.merge(home_lat_answer_adj, home_lon_answer_adj, on='customer_id', how='left')"
   ]
  },
  {
   "cell_type": "code",
   "execution_count": 106,
   "metadata": {
    "collapsed": false
   },
   "outputs": [
    {
     "data": {
      "text/plain": [
       "1858"
      ]
     },
     "execution_count": 106,
     "metadata": {},
     "output_type": "execute_result"
    }
   ],
   "source": [
    "len(home_answer_adj)"
   ]
  },
  {
   "cell_type": "code",
   "execution_count": null,
   "metadata": {
    "collapsed": true
   },
   "outputs": [],
   "source": []
  },
  {
   "cell_type": "code",
   "execution_count": 107,
   "metadata": {
    "collapsed": true
   },
   "outputs": [],
   "source": [
    "\"\"\"что делаем с разными городами ???\"\"\"\n",
    "\n",
    "w = work_answer.merge(work_answer_adj, on='customer_id', how='left')\n",
    "h = home_answer.merge(home_answer_adj, on='customer_id', how='left')"
   ]
  },
  {
   "cell_type": "code",
   "execution_count": 108,
   "metadata": {
    "collapsed": true
   },
   "outputs": [],
   "source": [
    "w['0_x_y'] = w['0_x_y'].fillna(w['0_x_x'])\n",
    "w['0_y_y'] = w['0_y_y'].fillna(w['0_y_x'])\n",
    "w.drop(w.columns[1:3], axis=1, inplace=True)\n",
    "\n",
    "h['0_x_y'] = h['0_x_y'].fillna(h['0_x_x'])\n",
    "h['0_y_y'] = h['0_y_y'].fillna(h['0_y_x'])\n",
    "h.drop(h.columns[1:3], axis=1, inplace=True)"
   ]
  },
  {
   "cell_type": "code",
   "execution_count": 109,
   "metadata": {
    "collapsed": true
   },
   "outputs": [],
   "source": [
    "submission = pd.merge(w, h, on='customer_id', how='left')"
   ]
  },
  {
   "cell_type": "code",
   "execution_count": 110,
   "metadata": {
    "collapsed": true
   },
   "outputs": [],
   "source": [
    "submission.columns = ['_ID_', '_WORK_LAT_', '_WORK_LON_', '_HOME_LAT_', '_HOME_LON_']\n",
    "submission.index = submission._ID_\n",
    "submission.drop(\"_ID_\", axis=1, inplace=True)"
   ]
  },
  {
   "cell_type": "code",
   "execution_count": 112,
   "metadata": {
    "collapsed": false
   },
   "outputs": [
    {
     "data": {
      "text/html": [
       "<div>\n",
       "<table border=\"1\" class=\"dataframe\">\n",
       "  <thead>\n",
       "    <tr style=\"text-align: right;\">\n",
       "      <th></th>\n",
       "      <th>_WORK_LAT_</th>\n",
       "      <th>_WORK_LON_</th>\n",
       "      <th>_HOME_LAT_</th>\n",
       "      <th>_HOME_LON_</th>\n",
       "    </tr>\n",
       "    <tr>\n",
       "      <th>_ID_</th>\n",
       "      <th></th>\n",
       "      <th></th>\n",
       "      <th></th>\n",
       "      <th></th>\n",
       "    </tr>\n",
       "  </thead>\n",
       "  <tbody>\n",
       "    <tr>\n",
       "      <th>00021683ccb416637fe9a4cd35e4606e</th>\n",
       "      <td>55.033640</td>\n",
       "      <td>82.973705</td>\n",
       "      <td>55.039727</td>\n",
       "      <td>82.980388</td>\n",
       "    </tr>\n",
       "    <tr>\n",
       "      <th>0002d0f8a642272b41c292c12ab6e602</th>\n",
       "      <td>53.199818</td>\n",
       "      <td>50.173374</td>\n",
       "      <td>44.031992</td>\n",
       "      <td>42.836928</td>\n",
       "    </tr>\n",
       "    <tr>\n",
       "      <th>0004d182d9fede3ba2534b2d5e5ad27e</th>\n",
       "      <td>43.587112</td>\n",
       "      <td>39.725958</td>\n",
       "      <td>43.594270</td>\n",
       "      <td>39.725548</td>\n",
       "    </tr>\n",
       "    <tr>\n",
       "      <th>0008c2445518c9392cb356c5c3db3392</th>\n",
       "      <td>51.530492</td>\n",
       "      <td>46.034490</td>\n",
       "      <td>51.531920</td>\n",
       "      <td>46.032165</td>\n",
       "    </tr>\n",
       "    <tr>\n",
       "      <th>000b373cc4969c0be8e0933c08da67e1</th>\n",
       "      <td>56.319286</td>\n",
       "      <td>43.925818</td>\n",
       "      <td>56.236605</td>\n",
       "      <td>43.459858</td>\n",
       "    </tr>\n",
       "  </tbody>\n",
       "</table>\n",
       "</div>"
      ],
      "text/plain": [
       "                                  _WORK_LAT_  _WORK_LON_  _HOME_LAT_  \\\n",
       "_ID_                                                                   \n",
       "00021683ccb416637fe9a4cd35e4606e   55.033640   82.973705   55.039727   \n",
       "0002d0f8a642272b41c292c12ab6e602   53.199818   50.173374   44.031992   \n",
       "0004d182d9fede3ba2534b2d5e5ad27e   43.587112   39.725958   43.594270   \n",
       "0008c2445518c9392cb356c5c3db3392   51.530492   46.034490   51.531920   \n",
       "000b373cc4969c0be8e0933c08da67e1   56.319286   43.925818   56.236605   \n",
       "\n",
       "                                  _HOME_LON_  \n",
       "_ID_                                          \n",
       "00021683ccb416637fe9a4cd35e4606e   82.980388  \n",
       "0002d0f8a642272b41c292c12ab6e602   42.836928  \n",
       "0004d182d9fede3ba2534b2d5e5ad27e   39.725548  \n",
       "0008c2445518c9392cb356c5c3db3392   46.032165  \n",
       "000b373cc4969c0be8e0933c08da67e1   43.459858  "
      ]
     },
     "execution_count": 112,
     "metadata": {},
     "output_type": "execute_result"
    }
   ],
   "source": [
    "submission.head()"
   ]
  },
  {
   "cell_type": "code",
   "execution_count": 113,
   "metadata": {
    "collapsed": false
   },
   "outputs": [
    {
     "data": {
      "text/plain": [
       "162"
      ]
     },
     "execution_count": 113,
     "metadata": {},
     "output_type": "execute_result"
    }
   ],
   "source": [
    "(((sub38['_WORK_LON_'] - submission['_WORK_LON_'].values) > 2) | \n",
    " ((sub38['_WORK_LAT_'] - submission['_WORK_LAT_'].values) > 2) | \n",
    " ((sub38['_HOME_LON_'] - submission['_HOME_LON_'].values) > 2) | \n",
    "((sub38['_HOME_LAT_'] - submission['_HOME_LAT_'].values) > 2) ).sum()"
   ]
  },
  {
   "cell_type": "code",
   "execution_count": null,
   "metadata": {
    "collapsed": true
   },
   "outputs": [],
   "source": []
  },
  {
   "cell_type": "code",
   "execution_count": 114,
   "metadata": {
    "collapsed": true
   },
   "outputs": [],
   "source": [
    "submission.to_csv(r'...\\subs\\sub45.csv')"
   ]
  },
  {
   "cell_type": "code",
   "execution_count": 534,
   "metadata": {
    "collapsed": false
   },
   "outputs": [
    {
     "name": "stdout",
     "output_type": "stream",
     "text": [
      "<class 'pandas.core.frame.DataFrame'>\n",
      "Index: 9997 entries, 00021683ccb416637fe9a4cd35e4606e to ffebf4ea02c72183128d966721976ec9\n",
      "Data columns (total 4 columns):\n",
      "_WORK_LAT_    9997 non-null float64\n",
      "_WORK_LON_    9997 non-null float64\n",
      "_HOME_LAT_    9997 non-null float64\n",
      "_HOME_LON_    9997 non-null float64\n",
      "dtypes: float64(4)\n",
      "memory usage: 390.5+ KB\n"
     ]
    }
   ],
   "source": [
    "submission.info()"
   ]
  },
  {
   "cell_type": "code",
   "execution_count": null,
   "metadata": {
    "collapsed": true
   },
   "outputs": [],
   "source": []
  },
  {
   "cell_type": "code",
   "execution_count": null,
   "metadata": {
    "collapsed": true
   },
   "outputs": [],
   "source": [
    "\"\"\"\n",
    "0002d0f8a642272b41c292c12ab6e602\n",
    "ff4e78a42acf6bbb27d1678dc0f0e5a1\n",
    "\"\"\""
   ]
  },
  {
   "cell_type": "code",
   "execution_count": 115,
   "metadata": {
    "collapsed": false
   },
   "outputs": [
    {
     "data": {
      "text/plain": [
       "0.42202660798239472"
      ]
     },
     "execution_count": 115,
     "metadata": {},
     "output_type": "execute_result"
    }
   ],
   "source": [
    "(submission['_WORK_LAT_'].between(submission['_HOME_LAT_'] - RADIUS, \n",
    "                                      submission['_HOME_LAT_'] + RADIUS, inclusive=True) &\n",
    " (submission['_WORK_LON_'].between(submission['_HOME_LON_'] - RADIUS, \n",
    "                                      submission['_HOME_LON_'] + RADIUS, inclusive=True))).astype(int).sum() / 9997"
   ]
  },
  {
   "cell_type": "code",
   "execution_count": null,
   "metadata": {
    "collapsed": true
   },
   "outputs": [],
   "source": []
  },
  {
   "cell_type": "code",
   "execution_count": null,
   "metadata": {
    "collapsed": true
   },
   "outputs": [],
   "source": []
  },
  {
   "cell_type": "code",
   "execution_count": null,
   "metadata": {
    "collapsed": true
   },
   "outputs": [],
   "source": []
  }
 ],
 "metadata": {
  "kernelspec": {
   "display_name": "Python 3",
   "language": "python",
   "name": "python3"
  },
  "language_info": {
   "codemirror_mode": {
    "name": "ipython",
    "version": 3
   },
   "file_extension": ".py",
   "mimetype": "text/x-python",
   "name": "python",
   "nbconvert_exporter": "python",
   "pygments_lexer": "ipython3",
   "version": "3.6.2"
  }
 },
 "nbformat": 4,
 "nbformat_minor": 2
}
