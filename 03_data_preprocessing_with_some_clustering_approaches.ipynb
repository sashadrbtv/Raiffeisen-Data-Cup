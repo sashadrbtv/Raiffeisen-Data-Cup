{
 "cells": [
  {
   "cell_type": "code",
   "execution_count": null,
   "metadata": {
    "collapsed": true
   },
   "outputs": [],
   "source": [
    "\"\"\"\n",
    "TRY:\n",
    "1) K-means\n",
    "2) Mini Batch K-Means\n",
    "3) DBSCAN: https://github.com/gboeing/urban-data-science/blob/master/15-Spatial-Cluster-Analysis/cluster-analysis.ipynb \n",
    "    \n",
    "\"\"\""
   ]
  },
  {
   "cell_type": "code",
   "execution_count": 2,
   "metadata": {
    "collapsed": true
   },
   "outputs": [],
   "source": [
    "import numpy as np\n",
    "import pandas as pd\n",
    "\n",
    "import math\n",
    "import os\n",
    "\n",
    "from sklearn.preprocessing import LabelEncoder, OneHotEncoder\n",
    "\n",
    "%matplotlib inline\n",
    "import matplotlib.pyplot as plt\n",
    "\n",
    "\n",
    "os.chdir(\"/.../\")\n",
    "\n",
    "pd.options.mode.chained_assignment = None  # default='warn'\n",
    "\n",
    "from tqdm import tnrange, tqdm_notebook"
   ]
  },
  {
   "cell_type": "code",
   "execution_count": 3,
   "metadata": {
    "collapsed": true
   },
   "outputs": [],
   "source": [
    "data = {'tra': pd.read_csv('train_set.csv', \n",
    "                           error_bad_lines=False, index_col=False, dtype='unicode'),\n",
    "        'tes': pd.read_csv('test_set.csv', \n",
    "                           error_bad_lines=False, index_col=False, dtype='unicode'),\n",
    "        'sub': pd.read_csv('sample.csv')       }\n",
    "\n",
    "data['tra'] = data['tra'].rename(columns={'pos_adress_lat':'pos_address_lat', 'pos_adress_lon':'pos_address_lon'})"
   ]
  },
  {
   "cell_type": "code",
   "execution_count": null,
   "metadata": {
    "collapsed": true
   },
   "outputs": [],
   "source": []
  },
  {
   "cell_type": "code",
   "execution_count": 4,
   "metadata": {
    "collapsed": true
   },
   "outputs": [],
   "source": [
    "\"\"\"убираем транзакции без координат (initial train)\"\"\"\n",
    "\n",
    "data['tra']['address_lat'] = data['tra']['pos_address_lat'].fillna(data['tra']['atm_address_lat'])\n",
    "data['tra']['address_lon'] = data['tra']['pos_address_lon'].fillna(data['tra']['atm_address_lon'])\n",
    "\n",
    "data['tra'] = data['tra'][data['tra']['address_lat'].isnull()==0]\n",
    "\n",
    "data['tra']['gps'] = data['tra']['address_lat'].apply(str) + ', ' + data['tra']['address_lon'].apply(str)"
   ]
  },
  {
   "cell_type": "code",
   "execution_count": 5,
   "metadata": {
    "collapsed": true
   },
   "outputs": [],
   "source": [
    "\"\"\"убираем транзакции без координат (initial test)\"\"\"\n",
    "\n",
    "data['tes']['address_lat'] = data['tes']['pos_address_lat'].fillna(data['tes']['atm_address_lat'])\n",
    "data['tes']['address_lon'] = data['tes']['pos_address_lon'].fillna(data['tes']['atm_address_lon'])\n",
    "\n",
    "data['tes'] = data['tes'][data['tes']['address_lat'].isnull()==0]\n",
    "\n",
    "data['tes']['gps'] = data['tes']['address_lat'].apply(str) + ', ' + data['tes']['address_lon'].apply(str)"
   ]
  },
  {
   "cell_type": "code",
   "execution_count": 5,
   "metadata": {
    "collapsed": false
   },
   "outputs": [
    {
     "data": {
      "text/plain": [
       "(1127294, 1166971)"
      ]
     },
     "execution_count": 5,
     "metadata": {},
     "output_type": "execute_result"
    }
   ],
   "source": [
    "len(data['tra']), len(data['tes'])"
   ]
  },
  {
   "cell_type": "code",
   "execution_count": null,
   "metadata": {
    "collapsed": true
   },
   "outputs": [],
   "source": [
    "\"\"\"дубликаты, страна, работа+дом\"\"\""
   ]
  },
  {
   "cell_type": "code",
   "execution_count": 6,
   "metadata": {
    "collapsed": false
   },
   "outputs": [
    {
     "name": "stdout",
     "output_type": "stream",
     "text": [
      "Кол-во координат уникальных домов: 10146 Кол-во координат уникального места работы: 4584\n"
     ]
    }
   ],
   "source": [
    "\"\"\"убираем id с задвоением дома и работы\"\"\"\n",
    "\n",
    "data['tra']['home_add'] = data['tra'].home_add_lat + ', ' + data['tra'].home_add_lon\n",
    "data['tra']['work_add'] = data['tra'].work_add_lat + ', ' + data['tra'].work_add_lon\n",
    "\n",
    "unique_home_add = data['tra'][['customer_id','home_add']].groupby('customer_id')['home_add'].nunique()\n",
    "unique_work_add = data['tra'][['customer_id','work_add']].groupby('customer_id')['work_add'].nunique()\n",
    "\n",
    "#len(unique_address.sort_values(ascending=0)[:337]), len(unique_work_add.sort_values(ascending=0)[:48])\n",
    "print(\"Кол-во координат уникальных домов: {}\".format(data['tra']['home_add'].nunique()), \n",
    "      \"Кол-во координат уникального места работы: {}\".format(data['tra']['work_add'].nunique()))"
   ]
  },
  {
   "cell_type": "code",
   "execution_count": 7,
   "metadata": {
    "collapsed": false
   },
   "outputs": [
    {
     "name": "stdout",
     "output_type": "stream",
     "text": [
      "Кол-во id с 1 домом: 9664 Кол-во id с 1 работой: 5110\n",
      "Кол-во id с 1 домом и 1 работой: 4860\n"
     ]
    }
   ],
   "source": [
    "\"\"\"уникальные id, которые имееют 1 дом и 1 работу\"\"\"\n",
    "\n",
    "print(\"Кол-во id с 1 домом: {}\".format(len(unique_home_add[unique_home_add == 1])), \n",
    "      \"Кол-во id с 1 работой: {}\".format(len(unique_work_add[unique_work_add == 1])))\n",
    "\n",
    "train_ids = list(set(list(unique_home_add[unique_home_add == 1].index)) - \n",
    "                 set(list(set(list(unique_home_add[unique_home_add == 1].index)) - \n",
    "                          set(list(unique_work_add[unique_work_add == 1].index)))))\n",
    "#второй вариант расчёта:\n",
    "#list([x for x in list(unique_work_add[unique_work_add == 1].index) if x in list(unique_home_add[unique_home_add == 1].index)])\n",
    "print(\"Кол-во id с 1 домом и 1 работой: {}\".format(len(train_ids)))"
   ]
  },
  {
   "cell_type": "code",
   "execution_count": 8,
   "metadata": {
    "collapsed": true
   },
   "outputs": [],
   "source": [
    "train_ids = pd.DataFrame(train_ids, columns=['customer_id'])\n",
    "train_ids['train_ids'] = 1"
   ]
  },
  {
   "cell_type": "code",
   "execution_count": 9,
   "metadata": {
    "collapsed": true
   },
   "outputs": [],
   "source": [
    "\"\"\"создаем очищенный датасет для обучения\"\"\"\n",
    "train_df = pd.merge(data['tra'], train_ids, on='customer_id', how='left')\n",
    "train_df = train_df[train_df['train_ids']==1]\n",
    "train_df.drop('train_ids', axis=1, inplace=True)\n",
    "\n",
    "\"\"\"убираем гр-на с nan в графе место жительства\"\"\"\n",
    "train_df = train_df[train_df.customer_id !='1a7ea74837f017610970ae508dcd0c26']"
   ]
  },
  {
   "cell_type": "code",
   "execution_count": 10,
   "metadata": {
    "collapsed": false
   },
   "outputs": [
    {
     "data": {
      "text/plain": [
       "4859"
      ]
     },
     "execution_count": 10,
     "metadata": {},
     "output_type": "execute_result"
    }
   ],
   "source": [
    "len(train_df.customer_id.unique())"
   ]
  },
  {
   "cell_type": "code",
   "execution_count": 11,
   "metadata": {
    "collapsed": true
   },
   "outputs": [],
   "source": [
    "\"\"\"добавляем стоблец 'тип транзакции' в трейн и тест, исправляем ошибку в кодах категории покупок в тесте \"\"\"\n",
    "train_df['tr_type'] = np.where(train_df['pos_address_lat'].isnull(), 0, 1)   #atm = 0, pos = 1\n",
    "\n",
    "test_df = data['tes'].copy()\n",
    "test_df['tr_type'] = np.where(test_df['pos_address_lat'].isnull(), 0, 1)   #atm = 0, pos = 1\n",
    "test_df['mcc'] = test_df['mcc'].map(lambda x: str(x).replace(',', ''))"
   ]
  },
  {
   "cell_type": "code",
   "execution_count": 12,
   "metadata": {
    "collapsed": true
   },
   "outputs": [],
   "source": [
    "\"\"\"убираем ненужные столбцы: atm_address, atm_address_lat, atm_address_lon, \n",
    "    city, country, pos_address, pos_address_lat, pos_address_lon \"\"\"\n",
    "\n",
    "train_df = train_df.drop(['atm_address', 'atm_address_lat', 'atm_address_lon', 'city', \n",
    "                   'country', 'pos_address', 'pos_address_lat', 'pos_address_lon'], axis=1)\n",
    "test_df = test_df.drop(['atm_address', 'atm_address_lat', 'atm_address_lon', 'city', \n",
    "                   'country', 'pos_address', 'pos_address_lat', 'pos_address_lon'], axis=1)"
   ]
  },
  {
   "cell_type": "code",
   "execution_count": 13,
   "metadata": {
    "collapsed": false
   },
   "outputs": [
    {
     "data": {
      "text/html": [
       "<div>\n",
       "<table border=\"1\" class=\"dataframe\">\n",
       "  <thead>\n",
       "    <tr style=\"text-align: right;\">\n",
       "      <th></th>\n",
       "      <th>amount</th>\n",
       "      <th>currency</th>\n",
       "      <th>customer_id</th>\n",
       "      <th>mcc</th>\n",
       "      <th>terminal_id</th>\n",
       "      <th>transaction_date</th>\n",
       "      <th>address_lat</th>\n",
       "      <th>address_lon</th>\n",
       "      <th>gps</th>\n",
       "      <th>tr_type</th>\n",
       "    </tr>\n",
       "  </thead>\n",
       "  <tbody>\n",
       "    <tr>\n",
       "      <th>0</th>\n",
       "      <td>2.2118182443000003</td>\n",
       "      <td>643.0</td>\n",
       "      <td>00fd410f5c580c8351cafa88d82b60f3</td>\n",
       "      <td>5411</td>\n",
       "      <td>ff0476dae4b098a7b16aabe93d4268df</td>\n",
       "      <td>2017-08-24</td>\n",
       "      <td>55.967487399999996</td>\n",
       "      <td>37.9136824</td>\n",
       "      <td>55.967487399999996, 37.9136824</td>\n",
       "      <td>1</td>\n",
       "    </tr>\n",
       "    <tr>\n",
       "      <th>1</th>\n",
       "      <td>1.3313791018</td>\n",
       "      <td>643.0</td>\n",
       "      <td>00fd410f5c580c8351cafa88d82b60f3</td>\n",
       "      <td>4111</td>\n",
       "      <td>7cfd9a60282459d4692ecc85b856072e</td>\n",
       "      <td>2017-08-12</td>\n",
       "      <td>55.9712958</td>\n",
       "      <td>37.9051843</td>\n",
       "      <td>55.9712958, 37.9051843</td>\n",
       "      <td>1</td>\n",
       "    </tr>\n",
       "    <tr>\n",
       "      <th>2</th>\n",
       "      <td>2.6080035353</td>\n",
       "      <td>643.0</td>\n",
       "      <td>00fd410f5c580c8351cafa88d82b60f3</td>\n",
       "      <td>5411</td>\n",
       "      <td>7e5a532f0029861d8a9c4f0479b9450b</td>\n",
       "      <td>2017-06-17</td>\n",
       "      <td>56.016591399999996</td>\n",
       "      <td>37.9090983</td>\n",
       "      <td>56.016591399999996, 37.9090983</td>\n",
       "      <td>1</td>\n",
       "    </tr>\n",
       "  </tbody>\n",
       "</table>\n",
       "</div>"
      ],
      "text/plain": [
       "               amount currency                       customer_id   mcc  \\\n",
       "0  2.2118182443000003    643.0  00fd410f5c580c8351cafa88d82b60f3  5411   \n",
       "1        1.3313791018    643.0  00fd410f5c580c8351cafa88d82b60f3  4111   \n",
       "2        2.6080035353    643.0  00fd410f5c580c8351cafa88d82b60f3  5411   \n",
       "\n",
       "                        terminal_id transaction_date         address_lat  \\\n",
       "0  ff0476dae4b098a7b16aabe93d4268df       2017-08-24  55.967487399999996   \n",
       "1  7cfd9a60282459d4692ecc85b856072e       2017-08-12          55.9712958   \n",
       "2  7e5a532f0029861d8a9c4f0479b9450b       2017-06-17  56.016591399999996   \n",
       "\n",
       "  address_lon                             gps  tr_type  \n",
       "0  37.9136824  55.967487399999996, 37.9136824        1  \n",
       "1  37.9051843          55.9712958, 37.9051843        1  \n",
       "2  37.9090983  56.016591399999996, 37.9090983        1  "
      ]
     },
     "execution_count": 13,
     "metadata": {},
     "output_type": "execute_result"
    }
   ],
   "source": [
    "test_df.head(3)"
   ]
  },
  {
   "cell_type": "code",
   "execution_count": null,
   "metadata": {
    "collapsed": true
   },
   "outputs": [],
   "source": [
    "\"\"\"объединяем выборки: запоминаем id для востановления\"\"\"\n",
    "\"\"\"добавить: обратный гекодинг (подтянуть информацию)\"\"\"\n",
    "\"\"\"анализируем получившиеся результаты после объединения\"\"\"\n",
    "\"\"\"раставляем одинаковые лейблы в трейне и тесте\"\"\""
   ]
  },
  {
   "cell_type": "code",
   "execution_count": 13,
   "metadata": {
    "collapsed": true
   },
   "outputs": [],
   "source": [
    "\"\"\"объединяем выборки\"\"\"\n",
    "inf_about_h_and_w_columns = ['home_add_lat', 'home_add_lon', 'work_add_lat', 'work_add_lon', 'home_add', 'work_add']\n",
    "train_and_test_together = pd.concat([train_df.drop(inf_about_h_and_w_columns, axis=1), test_df])\n",
    "\n",
    "\"\"\"запоминаем id для востановления\"\"\"\n",
    "test_customer_ids = pd.DataFrame(test_df.customer_id.unique(), columns=['customer_id'])\n",
    "test_customer_ids['test_sample'] = 1\n",
    "\n",
    "train_customer_ids_w_address = train_df[['customer_id','home_add_lat','home_add_lon', \n",
    "                                      'work_add_lat', 'work_add_lon']].drop_duplicates()\n",
    "\n",
    "train_and_test_together = pd.merge(train_and_test_together, test_customer_ids, on='customer_id', how='left')"
   ]
  },
  {
   "cell_type": "code",
   "execution_count": 14,
   "metadata": {
    "collapsed": false
   },
   "outputs": [
    {
     "data": {
      "text/plain": [
       "1713256"
      ]
     },
     "execution_count": 14,
     "metadata": {},
     "output_type": "execute_result"
    }
   ],
   "source": [
    "len(train_and_test_together)"
   ]
  },
  {
   "cell_type": "code",
   "execution_count": null,
   "metadata": {
    "collapsed": true
   },
   "outputs": [],
   "source": [
    "\"\"\"!!!!! добавить: обратный гекодинг (подтянуть информацию): два варианта\n",
    "    1) online: 50% загружено - вернуться позже,\n",
    "    2) offline: используем \"\"\""
   ]
  },
  {
   "cell_type": "code",
   "execution_count": null,
   "metadata": {
    "collapsed": true
   },
   "outputs": [],
   "source": [
    "reverse_geocoding_first = pd.read_excel(r'reverse geocoding\\xlsx\\2018_02_18_reverse_geocoding_train_pos.xlsx')\n",
    "reverse_geocoding_second = pd.read_excel(r'reverse geocoding\\xlsx\\2018_02_21_rg_third_calc_45520.xlsx')"
   ]
  },
  {
   "cell_type": "code",
   "execution_count": null,
   "metadata": {
    "collapsed": true
   },
   "outputs": [],
   "source": [
    "print(\"Первый файл (кол-во координат): {0}, Второй файл: {1} \".format(len(reverse_geocoding_first), \n",
    "                                                                      len(reverse_geocoding_second)))\n",
    "print(\"Общее количество уникальных координат: {}\".format(len(pd.Series(list(reverse_geocoding_first.gps.unique()) + \n",
    "                                                                       list(reverse_geocoding_second.gps.unique())).unique())))"
   ]
  },
  {
   "cell_type": "code",
   "execution_count": null,
   "metadata": {
    "collapsed": true
   },
   "outputs": [],
   "source": [
    "pd.merge(train_and_test_together, reverse_geocoding[['state','pos_lat_lon', 'country']], on=['gps'], how='left')"
   ]
  },
  {
   "cell_type": "code",
   "execution_count": null,
   "metadata": {
    "collapsed": true
   },
   "outputs": [],
   "source": []
  },
  {
   "cell_type": "code",
   "execution_count": 15,
   "metadata": {
    "collapsed": true
   },
   "outputs": [],
   "source": [
    "\"\"\"offline подход (быстрый): https://github.com/thampiman/reverse-geocoder \"\"\"\n",
    "import reverse_geocoder as rg\n",
    "\n",
    "train_and_test_together.address_lat = train_and_test_together.address_lat.apply(float)\n",
    "train_and_test_together.address_lon = train_and_test_together.address_lon.apply(float)\n",
    "\n",
    "latlon_subset = train_and_test_together[['address_lat', 'address_lon']]\n",
    "latlon_tuple = [tuple(x) for x in latlon_subset.values]"
   ]
  },
  {
   "cell_type": "code",
   "execution_count": 16,
   "metadata": {
    "collapsed": false
   },
   "outputs": [
    {
     "name": "stdout",
     "output_type": "stream",
     "text": [
      "Loading formatted geocoded file...\n"
     ]
    }
   ],
   "source": [
    "reverse_geo = rg.search(latlon_tuple)\n",
    "reverse_geo_df = pd.DataFrame(reverse_geo)"
   ]
  },
  {
   "cell_type": "code",
   "execution_count": null,
   "metadata": {
    "collapsed": true
   },
   "outputs": [],
   "source": [
    "\"\"\"сохраняем таблицы без дубликатов, admin1 - город\"\"\"\n",
    "reverse_geo_df.drop_duplicates().to_csv(r'C:\\Users\\drobotov\\python\\py_boosterspro\\Raiffeisen Data Cup\\\\\n",
    "data\\2018_02_22_reverse_geocoding.csv')\n",
    "latlon_subset.loc[reverse_geo_df.drop_duplicates().index,:].to_csv(r'C:\\Users\\drobotov\\python\\py_boosterspro\\\\\n",
    "Raiffeisen Data Cup\\\\\n",
    "data\\2018_02_22_reverse_geocoding_index_real_latlon.csv')"
   ]
  },
  {
   "cell_type": "code",
   "execution_count": 17,
   "metadata": {
    "collapsed": true
   },
   "outputs": [],
   "source": [
    "train_and_test_together['country'] = reverse_geo_df['cc'].values\n",
    "train_and_test_together['region'] = reverse_geo_df['admin1'].values\n",
    "train_and_test_together['place'] = reverse_geo_df['name'].values"
   ]
  },
  {
   "cell_type": "code",
   "execution_count": 18,
   "metadata": {
    "collapsed": false
   },
   "outputs": [
    {
     "data": {
      "text/plain": [
       "1713256"
      ]
     },
     "execution_count": 18,
     "metadata": {},
     "output_type": "execute_result"
    }
   ],
   "source": [
    "len(train_and_test_together)"
   ]
  },
  {
   "cell_type": "code",
   "execution_count": null,
   "metadata": {
    "collapsed": true
   },
   "outputs": [],
   "source": []
  },
  {
   "cell_type": "code",
   "execution_count": null,
   "metadata": {
    "collapsed": true
   },
   "outputs": [],
   "source": []
  },
  {
   "cell_type": "code",
   "execution_count": 19,
   "metadata": {
    "collapsed": true
   },
   "outputs": [],
   "source": [
    "\"\"\"убираем все страны, кроме RU, UA\"\"\"\n",
    "train_and_test_together = train_and_test_together[(train_and_test_together.country == 'RU') |\n",
    "                                                  (train_and_test_together.country == 'UA')]"
   ]
  },
  {
   "cell_type": "code",
   "execution_count": 20,
   "metadata": {
    "collapsed": true
   },
   "outputs": [],
   "source": [
    "\"\"\"убираем места, которые встречаются 1 раз\"\"\"\n",
    "places_to_drop = list(train_and_test_together.place.value_counts()[train_and_test_together.place.value_counts() <= 1].index)\n",
    "train_and_test_together = train_and_test_together[train_and_test_together.place.isin(places_to_drop) == False]"
   ]
  },
  {
   "cell_type": "code",
   "execution_count": null,
   "metadata": {
    "collapsed": true
   },
   "outputs": [],
   "source": []
  },
  {
   "cell_type": "code",
   "execution_count": 21,
   "metadata": {
    "collapsed": true
   },
   "outputs": [],
   "source": [
    "\"\"\"форматируем некоторые столбцы\"\"\"\n",
    "train_and_test_together.loc[:,'amount'] = np.array(train_and_test_together['amount'].apply(float))"
   ]
  },
  {
   "cell_type": "code",
   "execution_count": 22,
   "metadata": {
    "collapsed": true
   },
   "outputs": [],
   "source": [
    "\"\"\"убираем значения amount <= 0\"\"\"\n",
    "train_and_test_together = train_and_test_together[train_and_test_together.amount > 0]"
   ]
  },
  {
   "cell_type": "code",
   "execution_count": 23,
   "metadata": {
    "collapsed": true
   },
   "outputs": [],
   "source": [
    "\"\"\"создаем переменные с amount\"\"\"\n",
    "train_and_test_together['am_e'] = np.exp(train_and_test_together.amount)\n",
    "train_and_test_together['am_e2'] = np.exp2(train_and_test_together.amount)"
   ]
  },
  {
   "cell_type": "code",
   "execution_count": 24,
   "metadata": {
    "collapsed": true
   },
   "outputs": [],
   "source": [
    "amount_by_id = train_and_test_together.groupby('customer_id').agg(\n",
    "    {'am_e' : [np.sum, np.mean, np.max, np.min, np.median, np.size, np.std, np.var ]}).reset_index()\n",
    "\n",
    "amount_by_id.columns = amount_by_id.columns.droplevel()\n",
    "amount_by_id = amount_by_id.add_prefix('am_')\n",
    "amount_by_id = amount_by_id.rename(columns={\"am_\":\"customer_id\"})"
   ]
  },
  {
   "cell_type": "code",
   "execution_count": 25,
   "metadata": {
    "collapsed": true
   },
   "outputs": [],
   "source": [
    "train_and_test_together = pd.merge(train_and_test_together, amount_by_id, on='customer_id', how='left')"
   ]
  },
  {
   "cell_type": "code",
   "execution_count": null,
   "metadata": {
    "collapsed": true
   },
   "outputs": [],
   "source": []
  },
  {
   "cell_type": "code",
   "execution_count": null,
   "metadata": {
    "collapsed": true
   },
   "outputs": [],
   "source": [
    "\"\"\"!!!!! анализируем получившиеся результаты после объединения (либо после расставления категорий)\"\"\""
   ]
  },
  {
   "cell_type": "code",
   "execution_count": null,
   "metadata": {
    "collapsed": true
   },
   "outputs": [],
   "source": []
  },
  {
   "cell_type": "code",
   "execution_count": 26,
   "metadata": {
    "collapsed": true
   },
   "outputs": [],
   "source": [
    "\"\"\"создаем переменные, учитывающие время\"\"\"\n",
    "train_and_test_together['transaction_date'] = pd.to_datetime(train_and_test_together['transaction_date'])\n",
    "\n",
    "train_and_test_together['month'] = train_and_test_together['transaction_date'].dt.month\n",
    "train_and_test_together['week'] = train_and_test_together['transaction_date'].dt.week\n",
    "train_and_test_together['day'] = train_and_test_together['transaction_date'].dt.day\n",
    "train_and_test_together['dow'] = train_and_test_together['transaction_date'].dt.weekday\n",
    "train_and_test_together['winm'] = (train_and_test_together.transaction_date.dt.day - 1) // 7 + 1\n",
    "train_and_test_together['is_wkend'] = np.where((train_and_test_together['dow'] == 5) | \n",
    "                                               (train_and_test_together['dow'] == 6), 1, 0)\n",
    "\n",
    "\"\"\"праздники\"\"\"\n",
    "\n",
    "train_and_test_together['23feb'] = np.where(train_and_test_together['transaction_date'] == '2017-02-23', 1, 0) #24.02 - нерабочий\n",
    "train_and_test_together['8mar'] = np.where(train_and_test_together['transaction_date'] == '2017-03-08', 1, 0)\n",
    "train_and_test_together['1may'] = np.where(train_and_test_together['transaction_date'] == '2017-05-01', 1, 0)\n",
    "train_and_test_together['9may'] = np.where(train_and_test_together['transaction_date'] == '2017-05-09', 1, 0) #08.05 - нерабочий\n",
    "train_and_test_together['12jun'] = np.where(train_and_test_together['transaction_date'] == '2017-06-12', 1, 0)\n",
    "train_and_test_together['4nov'] = np.where(train_and_test_together['transaction_date'] == '2017-11-06', 1, 0) #04.11 - суббота\n",
    "\n",
    "\"\"\"нерабочие дни\"\"\"\n",
    "\n",
    "train_and_test_together['24feb'] = np.where(train_and_test_together['transaction_date'] == '2017-02-24', 1, 0)\n",
    "train_and_test_together['8may'] = np.where(train_and_test_together['transaction_date'] == '2017-05-08', 1, 0)"
   ]
  },
  {
   "cell_type": "code",
   "execution_count": 26,
   "metadata": {
    "collapsed": false
   },
   "outputs": [
    {
     "data": {
      "text/plain": [
       "1712717"
      ]
     },
     "execution_count": 26,
     "metadata": {},
     "output_type": "execute_result"
    }
   ],
   "source": [
    "len(train_and_test_together)"
   ]
  },
  {
   "cell_type": "code",
   "execution_count": 80,
   "metadata": {
    "collapsed": true
   },
   "outputs": [],
   "source": []
  },
  {
   "cell_type": "code",
   "execution_count": null,
   "metadata": {
    "collapsed": true
   },
   "outputs": [],
   "source": []
  },
  {
   "cell_type": "code",
   "execution_count": 28,
   "metadata": {
    "collapsed": true
   },
   "outputs": [],
   "source": [
    "\"\"\"загрузка фйла с группировкой\"\"\"\n",
    "\n",
    "most_frq_region_series = pd.read_csv('2018-02-22-id-and-mostfrq-region.csv')\n",
    "most_frq_region_series = most_frq_region_series.iloc[:,1:]"
   ]
  },
  {
   "cell_type": "code",
   "execution_count": null,
   "metadata": {
    "collapsed": true
   },
   "outputs": [],
   "source": []
  },
  {
   "cell_type": "code",
   "execution_count": 29,
   "metadata": {
    "collapsed": false
   },
   "outputs": [
    {
     "name": "stdout",
     "output_type": "stream",
     "text": [
      "Wall time: 32min 35s\n"
     ]
    }
   ],
   "source": [
    "%%time\n",
    "\"\"\"группировка по id/region (убираем выбросы, связанные с поездками[отпуск, командировки], для каждого id)\"\"\"\n",
    "most_frq_region = {}\n",
    "\n",
    "for customer in tqdm_notebook(list(train_and_test_together['customer_id'].unique())):\n",
    "    most_frq_region[customer] = train_and_test_together[train_and_test_together.customer_id\n",
    "                                                       == customer].region.value_counts().idxmax()"
   ]
  },
  {
   "cell_type": "code",
   "execution_count": 32,
   "metadata": {
    "collapsed": true
   },
   "outputs": [],
   "source": [
    "most_frq_region_series = pd.DataFrame(pd.Series(most_frq_region))\n",
    "most_frq_region_series.index.rename('customer_id', inplace=True)\n",
    "most_frq_region_series.columns = ['mf_region']\n",
    "most_frq_region_series.reset_index(inplace=True)"
   ]
  },
  {
   "cell_type": "code",
   "execution_count": 34,
   "metadata": {
    "collapsed": true
   },
   "outputs": [],
   "source": [
    "most_frq_region_series.to_csv(r'C:\\Users\\drobotov\\python\\py_boosterspro\\\\\n",
    "Raiffeisen Data Cup\\\\\n",
    "data\\2018_02_22_id_and_mostfrq_region.csv')"
   ]
  },
  {
   "cell_type": "code",
   "execution_count": null,
   "metadata": {
    "collapsed": true
   },
   "outputs": [],
   "source": [
    "# ??? добавляем исключение для Москвы/МО и Санкт-Петербурга/Лен.области (пробуем без него)\n",
    "#((train_and_test_together.region == 'Москва') + (train_and_test_together.region == 'Московская область') + \n",
    "# (train_and_test_together.region == 'Санкт-Петербург') + (train_and_test_together.region == 'Ленинградская область'))"
   ]
  },
  {
   "cell_type": "code",
   "execution_count": 29,
   "metadata": {
    "collapsed": true
   },
   "outputs": [],
   "source": [
    "\"\"\"фильтрация по самому частому городу для каждого id \"\"\"\n",
    "\n",
    "train_and_test_together = pd.merge(train_and_test_together, most_frq_region_series, on='customer_id', how='left')\n",
    "train_and_test_together = train_and_test_together[train_and_test_together.region == train_and_test_together.mf_region]"
   ]
  },
  {
   "cell_type": "code",
   "execution_count": 30,
   "metadata": {
    "collapsed": true
   },
   "outputs": [],
   "source": [
    "\"\"\"убираем валюту ОАЭ\"\"\"\n",
    "train_and_test_together = train_and_test_together[train_and_test_together.currency != \"784.0\"]"
   ]
  },
  {
   "cell_type": "code",
   "execution_count": 31,
   "metadata": {
    "collapsed": false,
    "scrolled": true
   },
   "outputs": [
    {
     "data": {
      "text/plain": [
       "1360480"
      ]
     },
     "execution_count": 31,
     "metadata": {},
     "output_type": "execute_result"
    }
   ],
   "source": [
    "len(train_and_test_together)"
   ]
  },
  {
   "cell_type": "code",
   "execution_count": 32,
   "metadata": {
    "collapsed": true
   },
   "outputs": [],
   "source": [
    "\"\"\"создаем таблицу вида id/unique gps(latlon), считаем количество повторов; \n",
    "    оптимизируем следующий этап вычисления накопленного расстояния\"\"\"\n",
    "cust_and_gps_df = pd.DataFrame(train_and_test_together.groupby(\n",
    "    ['customer_id', 'gps'])['amount'].count()).reset_index().rename(columns={\"amount\":\"id_gps_count\"})\n",
    "cust_and_gps_df['address_lat'] = cust_and_gps_df.gps.map(lambda x: str(x).split(',')[0]).apply(float)\n",
    "cust_and_gps_df['address_lon'] = cust_and_gps_df.gps.map(lambda x: str(x).split(',')[1]).apply(float)"
   ]
  },
  {
   "cell_type": "code",
   "execution_count": 33,
   "metadata": {
    "collapsed": true
   },
   "outputs": [],
   "source": [
    "'''добавляем столбец с каунтом повторяющихся координат'''\n",
    "\n",
    "train_and_test_together = pd.merge(train_and_test_together, cust_and_gps_df[['customer_id', 'gps', 'id_gps_count']], \n",
    "                                   on=['customer_id', 'gps'], how='left')"
   ]
  },
  {
   "cell_type": "code",
   "execution_count": 34,
   "metadata": {
    "collapsed": true
   },
   "outputs": [],
   "source": [
    "cum_distance_df01 = pd.read_csv('cum_distance_df_4673.csv',\n",
    "                                dtype={'cum_distance_and_count':str})\n",
    "cum_distance_df02 = pd.read_csv('cum_distance_df_4673-10183.csv', \n",
    "                                dtype={'cum_distance_and_count':str})\n",
    "cum_distance = cum_distance_df01.copy()\n",
    "cum_distance.cum_distance_and_count = cum_distance.cum_distance_and_count.fillna(cum_distance_df02.cum_distance_and_count)\n",
    "cum_distance = cum_distance[cum_distance.columns[1:]]\n",
    "cum_distance['cum_neighb_dist'] = cum_distance.cum_distance_and_count.map(lambda x:\n",
    "                                                                          str(x).split(\",\")[0]).map(lambda\n",
    "                                                                                                    x: str(x).replace(\"[\", \"\"))\n",
    "cum_distance['neighb_count'] = cum_distance.cum_distance_and_count.map(lambda x:\n",
    "                                                                       str(x).split(\",\")[1]).map(lambda x:\n",
    "                                                                                                 str(x).replace(\"]\", \"\"))\n",
    "train_and_test_together = pd.merge(train_and_test_together, \n",
    "                                   cum_distance[['customer_id', 'gps', 'cum_neighb_dist', 'neighb_count']],\n",
    "                                   on=['customer_id', 'gps'], how='left')"
   ]
  },
  {
   "cell_type": "code",
   "execution_count": null,
   "metadata": {
    "collapsed": true
   },
   "outputs": [],
   "source": []
  },
  {
   "cell_type": "code",
   "execution_count": 35,
   "metadata": {
    "collapsed": false
   },
   "outputs": [
    {
     "data": {
      "text/plain": [
       "Index(['mcc', 'edited_description', 'combined_description', 'usda_description',\n",
       "       'irs_description', 'irs_reportable'],\n",
       "      dtype='object')"
      ]
     },
     "execution_count": 35,
     "metadata": {},
     "output_type": "execute_result"
    }
   ],
   "source": [
    "train_and_test_together['mcc'] = train_and_test_together.mcc.apply(int)\n",
    "\n",
    "mcc_codes = pd.read_csv('mcc_codes.csv')\n",
    "mcc_codes.irs_description = [str(i).lower() for i in mcc_codes.irs_description]\n",
    "mcc_codes.columns"
   ]
  },
  {
   "cell_type": "code",
   "execution_count": 36,
   "metadata": {
    "collapsed": true
   },
   "outputs": [],
   "source": [
    "\"\"\"объединяем похожие категории\"\"\"\n",
    "import re\n",
    "unique_mcc = list(mcc_codes.irs_description.unique())\n",
    "regex=re.compile(\".*(car).*\")\n",
    "group_list = [m.group(0) for l in unique_mcc for m in [regex.search(l)] if m]"
   ]
  },
  {
   "cell_type": "code",
   "execution_count": 37,
   "metadata": {
    "collapsed": true
   },
   "outputs": [],
   "source": [
    "\"\"\"лист, содержащий mcc коды автомобильной тематики\"\"\"\n",
    "drivers_list = ['car rental agencies', 'car rental' ,'car washes', \n",
    "                'car and truck dealers (new & used) sales, service, repairs parts and leasing ', \n",
    "                'car and truck dealers (used only) sales, service, repairs parts and leasing ',\n",
    "               'service stations']"
   ]
  },
  {
   "cell_type": "code",
   "execution_count": 38,
   "metadata": {
    "collapsed": true
   },
   "outputs": [],
   "source": [
    "train_and_test_together = pd.merge(train_and_test_together, mcc_codes[['mcc', 'irs_description']], on='mcc', how='left')"
   ]
  },
  {
   "cell_type": "code",
   "execution_count": 39,
   "metadata": {
    "collapsed": true
   },
   "outputs": [],
   "source": [
    "drivers_id = list(train_and_test_together[train_and_test_together.irs_description.isin(drivers_list)]['customer_id'].unique())\n",
    "drivers_id = pd.Series(drivers_id).rename(\"customer_id\")\n",
    "drivers_id = pd.DataFrame(drivers_id)\n",
    "drivers_id['is_dr'] = 1\n",
    "train_and_test_together['is_dr'] = pd.merge(train_and_test_together, drivers_id, on='customer_id', how='left')['is_dr'].fillna(0)"
   ]
  },
  {
   "cell_type": "code",
   "execution_count": null,
   "metadata": {
    "collapsed": true
   },
   "outputs": [],
   "source": []
  },
  {
   "cell_type": "code",
   "execution_count": 40,
   "metadata": {
    "collapsed": true
   },
   "outputs": [],
   "source": [
    "train_and_test_together['address_lat'] = train_and_test_together['address_lat'].apply(float)\n",
    "train_and_test_together['address_lon'] = train_and_test_together['address_lon'].apply(float)\n",
    "\n",
    "train_and_test_together['neighb_count'] = train_and_test_together['neighb_count'].apply(float)\n",
    "train_and_test_together['cum_neighb_dist'] = train_and_test_together['cum_neighb_dist'].apply(float)"
   ]
  },
  {
   "cell_type": "code",
   "execution_count": 41,
   "metadata": {
    "collapsed": true
   },
   "outputs": [],
   "source": [
    "train_and_test_together['ttl_count'] = train_and_test_together['neighb_count'] + train_and_test_together['id_gps_count']\n",
    "train_and_test_together['latlon_sum'] = train_and_test_together['address_lat'] + train_and_test_together['address_lon']\n",
    "train_and_test_together['latlon_mult'] = train_and_test_together['address_lat'] * train_and_test_together['address_lon']"
   ]
  },
  {
   "cell_type": "code",
   "execution_count": null,
   "metadata": {
    "collapsed": true
   },
   "outputs": [],
   "source": []
  },
  {
   "cell_type": "code",
   "execution_count": 42,
   "metadata": {
    "collapsed": true
   },
   "outputs": [],
   "source": [
    "from sklearn.cluster import DBSCAN\n",
    "from sklearn.cluster import KMeans\n",
    "from sklearn.preprocessing import StandardScaler"
   ]
  },
  {
   "cell_type": "code",
   "execution_count": 316,
   "metadata": {
    "collapsed": true
   },
   "outputs": [],
   "source": [
    "# define the number of kilometers in one radian\n",
    "kms_per_radian = 6371.0088\n",
    "\n",
    "# define epsilon as 3 kilometers, converted to radians for use by haversine\n",
    "epsilon = 4 / kms_per_radian"
   ]
  },
  {
   "cell_type": "code",
   "execution_count": 272,
   "metadata": {
    "collapsed": true
   },
   "outputs": [],
   "source": [
    "# represent points consistently as (lat, lon)\n",
    "#coords = train_and_test_together[train_and_test_together.customer_id \n",
    "#                        == idn][['latlon_mult', 'ttl_count']].as_matrix()"
   ]
  },
  {
   "cell_type": "code",
   "execution_count": 352,
   "metadata": {
    "collapsed": true
   },
   "outputs": [],
   "source": [
    "# represent points consistently as (lat, lon)\n",
    "idn = '038b1ed23cb05f73e54c497002dac12e'\n",
    "coords = train_and_test_together[train_and_test_together.customer_id \n",
    "                        == idn][['address_lat', 'address_lon']].as_matrix()"
   ]
  },
  {
   "cell_type": "code",
   "execution_count": 353,
   "metadata": {
    "collapsed": false
   },
   "outputs": [
    {
     "name": "stdout",
     "output_type": "stream",
     "text": [
      "Wall time: 12 ms\n"
     ]
    }
   ],
   "source": [
    "%%time\n",
    "\n",
    "if len(coords) <= 15:\n",
    "    min_sample = 2\n",
    "else:\n",
    "    min_sample = round(len(coords)/10,0)\n",
    "\n",
    "db = DBSCAN(eps=epsilon, min_samples=min_sample, algorithm='ball_tree', metric='haversine').fit(np.radians(coords))\n",
    "cluster_labels = db.labels_\n",
    "unique_labels = set(cluster_labels)\n",
    "\n",
    "# get the number of clusters\n",
    "num_clusters = len(set(cluster_labels))"
   ]
  },
  {
   "cell_type": "code",
   "execution_count": 354,
   "metadata": {
    "collapsed": false
   },
   "outputs": [
    {
     "data": {
      "image/png": "[encoded data removed]",
      "text/plain": [
       "<matplotlib.figure.Figure at 0x68b6c827f0>"
      ]
     },
     "metadata": {},
     "output_type": "display_data"
    }
   ],
   "source": [
    "# get colors and plot all the points, color-coded by cluster (or gray if not in any cluster, aka noise)\n",
    "fig, ax = plt.subplots(figsize=(8, 6))\n",
    "colors = plt.cm.rainbow(np.linspace(0, 1, len(unique_labels)))\n",
    "\n",
    "# for each cluster label and color, plot the cluster's points\n",
    "for cluster_label, color in zip(unique_labels, colors):\n",
    "    \n",
    "    size = 150\n",
    "    if cluster_label == -1: #make the noise (which is labeled -1) appear as smaller gray points\n",
    "        color = 'gray'\n",
    "        size = 30\n",
    "    \n",
    "    # plot the points that match the current cluster label\n",
    "    x_coords = coords[cluster_labels==cluster_label][:,1]\n",
    "    y_coords = coords[cluster_labels==cluster_label][:,0]\n",
    "    ax.scatter(x=x_coords, y=y_coords, c=color, edgecolor='k', s=size, alpha=0.5)\n",
    "\n",
    "ax.set_title('Number of clusters: {0}, min_sample: {2} \\n id: {1}'.format(num_clusters, idn, db.min_samples))\n",
    "plt.show()"
   ]
  },
  {
   "cell_type": "code",
   "execution_count": 339,
   "metadata": {
    "collapsed": false
   },
   "outputs": [
    {
     "data": {
      "text/plain": [
       "array([[ 55.7227343 ,  37.78955709],\n",
       "       [ 55.6828294 ,  37.8656603 ],\n",
       "       [ 55.6828294 ,  37.8656603 ],\n",
       "       [ 55.6828294 ,  37.8656603 ],\n",
       "       [ 55.68371935,  37.86587855],\n",
       "       [ 55.6828294 ,  37.8656603 ],\n",
       "       [ 55.6828294 ,  37.8656603 ],\n",
       "       [ 55.6828294 ,  37.8656603 ],\n",
       "       [ 55.6887993 ,  37.85197088],\n",
       "       [ 55.7252676 ,  37.6525705 ],\n",
       "       [ 55.6828294 ,  37.8656603 ],\n",
       "       [ 55.6828294 ,  37.8656603 ],\n",
       "       [ 55.6828294 ,  37.8656603 ],\n",
       "       [ 55.6828294 ,  37.8656603 ],\n",
       "       [ 55.6828294 ,  37.8656603 ],\n",
       "       [ 55.6839609 ,  37.86172544],\n",
       "       [ 55.6828294 ,  37.8656603 ],\n",
       "       [ 55.7081875 ,  37.7453741 ],\n",
       "       [ 55.6866406 ,  37.8504745 ],\n",
       "       [ 55.6828294 ,  37.8656603 ],\n",
       "       [ 55.6828294 ,  37.8656603 ],\n",
       "       [ 55.6828294 ,  37.8656603 ],\n",
       "       [ 55.681962  ,  37.8645754 ],\n",
       "       [ 55.6853944 ,  37.85854926],\n",
       "       [ 55.68408425,  37.8649586 ],\n",
       "       [ 55.6828294 ,  37.8656603 ],\n",
       "       [ 55.6828294 ,  37.8656603 ],\n",
       "       [ 55.681962  ,  37.8645754 ],\n",
       "       [ 55.6852733 ,  37.86261629],\n",
       "       [ 55.6828294 ,  37.8656603 ],\n",
       "       [ 55.6828294 ,  37.8656603 ],\n",
       "       [ 55.68371935,  37.86587855],\n",
       "       [ 55.6828294 ,  37.8656603 ],\n",
       "       [ 55.6828294 ,  37.8656603 ],\n",
       "       [ 55.6828294 ,  37.8656603 ],\n",
       "       [ 55.6852733 ,  37.86261629],\n",
       "       [ 55.6828294 ,  37.8656603 ],\n",
       "       [ 55.6828294 ,  37.8656603 ],\n",
       "       [ 55.6828294 ,  37.8656603 ],\n",
       "       [ 55.68408425,  37.8649586 ],\n",
       "       [ 55.6859091 ,  37.8509345 ],\n",
       "       [ 55.6828294 ,  37.8656603 ],\n",
       "       [ 55.68408425,  37.8649586 ],\n",
       "       [ 55.6814006 ,  37.8663875 ],\n",
       "       [ 55.6828294 ,  37.8656603 ],\n",
       "       [ 55.6828294 ,  37.8656603 ],\n",
       "       [ 55.6828294 ,  37.8656603 ],\n",
       "       [ 55.6861627 ,  37.8579959 ],\n",
       "       [ 55.6808093 ,  37.8576675 ],\n",
       "       [ 55.6828294 ,  37.8656603 ],\n",
       "       [ 55.6861627 ,  37.8579959 ],\n",
       "       [ 55.7081875 ,  37.7453741 ],\n",
       "       [ 55.68258065,  37.86360743],\n",
       "       [ 55.6828294 ,  37.8656603 ],\n",
       "       [ 55.68258065,  37.86360743],\n",
       "       [ 55.6828294 ,  37.8656603 ],\n",
       "       [ 55.68408425,  37.8649586 ],\n",
       "       [ 55.6852733 ,  37.86261629],\n",
       "       [ 55.6825745 ,  37.8630161 ],\n",
       "       [ 55.6828294 ,  37.8656603 ],\n",
       "       [ 55.6828294 ,  37.8656603 ],\n",
       "       [ 55.6828294 ,  37.8656603 ],\n",
       "       [ 55.6828294 ,  37.8656603 ],\n",
       "       [ 55.6828294 ,  37.8656603 ],\n",
       "       [ 55.6828294 ,  37.8656603 ],\n",
       "       [ 55.6828294 ,  37.8656603 ],\n",
       "       [ 55.68258065,  37.86360743],\n",
       "       [ 55.6828294 ,  37.8656603 ],\n",
       "       [ 55.6828294 ,  37.8656603 ],\n",
       "       [ 55.6828294 ,  37.8656603 ],\n",
       "       [ 55.6861627 ,  37.8579959 ],\n",
       "       [ 55.7359757 ,  37.6488853 ],\n",
       "       [ 55.6828294 ,  37.8656603 ],\n",
       "       [ 55.74649195,  37.66569462],\n",
       "       [ 55.6828294 ,  37.8656603 ],\n",
       "       [ 55.6814006 ,  37.8663875 ],\n",
       "       [ 55.6828294 ,  37.8656603 ],\n",
       "       [ 55.6814006 ,  37.8663875 ],\n",
       "       [ 55.6828294 ,  37.8656603 ],\n",
       "       [ 55.6853944 ,  37.85854926],\n",
       "       [ 55.6828294 ,  37.8656603 ],\n",
       "       [ 55.7044422 ,  37.7660563 ],\n",
       "       [ 55.6817405 ,  37.86202725],\n",
       "       [ 55.6835473 ,  37.85603063],\n",
       "       [ 55.6828294 ,  37.8656603 ],\n",
       "       [ 55.68371935,  37.86587855],\n",
       "       [ 55.68408425,  37.8649586 ],\n",
       "       [ 55.6828294 ,  37.8656603 ],\n",
       "       [ 55.6828294 ,  37.8656603 ],\n",
       "       [ 55.6828294 ,  37.8656603 ],\n",
       "       [ 55.6853944 ,  37.85854926],\n",
       "       [ 55.6828294 ,  37.8656603 ],\n",
       "       [ 55.7241355 ,  37.6592098 ],\n",
       "       [ 55.6828294 ,  37.8656603 ],\n",
       "       [ 55.735052  ,  37.7072222 ],\n",
       "       [ 55.6828294 ,  37.8656603 ],\n",
       "       [ 55.6910805 ,  37.86032109],\n",
       "       [ 55.6814006 ,  37.8663875 ],\n",
       "       [ 55.6828294 ,  37.8656603 ],\n",
       "       [ 55.6828294 ,  37.8656603 ],\n",
       "       [ 55.6814006 ,  37.8663875 ],\n",
       "       [ 55.6828294 ,  37.8656603 ],\n",
       "       [ 55.6828294 ,  37.8656603 ],\n",
       "       [ 55.6814006 ,  37.8663875 ],\n",
       "       [ 55.6861627 ,  37.8579959 ],\n",
       "       [ 55.6828294 ,  37.8656603 ],\n",
       "       [ 55.68993335,  37.85221392],\n",
       "       [ 55.68371935,  37.86587855],\n",
       "       [ 55.6814006 ,  37.8663875 ],\n",
       "       [ 55.6828294 ,  37.8656603 ],\n",
       "       [ 55.6853944 ,  37.85854926],\n",
       "       [ 55.681962  ,  37.8645754 ],\n",
       "       [ 55.6828294 ,  37.8656603 ],\n",
       "       [ 55.6828294 ,  37.8656603 ],\n",
       "       [ 55.6814006 ,  37.8663875 ],\n",
       "       [ 55.6852733 ,  37.86261629],\n",
       "       [ 55.6814006 ,  37.8663875 ],\n",
       "       [ 55.6852733 ,  37.86261629],\n",
       "       [ 55.6828294 ,  37.8656603 ],\n",
       "       [ 55.6814006 ,  37.8663875 ],\n",
       "       [ 55.6828294 ,  37.8656603 ],\n",
       "       [ 55.6828294 ,  37.8656603 ],\n",
       "       [ 55.6828294 ,  37.8656603 ],\n",
       "       [ 55.6835473 ,  37.85603063],\n",
       "       [ 55.6828294 ,  37.8656603 ],\n",
       "       [ 55.69475615,  37.80989319],\n",
       "       [ 55.6828294 ,  37.8656603 ],\n",
       "       [ 55.6828294 ,  37.8656603 ],\n",
       "       [ 55.6828294 ,  37.8656603 ],\n",
       "       [ 55.6852733 ,  37.86261629],\n",
       "       [ 55.6828294 ,  37.8656603 ],\n",
       "       [ 55.6814006 ,  37.8663875 ],\n",
       "       [ 55.6828294 ,  37.8656603 ],\n",
       "       [ 55.6828294 ,  37.8656603 ],\n",
       "       [ 55.6828294 ,  37.8656603 ],\n",
       "       [ 55.6828294 ,  37.8656603 ],\n",
       "       [ 55.6861627 ,  37.8579959 ],\n",
       "       [ 55.699     ,  37.846     ],\n",
       "       [ 55.7       ,  37.746     ]])"
      ]
     },
     "execution_count": 339,
     "metadata": {},
     "output_type": "execute_result"
    }
   ],
   "source": [
    "coords"
   ]
  },
  {
   "cell_type": "code",
   "execution_count": null,
   "metadata": {
    "collapsed": true
   },
   "outputs": [],
   "source": []
  },
  {
   "cell_type": "code",
   "execution_count": 275,
   "metadata": {
    "collapsed": true
   },
   "outputs": [],
   "source": [
    "kmeans = KMeans(n_clusters=4, random_state=17).fit(coords)"
   ]
  },
  {
   "cell_type": "code",
   "execution_count": 276,
   "metadata": {
    "collapsed": false
   },
   "outputs": [
    {
     "data": {
      "image/png": "[encoded data removed]",
      "text/plain": [
       "<matplotlib.figure.Figure at 0x259aca5d240>"
      ]
     },
     "metadata": {},
     "output_type": "display_data"
    }
   ],
   "source": [
    "y, x = coords[:,0], coords[:,1]\n",
    "labels = kmeans.labels_\n",
    "df = pd.DataFrame(dict(x=x, y=y, label=labels))\n",
    "\n",
    "groups = df.groupby('label')\n",
    "\n",
    "# Plot\n",
    "fig, ax = plt.subplots(figsize=(8, 6))\n",
    "ax.margins(0.05) # Optional, just adds 5% padding to the autoscaling\n",
    "for name, group in groups:\n",
    "    ax.plot(group.x, group.y, marker='o', linestyle='', ms=12, label=name)\n",
    "ax.legend()\n",
    "\n",
    "plt.show()"
   ]
  },
  {
   "cell_type": "code",
   "execution_count": null,
   "metadata": {
    "collapsed": true
   },
   "outputs": [],
   "source": []
  },
  {
   "cell_type": "code",
   "execution_count": null,
   "metadata": {
    "collapsed": true
   },
   "outputs": [],
   "source": []
  },
  {
   "cell_type": "code",
   "execution_count": null,
   "metadata": {
    "collapsed": true
   },
   "outputs": [],
   "source": []
  },
  {
   "cell_type": "code",
   "execution_count": 31,
   "metadata": {
    "collapsed": true
   },
   "outputs": [],
   "source": [
    "\"\"\"создаем таблицу вида id/unique gps(latlon), считаем количество повторов; \n",
    "    оптимизируем следующий этап вычисления накопленного расстояния\"\"\"\n",
    "cust_and_gps_df = pd.DataFrame(train_and_test_together.groupby(\n",
    "    ['customer_id', 'gps'])['amount'].count()).reset_index().rename(columns={\"amount\":\"id_gps_count\"})\n",
    "cust_and_gps_df['address_lat'] = cust_and_gps_df.gps.map(lambda x: str(x).split(',')[0]).apply(float)\n",
    "cust_and_gps_df['address_lon'] = cust_and_gps_df.gps.map(lambda x: str(x).split(',')[1]).apply(float)"
   ]
  },
  {
   "cell_type": "code",
   "execution_count": null,
   "metadata": {
    "collapsed": true
   },
   "outputs": [],
   "source": []
  },
  {
   "cell_type": "code",
   "execution_count": null,
   "metadata": {
    "collapsed": true
   },
   "outputs": [],
   "source": [
    "\"\"\"\n",
    "    1) 4673 ids \n",
    "    2) 4673-10183\n",
    "    \n",
    "pd.Series(cum_distance_list).to_csv(r'C:\\Users\\User\\python\\boosterspro\\data\\cum_distance_list_4673-10183.csv')\n",
    "cum_distance_series = pd.Series(cum_distance_list)\n",
    "cum_distance_series.rename(\"cum_distance_and_count\", inplace=True)\n",
    "cust_and_gps_df.join(cum_distance_series).to_csv(r'C:\\Users\\User\\python\\boosterspro\\data\\cum_distance_df_4673-10183.csv')\n",
    "\n",
    "    \"\"\""
   ]
  },
  {
   "cell_type": "code",
   "execution_count": 37,
   "metadata": {
    "collapsed": false
   },
   "outputs": [
    {
     "data": {
      "application/vnd.jupyter.widget-view+json": {
       "model_id": "df31c9b700fe4163ab9ec1a4a3573188"
      }
     },
     "metadata": {},
     "output_type": "display_data"
    },
    {
     "name": "stdout",
     "output_type": "stream",
     "text": [
      "\n",
      "Wall time: 20h 33min 44s\n"
     ]
    }
   ],
   "source": [
    "%%time\n",
    "\"\"\"считаем дистанцию только для точек, которые попадают в радиус 0.02 градуса\"\"\"\n",
    "cum_distance_list = {}\n",
    "RADIUS = 0.02\n",
    "\n",
    "\"\"\"берем уникального клиента\"\"\"\n",
    "for cust in tqdm_notebook(list(cust_and_gps_df.customer_id.unique())[4673:]):\n",
    "\n",
    "    \"\"\"отсчитываем кол-во шагов (длина массива)\"\"\"\n",
    "    for steps in list(cust_and_gps_df[cust_and_gps_df.customer_id == cust].index):\n",
    "        \n",
    "        distance_value = 0\n",
    "        lat = cust_and_gps_df[cust_and_gps_df.customer_id == cust].loc[steps, 'address_lat']\n",
    "        lon = cust_and_gps_df[cust_and_gps_df.customer_id == cust].loc[steps, 'address_lon']\n",
    "        \n",
    "        df_to_iterate = cust_and_gps_df[(cust_and_gps_df.customer_id == str(cust)) \n",
    "                        & ((lat + RADIUS) >= (cust_and_gps_df.address_lat))\n",
    "                        & ((lat - RADIUS) <= (cust_and_gps_df.address_lat))\n",
    "                        & ((lon + RADIUS) >= (cust_and_gps_df.address_lon))\n",
    "                        & ((lon - RADIUS) <= (cust_and_gps_df.address_lon))].copy()\n",
    "        \n",
    "        if len(df_to_iterate) == 1:\n",
    "            cum_distance_list[steps] = [0, 1]\n",
    "        \n",
    "        else:\n",
    "            for tr in list(df_to_iterate.index):\n",
    "                    \n",
    "                    x = haversine_fast(lat, \n",
    "                                       lon,\n",
    "                                       df_to_iterate.loc[tr, 'address_lat'],\n",
    "                                       df_to_iterate.loc[tr, 'address_lon'])\n",
    "                    \n",
    "                    distance_value = distance_value + x\n",
    "                    cum_distance_list[steps] = [distance_value, len(df_to_iterate)]"
   ]
  },
  {
   "cell_type": "code",
   "execution_count": null,
   "metadata": {
    "collapsed": true
   },
   "outputs": [],
   "source": []
  },
  {
   "cell_type": "code",
   "execution_count": null,
   "metadata": {
    "collapsed": true
   },
   "outputs": [],
   "source": []
  },
  {
   "cell_type": "code",
   "execution_count": 120,
   "metadata": {
    "collapsed": true
   },
   "outputs": [],
   "source": [
    "'''добавляем столбец с каунтом повторяющихся координат'''\n",
    "\n",
    "train_and_test_together = pd.merge(train_and_test_together, cust_and_gps_df[['customer_id', 'gps', 'id_gps_count']], \n",
    "                                   on=['customer_id', 'gps'], how='left')"
   ]
  },
  {
   "cell_type": "code",
   "execution_count": 33,
   "metadata": {
    "collapsed": true
   },
   "outputs": [],
   "source": [
    "cum_distance_df01 = pd.read_csv(r'cum distance\\cum_distance_df_4673.csv',\n",
    "                                dtype={'cum_distance_and_count':str})\n",
    "cum_distance_df02 = pd.read_csv(r'cum distance\\cum_distance_df_4673-10183.csv', \n",
    "                                dtype={'cum_distance_and_count':str})"
   ]
  },
  {
   "cell_type": "code",
   "execution_count": 34,
   "metadata": {
    "collapsed": true
   },
   "outputs": [],
   "source": [
    "cum_distance = cum_distance_df01.copy()\n",
    "cum_distance.cum_distance_and_count = cum_distance.cum_distance_and_count.fillna(cum_distance_df02.cum_distance_and_count)\n",
    "cum_distance = cum_distance[cum_distance.columns[1:]]"
   ]
  },
  {
   "cell_type": "code",
   "execution_count": 35,
   "metadata": {
    "collapsed": true
   },
   "outputs": [],
   "source": [
    "cum_distance['cum_neighb_dist'] = cum_distance.cum_distance_and_count.map(lambda x:\n",
    "                                                                          str(x).split(\",\")[0]).map(lambda\n",
    "                                                                                                    x: str(x).replace(\"[\", \"\"))\n",
    "cum_distance['neighb_count'] = cum_distance.cum_distance_and_count.map(lambda x:\n",
    "                                                                       str(x).split(\",\")[1]).map(lambda x:\n",
    "                                                                                                 str(x).replace(\"]\", \"\"))"
   ]
  },
  {
   "cell_type": "code",
   "execution_count": 121,
   "metadata": {
    "collapsed": true
   },
   "outputs": [],
   "source": [
    "train_and_test_together = pd.merge(train_and_test_together, \n",
    "                                   cum_distance[['customer_id', 'gps', 'cum_neighb_dist', 'neighb_count']],\n",
    "                                   on=['customer_id', 'gps'], how='left')"
   ]
  },
  {
   "cell_type": "code",
   "execution_count": 41,
   "metadata": {
    "collapsed": false
   },
   "outputs": [
    {
     "data": {
      "image/png": "[encoded data removed]",
      "text/plain": [
       "<matplotlib.figure.Figure at 0x2ae6a36f5f8>"
      ]
     },
     "metadata": {},
     "output_type": "display_data"
    }
   ],
   "source": [
    "plt.scatter(train_and_test_together[train_and_test_together.customer_id=='0dc0137d280a2a82d2dc89282450ff1b']['address_lat'], \n",
    "           train_and_test_together[train_and_test_together.customer_id=='0dc0137d280a2a82d2dc89282450ff1b']['address_lon']);"
   ]
  },
  {
   "cell_type": "code",
   "execution_count": null,
   "metadata": {
    "collapsed": true
   },
   "outputs": [],
   "source": []
  },
  {
   "cell_type": "code",
   "execution_count": 122,
   "metadata": {
    "collapsed": false
   },
   "outputs": [
    {
     "data": {
      "text/plain": [
       "Index(['mcc', 'edited_description', 'combined_description', 'usda_description',\n",
       "       'irs_description', 'irs_reportable'],\n",
       "      dtype='object')"
      ]
     },
     "execution_count": 122,
     "metadata": {},
     "output_type": "execute_result"
    }
   ],
   "source": [
    "train_and_test_together['mcc'] = train_and_test_together.mcc.apply(int)\n",
    "\n",
    "mcc_codes = pd.read_csv('mcc_codes.csv')\n",
    "mcc_codes.irs_description = [str(i).lower() for i in mcc_codes.irs_description]\n",
    "mcc_codes.columns"
   ]
  },
  {
   "cell_type": "code",
   "execution_count": 123,
   "metadata": {
    "collapsed": true
   },
   "outputs": [],
   "source": [
    "\"\"\"объединяем похожие категории\"\"\"\n",
    "import re\n",
    "unique_mcc = list(mcc_codes.irs_description.unique())\n",
    "regex=re.compile(\".*(car).*\")\n",
    "group_list = [m.group(0) for l in unique_mcc for m in [regex.search(l)] if m]"
   ]
  },
  {
   "cell_type": "code",
   "execution_count": 124,
   "metadata": {
    "collapsed": true
   },
   "outputs": [],
   "source": [
    "\"\"\"лист, содержащий mcc коды автомобильной тематики\"\"\"\n",
    "drivers_list = ['car rental agencies', 'car rental' ,'car washes', \n",
    "                'car and truck dealers (new & used) sales, service, repairs parts and leasing ', \n",
    "                'car and truck dealers (used only) sales, service, repairs parts and leasing ']"
   ]
  },
  {
   "cell_type": "code",
   "execution_count": 125,
   "metadata": {
    "collapsed": true
   },
   "outputs": [],
   "source": [
    "train_and_test_together = pd.merge(train_and_test_together, mcc_codes[['mcc', 'irs_description']], on='mcc', how='left')"
   ]
  },
  {
   "cell_type": "code",
   "execution_count": 126,
   "metadata": {
    "collapsed": true
   },
   "outputs": [],
   "source": [
    "drivers_id = list(train_and_test_together[train_and_test_together.irs_description.isin(drivers_list)]['customer_id'].unique())"
   ]
  },
  {
   "cell_type": "code",
   "execution_count": 127,
   "metadata": {
    "collapsed": true
   },
   "outputs": [],
   "source": [
    "drivers_id = pd.Series(drivers_id).rename(\"customer_id\")\n",
    "drivers_id = pd.DataFrame(drivers_id)\n",
    "drivers_id['is_dr'] = 1"
   ]
  },
  {
   "cell_type": "code",
   "execution_count": 128,
   "metadata": {
    "collapsed": true
   },
   "outputs": [],
   "source": [
    "train_and_test_together['is_dr'] = pd.merge(train_and_test_together, drivers_id, on='customer_id', how='left')['is_dr'].fillna(0)"
   ]
  },
  {
   "cell_type": "code",
   "execution_count": null,
   "metadata": {
    "collapsed": true
   },
   "outputs": [],
   "source": []
  },
  {
   "cell_type": "code",
   "execution_count": 72,
   "metadata": {
    "collapsed": false
   },
   "outputs": [
    {
     "data": {
      "text/plain": [
       "Index(['amount', 'currency', 'customer_id', 'mcc', 'terminal_id',\n",
       "       'transaction_date', 'address_lat', 'address_lon', 'gps', 'tr_type',\n",
       "       'test_sample', 'country', 'region', 'place', 'am_e', 'am_e2', 'am_sum',\n",
       "       'am_mean', 'am_amax', 'am_amin', 'am_median', 'am_size', 'am_std',\n",
       "       'am_var', 'month', 'week', 'day', 'dow', 'winm', 'is_wkend', '23feb',\n",
       "       '8mar', '1may', '9may', '12jun', '4nov', '24feb', '8may', 'mf_region',\n",
       "       'id_gps_count', 'cum_neighb_dist', 'neighb_count', 'irs_description',\n",
       "       'is_dr'],\n",
       "      dtype='object')"
      ]
     },
     "execution_count": 72,
     "metadata": {},
     "output_type": "execute_result"
    }
   ],
   "source": [
    "train_and_test_together.columns"
   ]
  },
  {
   "cell_type": "code",
   "execution_count": null,
   "metadata": {
    "collapsed": true
   },
   "outputs": [],
   "source": [
    "\"\"\"выбираем подход для категориальных переменных: OHE, hashing trick, sparse matrix, pd.get_dummies\"\"\""
   ]
  },
  {
   "cell_type": "code",
   "execution_count": 102,
   "metadata": {
    "collapsed": true
   },
   "outputs": [],
   "source": [
    "from pandas.core.categorical import Categorical\n",
    "from scipy.sparse import csr_matrix, hstack\n",
    "\n",
    "def sparse_dummies(categorical_values):\n",
    "    categories = Categorical(categorical_values)\n",
    "    N = len(categorical_values)\n",
    "    row_numbers = np.arange(N, dtype=np.int)\n",
    "    ones = np.ones((N,))\n",
    "    return csr_matrix( (ones, (row_numbers, categories.codes)) )"
   ]
  },
  {
   "cell_type": "code",
   "execution_count": 143,
   "metadata": {
    "collapsed": true
   },
   "outputs": [],
   "source": [
    "spr_mtx = hstack((sparse_dummies(train_and_test_together.region), \n",
    "              sparse_dummies(train_and_test_together.place), \n",
    "              sparse_dummies(train_and_test_together.currency),\n",
    "              sparse_dummies(train_and_test_together.month),\n",
    "              sparse_dummies(train_and_test_together.irs_description)), \n",
    "             format=\"csr\")"
   ]
  },
  {
   "cell_type": "code",
   "execution_count": 166,
   "metadata": {
    "collapsed": false
   },
   "outputs": [
    {
     "data": {
      "text/plain": [
       "<bound method spmatrix.todense of <1360480x2005 sparse matrix of type '<class 'numpy.float64'>'\n",
       "\twith 6802400 stored elements in Compressed Sparse Row format>>"
      ]
     },
     "execution_count": 166,
     "metadata": {},
     "output_type": "execute_result"
    }
   ],
   "source": [
    "spr_mtx.todense"
   ]
  },
  {
   "cell_type": "code",
   "execution_count": 140,
   "metadata": {
    "collapsed": true
   },
   "outputs": [],
   "source": [
    "spr_mtx = spr_mtx.todense"
   ]
  },
  {
   "cell_type": "code",
   "execution_count": 142,
   "metadata": {
    "collapsed": false
   },
   "outputs": [
    {
     "name": "stdout",
     "output_type": "stream",
     "text": [
      "<bound method spmatrix.todense of <1360480x2005 sparse matrix of type '<class 'numpy.float64'>'\n",
      "\twith 6802400 stored elements in Compressed Sparse Row format>>\n"
     ]
    }
   ],
   "source": [
    "print(spr_mtx)"
   ]
  },
  {
   "cell_type": "code",
   "execution_count": null,
   "metadata": {
    "collapsed": true
   },
   "outputs": [],
   "source": []
  },
  {
   "cell_type": "code",
   "execution_count": 86,
   "metadata": {
    "collapsed": true
   },
   "outputs": [],
   "source": [
    "\"\"\"разряженная матрица для категорийных переменных: region, place, currency, month, irs_description... week, winm\"\"\"\n",
    "\n",
    "train_and_test_together['sparse_mtx'] = hstack((sparse_dummies(train_and_test_together.region), \n",
    "              sparse_dummies(train_and_test_together.place), \n",
    "              sparse_dummies(train_and_test_together.currency),\n",
    "              sparse_dummies(train_and_test_together.month),\n",
    "              sparse_dummies(train_and_test_together.irs_description)), \n",
    "             format=\"csr\")"
   ]
  },
  {
   "cell_type": "code",
   "execution_count": 71,
   "metadata": {
    "collapsed": false
   },
   "outputs": [
    {
     "name": "stdout",
     "output_type": "stream",
     "text": [
      "[ 6  9  9 ..., 10  2  9]\n",
      "[[ 0.  0.  0. ...,  0.  0.  0.]\n",
      " [ 0.  0.  0. ...,  1.  0.  0.]\n",
      " [ 0.  0.  0. ...,  1.  0.  0.]\n",
      " ..., \n",
      " [ 0.  0.  0. ...,  0.  1.  0.]\n",
      " [ 0.  0.  1. ...,  0.  0.  0.]\n",
      " [ 0.  0.  0. ...,  1.  0.  0.]]\n"
     ]
    }
   ],
   "source": [
    "# integer encode\n",
    "label_encoder = LabelEncoder()\n",
    "integer_encoded = label_encoder.fit_transform(train_and_test_together.month)\n",
    "print(integer_encoded)\n",
    "# binary encode\n",
    "onehot_encoder = OneHotEncoder(sparse=False)\n",
    "integer_encoded = integer_encoded.reshape(len(integer_encoded), 1)\n",
    "onehot_encoded = onehot_encoder.fit_transform(integer_encoded)\n",
    "print(onehot_encoded)"
   ]
  },
  {
   "cell_type": "code",
   "execution_count": null,
   "metadata": {
    "collapsed": true
   },
   "outputs": [],
   "source": []
  },
  {
   "cell_type": "code",
   "execution_count": 70,
   "metadata": {
    "collapsed": true
   },
   "outputs": [],
   "source": [
    "\"\"\"формат float\"\"\"\n",
    "\n",
    "train_and_test_together['cum_neighb_dist'] = train_and_test_together['cum_neighb_dist'].astype(float)\n",
    "train_and_test_together['neighb_count'] = train_and_test_together['neighb_count'].astype(float)"
   ]
  },
  {
   "cell_type": "code",
   "execution_count": null,
   "metadata": {
    "collapsed": true
   },
   "outputs": [],
   "source": []
  },
  {
   "cell_type": "code",
   "execution_count": null,
   "metadata": {
    "collapsed": true
   },
   "outputs": [],
   "source": []
  },
  {
   "cell_type": "code",
   "execution_count": null,
   "metadata": {
    "collapsed": true
   },
   "outputs": [],
   "source": []
  },
  {
   "cell_type": "code",
   "execution_count": 73,
   "metadata": {
    "collapsed": true
   },
   "outputs": [],
   "source": [
    "train_and_test_together = pd.get_dummies(train_and_test_together, columns=[\"currency\", 'month', 'irs_description',\n",
    "                                                                          'place', 'region'], drop_first=True)"
   ]
  },
  {
   "cell_type": "code",
   "execution_count": 74,
   "metadata": {
    "collapsed": false
   },
   "outputs": [
    {
     "data": {
      "text/plain": [
       "(1360480, 2039)"
      ]
     },
     "execution_count": 74,
     "metadata": {},
     "output_type": "execute_result"
    }
   ],
   "source": [
    "train_and_test_together.shape"
   ]
  },
  {
   "cell_type": "code",
   "execution_count": null,
   "metadata": {
    "collapsed": true
   },
   "outputs": [],
   "source": []
  },
  {
   "cell_type": "code",
   "execution_count": 75,
   "metadata": {
    "collapsed": true
   },
   "outputs": [],
   "source": [
    "\"\"\"раставляем одинаковые лейблы в трейне и тесте\"\"\"\n",
    "lbl = LabelEncoder()\n",
    "#train_and_test_together['currency'] = lbl.fit_transform(train_and_test_together['currency'])  ##две транзакции ОАЭ\n",
    "#train_and_test_together['irs_description'] = lbl.fit_transform(train_and_test_together['irs_description'])\n",
    "#train_and_test_together['place'] = lbl.fit_transform(train_and_test_together['place'])\n",
    "#train_and_test_together['region'] = lbl.fit_transform(train_and_test_together['region'])\n",
    "train_and_test_together['country'] = lbl.fit_transform(train_and_test_together['country'])"
   ]
  },
  {
   "cell_type": "code",
   "execution_count": null,
   "metadata": {
    "collapsed": true
   },
   "outputs": [],
   "source": []
  },
  {
   "cell_type": "code",
   "execution_count": null,
   "metadata": {
    "collapsed": true
   },
   "outputs": [],
   "source": [
    "\"\"\"возвращаем выборку для обчения и для теста (используем дамми-столбец)\"\"\""
   ]
  },
  {
   "cell_type": "code",
   "execution_count": null,
   "metadata": {
    "collapsed": true
   },
   "outputs": [],
   "source": [
    "\"\"\"изменить train > train_df\"\"\""
   ]
  },
  {
   "cell_type": "code",
   "execution_count": 76,
   "metadata": {
    "collapsed": false
   },
   "outputs": [
    {
     "name": "stdout",
     "output_type": "stream",
     "text": [
      "train_df: 435812, \n",
      "test: 924668 \n"
     ]
    }
   ],
   "source": [
    "train_df = train_and_test_together[train_and_test_together.test_sample != 1]\n",
    "test = train_and_test_together[train_and_test_together.test_sample == 1]\n",
    "\n",
    "print(\"train_df: {0}, \\ntest: {1} \".format(len(train_df), len(test)))"
   ]
  },
  {
   "cell_type": "code",
   "execution_count": 78,
   "metadata": {
    "collapsed": false
   },
   "outputs": [
    {
     "name": "stdout",
     "output_type": "stream",
     "text": [
      "мин. кол-во транзакций для 1 id в train_df: 4, \n",
      "кол-во уник. id  в test: 9997 \n"
     ]
    }
   ],
   "source": [
    "\"\"\"проверяем, какое минимальное кол-во транзакций для 1 id в трейне,\n",
    "   сколько уникальных id попало в тестовую выборку (из 9997) \"\"\"\n",
    "\n",
    "print(\"мин. кол-во транзакций для 1 id в train_df: {0}, \\nкол-во уник. id  в test: {1} \".format(\n",
    "    min(train_df.customer_id.value_counts()), \n",
    "    test.customer_id.nunique()))"
   ]
  },
  {
   "cell_type": "code",
   "execution_count": null,
   "metadata": {
    "collapsed": true
   },
   "outputs": [],
   "source": [
    "\"\"\"расчитываем расстояния для цел.переменных (дом, работа)\"\"\"\n",
    "# use train_customer_ids_w_address"
   ]
  },
  {
   "cell_type": "code",
   "execution_count": 77,
   "metadata": {
    "collapsed": true
   },
   "outputs": [],
   "source": [
    "train_df = pd.merge(train_df, train_customer_ids_w_address, on='customer_id', how='left')"
   ]
  },
  {
   "cell_type": "code",
   "execution_count": null,
   "metadata": {
    "collapsed": true
   },
   "outputs": [],
   "source": []
  },
  {
   "cell_type": "code",
   "execution_count": 79,
   "metadata": {
    "collapsed": false
   },
   "outputs": [
    {
     "data": {
      "text/plain": [
       "Index(['amount', 'customer_id', 'mcc', 'terminal_id', 'transaction_date',\n",
       "       'address_lat', 'address_lon', 'gps', 'tr_type', 'test_sample',\n",
       "       ...\n",
       "       'region_Ulyanovsk', 'region_Vladimir', 'region_Volgograd',\n",
       "       'region_Vologda', 'region_Voronezj',\n",
       "       'region_Yamalo-Nenetskiy Avtonomnyy Okrug', 'home_add_lat',\n",
       "       'home_add_lon', 'work_add_lat', 'work_add_lon'],\n",
       "      dtype='object', length=2043)"
      ]
     },
     "execution_count": 79,
     "metadata": {},
     "output_type": "execute_result"
    }
   ],
   "source": [
    "train_df.columns"
   ]
  },
  {
   "cell_type": "code",
   "execution_count": 80,
   "metadata": {
    "collapsed": false
   },
   "outputs": [
    {
     "data": {
      "text/plain": [
       "Index(['amount', 'customer_id', 'mcc', 'terminal_id', 'transaction_date',\n",
       "       'address_lat', 'address_lon', 'gps', 'tr_type', 'test_sample',\n",
       "       ...\n",
       "       'region_Transbaikal Territory', 'region_Tula', 'region_Tverskaya',\n",
       "       'region_Udmurtiya', 'region_Ulyanovsk', 'region_Vladimir',\n",
       "       'region_Volgograd', 'region_Vologda', 'region_Voronezj',\n",
       "       'region_Yamalo-Nenetskiy Avtonomnyy Okrug'],\n",
       "      dtype='object', length=2039)"
      ]
     },
     "execution_count": 80,
     "metadata": {},
     "output_type": "execute_result"
    }
   ],
   "source": [
    "test.columns"
   ]
  },
  {
   "cell_type": "code",
   "execution_count": null,
   "metadata": {
    "collapsed": true
   },
   "outputs": [],
   "source": []
  },
  {
   "cell_type": "code",
   "execution_count": 81,
   "metadata": {
    "collapsed": true
   },
   "outputs": [],
   "source": [
    "\"\"\"переводим координаты во float\"\"\"\n",
    "train_df.address_lat = train_df.address_lat.astype(float)\n",
    "train_df.address_lon = train_df.address_lon.astype(float)\n",
    "train_df.home_add_lat = train_df.home_add_lat.astype(float)\n",
    "train_df.home_add_lon = train_df.home_add_lon.astype(float)\n",
    "train_df.work_add_lat = train_df.work_add_lat.astype(float)\n",
    "train_df.work_add_lon = train_df.work_add_lon.astype(float)"
   ]
  },
  {
   "cell_type": "code",
   "execution_count": 85,
   "metadata": {
    "collapsed": false
   },
   "outputs": [
    {
     "name": "stdout",
     "output_type": "stream",
     "text": [
      "\n"
     ]
    }
   ],
   "source": [
    "\"\"\"расстояие от дома до работы: убираем выбросы (?)\"\"\"\n",
    "home_to_work_distance = []\n",
    "\n",
    "for i, row in tqdm_notebook(enumerate(train_df[['home_add_lat', 'home_add_lon', 'work_add_lat', 'work_add_lon']].itertuples())):\n",
    "    home_to_work_distance.append(haversine_fast(row[1], row[2], row[3], row[4]))\n",
    "    \n",
    "train_df['home_to_work_dist'] = np.array(home_to_work_distance)\n"
   ]
  },
  {
   "cell_type": "code",
   "execution_count": 86,
   "metadata": {
    "collapsed": false
   },
   "outputs": [
    {
     "name": "stdout",
     "output_type": "stream",
     "text": [
      "размер train_df: 435812, с учетом threshold по расстоянию: 389383 (0.89) \n"
     ]
    },
    {
     "data": {
      "image/png": "[encoded data removed]",
      "text/plain": [
       "<matplotlib.figure.Figure at 0x1c1e71905c0>"
      ]
     },
     "metadata": {},
     "output_type": "display_data"
    }
   ],
   "source": [
    "threshold = 40000\n",
    "train_df[train_df['home_to_work_dist'] < threshold]['home_to_work_dist'].hist();\n",
    "\n",
    "print(\"размер train_df: {0}, с учетом threshold по расстоянию: {1} ({2}) \".format(\n",
    "    len(train_df), \n",
    "    len(train_df[train_df['home_to_work_dist'] < threshold]), \n",
    "    round((len(train_df[train_df['home_to_work_dist'] < threshold]))/len(train_df),2)))"
   ]
  },
  {
   "cell_type": "code",
   "execution_count": 87,
   "metadata": {
    "collapsed": true
   },
   "outputs": [],
   "source": [
    "\"\"\"запоминаем новый train\"\"\"\n",
    "train_df = train_df[train_df['home_to_work_dist'] < threshold].copy()"
   ]
  },
  {
   "cell_type": "code",
   "execution_count": null,
   "metadata": {
    "collapsed": true
   },
   "outputs": [],
   "source": []
  },
  {
   "cell_type": "code",
   "execution_count": 88,
   "metadata": {
    "collapsed": false
   },
   "outputs": [
    {
     "name": "stdout",
     "output_type": "stream",
     "text": [
      "\n"
     ]
    }
   ],
   "source": [
    "\"\"\"растояние до дома: создаем целевую переменную для моделирования / функция для расчета дистанции ниже\"\"\"\n",
    "y_home_distance = []\n",
    "\n",
    "for i, row in tqdm_notebook(enumerate(train_df[['home_add_lat', 'home_add_lon', 'address_lat', 'address_lon']].itertuples())):\n",
    "    y_home_distance.append(haversine_fast(row[1], row[2], row[3], row[4]))"
   ]
  },
  {
   "cell_type": "code",
   "execution_count": 89,
   "metadata": {
    "collapsed": false
   },
   "outputs": [
    {
     "name": "stdout",
     "output_type": "stream",
     "text": [
      "\n"
     ]
    }
   ],
   "source": [
    "\"\"\"растояние до работы: создаем целевую переменную для моделирования / функция для расчета дистанции ниже\"\"\"\n",
    "y_work_distance = []\n",
    "\n",
    "for i, row in tqdm_notebook(enumerate(train_df[['work_add_lat', 'work_add_lon', 'address_lat', 'address_lon']].itertuples())):\n",
    "    y_work_distance.append(haversine_fast(row[1], row[2], row[3], row[4]))"
   ]
  },
  {
   "cell_type": "code",
   "execution_count": 90,
   "metadata": {
    "collapsed": true
   },
   "outputs": [],
   "source": [
    "y_df = train_df[['home_add_lat', 'home_add_lon' ,'work_add_lat', 'work_add_lon']].copy()\n",
    "y_df['y_home_distance'] = y_home_distance\n",
    "y_df['y_work_distance'] = y_work_distance"
   ]
  },
  {
   "cell_type": "code",
   "execution_count": 91,
   "metadata": {
    "collapsed": false
   },
   "outputs": [
    {
     "data": {
      "image/png": "[encoded data removed]",
      "text/plain": [
       "<matplotlib.figure.Figure at 0x1c1e7c38358>"
      ]
     },
     "metadata": {},
     "output_type": "display_data"
    }
   ],
   "source": [
    "y_df[y_df['y_home_distance'] < 2000]['y_home_distance'].hist();"
   ]
  },
  {
   "cell_type": "code",
   "execution_count": 92,
   "metadata": {
    "collapsed": true
   },
   "outputs": [],
   "source": [
    "y_df['y_class'] = 0\n",
    "y_df['y_class'][y_df['y_home_distance'] < 2 * LAT_001_DIST ] = 1\n",
    "y_df['y_class'][y_df['y_work_distance'] < 2 * LAT_001_DIST ] = 2\n",
    "y_df['y_class'][(y_df['y_home_distance'] < 2 * LAT_001_DIST) & (y_df['y_work_distance'] < 2 * LAT_001_DIST)] = 3"
   ]
  },
  {
   "cell_type": "code",
   "execution_count": 93,
   "metadata": {
    "collapsed": false
   },
   "outputs": [
    {
     "data": {
      "text/plain": [
       "0    175271\n",
       "1    107195\n",
       "2     73520\n",
       "3     33397\n",
       "Name: y_class, dtype: int64"
      ]
     },
     "execution_count": 93,
     "metadata": {},
     "output_type": "execute_result"
    }
   ],
   "source": [
    "y_df.y_class.value_counts()"
   ]
  },
  {
   "cell_type": "code",
   "execution_count": 94,
   "metadata": {
    "collapsed": false
   },
   "outputs": [
    {
     "data": {
      "text/plain": [
       "(389383, 389383)"
      ]
     },
     "execution_count": 94,
     "metadata": {},
     "output_type": "execute_result"
    }
   ],
   "source": [
    "len(train_df), len(y_df)"
   ]
  },
  {
   "cell_type": "code",
   "execution_count": null,
   "metadata": {
    "collapsed": true
   },
   "outputs": [],
   "source": []
  },
  {
   "cell_type": "code",
   "execution_count": null,
   "metadata": {
    "collapsed": true
   },
   "outputs": [],
   "source": []
  },
  {
   "cell_type": "code",
   "execution_count": null,
   "metadata": {
    "collapsed": true
   },
   "outputs": [],
   "source": []
  }
 ],
 "metadata": {
  "kernelspec": {
   "display_name": "Python 3",
   "language": "python",
   "name": "python3"
  },
  "language_info": {
   "codemirror_mode": {
    "name": "ipython",
    "version": 3
   },
   "file_extension": ".py",
   "mimetype": "text/x-python",
   "name": "python",
   "nbconvert_exporter": "python",
   "pygments_lexer": "ipython3",
   "version": "3.6.2"
  }
 },
 "nbformat": 4,
 "nbformat_minor": 2
}
