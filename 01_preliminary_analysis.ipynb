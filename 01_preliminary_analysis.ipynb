{
 "cells": [
  {
   "cell_type": "code",
   "execution_count": 1,
   "metadata": {
    "collapsed": true
   },
   "outputs": [],
   "source": [
    "import numpy as np\n",
    "import pandas as pd\n",
    "\n",
    "from datetime import datetime\n",
    "\n",
    "import matplotlib\n",
    "import matplotlib.pyplot as plt\n",
    "%matplotlib inline"
   ]
  },
  {
   "cell_type": "code",
   "execution_count": 2,
   "metadata": {
    "collapsed": false
   },
   "outputs": [],
   "source": [
    "#train, test and submission exmple\n",
    "data = {'tra': pd.read_csv(r'...\\train_set.csv', \n",
    "                           error_bad_lines=False, index_col=False, dtype='unicode'),\n",
    "        'tes': pd.read_csv(r'...\\test_set.csv', \n",
    "                           error_bad_lines=False, index_col=False, dtype='unicode'),\n",
    "        'sub': pd.read_csv(r'...\\sample.csv')}"
   ]
  },
  {
   "cell_type": "code",
   "execution_count": 6,
   "metadata": {
    "collapsed": false
   },
   "outputs": [
    {
     "data": {
      "text/plain": [
       "(1224734, 18)"
      ]
     },
     "execution_count": 6,
     "metadata": {},
     "output_type": "execute_result"
    }
   ],
   "source": [
    "data['tra'].shape"
   ]
  },
  {
   "cell_type": "code",
   "execution_count": 5,
   "metadata": {
    "collapsed": false
   },
   "outputs": [
    {
     "data": {
      "text/html": [
       "<div>\n",
       "<style scoped>\n",
       "    .dataframe tbody tr th:only-of-type {\n",
       "        vertical-align: middle;\n",
       "    }\n",
       "\n",
       "    .dataframe tbody tr th {\n",
       "        vertical-align: top;\n",
       "    }\n",
       "\n",
       "    .dataframe thead th {\n",
       "        text-align: right;\n",
       "    }\n",
       "</style>\n",
       "<table border=\"1\" class=\"dataframe\">\n",
       "  <thead>\n",
       "    <tr style=\"text-align: right;\">\n",
       "      <th></th>\n",
       "      <th>amount</th>\n",
       "      <th>atm_address</th>\n",
       "      <th>atm_address_lat</th>\n",
       "      <th>atm_address_lon</th>\n",
       "      <th>city</th>\n",
       "      <th>country</th>\n",
       "      <th>currency</th>\n",
       "      <th>customer_id</th>\n",
       "      <th>home_add_lat</th>\n",
       "      <th>home_add_lon</th>\n",
       "      <th>mcc</th>\n",
       "      <th>pos_address</th>\n",
       "      <th>pos_adress_lat</th>\n",
       "      <th>pos_adress_lon</th>\n",
       "      <th>terminal_id</th>\n",
       "      <th>transaction_date</th>\n",
       "      <th>work_add_lat</th>\n",
       "      <th>work_add_lon</th>\n",
       "    </tr>\n",
       "  </thead>\n",
       "  <tbody>\n",
       "    <tr>\n",
       "      <th>0</th>\n",
       "      <td>2.8840340071</td>\n",
       "      <td>NaN</td>\n",
       "      <td>NaN</td>\n",
       "      <td>NaN</td>\n",
       "      <td>ST PETERSBURG</td>\n",
       "      <td>RUS</td>\n",
       "      <td>643.0</td>\n",
       "      <td>0dc0137d280a2a82d2dc89282450ff1b</td>\n",
       "      <td>59.851000000000006</td>\n",
       "      <td>30.232</td>\n",
       "      <td>5261</td>\n",
       "      <td>NaN</td>\n",
       "      <td>59.84407235</td>\n",
       "      <td>30.1791526293</td>\n",
       "      <td>11606fde0c814ce78e0d726e39a0a5ee</td>\n",
       "      <td>2017-07-15</td>\n",
       "      <td>59.847</td>\n",
       "      <td>30.177</td>\n",
       "    </tr>\n",
       "    <tr>\n",
       "      <th>1</th>\n",
       "      <td>2.7756332035000004</td>\n",
       "      <td>NaN</td>\n",
       "      <td>NaN</td>\n",
       "      <td>NaN</td>\n",
       "      <td>ST PETERSBURG</td>\n",
       "      <td>RUS</td>\n",
       "      <td>643.0</td>\n",
       "      <td>0dc0137d280a2a82d2dc89282450ff1b</td>\n",
       "      <td>59.851000000000006</td>\n",
       "      <td>30.232</td>\n",
       "      <td>5261</td>\n",
       "      <td>NaN</td>\n",
       "      <td>59.84407235</td>\n",
       "      <td>30.1791526293</td>\n",
       "      <td>e9647a5e1eacfb06713b6af755ccc595</td>\n",
       "      <td>2017-10-27</td>\n",
       "      <td>59.847</td>\n",
       "      <td>30.177</td>\n",
       "    </tr>\n",
       "    <tr>\n",
       "      <th>2</th>\n",
       "      <td>3.7083683962</td>\n",
       "      <td>NaN</td>\n",
       "      <td>NaN</td>\n",
       "      <td>NaN</td>\n",
       "      <td>St Petersburg</td>\n",
       "      <td>RUS</td>\n",
       "      <td>643.0</td>\n",
       "      <td>0dc0137d280a2a82d2dc89282450ff1b</td>\n",
       "      <td>59.851000000000006</td>\n",
       "      <td>30.232</td>\n",
       "      <td>5992</td>\n",
       "      <td>PR.MARSHALA ZHUKOVA,31St Petersburg190000    7...</td>\n",
       "      <td>59.85819839999999</td>\n",
       "      <td>30.229023699999996</td>\n",
       "      <td>df06c1fcd3718a514535ae822785f716</td>\n",
       "      <td>2017-10-03</td>\n",
       "      <td>59.847</td>\n",
       "      <td>30.177</td>\n",
       "    </tr>\n",
       "    <tr>\n",
       "      <th>3</th>\n",
       "      <td>2.7874978426</td>\n",
       "      <td>NaN</td>\n",
       "      <td>NaN</td>\n",
       "      <td>NaN</td>\n",
       "      <td>ST PETERSBURG</td>\n",
       "      <td>RUS</td>\n",
       "      <td>643.0</td>\n",
       "      <td>0dc0137d280a2a82d2dc89282450ff1b</td>\n",
       "      <td>59.851000000000006</td>\n",
       "      <td>30.232</td>\n",
       "      <td>5261</td>\n",
       "      <td>NaN</td>\n",
       "      <td>59.84407235</td>\n",
       "      <td>30.1791526293</td>\n",
       "      <td>6c5e5793ebc984fb72875feffff62854</td>\n",
       "      <td>2017-09-09</td>\n",
       "      <td>59.847</td>\n",
       "      <td>30.177</td>\n",
       "    </tr>\n",
       "    <tr>\n",
       "      <th>4</th>\n",
       "      <td>2.8925098831000002</td>\n",
       "      <td>NaN</td>\n",
       "      <td>NaN</td>\n",
       "      <td>NaN</td>\n",
       "      <td>ST PETERSBURG</td>\n",
       "      <td>RUS</td>\n",
       "      <td>643.0</td>\n",
       "      <td>0dc0137d280a2a82d2dc89282450ff1b</td>\n",
       "      <td>59.851000000000006</td>\n",
       "      <td>30.232</td>\n",
       "      <td>5261</td>\n",
       "      <td>NaN</td>\n",
       "      <td>59.84407235</td>\n",
       "      <td>30.1791526293</td>\n",
       "      <td>0576445d74e374c92c0902e612fca356</td>\n",
       "      <td>2017-07-06</td>\n",
       "      <td>59.847</td>\n",
       "      <td>30.177</td>\n",
       "    </tr>\n",
       "  </tbody>\n",
       "</table>\n",
       "</div>"
      ],
      "text/plain": [
       "               amount atm_address atm_address_lat atm_address_lon  \\\n",
       "0        2.8840340071         NaN             NaN             NaN   \n",
       "1  2.7756332035000004         NaN             NaN             NaN   \n",
       "2        3.7083683962         NaN             NaN             NaN   \n",
       "3        2.7874978426         NaN             NaN             NaN   \n",
       "4  2.8925098831000002         NaN             NaN             NaN   \n",
       "\n",
       "            city country currency                       customer_id  \\\n",
       "0  ST PETERSBURG     RUS    643.0  0dc0137d280a2a82d2dc89282450ff1b   \n",
       "1  ST PETERSBURG     RUS    643.0  0dc0137d280a2a82d2dc89282450ff1b   \n",
       "2  St Petersburg     RUS    643.0  0dc0137d280a2a82d2dc89282450ff1b   \n",
       "3  ST PETERSBURG     RUS    643.0  0dc0137d280a2a82d2dc89282450ff1b   \n",
       "4  ST PETERSBURG     RUS    643.0  0dc0137d280a2a82d2dc89282450ff1b   \n",
       "\n",
       "         home_add_lat home_add_lon   mcc  \\\n",
       "0  59.851000000000006       30.232  5261   \n",
       "1  59.851000000000006       30.232  5261   \n",
       "2  59.851000000000006       30.232  5992   \n",
       "3  59.851000000000006       30.232  5261   \n",
       "4  59.851000000000006       30.232  5261   \n",
       "\n",
       "                                         pos_address     pos_adress_lat  \\\n",
       "0                                                NaN        59.84407235   \n",
       "1                                                NaN        59.84407235   \n",
       "2  PR.MARSHALA ZHUKOVA,31St Petersburg190000    7...  59.85819839999999   \n",
       "3                                                NaN        59.84407235   \n",
       "4                                                NaN        59.84407235   \n",
       "\n",
       "       pos_adress_lon                       terminal_id transaction_date  \\\n",
       "0       30.1791526293  11606fde0c814ce78e0d726e39a0a5ee       2017-07-15   \n",
       "1       30.1791526293  e9647a5e1eacfb06713b6af755ccc595       2017-10-27   \n",
       "2  30.229023699999996  df06c1fcd3718a514535ae822785f716       2017-10-03   \n",
       "3       30.1791526293  6c5e5793ebc984fb72875feffff62854       2017-09-09   \n",
       "4       30.1791526293  0576445d74e374c92c0902e612fca356       2017-07-06   \n",
       "\n",
       "  work_add_lat work_add_lon  \n",
       "0       59.847       30.177  \n",
       "1       59.847       30.177  \n",
       "2       59.847       30.177  \n",
       "3       59.847       30.177  \n",
       "4       59.847       30.177  "
      ]
     },
     "execution_count": 5,
     "metadata": {},
     "output_type": "execute_result"
    }
   ],
   "source": [
    "data['tra'].head()"
   ]
  },
  {
   "cell_type": "code",
   "execution_count": null,
   "metadata": {
    "collapsed": true
   },
   "outputs": [],
   "source": []
  },
  {
   "cell_type": "code",
   "execution_count": 12,
   "metadata": {
    "collapsed": true
   },
   "outputs": [],
   "source": [
    "data['tra'].mcc = data['tra'].mcc.astype(int)"
   ]
  },
  {
   "cell_type": "code",
   "execution_count": 13,
   "metadata": {
    "collapsed": false
   },
   "outputs": [],
   "source": [
    "#upload mcc codes description\n",
    "mcc_codes = pd.read_csv(r'C:...\\mcc_codes.csv')\n",
    "\n",
    "data['tra'] = pd.merge(data['tra'], mcc_codes, on='mcc', how='left')"
   ]
  },
  {
   "cell_type": "code",
   "execution_count": 14,
   "metadata": {
    "collapsed": false
   },
   "outputs": [],
   "source": [
    "#currency\n",
    "currency = pd.read_excel(r'...\\currency.xlsx')\n",
    "currency.currency = currency.currency.astype(float)\n",
    "\n",
    "data['tra'].currency = data['tra'].currency.astype(float)\n",
    "data['tes'].currency = data['tes'].currency.astype(float)\n",
    "\n",
    "data['tra'] = pd.merge(data['tra'], currency, on='currency', how='left')\n",
    "data['tes'] = pd.merge(data['tes'], currency, on='currency', how='left')"
   ]
  },
  {
   "cell_type": "code",
   "execution_count": null,
   "metadata": {
    "collapsed": true
   },
   "outputs": [],
   "source": []
  },
  {
   "cell_type": "code",
   "execution_count": 15,
   "metadata": {
    "collapsed": true
   },
   "outputs": [],
   "source": [
    "# data cleansing\n",
    "data['tra'].city = [str(i).lower() for i in data['tra'].city]\n",
    "data['tes'].city = [str(i).lower() for i in data['tes'].city]\n",
    "\n",
    "data['tra'].loc[data['tra'][data['tra'].country == 'RU '].index,'country'] = 'RUS'\n",
    "data['tes'].loc[data['tes'][data['tes'].country == 'RU '].index,'country'] = 'RUS'\n",
    "\n",
    "data['tra'].amount = [float(i) for i in data['tra'].amount]\n",
    "data['tes'].amount = [float(i) for i in data['tes'].amount]\n"
   ]
  },
  {
   "cell_type": "code",
   "execution_count": 16,
   "metadata": {
    "collapsed": false
   },
   "outputs": [],
   "source": [
    "#to datetime\n",
    "data['tra']['transaction_date'] = pd.to_datetime(data['tra']['transaction_date'])\n",
    "\n",
    "data['tra']['year'] = data['tra']['transaction_date'].dt.year\n",
    "data['tra']['month'] = data['tra']['transaction_date'].dt.month\n",
    "data['tra']['week'] = data['tra']['transaction_date'].dt.week\n",
    "data['tra']['day'] = data['tra']['transaction_date'].dt.day\n",
    "data['tra']['dow'] = data['tra']['transaction_date'].dt.weekday\n",
    "\n",
    "data['tes']['transaction_date'] = pd.to_datetime(data['tes']['transaction_date'])\n",
    "\n",
    "data['tes']['year'] = data['tes']['transaction_date'].dt.year\n",
    "data['tes']['month'] = data['tes']['transaction_date'].dt.month\n",
    "data['tes']['week'] = data['tes']['transaction_date'].dt.week\n",
    "data['tes']['day'] = data['tes']['transaction_date'].dt.day\n",
    "data['tes']['dow'] = data['tes']['transaction_date'].dt.weekday"
   ]
  },
  {
   "cell_type": "code",
   "execution_count": null,
   "metadata": {
    "collapsed": false
   },
   "outputs": [],
   "source": []
  },
  {
   "cell_type": "code",
   "execution_count": 17,
   "metadata": {
    "collapsed": false
   },
   "outputs": [
    {
     "name": "stdout",
     "output_type": "stream",
     "text": [
      "4842\n",
      "0\n"
     ]
    }
   ],
   "source": [
    "# train: wo work = 4842\n",
    "print(data['tra'][['customer_id','work_add_lat','work_add_lon']].groupby('customer_id').count().work_add_lon.value_counts()[0])\n",
    "\n",
    "# train: everybody has a home\n",
    "#print(data['tra'][['customer_id','home_add_lat','home_add_lon']].groupby('customer_id').count().home_add_lon.value_counts()[0])\n",
    "print(0)"
   ]
  },
  {
   "cell_type": "code",
   "execution_count": 19,
   "metadata": {
    "collapsed": false
   },
   "outputs": [],
   "source": [
    "#print(len(np.unique(data['tra'].home_add_lon)), len(np.unique(data['tra'].home_add_lat)))\n",
    "#print(len(np.unique(data['tra'].work_add_lon)), len(np.unique(data['tra'].work_add_lat)))"
   ]
  },
  {
   "cell_type": "code",
   "execution_count": null,
   "metadata": {
    "collapsed": true
   },
   "outputs": [],
   "source": []
  },
  {
   "cell_type": "code",
   "execution_count": 20,
   "metadata": {
    "collapsed": false
   },
   "outputs": [],
   "source": [
    "unique_id = pd.pivot_table(data['tra'], \n",
    "                          index=['customer_id','country'], values='amount', aggfunc=(np.size, np.sum)).reset_index()\n",
    "\n",
    "unique_id = unique_id.groupby('customer_id').agg({'country':[np.size], 'size':[np.sum], 'sum':[np.sum]}).reset_index()\n",
    "unique_id.columns = ['customer_id', 'country_count', 'tr_count', 'tr_sum']"
   ]
  },
  {
   "cell_type": "code",
   "execution_count": 21,
   "metadata": {
    "collapsed": false
   },
   "outputs": [
    {
     "data": {
      "text/html": [
       "<div>\n",
       "<style scoped>\n",
       "    .dataframe tbody tr th:only-of-type {\n",
       "        vertical-align: middle;\n",
       "    }\n",
       "\n",
       "    .dataframe tbody tr th {\n",
       "        vertical-align: top;\n",
       "    }\n",
       "\n",
       "    .dataframe thead th {\n",
       "        text-align: right;\n",
       "    }\n",
       "</style>\n",
       "<table border=\"1\" class=\"dataframe\">\n",
       "  <thead>\n",
       "    <tr style=\"text-align: right;\">\n",
       "      <th></th>\n",
       "      <th>customer_id</th>\n",
       "      <th>country_count</th>\n",
       "      <th>tr_count</th>\n",
       "      <th>tr_sum</th>\n",
       "    </tr>\n",
       "  </thead>\n",
       "  <tbody>\n",
       "    <tr>\n",
       "      <th>2187</th>\n",
       "      <td>30f008d358b5c7b3dfd3feb94a174d28</td>\n",
       "      <td>12</td>\n",
       "      <td>89.0</td>\n",
       "      <td>338.102759</td>\n",
       "    </tr>\n",
       "    <tr>\n",
       "      <th>4991</th>\n",
       "      <td>6fe78d53351cf0a7d62f90ed29f02e68</td>\n",
       "      <td>8</td>\n",
       "      <td>291.0</td>\n",
       "      <td>896.214672</td>\n",
       "    </tr>\n",
       "    <tr>\n",
       "      <th>5933</th>\n",
       "      <td>84ae6d53c637e39f4e063641d9d5599f</td>\n",
       "      <td>7</td>\n",
       "      <td>135.0</td>\n",
       "      <td>434.803654</td>\n",
       "    </tr>\n",
       "    <tr>\n",
       "      <th>6873</th>\n",
       "      <td>9a89fba2c9fbd72d6f6c54850c931854</td>\n",
       "      <td>6</td>\n",
       "      <td>112.0</td>\n",
       "      <td>360.787740</td>\n",
       "    </tr>\n",
       "    <tr>\n",
       "      <th>1255</th>\n",
       "      <td>1d00b0ef214f4bd3fc1b62fba4cad434</td>\n",
       "      <td>6</td>\n",
       "      <td>82.0</td>\n",
       "      <td>245.368228</td>\n",
       "    </tr>\n",
       "    <tr>\n",
       "      <th>25</th>\n",
       "      <td>00ab4bcdef7c20583e61d5d2ac7617cb</td>\n",
       "      <td>6</td>\n",
       "      <td>180.0</td>\n",
       "      <td>526.525882</td>\n",
       "    </tr>\n",
       "    <tr>\n",
       "      <th>246</th>\n",
       "      <td>058530abee8794129e6d5ee1d48e11c9</td>\n",
       "      <td>6</td>\n",
       "      <td>53.0</td>\n",
       "      <td>100.679326</td>\n",
       "    </tr>\n",
       "    <tr>\n",
       "      <th>8058</th>\n",
       "      <td>b4d1767cf01d056382183d088113b962</td>\n",
       "      <td>6</td>\n",
       "      <td>200.0</td>\n",
       "      <td>620.542231</td>\n",
       "    </tr>\n",
       "    <tr>\n",
       "      <th>5655</th>\n",
       "      <td>7e8a5d6d5c263955a32adf90d926ae32</td>\n",
       "      <td>6</td>\n",
       "      <td>206.0</td>\n",
       "      <td>671.809559</td>\n",
       "    </tr>\n",
       "    <tr>\n",
       "      <th>8367</th>\n",
       "      <td>bf66305d0ec05abb6e6a6358acb8c2a1</td>\n",
       "      <td>6</td>\n",
       "      <td>167.0</td>\n",
       "      <td>446.374935</td>\n",
       "    </tr>\n",
       "  </tbody>\n",
       "</table>\n",
       "</div>"
      ],
      "text/plain": [
       "                           customer_id  country_count  tr_count      tr_sum\n",
       "2187  30f008d358b5c7b3dfd3feb94a174d28             12      89.0  338.102759\n",
       "4991  6fe78d53351cf0a7d62f90ed29f02e68              8     291.0  896.214672\n",
       "5933  84ae6d53c637e39f4e063641d9d5599f              7     135.0  434.803654\n",
       "6873  9a89fba2c9fbd72d6f6c54850c931854              6     112.0  360.787740\n",
       "1255  1d00b0ef214f4bd3fc1b62fba4cad434              6      82.0  245.368228\n",
       "25    00ab4bcdef7c20583e61d5d2ac7617cb              6     180.0  526.525882\n",
       "246   058530abee8794129e6d5ee1d48e11c9              6      53.0  100.679326\n",
       "8058  b4d1767cf01d056382183d088113b962              6     200.0  620.542231\n",
       "5655  7e8a5d6d5c263955a32adf90d926ae32              6     206.0  671.809559\n",
       "8367  bf66305d0ec05abb6e6a6358acb8c2a1              6     167.0  446.374935"
      ]
     },
     "execution_count": 21,
     "metadata": {},
     "output_type": "execute_result"
    }
   ],
   "source": [
    "unique_id.sort_values(by='country_count', ascending=0).head(10)"
   ]
  },
  {
   "cell_type": "code",
   "execution_count": 341,
   "metadata": {
    "collapsed": false
   },
   "outputs": [
    {
     "data": {
      "text/html": [
       "<div>\n",
       "<table border=\"1\" class=\"dataframe\">\n",
       "  <thead>\n",
       "    <tr style=\"text-align: right;\">\n",
       "      <th></th>\n",
       "      <th>amount</th>\n",
       "    </tr>\n",
       "    <tr>\n",
       "      <th>country</th>\n",
       "      <th></th>\n",
       "    </tr>\n",
       "  </thead>\n",
       "  <tbody>\n",
       "    <tr>\n",
       "      <th>RUS</th>\n",
       "      <td>1220767</td>\n",
       "    </tr>\n",
       "    <tr>\n",
       "      <th>DEU</th>\n",
       "      <td>238</td>\n",
       "    </tr>\n",
       "    <tr>\n",
       "      <th>CZE</th>\n",
       "      <td>215</td>\n",
       "    </tr>\n",
       "    <tr>\n",
       "      <th>ITA</th>\n",
       "      <td>177</td>\n",
       "    </tr>\n",
       "    <tr>\n",
       "      <th>THA</th>\n",
       "      <td>177</td>\n",
       "    </tr>\n",
       "  </tbody>\n",
       "</table>\n",
       "</div>"
      ],
      "text/plain": [
       "          amount\n",
       "country         \n",
       "RUS      1220767\n",
       "DEU          238\n",
       "CZE          215\n",
       "ITA          177\n",
       "THA          177"
      ]
     },
     "execution_count": 341,
     "metadata": {},
     "output_type": "execute_result"
    }
   ],
   "source": [
    "unique_country = data['tra'][['country','amount']].groupby('country').count()\n",
    "unique_country.sort_values(by='amount', ascending=0).head(5)"
   ]
  },
  {
   "cell_type": "code",
   "execution_count": 367,
   "metadata": {
    "collapsed": false
   },
   "outputs": [
    {
     "data": {
      "text/html": [
       "<div>\n",
       "<table border=\"1\" class=\"dataframe\">\n",
       "  <thead>\n",
       "    <tr style=\"text-align: right;\">\n",
       "      <th></th>\n",
       "      <th>currency_info</th>\n",
       "      <th>count</th>\n",
       "      <th>sum</th>\n",
       "      <th>dev</th>\n",
       "    </tr>\n",
       "  </thead>\n",
       "  <tbody>\n",
       "    <tr>\n",
       "      <th>21</th>\n",
       "      <td>Канадский доллар</td>\n",
       "      <td>49.0</td>\n",
       "      <td>225.966831</td>\n",
       "      <td>4.611568</td>\n",
       "    </tr>\n",
       "    <tr>\n",
       "      <th>2</th>\n",
       "      <td>Албанский лек</td>\n",
       "      <td>1.0</td>\n",
       "      <td>4.037025</td>\n",
       "      <td>4.037025</td>\n",
       "    </tr>\n",
       "    <tr>\n",
       "      <th>29</th>\n",
       "      <td>Мексиканский песо</td>\n",
       "      <td>13.0</td>\n",
       "      <td>51.574669</td>\n",
       "      <td>3.967282</td>\n",
       "    </tr>\n",
       "    <tr>\n",
       "      <th>56</th>\n",
       "      <td>Японская йена</td>\n",
       "      <td>3.0</td>\n",
       "      <td>11.641865</td>\n",
       "      <td>3.880622</td>\n",
       "    </tr>\n",
       "    <tr>\n",
       "      <th>31</th>\n",
       "      <td>Монгольский тугрик</td>\n",
       "      <td>1.0</td>\n",
       "      <td>3.867362</td>\n",
       "      <td>3.867362</td>\n",
       "    </tr>\n",
       "    <tr>\n",
       "      <th>55</th>\n",
       "      <td>Южно-африканский рэнд</td>\n",
       "      <td>5.0</td>\n",
       "      <td>19.095053</td>\n",
       "      <td>3.819011</td>\n",
       "    </tr>\n",
       "    <tr>\n",
       "      <th>36</th>\n",
       "      <td>Перуанский соль</td>\n",
       "      <td>4.0</td>\n",
       "      <td>14.996832</td>\n",
       "      <td>3.749208</td>\n",
       "    </tr>\n",
       "    <tr>\n",
       "      <th>0</th>\n",
       "      <td>Австралийский доллар</td>\n",
       "      <td>5.0</td>\n",
       "      <td>18.540145</td>\n",
       "      <td>3.708029</td>\n",
       "    </tr>\n",
       "    <tr>\n",
       "      <th>6</th>\n",
       "      <td>Венгерский форинт</td>\n",
       "      <td>11.0</td>\n",
       "      <td>40.018636</td>\n",
       "      <td>3.638058</td>\n",
       "    </tr>\n",
       "    <tr>\n",
       "      <th>7</th>\n",
       "      <td>Вьетнамский донг</td>\n",
       "      <td>50.0</td>\n",
       "      <td>181.725455</td>\n",
       "      <td>3.634509</td>\n",
       "    </tr>\n",
       "  </tbody>\n",
       "</table>\n",
       "</div>"
      ],
      "text/plain": [
       "            currency_info  count         sum       dev\n",
       "21       Канадский доллар   49.0  225.966831  4.611568\n",
       "2           Албанский лек    1.0    4.037025  4.037025\n",
       "29      Мексиканский песо   13.0   51.574669  3.967282\n",
       "56          Японская йена    3.0   11.641865  3.880622\n",
       "31     Монгольский тугрик    1.0    3.867362  3.867362\n",
       "55  Южно-африканский рэнд    5.0   19.095053  3.819011\n",
       "36        Перуанский соль    4.0   14.996832  3.749208\n",
       "0    Австралийский доллар    5.0   18.540145  3.708029\n",
       "6       Венгерский форинт   11.0   40.018636  3.638058\n",
       "7        Вьетнамский донг   50.0  181.725455  3.634509"
      ]
     },
     "execution_count": 367,
     "metadata": {},
     "output_type": "execute_result"
    }
   ],
   "source": [
    "unique_country = data['tra'][['currency_info','amount']].groupby('currency_info').agg([np.size, np.sum]).reset_index()\n",
    "unique_country.columns = ['currency_info', 'count', 'sum']\n",
    "unique_country['div'] = unique_country['sum'] / unique_country['count']\n",
    "unique_country.sort_values(by='dev', ascending=0)[:10]"
   ]
  },
  {
   "cell_type": "code",
   "execution_count": 401,
   "metadata": {
    "collapsed": false
   },
   "outputs": [
    {
     "data": {
      "image/png": "[encoded data removed]",
      "text/plain": [
       "<matplotlib.figure.Figure at 0x217d543afd0>"
      ]
     },
     "metadata": {},
     "output_type": "display_data"
    }
   ],
   "source": [
    "# gaps in time (as well as for test)\n",
    "plt.plot(pd.pivot_table(data['tra'], index=['year','month'], values='amount', aggfunc= np.size).values)\n",
    "plt.show();"
   ]
  },
  {
   "cell_type": "code",
   "execution_count": 490,
   "metadata": {
    "collapsed": false
   },
   "outputs": [],
   "source": [
    "data['tra'].home_add_lon = data['tra'].home_add_lon.apply(str)\n",
    "data['tra'].home_add_lat = data['tra'].home_add_lat.apply(str)\n",
    "\n",
    "data['tra'].work_add_lon = data['tra'].work_add_lon.apply(str)\n",
    "data['tra'].work_add_lat = data['tra'].work_add_lat.apply(str)\n"
   ]
  },
  {
   "cell_type": "code",
   "execution_count": 676,
   "metadata": {
    "collapsed": true
   },
   "outputs": [],
   "source": [
    "data['tra']['home_add'] = data['tra'].home_add_lat + '_' + data['tra'].home_add_lon\n",
    "data['tra']['work_add'] = data['tra'].work_add_lat + '_' + data['tra'].work_add_lon"
   ]
  },
  {
   "cell_type": "code",
   "execution_count": 626,
   "metadata": {
    "collapsed": false
   },
   "outputs": [
    {
     "name": "stdout",
     "output_type": "stream",
     "text": [
      "10147 4585\n"
     ]
    }
   ],
   "source": [
    "# double home / double work\n",
    "unique_home_add = data['tra'][['customer_id','home_add']].groupby('customer_id')['home_add'].nunique()\n",
    "unique_work_add = data['tra'][['customer_id','work_add']].groupby('customer_id')['work_add'].nunique()\n",
    "\n",
    "#len(unique_address.sort_values(ascending=0)[:337]), len(unique_work_add.sort_values(ascending=0)[:48])\n",
    "print(data['tra']['home_add'].nunique(), data['tra']['work_add'].nunique())"
   ]
  },
  {
   "cell_type": "code",
   "execution_count": null,
   "metadata": {
    "collapsed": false
   },
   "outputs": [],
   "source": []
  },
  {
   "cell_type": "code",
   "execution_count": 681,
   "metadata": {
    "collapsed": false
   },
   "outputs": [
    {
     "data": {
      "text/html": [
       "<div>\n",
       "<table border=\"1\" class=\"dataframe\">\n",
       "  <thead>\n",
       "    <tr style=\"text-align: right;\">\n",
       "      <th></th>\n",
       "      <th>edited_description</th>\n",
       "      <th>mcc</th>\n",
       "      <th>count</th>\n",
       "      <th>sum</th>\n",
       "      <th>div</th>\n",
       "    </tr>\n",
       "  </thead>\n",
       "  <tbody>\n",
       "    <tr>\n",
       "      <th>112</th>\n",
       "      <td>Grocery Stores, Supermarkets</td>\n",
       "      <td>5411</td>\n",
       "      <td>391635.0</td>\n",
       "      <td>1.005387e+06</td>\n",
       "      <td>2.567153</td>\n",
       "    </tr>\n",
       "    <tr>\n",
       "      <th>98</th>\n",
       "      <td>Financial Institutions – Manual Cash Disbursem...</td>\n",
       "      <td>6011</td>\n",
       "      <td>281885.0</td>\n",
       "      <td>1.006797e+06</td>\n",
       "      <td>3.571660</td>\n",
       "    </tr>\n",
       "    <tr>\n",
       "      <th>95</th>\n",
       "      <td>Fast Food Restaurants</td>\n",
       "      <td>5814</td>\n",
       "      <td>128771.0</td>\n",
       "      <td>3.085909e+05</td>\n",
       "      <td>2.396431</td>\n",
       "    </tr>\n",
       "    <tr>\n",
       "      <th>84</th>\n",
       "      <td>Eating places and Restaurants</td>\n",
       "      <td>5812</td>\n",
       "      <td>62407.0</td>\n",
       "      <td>1.605609e+05</td>\n",
       "      <td>2.572803</td>\n",
       "    </tr>\n",
       "    <tr>\n",
       "      <th>152</th>\n",
       "      <td>Misc. Food Stores – Convenience Stores and Spe...</td>\n",
       "      <td>5499</td>\n",
       "      <td>44703.0</td>\n",
       "      <td>1.055891e+05</td>\n",
       "      <td>2.362013</td>\n",
       "    </tr>\n",
       "    <tr>\n",
       "      <th>209</th>\n",
       "      <td>Service Stations ( with or without ancillary s...</td>\n",
       "      <td>5541</td>\n",
       "      <td>42296.0</td>\n",
       "      <td>1.222614e+05</td>\n",
       "      <td>2.890613</td>\n",
       "    </tr>\n",
       "    <tr>\n",
       "      <th>79</th>\n",
       "      <td>Drug Stores and Pharmacies</td>\n",
       "      <td>5912</td>\n",
       "      <td>41175.0</td>\n",
       "      <td>1.073606e+05</td>\n",
       "      <td>2.607423</td>\n",
       "    </tr>\n",
       "    <tr>\n",
       "      <th>136</th>\n",
       "      <td>Local/Suburban Commuter Passenger Transportati...</td>\n",
       "      <td>4111</td>\n",
       "      <td>24899.0</td>\n",
       "      <td>5.142199e+04</td>\n",
       "      <td>2.065223</td>\n",
       "    </tr>\n",
       "    <tr>\n",
       "      <th>177</th>\n",
       "      <td>Package Stores – Beer, Wine, and Liquor</td>\n",
       "      <td>5921</td>\n",
       "      <td>18353.0</td>\n",
       "      <td>4.535579e+04</td>\n",
       "      <td>2.471301</td>\n",
       "    </tr>\n",
       "    <tr>\n",
       "      <th>236</th>\n",
       "      <td>Variety Stores</td>\n",
       "      <td>5331</td>\n",
       "      <td>13042.0</td>\n",
       "      <td>3.328535e+04</td>\n",
       "      <td>2.552166</td>\n",
       "    </tr>\n",
       "  </tbody>\n",
       "</table>\n",
       "</div>"
      ],
      "text/plain": [
       "                                    edited_description   mcc     count  \\\n",
       "112                       Grocery Stores, Supermarkets  5411  391635.0   \n",
       "98   Financial Institutions – Manual Cash Disbursem...  6011  281885.0   \n",
       "95                               Fast Food Restaurants  5814  128771.0   \n",
       "84                       Eating places and Restaurants  5812   62407.0   \n",
       "152  Misc. Food Stores – Convenience Stores and Spe...  5499   44703.0   \n",
       "209  Service Stations ( with or without ancillary s...  5541   42296.0   \n",
       "79                          Drug Stores and Pharmacies  5912   41175.0   \n",
       "136  Local/Suburban Commuter Passenger Transportati...  4111   24899.0   \n",
       "177            Package Stores – Beer, Wine, and Liquor  5921   18353.0   \n",
       "236                                     Variety Stores  5331   13042.0   \n",
       "\n",
       "              sum       div  \n",
       "112  1.005387e+06  2.567153  \n",
       "98   1.006797e+06  3.571660  \n",
       "95   3.085909e+05  2.396431  \n",
       "84   1.605609e+05  2.572803  \n",
       "152  1.055891e+05  2.362013  \n",
       "209  1.222614e+05  2.890613  \n",
       "79   1.073606e+05  2.607423  \n",
       "136  5.142199e+04  2.065223  \n",
       "177  4.535579e+04  2.471301  \n",
       "236  3.328535e+04  2.552166  "
      ]
     },
     "execution_count": 681,
     "metadata": {},
     "output_type": "execute_result"
    }
   ],
   "source": [
    "unique_mcc = data['tra'][['edited_description', 'mcc', 'amount']].groupby(['edited_description', 'mcc']).agg(\n",
    "    [np.size, np.sum]).reset_index()\n",
    "unique_mcc.columns = ['edited_description', 'mcc', 'count', 'sum']\n",
    "unique_mcc['div'] = unique_mcc['sum'] / unique_mcc['count']\n",
    "unique_mcc.sort_values(by='count', ascending=0)[:10]"
   ]
  },
  {
   "cell_type": "code",
   "execution_count": 613,
   "metadata": {
    "collapsed": false
   },
   "outputs": [
    {
     "data": {
      "text/plain": [
       "(244, 242, 284)"
      ]
     },
     "execution_count": 613,
     "metadata": {},
     "output_type": "execute_result"
    }
   ],
   "source": [
    "len(unique_mcc), len(data['tra']['edited_description'].value_counts()), len(data['tra']['mcc'].value_counts())"
   ]
  },
  {
   "cell_type": "code",
   "execution_count": null,
   "metadata": {
    "collapsed": true
   },
   "outputs": [],
   "source": []
  },
  {
   "cell_type": "code",
   "execution_count": 679,
   "metadata": {
    "collapsed": false
   },
   "outputs": [
    {
     "data": {
      "text/html": [
       "<div>\n",
       "<table border=\"1\" class=\"dataframe\">\n",
       "  <thead>\n",
       "    <tr style=\"text-align: right;\">\n",
       "      <th></th>\n",
       "      <th>home_add</th>\n",
       "      <th>id_count</th>\n",
       "      <th>loc_count</th>\n",
       "    </tr>\n",
       "  </thead>\n",
       "  <tbody>\n",
       "    <tr>\n",
       "      <th>8867</th>\n",
       "      <td>59.924_30.311</td>\n",
       "      <td>3</td>\n",
       "      <td>3.0</td>\n",
       "    </tr>\n",
       "    <tr>\n",
       "      <th>2693</th>\n",
       "      <td>55.57_37.441</td>\n",
       "      <td>3</td>\n",
       "      <td>3.0</td>\n",
       "    </tr>\n",
       "    <tr>\n",
       "      <th>4708</th>\n",
       "      <td>55.758_37.658</td>\n",
       "      <td>3</td>\n",
       "      <td>3.0</td>\n",
       "    </tr>\n",
       "    <tr>\n",
       "      <th>405</th>\n",
       "      <td>45.086999999999996_39.012</td>\n",
       "      <td>3</td>\n",
       "      <td>3.0</td>\n",
       "    </tr>\n",
       "    <tr>\n",
       "      <th>8781</th>\n",
       "      <td>59.917_30.305999999999997</td>\n",
       "      <td>3</td>\n",
       "      <td>3.0</td>\n",
       "    </tr>\n",
       "    <tr>\n",
       "      <th>3774</th>\n",
       "      <td>55.687_37.863</td>\n",
       "      <td>3</td>\n",
       "      <td>3.0</td>\n",
       "    </tr>\n",
       "    <tr>\n",
       "      <th>229</th>\n",
       "      <td>44.894_37.301</td>\n",
       "      <td>3</td>\n",
       "      <td>3.0</td>\n",
       "    </tr>\n",
       "    <tr>\n",
       "      <th>8251</th>\n",
       "      <td>59.843999999999994_30.235</td>\n",
       "      <td>3</td>\n",
       "      <td>3.0</td>\n",
       "    </tr>\n",
       "    <tr>\n",
       "      <th>8656</th>\n",
       "      <td>59.898999999999994_30.474</td>\n",
       "      <td>2</td>\n",
       "      <td>2.0</td>\n",
       "    </tr>\n",
       "    <tr>\n",
       "      <th>4308</th>\n",
       "      <td>55.733000000000004_37.596</td>\n",
       "      <td>2</td>\n",
       "      <td>2.0</td>\n",
       "    </tr>\n",
       "  </tbody>\n",
       "</table>\n",
       "</div>"
      ],
      "text/plain": [
       "                       home_add  id_count  loc_count\n",
       "8867              59.924_30.311         3        3.0\n",
       "2693               55.57_37.441         3        3.0\n",
       "4708              55.758_37.658         3        3.0\n",
       "405   45.086999999999996_39.012         3        3.0\n",
       "8781  59.917_30.305999999999997         3        3.0\n",
       "3774              55.687_37.863         3        3.0\n",
       "229               44.894_37.301         3        3.0\n",
       "8251  59.843999999999994_30.235         3        3.0\n",
       "8656  59.898999999999994_30.474         2        2.0\n",
       "4308  55.733000000000004_37.596         2        2.0"
      ]
     },
     "execution_count": 679,
     "metadata": {},
     "output_type": "execute_result"
    }
   ],
   "source": [
    "one_home = pd.pivot_table(data['tra'][['customer_id', 'home_add', 'amount']], \n",
    "                          index=['customer_id', 'home_add'], values='amount', aggfunc=np.size).reset_index()\n",
    "one_home = one_home.groupby('home_add').agg([np.size]).reset_index()\n",
    "one_home.columns = ['home_add', 'id_count', 'loc_count']\n",
    "one_home.sort_values(by='loc_count', ascending=0)[:10]"
   ]
  },
  {
   "cell_type": "code",
   "execution_count": null,
   "metadata": {
    "collapsed": false
   },
   "outputs": [],
   "source": []
  },
  {
   "cell_type": "code",
   "execution_count": null,
   "metadata": {
    "collapsed": true
   },
   "outputs": [],
   "source": []
  },
  {
   "cell_type": "code",
   "execution_count": null,
   "metadata": {
    "collapsed": true
   },
   "outputs": [],
   "source": [
    "# filtering cities "
   ]
  },
  {
   "cell_type": "code",
   "execution_count": 685,
   "metadata": {
    "collapsed": false
   },
   "outputs": [
    {
     "name": "stdout",
     "output_type": "stream",
     "text": [
      "Wall time: 3.61 s\n"
     ]
    }
   ],
   "source": [
    "%%time\n",
    "data['tra'].loc[data['tra'][data['tra'].city == 'moskva'].index,'city'] = 'moscow'\n",
    "data['tes'].loc[data['tes'][data['tes'].city == 'moskva'].index,'city'] = 'moscow'\n",
    "\n",
    "data['tra'].loc[data['tra'][data['tra'].city == 'moskva       '].index,'city'] = 'moscow'\n",
    "data['tes'].loc[data['tes'][data['tes'].city == 'moskva       '].index,'city'] = 'moscow'"
   ]
  },
  {
   "cell_type": "code",
   "execution_count": 715,
   "metadata": {
    "collapsed": true
   },
   "outputs": [],
   "source": [
    "data['tra'].loc[data['tra'][data['tra'].city == 'moskva       '].index,'city'] = 'moscow'\n",
    "data['tes'].loc[data['tes'][data['tes'].city == 'moskva       '].index,'city'] = 'moscow'"
   ]
  },
  {
   "cell_type": "code",
   "execution_count": null,
   "metadata": {
    "collapsed": true
   },
   "outputs": [],
   "source": [
    "import re"
   ]
  },
  {
   "cell_type": "code",
   "execution_count": 857,
   "metadata": {
    "collapsed": false
   },
   "outputs": [],
   "source": [
    "unique_cities = list(data['tra'].city.value_counts().index)"
   ]
  },
  {
   "cell_type": "code",
   "execution_count": 858,
   "metadata": {
    "collapsed": false
   },
   "outputs": [
    {
     "data": {
      "text/plain": [
       "6280"
      ]
     },
     "execution_count": 858,
     "metadata": {},
     "output_type": "execute_result"
    }
   ],
   "source": [
    "len(unique_cities)"
   ]
  },
  {
   "cell_type": "code",
   "execution_count": 851,
   "metadata": {
    "collapsed": true
   },
   "outputs": [],
   "source": [
    "regex=re.compile(\".*(omsk ).*\")"
   ]
  },
  {
   "cell_type": "code",
   "execution_count": 852,
   "metadata": {
    "collapsed": false
   },
   "outputs": [],
   "source": [
    "cities_to_filter = [m.group(0) for l in unique_cities for m in [regex.search(l)] if m]"
   ]
  },
  {
   "cell_type": "code",
   "execution_count": 853,
   "metadata": {
    "collapsed": false
   },
   "outputs": [
    {
     "data": {
      "text/plain": [
       "['omsk         ', 'tomsk        ', 'tomsk g      ', 'omsk g       ']"
      ]
     },
     "execution_count": 853,
     "metadata": {},
     "output_type": "execute_result"
    }
   ],
   "source": [
    "cities_to_filter"
   ]
  },
  {
   "cell_type": "code",
   "execution_count": null,
   "metadata": {
    "collapsed": true
   },
   "outputs": [],
   "source": [
    "ccc = ['moscow','st peterburg','ekaterinburg','n.novgorod', 'novosib', 'cherepovets','cherepovets', 'krasnoyarsk', 'krasnodar',\n",
    "      'samara', 'kazan', 'sochi', 'chelyabinsk']"
   ]
  },
  {
   "cell_type": "code",
   "execution_count": 846,
   "metadata": {
    "collapsed": false
   },
   "outputs": [
    {
     "name": "stdout",
     "output_type": "stream",
     "text": [
      "Wall time: 1.8 s\n"
     ]
    }
   ],
   "source": [
    "%%time\n",
    "city_correct = 'chelyabinsk'\n",
    "\n",
    "for city_incorrect in cities_to_filter:\n",
    "    data['tra'].loc[data['tra'][data['tra'].city == str(city_incorrect)].index,'city'] = str(city_correct)\n",
    "    data['tes'].loc[data['tes'][data['tes'].city == str(city_incorrect)].index,'city'] = str(city_correct)"
   ]
  },
  {
   "cell_type": "code",
   "execution_count": null,
   "metadata": {
    "collapsed": true
   },
   "outputs": [],
   "source": []
  },
  {
   "cell_type": "code",
   "execution_count": null,
   "metadata": {
    "collapsed": false
   },
   "outputs": [],
   "source": []
  },
  {
   "cell_type": "markdown",
   "metadata": {},
   "source": [
    "#### Distance calculation"
   ]
  },
  {
   "cell_type": "code",
   "execution_count": 891,
   "metadata": {
    "collapsed": true
   },
   "outputs": [],
   "source": [
    "import math"
   ]
  },
  {
   "cell_type": "code",
   "execution_count": 893,
   "metadata": {
    "collapsed": true
   },
   "outputs": [],
   "source": [
    "def haversine(lat1, lon1, lat2, lon2):\n",
    "    lon1, lat1, lon2, lat2 = map(math.radians, [lon1, lat1, lon2, lat2])\n",
    "    dlon = lon2 - lon1 \n",
    "    dlat = lat2 - lat1 \n",
    "    a = math.sin(dlat / 2) ** 2 + math.cos(lat1) * math.cos(lat2) * math.sin(dlon / 2) ** 2\n",
    "    c = 2 * math.asin(math.sqrt(a)) \n",
    "    r = 6371000 # Radius of earth in meters\n",
    "    return c * r"
   ]
  },
  {
   "cell_type": "code",
   "execution_count": 895,
   "metadata": {
    "collapsed": false
   },
   "outputs": [],
   "source": [
    "# длина в метрах одной сотой градуса по широте\n",
    "LAT_001_DIST = haversine(0, 0, 0.01, 0)\n",
    "# длина в метрах одной сотой градуса по долготе для каждой широты с шагом 0.01\n",
    "LON_001_DIST = [haversine(i / 100.0, 0, i / 100.0, 0.01) for i in range(7500)]\n",
    "\n",
    "def haversine_fast_sq(lat1, lon1, lat2, lon2):\n",
    "    y = (lat1 - lat2) * LAT_001_DIST * 100\n",
    "    key = int(100.0 * lat1)\n",
    "    x = (lon1 - lon2) * LON_001_DIST[key] * 100\n",
    "    return x * x + y * y\n",
    "\n",
    "def haversine_fast(lat1, lon1, lat2, lon2):\n",
    "    return math.sqrt(haversine_fast_sq(lat1, lon1, lat2, lon2))"
   ]
  },
  {
   "cell_type": "code",
   "execution_count": 896,
   "metadata": {
    "collapsed": false
   },
   "outputs": [],
   "source": [
    "# Переводит latlon координаты в x, y относительно origin\n",
    "# Предполагается, что latlons находятся в первой четверти относительно origin и расстояния не очень\n",
    "# большие, то есть поверхность можно рассматривать как плоскость \n",
    "def latlon_to_xy(latlons, origin):\n",
    "    olat, olon = origin\n",
    "    return [(haversine_fast(lat, lon, lat, olon), haversine_fast(lat, lon, olat, lon)) for lat, lon in latlons]\n",
    "\n",
    "# Переводит x, y координаты в latlon относительно origin\n",
    "def xy_to_latlon(xy, origin):\n",
    "    olat, olon = origin\n",
    "    lon = olon + xy[0] / (LON_001_DIST[int(100.0 * olat)] * 100)\n",
    "    lat = olat + xy[1] / (LAT_001_DIST * 100)\n",
    "    return lat, lon"
   ]
  },
  {
   "cell_type": "code",
   "execution_count": null,
   "metadata": {
    "collapsed": true
   },
   "outputs": [],
   "source": []
  },
  {
   "cell_type": "code",
   "execution_count": 898,
   "metadata": {
    "collapsed": true
   },
   "outputs": [],
   "source": [
    "from geopy.geocoders import Nominatim\n",
    "from geopy.distance import great_circle\n",
    "\n",
    "\"\"\"geopy makes it easy for Python developers to locate the coordinates of addresses, cities, countries, \n",
    "and landmarks across the globe using third-party geocoders and other data sources.\n",
    "\n",
    "geopy includes geocoder classes for the OpenStreetMap Nominatim, Google Geocoding API (V3), \n",
    "and many other geocoding services. The full list is available on the Geocoders doc section. \n",
    "Geocoder classes are located in geopy.geocoders.\"\"\""
   ]
  },
  {
   "cell_type": "code",
   "execution_count": 917,
   "metadata": {
    "collapsed": true
   },
   "outputs": [],
   "source": [
    "geolocator = Nominatim()"
   ]
  },
  {
   "cell_type": "code",
   "execution_count": 911,
   "metadata": {
    "collapsed": true
   },
   "outputs": [],
   "source": [
    "#data['tra']['pos_adress_lon'] = data['tra']['pos_adress_lon'].apply(str)\n",
    "#data['tra']['pos_adress_lat'] = data['tra']['pos_adress_lat'].apply(str)"
   ]
  },
  {
   "cell_type": "code",
   "execution_count": 914,
   "metadata": {
    "collapsed": true
   },
   "outputs": [],
   "source": [
    "data['tra']['pos_address'] = data['tra'].pos_adress_lat + ', ' + data['tra'].pos_adress_lon"
   ]
  },
  {
   "cell_type": "code",
   "execution_count": 1122,
   "metadata": {
    "collapsed": false
   },
   "outputs": [
    {
     "data": {
      "text/plain": [
       "{'city': 'Дмитровский район',\n",
       " 'country': 'РФ',\n",
       " 'country_code': 'ru',\n",
       " 'house_number': '1',\n",
       " 'mobile_phone': 'Евросеть',\n",
       " 'postcode': '127411',\n",
       " 'road': 'улица Софьи Ковалевской',\n",
       " 'state': 'Москва',\n",
       " 'state_district': 'Северный административный округ'}"
      ]
     },
     "execution_count": 1122,
     "metadata": {},
     "output_type": "execute_result"
    }
   ],
   "source": [
    "geolocator.reverse(data['tra']['pos_address'][112]).raw['address']"
   ]
  },
  {
   "cell_type": "code",
   "execution_count": null,
   "metadata": {
    "collapsed": true
   },
   "outputs": [],
   "source": []
  },
  {
   "cell_type": "code",
   "execution_count": null,
   "metadata": {
    "collapsed": true
   },
   "outputs": [],
   "source": [
    "import itertools"
   ]
  },
  {
   "cell_type": "code",
   "execution_count": 1080,
   "metadata": {
    "collapsed": false
   },
   "outputs": [],
   "source": [
    "pos_address = data['tra']['pos_address']"
   ]
  },
  {
   "cell_type": "code",
   "execution_count": 1076,
   "metadata": {
    "collapsed": false
   },
   "outputs": [],
   "source": [
    "#pos_address = pd.DataFrame(pos_address)"
   ]
  },
  {
   "cell_type": "code",
   "execution_count": 1081,
   "metadata": {
    "collapsed": false
   },
   "outputs": [],
   "source": [
    "pos_address = pos_address.drop_duplicates()\n",
    "pos_address.index = np.arange(len(pos_address))"
   ]
  },
  {
   "cell_type": "code",
   "execution_count": 1169,
   "metadata": {
    "collapsed": false
   },
   "outputs": [
    {
     "name": "stdout",
     "output_type": "stream",
     "text": [
      "Wall time: 9.35 s\n"
     ]
    }
   ],
   "source": [
    "%%time\n",
    "dir_add_list = []\n",
    "\n",
    "for i in np.arange(20):\n",
    "    x = geolocator.reverse(pos_address[i]).raw['address']\n",
    "    dir_add_list.append(x)"
   ]
  },
  {
   "cell_type": "code",
   "execution_count": 1145,
   "metadata": {
    "collapsed": false
   },
   "outputs": [
    {
     "name": "stdout",
     "output_type": "stream",
     "text": [
      "Wall time: 0 ns\n"
     ]
    }
   ],
   "source": [
    "%%time\n",
    "un_keys=[]\n",
    "\n",
    "for i in np.arange(len(dir_add_list)):\n",
    "    x = list(dir_add_list[i].keys())\n",
    "    un_keys.append(x)"
   ]
  },
  {
   "cell_type": "code",
   "execution_count": 1165,
   "metadata": {
    "collapsed": false
   },
   "outputs": [],
   "source": [
    "un_keys = getUniqueWords(list(itertools.chain.from_iterable(un_keys)))"
   ]
  },
  {
   "cell_type": "code",
   "execution_count": 1153,
   "metadata": {
    "collapsed": true
   },
   "outputs": [],
   "source": [
    "def getUniqueWords(allWords) :\n",
    "    uniqueWords = [] \n",
    "    for i in allWords:\n",
    "        if not i in uniqueWords:\n",
    "            uniqueWords.append(i)\n",
    "    return uniqueWords"
   ]
  },
  {
   "cell_type": "code",
   "execution_count": 1168,
   "metadata": {
    "collapsed": false
   },
   "outputs": [
    {
     "data": {
      "text/plain": [
       "'О’КЕЙ'"
      ]
     },
     "execution_count": 1168,
     "metadata": {},
     "output_type": "execute_result"
    }
   ],
   "source": [
    "dir_add_list[0][un_keys[0]]"
   ]
  },
  {
   "cell_type": "code",
   "execution_count": null,
   "metadata": {
    "collapsed": true
   },
   "outputs": [],
   "source": []
  },
  {
   "cell_type": "code",
   "execution_count": 1113,
   "metadata": {
    "collapsed": false
   },
   "outputs": [
    {
     "data": {
      "text/plain": [
       "{'city': 'округ Урицк',\n",
       " 'country': 'РФ',\n",
       " 'country_code': 'ru',\n",
       " 'house_number': '2',\n",
       " 'postcode': '190000',\n",
       " 'road': 'улица Партизана Германа',\n",
       " 'state': 'Санкт-Петербург',\n",
       " 'state_district': 'Красносельский район',\n",
       " 'suburb': 'Лигово',\n",
       " 'supermarket': 'О’КЕЙ'}"
      ]
     },
     "execution_count": 1113,
     "metadata": {},
     "output_type": "execute_result"
    }
   ],
   "source": [
    "geolocator.reverse(pos_address[0]).raw['address']"
   ]
  },
  {
   "cell_type": "code",
   "execution_count": 1109,
   "metadata": {
    "collapsed": false
   },
   "outputs": [
    {
     "data": {
      "text/plain": [
       "'Гранит, 5, площадь Карла Маркса, Ленинский район, Новосибирск, городской округ Новосибирск, Новосибирская область, СФО, 630000, РФ'"
      ]
     },
     "execution_count": 1109,
     "metadata": {},
     "output_type": "execute_result"
    }
   ],
   "source": [
    "dir_add_list[2]"
   ]
  },
  {
   "cell_type": "code",
   "execution_count": 1108,
   "metadata": {
    "collapsed": false
   },
   "outputs": [
    {
     "data": {
      "text/plain": [
       "0             Санкт-Петербург\n",
       "1             Санкт-Петербург\n",
       "2       Новосибирская область\n",
       "3       Новосибирская область\n",
       "4       Новосибирская область\n",
       "5       Новосибирская область\n",
       "6       Новосибирская область\n",
       "7       Новосибирская область\n",
       "8       Новосибирская область\n",
       "9       Новосибирская область\n",
       "10      Новосибирская область\n",
       "11      Новосибирская область\n",
       "12      Новосибирская область\n",
       "13      Новосибирская область\n",
       "14      Новосибирская область\n",
       "15      Новосибирская область\n",
       "16      Новосибирская область\n",
       "17      Новосибирская область\n",
       "18      Новосибирская область\n",
       "19      Новосибирская область\n",
       "20      Новосибирская область\n",
       "21      Новосибирская область\n",
       "22      Новосибирская область\n",
       "23                     Москва\n",
       "24         Московская область\n",
       "25                     Москва\n",
       "26                     Москва\n",
       "27                     Москва\n",
       "28                     Москва\n",
       "29                     Москва\n",
       "                ...          \n",
       "525                    Москва\n",
       "526            Омская область\n",
       "527                    Москва\n",
       "528                    Москва\n",
       "529                    Москва\n",
       "530                    Москва\n",
       "531                    Москва\n",
       "532                    Москва\n",
       "533                    Москва\n",
       "534         Тюменская область\n",
       "535                    Москва\n",
       "536                    Москва\n",
       "537                    Москва\n",
       "538       Челябинская область\n",
       "539                    Москва\n",
       "540                    Москва\n",
       "541                    Москва\n",
       "542                    Москва\n",
       "543                    Москва\n",
       "544                    Москва\n",
       "545                    Москва\n",
       "546                    Москва\n",
       "547                    Москва\n",
       "548         Самарская область\n",
       "549         Самарская область\n",
       "550         Самарская область\n",
       "551              Башкортостан\n",
       "552         Самарская область\n",
       "553         Самарская область\n",
       "554         Самарская область\n",
       "dtype: object"
      ]
     },
     "execution_count": 1108,
     "metadata": {},
     "output_type": "execute_result"
    }
   ],
   "source": [
    "pd.Series(dir_add_list).map(lambda x: str(x).split(',')[-4])"
   ]
  },
  {
   "cell_type": "code",
   "execution_count": null,
   "metadata": {
    "collapsed": true
   },
   "outputs": [],
   "source": []
  },
  {
   "cell_type": "code",
   "execution_count": null,
   "metadata": {
    "collapsed": true
   },
   "outputs": [],
   "source": []
  },
  {
   "cell_type": "code",
   "execution_count": 1057,
   "metadata": {
    "collapsed": false
   },
   "outputs": [
    {
     "name": "stdout",
     "output_type": "stream",
     "text": [
      "Wall time: 6.56 s\n"
     ]
    }
   ],
   "source": [
    "%%time\n",
    "\n",
    "dir_add_list = []\n",
    "\n",
    "for i in pos_address[:20].itertuples():\n",
    "    x = geolocator.reverse(i[1]).address\n",
    "    dir_add_list.append(x)"
   ]
  },
  {
   "cell_type": "code",
   "execution_count": 1056,
   "metadata": {
    "collapsed": false
   },
   "outputs": [
    {
     "data": {
      "text/plain": [
       "'Новосибирск'"
      ]
     },
     "execution_count": 1056,
     "metadata": {},
     "output_type": "execute_result"
    }
   ],
   "source": [
    "geolocator.reverse(i[1]).raw['address']['city']"
   ]
  },
  {
   "cell_type": "code",
   "execution_count": 975,
   "metadata": {
    "collapsed": false
   },
   "outputs": [
    {
     "data": {
      "text/html": [
       "<div>\n",
       "<table border=\"1\" class=\"dataframe\">\n",
       "  <thead>\n",
       "    <tr style=\"text-align: right;\">\n",
       "      <th></th>\n",
       "      <th>pos_address</th>\n",
       "      <th>dir_address</th>\n",
       "    </tr>\n",
       "  </thead>\n",
       "  <tbody>\n",
       "    <tr>\n",
       "      <th>0</th>\n",
       "      <td>59.84407235, 30.1791526293</td>\n",
       "      <td>О’КЕЙ, 2, улица Партизана Германа, Лигово, окр...</td>\n",
       "    </tr>\n",
       "    <tr>\n",
       "      <th>1</th>\n",
       "      <td>59.84407235, 30.1791526293</td>\n",
       "      <td>О’КЕЙ, 2, улица Партизана Германа, Лигово, окр...</td>\n",
       "    </tr>\n",
       "    <tr>\n",
       "      <th>2</th>\n",
       "      <td>59.85819839999999, 30.229023699999996</td>\n",
       "      <td>Макдоналдс, 31 к1, проспект Маршала Жукова, Юг...</td>\n",
       "    </tr>\n",
       "    <tr>\n",
       "      <th>3</th>\n",
       "      <td>59.84407235, 30.1791526293</td>\n",
       "      <td>О’КЕЙ, 2, улица Партизана Германа, Лигово, окр...</td>\n",
       "    </tr>\n",
       "    <tr>\n",
       "      <th>4</th>\n",
       "      <td>59.84407235, 30.1791526293</td>\n",
       "      <td>О’КЕЙ, 2, улица Партизана Германа, Лигово, окр...</td>\n",
       "    </tr>\n",
       "    <tr>\n",
       "      <th>5</th>\n",
       "      <td>59.84407235, 30.1791526293</td>\n",
       "      <td>О’КЕЙ, 2, улица Партизана Германа, Лигово, окр...</td>\n",
       "    </tr>\n",
       "    <tr>\n",
       "      <th>6</th>\n",
       "      <td>59.84407235, 30.1791526293</td>\n",
       "      <td>О’КЕЙ, 2, улица Партизана Германа, Лигово, окр...</td>\n",
       "    </tr>\n",
       "    <tr>\n",
       "      <th>7</th>\n",
       "      <td>59.84407235, 30.1791526293</td>\n",
       "      <td>О’КЕЙ, 2, улица Партизана Германа, Лигово, окр...</td>\n",
       "    </tr>\n",
       "    <tr>\n",
       "      <th>8</th>\n",
       "      <td>59.84407235, 30.1791526293</td>\n",
       "      <td>О’КЕЙ, 2, улица Партизана Германа, Лигово, окр...</td>\n",
       "    </tr>\n",
       "    <tr>\n",
       "      <th>9</th>\n",
       "      <td>59.84407235, 30.1791526293</td>\n",
       "      <td>О’КЕЙ, 2, улица Партизана Германа, Лигово, окр...</td>\n",
       "    </tr>\n",
       "  </tbody>\n",
       "</table>\n",
       "</div>"
      ],
      "text/plain": [
       "                             pos_address  \\\n",
       "0             59.84407235, 30.1791526293   \n",
       "1             59.84407235, 30.1791526293   \n",
       "2  59.85819839999999, 30.229023699999996   \n",
       "3             59.84407235, 30.1791526293   \n",
       "4             59.84407235, 30.1791526293   \n",
       "5             59.84407235, 30.1791526293   \n",
       "6             59.84407235, 30.1791526293   \n",
       "7             59.84407235, 30.1791526293   \n",
       "8             59.84407235, 30.1791526293   \n",
       "9             59.84407235, 30.1791526293   \n",
       "\n",
       "                                         dir_address  \n",
       "0  О’КЕЙ, 2, улица Партизана Германа, Лигово, окр...  \n",
       "1  О’КЕЙ, 2, улица Партизана Германа, Лигово, окр...  \n",
       "2  Макдоналдс, 31 к1, проспект Маршала Жукова, Юг...  \n",
       "3  О’КЕЙ, 2, улица Партизана Германа, Лигово, окр...  \n",
       "4  О’КЕЙ, 2, улица Партизана Германа, Лигово, окр...  \n",
       "5  О’КЕЙ, 2, улица Партизана Германа, Лигово, окр...  \n",
       "6  О’КЕЙ, 2, улица Партизана Германа, Лигово, окр...  \n",
       "7  О’КЕЙ, 2, улица Партизана Германа, Лигово, окр...  \n",
       "8  О’КЕЙ, 2, улица Партизана Германа, Лигово, окр...  \n",
       "9  О’КЕЙ, 2, улица Партизана Германа, Лигово, окр...  "
      ]
     },
     "execution_count": 975,
     "metadata": {},
     "output_type": "execute_result"
    }
   ],
   "source": [
    "pos_address[:10]"
   ]
  },
  {
   "cell_type": "code",
   "execution_count": null,
   "metadata": {
    "collapsed": true
   },
   "outputs": [],
   "source": []
  },
  {
   "cell_type": "code",
   "execution_count": null,
   "metadata": {
    "collapsed": true
   },
   "outputs": [],
   "source": []
  }
 ],
 "metadata": {
  "kernelspec": {
   "display_name": "Python 3",
   "language": "python",
   "name": "python3"
  },
  "language_info": {
   "codemirror_mode": {
    "name": "ipython",
    "version": 3
   },
   "file_extension": ".py",
   "mimetype": "text/x-python",
   "name": "python",
   "nbconvert_exporter": "python",
   "pygments_lexer": "ipython3",
   "version": "3.6.2"
  }
 },
 "nbformat": 4,
 "nbformat_minor": 2
}
