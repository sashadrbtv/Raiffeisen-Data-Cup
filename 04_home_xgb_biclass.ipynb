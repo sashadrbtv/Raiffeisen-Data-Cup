{
 "cells": [
  {
   "cell_type": "code",
   "execution_count": 1,
   "metadata": {
    "collapsed": false
   },
   "outputs": [],
   "source": [
    "import numpy as np\n",
    "import pandas as pd\n",
    "\n",
    "import math\n",
    "import os\n",
    "\n",
    "from sklearn.preprocessing import LabelEncoder, OneHotEncoder\n",
    "\n",
    "%matplotlib inline\n",
    "import matplotlib.pyplot as plt\n",
    "\n",
    "os.chdir(r'...')\n",
    "\n",
    "pd.options.mode.chained_assignment = None  # default='warn'\n",
    "\n",
    "from tqdm import tnrange, tqdm_notebook\n",
    "\n",
    "RADIUS = 0.02"
   ]
  },
  {
   "cell_type": "code",
   "execution_count": 2,
   "metadata": {
    "collapsed": true
   },
   "outputs": [],
   "source": [
    "# Честное вычисление расстояния по координатам точек\n",
    "# http://stackoverflow.com/questions/4913349/haversine-formula-in-python-bearing-and-distance-between-two-gps-points\n",
    "def haversine(lat1, lon1, lat2, lon2):\n",
    "    lon1, lat1, lon2, lat2 = list(map(math.radians, [lon1, lat1, lon2, lat2]))\n",
    "    dlon = lon2 - lon1 \n",
    "    dlat = lat2 - lat1 \n",
    "    a = math.sin(dlat / 2) ** 2 + math.cos(lat1) * math.cos(lat2) * math.sin(dlon / 2) ** 2\n",
    "    c = 2 * math.asin(math.sqrt(a)) \n",
    "    r = 6371000 # Radius of earth in meters\n",
    "    return c * r"
   ]
  },
  {
   "cell_type": "code",
   "execution_count": 3,
   "metadata": {
    "collapsed": false
   },
   "outputs": [],
   "source": [
    "# Честное вычисление работает очень долго, потому что в нем много тригонометрических функций\n",
    "# Напишем более быструю функцию для нахождения маленьких расстояний (в этом случае поверхность Земли можно\n",
    "# рассматривать как плоскость)\n",
    "\n",
    "# длина в метрах одной сотой градуса по широте\n",
    "LAT_001_DIST = haversine(0, 0, 0.01, 0)\n",
    "# длина в метрах одной сотой градуса по долготе для каждой широты с шагом 0.01\n",
    "LON_001_DIST = [haversine(i / 100.0, 0, i / 100.0, 0.01) for i in range(7500)]\n",
    "\n",
    "def haversine_fast_sq(lat1, lon1, lat2, lon2):\n",
    "    y = (lat1 - lat2) * LAT_001_DIST * 100\n",
    "    key = int(100.0 * lat1)\n",
    "    x = (lon1 - lon2) * LON_001_DIST[key] * 100\n",
    "    return x * x + y * y\n",
    "\n",
    "def haversine_fast(lat1, lon1, lat2, lon2):\n",
    "    return math.sqrt(haversine_fast_sq(lat1, lon1, lat2, lon2))\n",
    "\n",
    "# Переводит latlon координаты в x, y относительно origin\n",
    "# Предполагается, что latlons находятся в первой четверти относительно origin и расстояния не очень\n",
    "# большие, то есть поверхность можно рассматривать как плоскость \n",
    "def latlon_to_xy(latlons, origin):\n",
    "    olat, olon = origin\n",
    "    return [(haversine_fast(lat, lon, lat, olon), haversine_fast(lat, lon, olat, lon)) for lat, lon in latlons]\n",
    "\n",
    "# Переводит x, y координаты в latlon относительно origin\n",
    "def xy_to_latlon(xy, origin):\n",
    "    olat, olon = origin\n",
    "    lon = olon + xy[0] / (LON_001_DIST[int(100.0 * olat)] * 100)\n",
    "    lat = olat + xy[1] / (LAT_001_DIST * 100)\n",
    "    return lat, lon"
   ]
  },
  {
   "cell_type": "code",
   "execution_count": 4,
   "metadata": {
    "collapsed": true
   },
   "outputs": [],
   "source": [
    "data = {'tra': pd.read_csv('train_set.csv', \n",
    "                           error_bad_lines=False, index_col=False, dtype='unicode'),\n",
    "        'tes': pd.read_csv('test_set.csv', \n",
    "                           error_bad_lines=False, index_col=False, dtype='unicode'),\n",
    "        'sub': pd.read_csv('sample.csv')       }\n",
    "\n",
    "data['tra'] = data['tra'].rename(columns={'pos_adress_lat':'pos_address_lat', 'pos_adress_lon':'pos_address_lon'})"
   ]
  },
  {
   "cell_type": "code",
   "execution_count": null,
   "metadata": {
    "collapsed": true
   },
   "outputs": [],
   "source": []
  },
  {
   "cell_type": "code",
   "execution_count": 5,
   "metadata": {
    "collapsed": true
   },
   "outputs": [],
   "source": [
    "\"\"\"убираем транзакции без координат (initial train)\"\"\"\n",
    "\n",
    "data['tra']['address_lat'] = data['tra']['pos_address_lat'].fillna(data['tra']['atm_address_lat'])\n",
    "data['tra']['address_lon'] = data['tra']['pos_address_lon'].fillna(data['tra']['atm_address_lon'])\n",
    "\n",
    "data['tra'] = data['tra'][data['tra']['address_lat'].isnull()==0]\n",
    "\n",
    "data['tra']['gps'] = data['tra']['address_lat'].apply(str) + ', ' + data['tra']['address_lon'].apply(str)"
   ]
  },
  {
   "cell_type": "code",
   "execution_count": 6,
   "metadata": {
    "collapsed": true
   },
   "outputs": [],
   "source": [
    "\"\"\"убираем транзакции без координат (initial test)\"\"\"\n",
    "\n",
    "data['tes']['address_lat'] = data['tes']['pos_address_lat'].fillna(data['tes']['atm_address_lat'])\n",
    "data['tes']['address_lon'] = data['tes']['pos_address_lon'].fillna(data['tes']['atm_address_lon'])\n",
    "\n",
    "data['tes'] = data['tes'][data['tes']['address_lat'].isnull()==0]\n",
    "\n",
    "data['tes']['gps'] = data['tes']['address_lat'].apply(str) + ', ' + data['tes']['address_lon'].apply(str)"
   ]
  },
  {
   "cell_type": "code",
   "execution_count": 7,
   "metadata": {
    "collapsed": false
   },
   "outputs": [
    {
     "data": {
      "text/plain": [
       "(1127294, 1166971)"
      ]
     },
     "execution_count": 7,
     "metadata": {},
     "output_type": "execute_result"
    }
   ],
   "source": [
    "len(data['tra']), len(data['tes'])"
   ]
  },
  {
   "cell_type": "code",
   "execution_count": 8,
   "metadata": {
    "collapsed": false
   },
   "outputs": [
    {
     "name": "stdout",
     "output_type": "stream",
     "text": [
      "Кол-во координат уникальных домов: 10146 Кол-во координат уникального места работы: 4584\n",
      "Кол-во id с 1 домом: 9664 Кол-во id с 1 работой: 5110\n"
     ]
    }
   ],
   "source": [
    "\"\"\"находим ID с задвоением дома и работы\"\"\"\n",
    "\n",
    "data['tra']['home_add'] = data['tra'].home_add_lat + ', ' + data['tra'].home_add_lon\n",
    "data['tra']['work_add'] = data['tra'].work_add_lat + ', ' + data['tra'].work_add_lon\n",
    "\n",
    "unique_home_add = data['tra'][['customer_id','home_add']].groupby('customer_id')['home_add'].nunique()\n",
    "unique_work_add = data['tra'][['customer_id','work_add']].groupby('customer_id')['work_add'].nunique()\n",
    "\n",
    "print(\"Кол-во координат уникальных домов: {}\".format(data['tra']['home_add'].nunique()), \n",
    "      \"Кол-во координат уникального места работы: {}\".format(data['tra']['work_add'].nunique()))\n",
    "print(\"Кол-во id с 1 домом: {}\".format(len(unique_home_add[unique_home_add == 1])), \n",
    "      \"Кол-во id с 1 работой: {}\".format(len(unique_work_add[unique_work_add == 1])))"
   ]
  },
  {
   "cell_type": "code",
   "execution_count": 9,
   "metadata": {
    "collapsed": true
   },
   "outputs": [],
   "source": [
    "\"\"\"ID с задвоением\"\"\"\n",
    "double_home_ids = list(unique_home_add[unique_home_add == 2].index)\n",
    "double_work_ids = list(unique_home_add[unique_work_add == 2].index)"
   ]
  },
  {
   "cell_type": "code",
   "execution_count": 10,
   "metadata": {
    "collapsed": true
   },
   "outputs": [],
   "source": [
    "\"\"\"DOUUBLE HOME\"\"\"\n",
    "\"\"\"задвоение с домом можно взять для трейна работы и наоборот (но можно попробовать взять всё)\n",
    "    берем максимальное кол-во транзакций для ID-адрес\"\"\"\n",
    "\n",
    "double_home_df = data['tra'][data['tra']['customer_id'].isin(double_home_ids) == 1].groupby(\n",
    "    ['customer_id', 'home_add'])['amount'].count().reset_index()\n",
    "\n",
    "double_home_df_keys = double_home_df.groupby('customer_id').max().reset_index()\n",
    "double_home_df = pd.merge(double_home_df, double_home_df_keys, on=['customer_id', 'home_add'], how='left')\n",
    "double_home_df['amount_y'] = double_home_df['amount_y'].fillna('del')\n",
    "data['tra'] = pd.merge(data['tra'], double_home_df[['customer_id', 'home_add', 'amount_y']], \n",
    "                       on=['customer_id', 'home_add'], how='left')\n",
    "\n",
    "data['tra'].drop(data['tra'][data['tra']['amount_y'] == 'del'].index, inplace=True)\n",
    "data['tra'].drop('amount_y', axis=1, inplace=True)"
   ]
  },
  {
   "cell_type": "code",
   "execution_count": 11,
   "metadata": {
    "collapsed": true
   },
   "outputs": [],
   "source": [
    "\"\"\"DOUBLE WORK\"\"\"\n",
    "\"\"\"задвоение с домом можно взять для трейна работы и наоборот (но можно попробовать взять всё)\n",
    "    берем максимальное кол-во транзакций для ID-адрес\"\"\"\n",
    "\n",
    "double_work_df = data['tra'][data['tra']['customer_id'].isin(double_work_ids) == 1].groupby(\n",
    "    ['customer_id', 'work_add'])['amount'].count().reset_index()\n",
    "\n",
    "double_work_df_keys = double_work_df.groupby('customer_id').max().reset_index()\n",
    "double_work_df = pd.merge(double_work_df, double_work_df_keys, on=['customer_id', 'work_add'], how='left')\n",
    "double_work_df['amount_y'] = double_work_df['amount_y'].fillna('del')\n",
    "data['tra'] = pd.merge(data['tra'], double_work_df[['customer_id', 'work_add', 'amount_y']], \n",
    "                       on=['customer_id', 'work_add'], how='left')\n",
    "\n",
    "data['tra'].drop(data['tra'][data['tra']['amount_y'] == 'del'].index, inplace=True)\n",
    "data['tra'].drop('amount_y', axis=1, inplace=True)"
   ]
  },
  {
   "cell_type": "code",
   "execution_count": 12,
   "metadata": {
    "collapsed": true
   },
   "outputs": [],
   "source": [
    "\"\"\"убираем строки гр-на с nan в графе место жительства (1a7ea74837f017610970ae508dcd0c26)\"\"\"\n",
    "data['tra'] = data['tra'][data['tra'].home_add_lat.isnull() == 0]"
   ]
  },
  {
   "cell_type": "code",
   "execution_count": 13,
   "metadata": {
    "collapsed": false
   },
   "outputs": [
    {
     "data": {
      "text/plain": [
       "(1085224, 1166971)"
      ]
     },
     "execution_count": 13,
     "metadata": {},
     "output_type": "execute_result"
    }
   ],
   "source": [
    "len(data['tra']), len(data['tes'])"
   ]
  },
  {
   "cell_type": "code",
   "execution_count": 14,
   "metadata": {
    "collapsed": false
   },
   "outputs": [
    {
     "name": "stdout",
     "output_type": "stream",
     "text": [
      "Кол-во train ID: 10000 Кол-во координат уникальных домов: 9839 Кол-во координат уникального места работы: 4546\n"
     ]
    }
   ],
   "source": [
    "\"\"\"берем все ID, проверям модель на улучшение, создаем датасет для обучения\"\"\"\n",
    "train_ids = list(data['tra']['customer_id'].unique())\n",
    "train_ids = pd.DataFrame(train_ids, columns=['customer_id'])\n",
    "train_ids['train_ids'] = 1\n",
    "train_df = data['tra'].copy()\n",
    "\n",
    "print(\"Кол-во train ID: {}\".format(data['tra']['customer_id'].nunique()),\n",
    "      \"Кол-во координат уникальных домов: {}\".format(data['tra']['home_add'].nunique()), \n",
    "      \"Кол-во координат уникального места работы: {}\".format(data['tra']['work_add'].nunique()))"
   ]
  },
  {
   "cell_type": "code",
   "execution_count": 15,
   "metadata": {
    "collapsed": true
   },
   "outputs": [],
   "source": [
    "\"\"\"переводим координаты во float\"\"\"\n",
    "train_df.work_add_lat = train_df.work_add_lat.astype(float)\n",
    "train_df.work_add_lon = train_df.work_add_lon.astype(float)\n",
    "train_df.home_add_lat = train_df.home_add_lat.astype(float)\n",
    "train_df.home_add_lon = train_df.home_add_lon.astype(float)\n",
    "\n",
    "train_df.address_lat = train_df.address_lat.astype(float)\n",
    "train_df.address_lon = train_df.address_lon.astype(float)"
   ]
  },
  {
   "cell_type": "code",
   "execution_count": 16,
   "metadata": {
    "collapsed": true
   },
   "outputs": [],
   "source": [
    "\"\"\"создаем Y  (опционально: убираем ID, рядом с домами/работой которых было мало транзакций)\"\"\"\n",
    "\n",
    "train_df['nearby_home'] = ((train_df['address_lat'] + RADIUS >= train_df['home_add_lat']) & \n",
    "                     (train_df['address_lat'] - RADIUS <= train_df['home_add_lat']) &\n",
    "                     (train_df['address_lon'] + RADIUS >= train_df['home_add_lon']) & \n",
    "                     (train_df['address_lon'] - RADIUS <= train_df['home_add_lon'])).astype(int)\n",
    "\n",
    "train_df['nearby_work'] = ((train_df['address_lat'] + RADIUS >= train_df['work_add_lat']) & \n",
    "                     (train_df['address_lat'] - RADIUS <= train_df['work_add_lat']) &\n",
    "                     (train_df['address_lon'] + RADIUS >= train_df['work_add_lon']) & \n",
    "                     (train_df['address_lon'] - RADIUS <= train_df['work_add_lon'])).astype(int)"
   ]
  },
  {
   "cell_type": "code",
   "execution_count": 17,
   "metadata": {
    "collapsed": false
   },
   "outputs": [
    {
     "data": {
      "text/plain": [
       "0.24964431306347815"
      ]
     },
     "execution_count": 17,
     "metadata": {},
     "output_type": "execute_result"
    }
   ],
   "source": [
    "train_df['nearby_home'].sum() / len(train_df['nearby_home'])"
   ]
  },
  {
   "cell_type": "code",
   "execution_count": 18,
   "metadata": {
    "collapsed": false
   },
   "outputs": [
    {
     "data": {
      "text/plain": [
       "'этот блок опускаем, т.е. расчитываем на полной выборке'"
      ]
     },
     "execution_count": 18,
     "metadata": {},
     "output_type": "execute_result"
    }
   ],
   "source": [
    "\"\"\"этот блок опускаем, т.е. расчитываем на полной выборке\"\"\""
   ]
  },
  {
   "cell_type": "code",
   "execution_count": 19,
   "metadata": {
    "collapsed": true
   },
   "outputs": [],
   "source": [
    "tr_qty_by_ids = pd.DataFrame(train_df.groupby('customer_id')['nearby_home'].count()).reset_index()\n",
    "tr_qty_by_ids_home = pd.DataFrame(train_df.groupby('customer_id')['nearby_home'].sum()).reset_index()\n",
    "tr_qty_by_ids_home = pd.merge(tr_qty_by_ids_home, tr_qty_by_ids, on='customer_id', how='left')\n",
    "tr_qty_by_ids_home['frq'] = tr_qty_by_ids_home['nearby_home_x'] / tr_qty_by_ids_home['nearby_home_y']"
   ]
  },
  {
   "cell_type": "code",
   "execution_count": 20,
   "metadata": {
    "collapsed": false
   },
   "outputs": [
    {
     "data": {
      "text/plain": [
       "2350"
      ]
     },
     "execution_count": 20,
     "metadata": {},
     "output_type": "execute_result"
    }
   ],
   "source": [
    "\"выбрасываем в конце\"\n",
    "len(tr_qty_by_ids_home[tr_qty_by_ids_home['nearby_home_x'] == 0])"
   ]
  },
  {
   "cell_type": "code",
   "execution_count": null,
   "metadata": {
    "collapsed": true
   },
   "outputs": [],
   "source": [
    "#tr_qty_by_ids_work[tr_qty_by_ids_work['frq'] > 0.05]['frq'].plot.hist();   #histogram\n",
    "#tr_qty_by_ids_work_outl = tr_qty_by_ids_work[tr_qty_by_ids_work['frq'] <= 0.05]\n",
    "#train_df = pd.merge(train_df, tr_qty_by_ids_work_outl[['customer_id', 'frq']], on=['customer_id'], how='left')\n",
    "#train_df = train_df[train_df.frq.isnull()==1]\n",
    "#train_df.drop('frq', axis=1, inplace=True)"
   ]
  },
  {
   "cell_type": "code",
   "execution_count": 21,
   "metadata": {
    "collapsed": false
   },
   "outputs": [],
   "source": [
    "\"\"\"добавляем стоблец 'тип транзакции' в трейн и тест, исправляем ошибку в кодах категории покупок в тесте \"\"\"\n",
    "train_df['tr_type'] = np.where(train_df['pos_address_lat'].isnull(), 0, 1)   #atm = 0, pos = 1\n",
    "\n",
    "test_df = data['tes'].copy()\n",
    "test_df['tr_type'] = np.where(test_df['pos_address_lat'].isnull(), 0, 1)   #atm = 0, pos = 1\n",
    "test_df['mcc'] = test_df['mcc'].map(lambda x: str(x).replace(',', ''))"
   ]
  },
  {
   "cell_type": "code",
   "execution_count": 22,
   "metadata": {
    "collapsed": false
   },
   "outputs": [],
   "source": [
    "\"\"\"убираем ненужные столбцы: atm_address, atm_address_lat, atm_address_lon, \n",
    "    city, country, pos_address, pos_address_lat, pos_address_lon \"\"\"\n",
    "\n",
    "train_df = train_df.drop(['atm_address', 'atm_address_lat', 'atm_address_lon', 'city', \n",
    "                   'country', 'pos_address', 'pos_address_lat', 'pos_address_lon'], axis=1)\n",
    "test_df = test_df.drop(['atm_address', 'atm_address_lat', 'atm_address_lon', 'city', \n",
    "                   'country', 'pos_address', 'pos_address_lat', 'pos_address_lon'], axis=1)"
   ]
  },
  {
   "cell_type": "code",
   "execution_count": null,
   "metadata": {
    "collapsed": true
   },
   "outputs": [],
   "source": [
    "\"\"\"объединяем выборки: запоминаем id для востановления\"\"\"\n",
    "\"\"\"добавить: обратный гекодинг (подтянуть информацию)\"\"\"\n",
    "\"\"\"анализируем получившиеся результаты после объединения\"\"\"\n",
    "\"\"\"раставляем одинаковые лейблы в трейне и тесте\"\"\""
   ]
  },
  {
   "cell_type": "code",
   "execution_count": 23,
   "metadata": {
    "collapsed": false
   },
   "outputs": [],
   "source": [
    "\"\"\"объединяем выборки\"\"\"\n",
    "inf_about_h_and_w_columns = ['home_add_lat', 'home_add_lon', 'work_add_lat', 'work_add_lon', 'home_add', 'work_add']\n",
    "train_and_test_together = pd.concat([train_df.drop(inf_about_h_and_w_columns, axis=1), test_df])\n",
    "\n",
    "\"\"\"запоминаем id для востановления\"\"\"\n",
    "test_customer_ids = pd.DataFrame(test_df.customer_id.unique(), columns=['customer_id'])\n",
    "test_customer_ids['test_sample'] = 1\n",
    "\n",
    "#train_customer_ids_w_address = train_df[['customer_id','home_add_lat','home_add_lon', \n",
    "#                                      'work_add_lat', 'work_add_lon']].drop_duplicates()\n",
    "\n",
    "train_and_test_together = pd.merge(train_and_test_together, test_customer_ids, on='customer_id', how='left')"
   ]
  },
  {
   "cell_type": "code",
   "execution_count": 24,
   "metadata": {
    "collapsed": false
   },
   "outputs": [
    {
     "data": {
      "text/plain": [
       "2252195"
      ]
     },
     "execution_count": 24,
     "metadata": {},
     "output_type": "execute_result"
    }
   ],
   "source": [
    "len(train_and_test_together)"
   ]
  },
  {
   "cell_type": "code",
   "execution_count": null,
   "metadata": {
    "collapsed": true
   },
   "outputs": [],
   "source": [
    "\"\"\"!!!!! добавить: обратный гекодинг (подтянуть информацию): два варианта\n",
    "    1) online: 50% загружено - вернуться позже,\n",
    "    2) offline: используем \"\"\""
   ]
  },
  {
   "cell_type": "code",
   "execution_count": null,
   "metadata": {
    "collapsed": true
   },
   "outputs": [],
   "source": [
    "reverse_geocoding_first = pd.read_excel(r'reverse geocoding\\xlsx\\2018_02_18_reverse_geocoding_train_pos.xlsx')\n",
    "reverse_geocoding_second = pd.read_excel(r'reverse geocoding\\xlsx\\2018_02_21_rg_third_calc_45520.xlsx')"
   ]
  },
  {
   "cell_type": "code",
   "execution_count": null,
   "metadata": {
    "collapsed": true
   },
   "outputs": [],
   "source": [
    "print(\"Первый файл (кол-во координат): {0}, Второй файл: {1} \".format(len(reverse_geocoding_first), \n",
    "                                                                      len(reverse_geocoding_second)))\n",
    "print(\"Общее количество уникальных координат: {}\".format(len(pd.Series(list(reverse_geocoding_first.gps.unique()) + \n",
    "                                                                       list(reverse_geocoding_second.gps.unique())).unique())))"
   ]
  },
  {
   "cell_type": "code",
   "execution_count": null,
   "metadata": {
    "collapsed": true
   },
   "outputs": [],
   "source": [
    "pd.merge(train_and_test_together, reverse_geocoding[['state','pos_lat_lon', 'country']], on=['gps'], how='left')"
   ]
  },
  {
   "cell_type": "code",
   "execution_count": null,
   "metadata": {
    "collapsed": true
   },
   "outputs": [],
   "source": []
  },
  {
   "cell_type": "code",
   "execution_count": 25,
   "metadata": {
    "collapsed": false
   },
   "outputs": [
    {
     "name": "stdout",
     "output_type": "stream",
     "text": [
      "Loading formatted geocoded file...\n"
     ]
    },
    {
     "data": {
      "text/plain": [
       "2252195"
      ]
     },
     "execution_count": 25,
     "metadata": {},
     "output_type": "execute_result"
    }
   ],
   "source": [
    "\"\"\"offline подход (быстрый): https://github.com/thampiman/reverse-geocoder \"\"\"\n",
    "import reverse_geocoder as rg\n",
    "\n",
    "train_and_test_together.address_lat = train_and_test_together.address_lat.apply(float)\n",
    "train_and_test_together.address_lon = train_and_test_together.address_lon.apply(float)\n",
    "\n",
    "latlon_subset = train_and_test_together[['address_lat', 'address_lon']]\n",
    "latlon_tuple = [tuple(x) for x in latlon_subset.values]\n",
    "\n",
    "reverse_geo = rg.search(latlon_tuple)\n",
    "reverse_geo_df = pd.DataFrame(reverse_geo)\n",
    "\n",
    "train_and_test_together['country'] = reverse_geo_df['cc'].values\n",
    "train_and_test_together['region'] = reverse_geo_df['admin1'].values\n",
    "train_and_test_together['place'] = reverse_geo_df['name'].values\n",
    "\n",
    "len(train_and_test_together)"
   ]
  },
  {
   "cell_type": "code",
   "execution_count": null,
   "metadata": {
    "collapsed": true
   },
   "outputs": [],
   "source": []
  },
  {
   "cell_type": "code",
   "execution_count": 26,
   "metadata": {
    "collapsed": true
   },
   "outputs": [],
   "source": [
    "\"\"\"убираем все страны, кроме RU, UA\"\"\"\n",
    "train_and_test_together = train_and_test_together[(train_and_test_together.country == 'RU') |\n",
    "                                                  (train_and_test_together.country == 'UA')]"
   ]
  },
  {
   "cell_type": "code",
   "execution_count": null,
   "metadata": {
    "collapsed": true
   },
   "outputs": [],
   "source": [
    "\"\"\"убирать ничего не будем, берем максимум\"\"\""
   ]
  },
  {
   "cell_type": "code",
   "execution_count": null,
   "metadata": {
    "collapsed": true
   },
   "outputs": [],
   "source": [
    "\"\"\"ПРОВЕРИТЬ, сколько Y TRUE мы выкидываем \"\"\""
   ]
  },
  {
   "cell_type": "code",
   "execution_count": null,
   "metadata": {
    "collapsed": true
   },
   "outputs": [],
   "source": []
  },
  {
   "cell_type": "code",
   "execution_count": null,
   "metadata": {
    "collapsed": true
   },
   "outputs": [],
   "source": []
  },
  {
   "cell_type": "code",
   "execution_count": 27,
   "metadata": {
    "collapsed": true
   },
   "outputs": [],
   "source": [
    "\"\"\"PLACES: убираем места, которые встречаются 1 раз\"\"\"\n",
    "places_to_drop = list(train_and_test_together.place.value_counts()[train_and_test_together.place.value_counts() <= 1].index)\n",
    "train_and_test_together = train_and_test_together[train_and_test_together.place.isin(places_to_drop) == False]"
   ]
  },
  {
   "cell_type": "code",
   "execution_count": 28,
   "metadata": {
    "collapsed": false
   },
   "outputs": [
    {
     "data": {
      "text/plain": [
       "9997"
      ]
     },
     "execution_count": 28,
     "metadata": {},
     "output_type": "execute_result"
    }
   ],
   "source": [
    "\"\"\"REGIONS: убираем регионы с частотой ниже порога для каждого ID\"\"\"\n",
    "tr_qty_by_ids = pd.DataFrame(train_and_test_together.groupby(['customer_id'])['amount'].count()).reset_index()\n",
    "tr_qty_by_ids_region = pd.DataFrame(train_and_test_together.groupby(['customer_id', 'region'])['country'].count()).reset_index()\n",
    "tr_qty_by_ids_region = pd.merge(tr_qty_by_ids_region, tr_qty_by_ids, on=['customer_id'], how='left')\n",
    "tr_qty_by_ids_region['frq_rg'] = tr_qty_by_ids_region['country'] / tr_qty_by_ids_region['amount']\n",
    "\n",
    "tr_region_outl = tr_qty_by_ids_region[tr_qty_by_ids_region['frq_rg'] <= 0.20]\n",
    "train_and_test_together = pd.merge(train_and_test_together, \n",
    "                                   tr_region_outl[['customer_id', 'region', 'frq_rg']], \n",
    "                                   on=['customer_id', 'region'], how='left')\n",
    "train_and_test_together[train_and_test_together.test_sample==1]['customer_id'].nunique()"
   ]
  },
  {
   "cell_type": "code",
   "execution_count": null,
   "metadata": {
    "collapsed": true
   },
   "outputs": [],
   "source": [
    "\"\"\"убираем транзакции с частотой ниже порога\"\"\"\n",
    "#tr_qty_by_ids_region[tr_qty_by_ids_region['frq_rg'] > 0.2]['frq_rg'].plot.hist();"
   ]
  },
  {
   "cell_type": "code",
   "execution_count": 29,
   "metadata": {
    "collapsed": false
   },
   "outputs": [
    {
     "data": {
      "text/plain": [
       "9997"
      ]
     },
     "execution_count": 29,
     "metadata": {},
     "output_type": "execute_result"
    }
   ],
   "source": [
    "\"\"\"PLACES: убираем места с частотой ниже порога для каждого ID\"\"\"\n",
    "#train_and_test_together = train_and_test_together[train_and_test_together.frq_rg.isnull()==1]\n",
    "tr_qty_by_ids = pd.DataFrame(train_and_test_together.groupby(['customer_id'])['amount'].count()).reset_index()\n",
    "tr_qty_by_ids_place = pd.DataFrame(train_and_test_together.groupby(['customer_id', 'place'])['amount'].count()).reset_index()\n",
    "tr_qty_by_ids_place = pd.merge(tr_qty_by_ids_place, tr_qty_by_ids, on=['customer_id'], how='left')\n",
    "tr_qty_by_ids_place['frq_pl'] = tr_qty_by_ids_place['amount_x'] / tr_qty_by_ids_place['amount_y']\n",
    "\n",
    "tr_place_outl = tr_qty_by_ids_place[tr_qty_by_ids_place['frq_pl'] <= 0.07]\n",
    "train_and_test_together = pd.merge(train_and_test_together, \n",
    "                                   tr_place_outl[['customer_id', 'place', 'frq_pl']], on=['customer_id', 'place'], how='left')\n",
    "train_and_test_together = train_and_test_together[train_and_test_together.frq_pl.isnull()==1]\n",
    "train_and_test_together = train_and_test_together.drop(train_and_test_together.columns[-2:], axis=1)\n",
    "train_and_test_together[train_and_test_together.test_sample==1]['customer_id'].nunique()"
   ]
  },
  {
   "cell_type": "code",
   "execution_count": null,
   "metadata": {
    "collapsed": true
   },
   "outputs": [],
   "source": [
    "\"\"\"убираем транзакции с частотой ниже порога (7%, чтобы попал весть тест)\"\"\"\n",
    "#tr_qty_by_ids_place[tr_qty_by_ids_place['frq_pl'] > 0.07]['frq_pl'].plot.hist();"
   ]
  },
  {
   "cell_type": "code",
   "execution_count": 30,
   "metadata": {
    "collapsed": true
   },
   "outputs": [],
   "source": [
    "\"\"\"добавляем столбецы с частотой города, места\"\"\"\n",
    "train_and_test_together = pd.merge(train_and_test_together, tr_qty_by_ids_region[['customer_id', 'region', 'frq_rg']], \n",
    "                                   on=['customer_id', 'region'], how='left')\n",
    "train_and_test_together = pd.merge(train_and_test_together, tr_qty_by_ids_place[['customer_id', 'place', 'frq_pl']], \n",
    "                                   on=['customer_id', 'place'], how='left')"
   ]
  },
  {
   "cell_type": "code",
   "execution_count": null,
   "metadata": {
    "collapsed": true
   },
   "outputs": [],
   "source": [
    "\"\"\"убираем значения amount <= 0\"\"\"\n",
    "#train_and_test_together = train_and_test_together[train_and_test_together.amount > 0]"
   ]
  },
  {
   "cell_type": "code",
   "execution_count": 31,
   "metadata": {
    "collapsed": true
   },
   "outputs": [],
   "source": [
    "\"\"\"AMOUNT\"\"\"\n",
    "train_and_test_together.loc[:,'amount'] = np.array(train_and_test_together['amount'].apply(float))\n",
    "\n",
    "\"\"\"создаем переменные с amount / попробуем убрать все варианты с exp оставим только 10 ** \"\"\"\n",
    "train_and_test_together['am_e'] = np.exp(train_and_test_together.amount)\n",
    "train_and_test_together['am_10'] = 10 ** (train_and_test_together.amount)\n",
    "\n",
    "amount_by_id = train_and_test_together.groupby('customer_id').agg(\n",
    "    {'am_10' : [np.sum, np.mean, np.max, np.min, np.median, np.size, np.std, np.var ]}).reset_index()\n",
    "\n",
    "amount_by_id.columns = amount_by_id.columns.droplevel()\n",
    "amount_by_id = amount_by_id.add_prefix('am_10_')\n",
    "amount_by_id = amount_by_id.rename(columns={\"am_10_\":\"customer_id\"})"
   ]
  },
  {
   "cell_type": "code",
   "execution_count": 32,
   "metadata": {
    "collapsed": true
   },
   "outputs": [],
   "source": [
    "train_and_test_together = pd.merge(train_and_test_together, amount_by_id, on='customer_id', how='left')"
   ]
  },
  {
   "cell_type": "code",
   "execution_count": 33,
   "metadata": {
    "collapsed": true
   },
   "outputs": [],
   "source": [
    "\"\"\"создаем переменные, учитывающие время\"\"\"\n",
    "train_and_test_together['transaction_date'] = pd.to_datetime(train_and_test_together['transaction_date'])\n",
    "\n",
    "train_and_test_together['month'] = train_and_test_together['transaction_date'].dt.month\n",
    "train_and_test_together['week'] = train_and_test_together['transaction_date'].dt.week\n",
    "train_and_test_together['day'] = train_and_test_together['transaction_date'].dt.day\n",
    "train_and_test_together['dow'] = train_and_test_together['transaction_date'].dt.weekday\n",
    "train_and_test_together['winm'] = (train_and_test_together.transaction_date.dt.day - 1) // 7 + 1\n",
    "train_and_test_together['is_wkend'] = np.where((train_and_test_together['dow'] == 5) | \n",
    "                                               (train_and_test_together['dow'] == 6), 1, 0)\n",
    "\n",
    "\"\"\"праздники\"\"\"\n",
    "\n",
    "train_and_test_together['23feb'] = np.where(train_and_test_together['transaction_date'] == '2017-02-23', 1, 0) #24.02 - нерабочий\n",
    "train_and_test_together['8mar'] = np.where(train_and_test_together['transaction_date'] == '2017-03-08', 1, 0)\n",
    "train_and_test_together['1may'] = np.where(train_and_test_together['transaction_date'] == '2017-05-01', 1, 0)\n",
    "train_and_test_together['9may'] = np.where(train_and_test_together['transaction_date'] == '2017-05-09', 1, 0) #08.05 - нерабочий\n",
    "train_and_test_together['12jun'] = np.where(train_and_test_together['transaction_date'] == '2017-06-12', 1, 0)\n",
    "train_and_test_together['4nov'] = np.where(train_and_test_together['transaction_date'] == '2017-11-06', 1, 0) #04.11 - суббота\n",
    "\n",
    "\"\"\"нерабочие дни\"\"\"\n",
    "\n",
    "train_and_test_together['24feb'] = np.where(train_and_test_together['transaction_date'] == '2017-02-24', 1, 0)\n",
    "train_and_test_together['8may'] = np.where(train_and_test_together['transaction_date'] == '2017-05-08', 1, 0)"
   ]
  },
  {
   "cell_type": "code",
   "execution_count": 34,
   "metadata": {
    "collapsed": true
   },
   "outputs": [],
   "source": [
    "\"\"\"кол-во транзакций в день\"\"\"\n",
    "tr_by_ids_time_df = train_and_test_together.groupby(['customer_id', 'transaction_date'])['amount'].count().reset_index()\n",
    "tr_by_ids_time_df['time_diff'] = tr_by_ids_time_df.groupby('customer_id')['transaction_date'].diff().fillna(0)\n",
    "tr_by_ids_time_df.time_diff = tr_by_ids_time_df.time_diff.dt.days\n",
    "tr_by_ids_time_df = tr_by_ids_time_df.rename(columns={'amount':'tr_qty_time'})"
   ]
  },
  {
   "cell_type": "code",
   "execution_count": 35,
   "metadata": {
    "collapsed": false
   },
   "outputs": [
    {
     "data": {
      "text/plain": [
       "1775385"
      ]
     },
     "execution_count": 35,
     "metadata": {},
     "output_type": "execute_result"
    }
   ],
   "source": [
    "train_and_test_together = pd.merge(train_and_test_together, tr_by_ids_time_df, \n",
    "                                on=['customer_id', 'transaction_date'], how='left')\n",
    "len(train_and_test_together)"
   ]
  },
  {
   "cell_type": "code",
   "execution_count": 36,
   "metadata": {
    "collapsed": false
   },
   "outputs": [],
   "source": [
    "\"\"\"добавляем частоту дат по регионам\"\"\"\n",
    "tr_by_ids_time_reg = train_and_test_together.groupby(['customer_id', 'region'])['transaction_date'].count().reset_index()\n",
    "tr_by_ids_time_reg  = tr_by_ids_time_reg.merge(train_and_test_together.groupby(\n",
    "    ['customer_id', 'region'])['transaction_date'].nunique().reset_index(), on=['customer_id', 'region'], how='left')\n",
    "tr_by_ids_time_reg['frq_date'] = tr_by_ids_time_reg['transaction_date_x'] / tr_by_ids_time_reg['transaction_date_y']\n",
    "tr_by_ids_time_reg.rename(columns={'transaction_date_x':'date_reg_count', 'transaction_date_y':'date_reg_uni'}, inplace=True)"
   ]
  },
  {
   "cell_type": "code",
   "execution_count": 37,
   "metadata": {
    "collapsed": false
   },
   "outputs": [],
   "source": [
    "train_and_test_together = pd.merge(train_and_test_together, tr_by_ids_time_reg, on=['customer_id', 'region'], how='left')"
   ]
  },
  {
   "cell_type": "code",
   "execution_count": null,
   "metadata": {
    "collapsed": true
   },
   "outputs": [],
   "source": []
  },
  {
   "cell_type": "code",
   "execution_count": null,
   "metadata": {
    "collapsed": true
   },
   "outputs": [],
   "source": [
    "\"\"\"в настоящей версии пропускаем блок с самым частым регионом (спорный момент), \n",
    "основная проблема: живет и работает в разных регионах (МСК - МО)\"\"\""
   ]
  },
  {
   "cell_type": "code",
   "execution_count": 38,
   "metadata": {
    "collapsed": true
   },
   "outputs": [],
   "source": [
    "\"\"\"убираем валюту ОАЭ\"\"\"\n",
    "train_and_test_together = train_and_test_together[train_and_test_together.currency != \"784.0\"]"
   ]
  },
  {
   "cell_type": "code",
   "execution_count": 39,
   "metadata": {
    "collapsed": true
   },
   "outputs": [],
   "source": [
    "\"\"\"создаем таблицу вида id/unique gps(latlon), считаем количество повторов; \n",
    "    оптимизируем следующий этап вычисления накопленного расстояния\"\"\"\n",
    "cust_and_gps_df = pd.DataFrame(train_and_test_together.groupby(\n",
    "    ['customer_id', 'gps'])['amount'].count()).reset_index().rename(columns={\"amount\":\"id_gps_count\"})\n",
    "cust_and_gps_df['address_lat'] = cust_and_gps_df.gps.map(lambda x: str(x).split(',')[0]).apply(float)\n",
    "cust_and_gps_df['address_lon'] = cust_and_gps_df.gps.map(lambda x: str(x).split(',')[1]).apply(float)"
   ]
  },
  {
   "cell_type": "code",
   "execution_count": 40,
   "metadata": {
    "collapsed": true
   },
   "outputs": [],
   "source": [
    "'''добавляем столбец с каунтом повторяющихся координат'''\n",
    "\n",
    "train_and_test_together = pd.merge(train_and_test_together, cust_and_gps_df[['customer_id', 'gps', 'id_gps_count']], \n",
    "                                   on=['customer_id', 'gps'], how='left')"
   ]
  },
  {
   "cell_type": "code",
   "execution_count": null,
   "metadata": {
    "collapsed": true
   },
   "outputs": [],
   "source": [
    "\"\"\"считаем оставшиеся координаты\"\"\""
   ]
  },
  {
   "cell_type": "code",
   "execution_count": 41,
   "metadata": {
    "collapsed": true
   },
   "outputs": [],
   "source": [
    "\"\"\"загружаем расчёты дистанций для комбинации ID/GPS\"\"\"\n",
    "cum_distance_df01 = pd.read_csv(r'cum distance\\cum_distance_df_4673.csv',\n",
    "                                dtype={'cum_distance_and_count':str})\n",
    "cum_distance_df02 = pd.read_csv(r'cum distance\\cum_distance_df_4673-10183.csv', \n",
    "                                dtype={'cum_distance_and_count':str})\n",
    "cum_distance_df03 = pd.read_csv(r'cum distance\\cum_distance_df_other_train.csv')\n",
    "cum_distance_df04 = pd.read_csv(r'cum distance\\cum_distance_df_other_train02.csv')\n",
    "cum_distance_df05 = pd.read_csv(r'cum distance\\cum_distance_df_other_train03.csv')\n",
    "cum_distance_df06 = pd.read_csv(r'cum distance\\cum_distance_df_other_train04.csv')\n",
    "cum_distance_df07 = pd.read_csv(r'cum distance\\cum_distance_df_other_train05_work.csv')\n",
    "cum_distance_df08 = pd.read_csv(r'cum distance\\cum_distance_df_other_train06.csv')"
   ]
  },
  {
   "cell_type": "code",
   "execution_count": 42,
   "metadata": {
    "collapsed": true
   },
   "outputs": [],
   "source": [
    "cum_distance_df03 = pd.concat([cum_distance_df03, cum_distance_df04, \n",
    "                               cum_distance_df05, cum_distance_df06, cum_distance_df07, cum_distance_df08])\n",
    "cum_distance_df03 = cum_distance_df03[cum_distance_df03.columns[1:]]\n",
    "\n",
    "cum_distance = cum_distance_df01.copy()\n",
    "cum_distance.cum_distance_and_count = cum_distance.cum_distance_and_count.fillna(cum_distance_df02.cum_distance_and_count)\n",
    "cum_distance = cum_distance[cum_distance.columns[1:]]\n",
    "\n",
    "cum_distance['cum_neighb_dist'] = cum_distance.cum_distance_and_count.map(lambda x:\n",
    "                                                                          str(x).split(\",\")[0]).map(lambda\n",
    "                                                                                                    x: str(x).replace(\"[\", \"\"))\n",
    "cum_distance['neighb_count'] = cum_distance.cum_distance_and_count.map(lambda x:\n",
    "                                                                       str(x).split(\",\")[1]).map(lambda x:\n",
    "                                                                                                 str(x).replace(\"]\", \"\"))\n",
    "cum_distance.drop('cum_distance_and_count', axis=1, inplace=True)\n",
    "cum_distance = pd.concat([cum_distance, cum_distance_df03])"
   ]
  },
  {
   "cell_type": "code",
   "execution_count": 43,
   "metadata": {
    "collapsed": true
   },
   "outputs": [],
   "source": [
    "train_and_test_together = pd.merge(train_and_test_together, \n",
    "                                   cum_distance[['customer_id', 'gps', 'cum_neighb_dist', 'neighb_count']],\n",
    "                                   on=['customer_id', 'gps'], how='left')"
   ]
  },
  {
   "cell_type": "code",
   "execution_count": null,
   "metadata": {
    "collapsed": true
   },
   "outputs": [],
   "source": []
  },
  {
   "cell_type": "code",
   "execution_count": 60,
   "metadata": {
    "collapsed": true
   },
   "outputs": [],
   "source": [
    "\"\"\"округляем GPS !!!\"\"\"\n",
    "\n",
    "#cum_and_gps_df_new = test[test.cum_neighb_dist.isnull()==1]\n",
    "#cum_and_gps_df_new = pd.DataFrame(cum_and_gps_df_new.groupby(['customer_id', 'gps'])['amount'].count()).reset_index()\n",
    "#cum_and_gps_df_new['address_lat'] = cum_and_gps_df_new.gps.map(lambda x: str(x).split(',')[0]).apply(float)\n",
    "#cum_and_gps_df_new['address_lon'] = cum_and_gps_df_new.gps.map(lambda x: str(x).split(',')[1]).apply(float)"
   ]
  },
  {
   "cell_type": "code",
   "execution_count": null,
   "metadata": {
    "collapsed": false
   },
   "outputs": [],
   "source": [
    "%%time\n",
    "\"\"\"считаем дистанцию только для точек, которые попадают в радиус 0.02 градуса\"\"\"\n",
    "cum_distance_list = {}\n",
    "RADIUS = 0.02\n",
    "\n",
    "\"\"\"берем уникального клиента\"\"\"\n",
    "for cust in tqdm_notebook(list(cum_and_gps_df_new.customer_id.unique())):\n",
    "\n",
    "    \"\"\"отсчитываем кол-во шагов (длина массива)\"\"\"\n",
    "    for steps in list(cum_and_gps_df_new[cum_and_gps_df_new.customer_id == cust].index):\n",
    "        \n",
    "        distance_value = 0\n",
    "        lat = cum_and_gps_df_new[cum_and_gps_df_new.customer_id == cust].loc[steps, 'address_lat']\n",
    "        lon = cum_and_gps_df_new[cum_and_gps_df_new.customer_id == cust].loc[steps, 'address_lon']\n",
    "        \n",
    "        df_to_iterate = cum_and_gps_df_new[(cum_and_gps_df_new.customer_id == str(cust)) \n",
    "                        & ((lat + RADIUS) >= (cum_and_gps_df_new.address_lat))\n",
    "                        & ((lat - RADIUS) <= (cum_and_gps_df_new.address_lat))\n",
    "                        & ((lon + RADIUS) >= (cum_and_gps_df_new.address_lon))\n",
    "                        & ((lon - RADIUS) <= (cum_and_gps_df_new.address_lon))].copy()\n",
    "        \n",
    "        if len(df_to_iterate) == 1:\n",
    "            cum_distance_list[steps] = [0, 1]\n",
    "        \n",
    "        else:\n",
    "            for tr in list(df_to_iterate.index):\n",
    "                    \n",
    "                    x = haversine_fast(lat, \n",
    "                                       lon,\n",
    "                                       df_to_iterate.loc[tr, 'address_lat'],\n",
    "                                       df_to_iterate.loc[tr, 'address_lon'])\n",
    "                    \n",
    "                    distance_value = distance_value + x\n",
    "                    cum_distance_list[steps] = [distance_value, len(df_to_iterate)]"
   ]
  },
  {
   "cell_type": "code",
   "execution_count": 62,
   "metadata": {
    "collapsed": true
   },
   "outputs": [],
   "source": [
    "#cum_and_gps_df_new['cum_neighb_dist'] = pd.DataFrame(cum_distance_list).T[0]\n",
    "#cum_and_gps_df_new['neighb_count'] = pd.DataFrame(cum_distance_list).T[1]"
   ]
  },
  {
   "cell_type": "code",
   "execution_count": null,
   "metadata": {
    "collapsed": true
   },
   "outputs": [],
   "source": []
  },
  {
   "cell_type": "code",
   "execution_count": null,
   "metadata": {
    "collapsed": true
   },
   "outputs": [],
   "source": []
  },
  {
   "cell_type": "code",
   "execution_count": 44,
   "metadata": {
    "collapsed": false
   },
   "outputs": [
    {
     "data": {
      "text/plain": [
       "Index(['mcc', 'edited_description', 'combined_description', 'usda_description',\n",
       "       'irs_description', 'irs_reportable'],\n",
       "      dtype='object')"
      ]
     },
     "execution_count": 44,
     "metadata": {},
     "output_type": "execute_result"
    }
   ],
   "source": [
    "\"\"\"работаем с mcc кодами\"\"\"\n",
    "train_and_test_together['mcc'] = train_and_test_together.mcc.apply(int)\n",
    "\n",
    "mcc_codes = pd.read_csv('mcc_codes.csv')\n",
    "mcc_codes.irs_description = [str(i).lower() for i in mcc_codes.irs_description]\n",
    "mcc_codes.columns"
   ]
  },
  {
   "cell_type": "code",
   "execution_count": 45,
   "metadata": {
    "collapsed": true
   },
   "outputs": [],
   "source": [
    "\"\"\"объединяем похожие категории\"\"\"\n",
    "import re\n",
    "unique_mcc = list(mcc_codes.irs_description.unique())\n",
    "regex=re.compile(\".*(car).*\")\n",
    "group_list = [m.group(0) for l in unique_mcc for m in [regex.search(l)] if m]\n",
    "\n",
    "\"\"\"лист, содержащий mcc коды автомобильной тематики\"\"\"\n",
    "drivers_list = ['car rental agencies', 'car rental' ,'car washes', \n",
    "                'car and truck dealers (new & used) sales, service, repairs parts and leasing ', \n",
    "                'car and truck dealers (used only) sales, service, repairs parts and leasing ',\n",
    "               'service stations']\n",
    "\n",
    "train_and_test_together = pd.merge(train_and_test_together, mcc_codes[['mcc', 'irs_description']], on='mcc', how='left')\n",
    "drivers_id = list(train_and_test_together[train_and_test_together.irs_description.isin(drivers_list)]['customer_id'].unique())\n",
    "drivers_id = pd.Series(drivers_id).rename(\"customer_id\")\n",
    "drivers_id = pd.DataFrame(drivers_id)\n",
    "drivers_id['is_dr'] = 1\n",
    "train_and_test_together['is_dr'] = pd.merge(train_and_test_together, drivers_id, on='customer_id', how='left')['is_dr'].fillna(0)"
   ]
  },
  {
   "cell_type": "code",
   "execution_count": 46,
   "metadata": {
    "collapsed": true
   },
   "outputs": [],
   "source": [
    "\"\"\"добавляем столбец с частотой mcc\"\"\"\n",
    "tr_qty_by_ids = pd.DataFrame(train_and_test_together.groupby(['customer_id'])['amount'].count()).reset_index()\n",
    "tr_qty_by_ids_mcc = pd.DataFrame(train_and_test_together.groupby(\n",
    "    ['customer_id', 'irs_description'])['amount'].count()).reset_index()\n",
    "tr_qty_by_ids_mcc = pd.merge(tr_qty_by_ids_mcc, tr_qty_by_ids, on=['customer_id'], how='left')\n",
    "tr_qty_by_ids_mcc['frq_mcc'] = tr_qty_by_ids_mcc['amount_x'] / tr_qty_by_ids_mcc['amount_y']"
   ]
  },
  {
   "cell_type": "code",
   "execution_count": 47,
   "metadata": {
    "collapsed": true
   },
   "outputs": [],
   "source": [
    "train_and_test_together = pd.merge(train_and_test_together, tr_qty_by_ids_mcc[['customer_id', 'irs_description', 'frq_mcc']], \n",
    "                                   on=['customer_id', 'irs_description'], how='left')"
   ]
  },
  {
   "cell_type": "code",
   "execution_count": null,
   "metadata": {
    "collapsed": true
   },
   "outputs": [],
   "source": []
  },
  {
   "cell_type": "code",
   "execution_count": null,
   "metadata": {
    "collapsed": true
   },
   "outputs": [],
   "source": [
    "\"\"\"выбираем подход для категориальных переменных: OHE, hashing trick, sparse matrix, pd.get_dummies [25.02]\"\"\""
   ]
  },
  {
   "cell_type": "code",
   "execution_count": 48,
   "metadata": {
    "collapsed": true
   },
   "outputs": [],
   "source": [
    "\"\"\"формат float\"\"\"\n",
    "train_and_test_together['cum_neighb_dist'] = train_and_test_together['cum_neighb_dist'].astype(float)\n",
    "train_and_test_together['neighb_count'] = train_and_test_together['neighb_count'].astype(float)"
   ]
  },
  {
   "cell_type": "code",
   "execution_count": null,
   "metadata": {
    "collapsed": true
   },
   "outputs": [],
   "source": []
  },
  {
   "cell_type": "code",
   "execution_count": 49,
   "metadata": {
    "collapsed": true
   },
   "outputs": [],
   "source": [
    "\"\"\"AMOUNT / добавляем переменные, связанные с категориями: region, place, irs_description\"\"\"\n",
    "amount_by_region = train_and_test_together.groupby(\n",
    "    ['region']).agg({'am_10': [np.sum, np.mean, np.median, np.size, np.std, np.var ]}).reset_index()\n",
    "amount_by_region.columns = amount_by_region.columns.droplevel()\n",
    "amount_by_region = amount_by_region.add_prefix('amr_')\n",
    "amount_by_region = amount_by_region.rename(columns={\"amr_\":\"region\"})\n",
    "\n",
    "amount_by_place = train_and_test_together.groupby(\n",
    "    ['place']).agg({'am_10' : [np.sum, np.mean, np.median, np.size, np.std, np.var ]}).reset_index()\n",
    "amount_by_place.columns = amount_by_place.columns.droplevel()\n",
    "amount_by_place = amount_by_place.add_prefix('amp_')\n",
    "amount_by_place = amount_by_place.rename(columns={\"amp_\":\"place\"})\n",
    "\n",
    "amount_by_mcc = train_and_test_together.groupby(\n",
    "    ['irs_description']).agg({'am_10' : [np.sum, np.mean, np.median, np.size, np.std, np.var ]}).reset_index()\n",
    "amount_by_mcc.columns = amount_by_mcc.columns.droplevel()\n",
    "amount_by_mcc = amount_by_mcc.add_prefix('ammc_')\n",
    "amount_by_mcc = amount_by_mcc.rename(columns={\"ammc_\":\"irs_description\"})\n",
    "\n",
    "amount_by_dow = train_and_test_together.groupby(\n",
    "    ['dow']).agg({'am_10' : [np.sum, np.mean, np.median, np.size, np.std, np.var ]}).reset_index()\n",
    "amount_by_dow.columns = amount_by_dow.columns.droplevel()\n",
    "amount_by_dow = amount_by_dow.add_prefix('amd_')\n",
    "amount_by_dow = amount_by_dow.rename(columns={\"amd_\":\"dow\"})\n",
    "\n",
    "\n",
    "\n",
    "train_and_test_together = pd.merge(train_and_test_together, amount_by_region, on='region', how='left')\n",
    "train_and_test_together = pd.merge(train_and_test_together, amount_by_place, on='place', how='left')\n",
    "train_and_test_together = pd.merge(train_and_test_together, amount_by_mcc, on='irs_description', how='left')\n",
    "train_and_test_together = pd.merge(train_and_test_together, amount_by_dow, on='dow', how='left')\n"
   ]
  },
  {
   "cell_type": "code",
   "execution_count": 51,
   "metadata": {
    "collapsed": true
   },
   "outputs": [],
   "source": [
    "del amount_by_region, amount_by_place, amount_by_mcc, amount_by_dow"
   ]
  },
  {
   "cell_type": "code",
   "execution_count": 50,
   "metadata": {
    "collapsed": true
   },
   "outputs": [],
   "source": [
    "\"\"\"AMOUNT / добавляем amount id+ region/mcc/dow\"\"\"\n",
    "amount_reg_by_id = train_and_test_together.groupby(['customer_id', 'region']).agg(\n",
    "    {'am_10' : [np.sum, np.mean, np.max, np.min, np.median, np.size, np.std, np.var ]})\n",
    "\n",
    "amount_reg_by_id.columns = amount_reg_by_id.add_prefix('am_ireg_').columns.droplevel()\n",
    "amount_reg_by_id.reset_index(inplace=True)\n",
    "\n",
    "amount_pl_by_id = train_and_test_together.groupby(['customer_id', 'place']).agg(\n",
    "    {'am_10' : [np.sum, np.mean, np.max, np.min, np.median, np.size, np.std, np.var ]})\n",
    "\n",
    "amount_pl_by_id.columns = amount_pl_by_id.add_prefix('am_ipl_').columns.droplevel()\n",
    "amount_pl_by_id.reset_index(inplace=True)\n",
    "\n",
    "amount_mcc_by_id = train_and_test_together.groupby(['customer_id', 'irs_description']).agg(\n",
    "    {'am_10' : [np.sum, np.mean, np.max, np.min, np.median, np.size, np.std, np.var ]})\n",
    "\n",
    "amount_mcc_by_id.columns = amount_mcc_by_id.add_prefix('am_imcc_').columns.droplevel()\n",
    "amount_mcc_by_id.reset_index(inplace=True)\n",
    "\n",
    "amount_dow_by_id = train_and_test_together.groupby(['customer_id', 'dow']).agg(\n",
    "    {'am_10' : [np.sum, np.mean, np.max, np.min, np.median, np.size, np.std, np.var ]})\n",
    "\n",
    "amount_dow_by_id.columns = amount_dow_by_id.add_prefix('am_idow_').columns.droplevel()\n",
    "amount_dow_by_id.reset_index(inplace=True)\n"
   ]
  },
  {
   "cell_type": "code",
   "execution_count": 52,
   "metadata": {
    "collapsed": false
   },
   "outputs": [
    {
     "name": "stdout",
     "output_type": "stream",
     "text": [
      "Wall time: 8.14 s\n"
     ]
    }
   ],
   "source": [
    "%%time\n",
    "train_and_test_together = pd.merge(train_and_test_together, amount_reg_by_id, on=['customer_id','region'], how='left')\n",
    "train_and_test_together = pd.merge(train_and_test_together, amount_pl_by_id, on=['customer_id','place'], how='left')\n",
    "train_and_test_together = pd.merge(train_and_test_together, amount_mcc_by_id, on=['customer_id','irs_description'], how='left')\n",
    "train_and_test_together = pd.merge(train_and_test_together, amount_dow_by_id, on=['customer_id','dow'], how='left')"
   ]
  },
  {
   "cell_type": "code",
   "execution_count": 53,
   "metadata": {
    "collapsed": false
   },
   "outputs": [],
   "source": [
    "del amount_reg_by_id, amount_pl_by_id, amount_mcc_by_id, amount_dow_by_id"
   ]
  },
  {
   "cell_type": "code",
   "execution_count": null,
   "metadata": {
    "collapsed": false
   },
   "outputs": [],
   "source": []
  },
  {
   "cell_type": "code",
   "execution_count": null,
   "metadata": {
    "collapsed": true
   },
   "outputs": [],
   "source": []
  },
  {
   "cell_type": "code",
   "execution_count": null,
   "metadata": {
    "collapsed": true
   },
   "outputs": [],
   "source": []
  },
  {
   "cell_type": "code",
   "execution_count": 54,
   "metadata": {
    "collapsed": false
   },
   "outputs": [
    {
     "data": {
      "text/plain": [
       "1783007"
      ]
     },
     "execution_count": 54,
     "metadata": {},
     "output_type": "execute_result"
    }
   ],
   "source": [
    "len(train_and_test_together)"
   ]
  },
  {
   "cell_type": "code",
   "execution_count": 55,
   "metadata": {
    "collapsed": false
   },
   "outputs": [
    {
     "data": {
      "text/plain": [
       "1623202"
      ]
     },
     "execution_count": 55,
     "metadata": {},
     "output_type": "execute_result"
    }
   ],
   "source": [
    "\"\"\"убираем ID, рядом с которыми не было транзакций\"\"\"\n",
    "train_and_test_together = train_and_test_together[train_and_test_together.customer_id.isin(\n",
    "    list(tr_qty_by_ids_home[tr_qty_by_ids_home['nearby_home_x'] == 0]['customer_id'])) == 0]\n",
    "len(train_and_test_together)"
   ]
  },
  {
   "cell_type": "code",
   "execution_count": 56,
   "metadata": {
    "collapsed": false
   },
   "outputs": [
    {
     "data": {
      "text/plain": [
       "(0.37507761927850225, 0.13688212927756654)"
      ]
     },
     "execution_count": 56,
     "metadata": {},
     "output_type": "execute_result"
    }
   ],
   "source": [
    "\"\"\"global mean\"\"\"\n",
    "home_global_mean = (train_and_test_together[train_and_test_together.test_sample.isnull()==1]['nearby_home'].sum() / \n",
    " train_and_test_together[train_and_test_together.test_sample.isnull()==1]['nearby_home'].count())\n",
    "work_global_mean = (train_and_test_together[train_and_test_together.test_sample.isnull()==1]['nearby_work'].sum() / \n",
    " train_and_test_together[train_and_test_together.test_sample.isnull()==1]['nearby_work'].count())\n",
    "home_global_mean, work_global_mean"
   ]
  },
  {
   "cell_type": "code",
   "execution_count": 57,
   "metadata": {
    "collapsed": false
   },
   "outputs": [],
   "source": [
    "\"\"\"сглаживание Лапласа / adj. smoothing // сглаживание с коэф. регуляризации alpha\"\"\"\n",
    "mcc_nearby = pd.DataFrame(train_and_test_together[train_and_test_together.test_sample.isnull()==1].groupby(\n",
    "    'irs_description').agg({'nearby_home': [np.sum, np.size],'nearby_work': [np.sum, np.size]}))\n",
    "mcc_nearby.columns = mcc_nearby.columns.droplevel(0)\n",
    "mcc_nearby.columns = ['sum_h', 'count_h', 'sum_w', 'count_w']\n",
    "mcc_nearby['frq_h'] = mcc_nearby['sum_h'] / mcc_nearby['count_h']\n",
    "mcc_nearby['frq_w'] = mcc_nearby['sum_w'] / mcc_nearby['count_w']\n",
    "mcc_nearby['frq_diff'] = mcc_nearby['frq_h'] - mcc_nearby['frq_w']\n",
    "mcc_nearby['mcc_share'] = round(mcc_nearby.count_h / mcc_nearby.count_h.sum(), 4)"
   ]
  },
  {
   "cell_type": "code",
   "execution_count": 58,
   "metadata": {
    "collapsed": true
   },
   "outputs": [],
   "source": [
    "\"\"\"smoothed likelihood\"\"\"\n",
    "\"\"\"новые значения = global mean\"\"\"\n",
    "\n",
    "alpha = 70   ### коэф регуляризации\n",
    "mcc_nearby['sml_mc_h'] = ((mcc_nearby['frq_h'] * mcc_nearby['count_h'] + home_global_mean * alpha) / \n",
    "                            (mcc_nearby['count_h'] + alpha))\n",
    "mcc_nearby['sml_mc_w'] = ((mcc_nearby['frq_w'] * mcc_nearby['count_w'] + work_global_mean * alpha) / \n",
    "                            (mcc_nearby['count_w'] + alpha))\n",
    "mcc_nearby.reset_index(inplace=True)"
   ]
  },
  {
   "cell_type": "code",
   "execution_count": 59,
   "metadata": {
    "collapsed": false
   },
   "outputs": [
    {
     "data": {
      "text/html": [
       "<div>\n",
       "<table border=\"1\" class=\"dataframe\">\n",
       "  <thead>\n",
       "    <tr style=\"text-align: right;\">\n",
       "      <th></th>\n",
       "      <th>irs_description</th>\n",
       "      <th>sum_h</th>\n",
       "      <th>count_h</th>\n",
       "      <th>sum_w</th>\n",
       "      <th>count_w</th>\n",
       "      <th>frq_h</th>\n",
       "      <th>frq_w</th>\n",
       "      <th>frq_diff</th>\n",
       "      <th>mcc_share</th>\n",
       "      <th>sml_mc_h</th>\n",
       "      <th>sml_mc_w</th>\n",
       "    </tr>\n",
       "  </thead>\n",
       "  <tbody>\n",
       "    <tr>\n",
       "      <th>146</th>\n",
       "      <td>package stores-beer, wine, and liquor</td>\n",
       "      <td>7637.0</td>\n",
       "      <td>12958.0</td>\n",
       "      <td>1055.0</td>\n",
       "      <td>12958.0</td>\n",
       "      <td>0.589366</td>\n",
       "      <td>0.081417</td>\n",
       "      <td>0.507949</td>\n",
       "      <td>0.0184</td>\n",
       "      <td>0.588214</td>\n",
       "      <td>0.081715</td>\n",
       "    </tr>\n",
       "    <tr>\n",
       "      <th>59</th>\n",
       "      <td>department stores</td>\n",
       "      <td>3862.0</td>\n",
       "      <td>6789.0</td>\n",
       "      <td>819.0</td>\n",
       "      <td>6789.0</td>\n",
       "      <td>0.568861</td>\n",
       "      <td>0.120636</td>\n",
       "      <td>0.448225</td>\n",
       "      <td>0.0096</td>\n",
       "      <td>0.566884</td>\n",
       "      <td>0.120802</td>\n",
       "    </tr>\n",
       "    <tr>\n",
       "      <th>125</th>\n",
       "      <td>miscellaneous food stores - convenience stores...</td>\n",
       "      <td>16083.0</td>\n",
       "      <td>31398.0</td>\n",
       "      <td>3825.0</td>\n",
       "      <td>31398.0</td>\n",
       "      <td>0.512230</td>\n",
       "      <td>0.121823</td>\n",
       "      <td>0.390407</td>\n",
       "      <td>0.0445</td>\n",
       "      <td>0.511925</td>\n",
       "      <td>0.121857</td>\n",
       "    </tr>\n",
       "    <tr>\n",
       "      <th>66</th>\n",
       "      <td>drug stores and pharmacies</td>\n",
       "      <td>13360.0</td>\n",
       "      <td>26267.0</td>\n",
       "      <td>2765.0</td>\n",
       "      <td>26267.0</td>\n",
       "      <td>0.508623</td>\n",
       "      <td>0.105265</td>\n",
       "      <td>0.403358</td>\n",
       "      <td>0.0372</td>\n",
       "      <td>0.508268</td>\n",
       "      <td>0.105349</td>\n",
       "    </tr>\n",
       "    <tr>\n",
       "      <th>191</th>\n",
       "      <td>variety stores</td>\n",
       "      <td>4303.0</td>\n",
       "      <td>8741.0</td>\n",
       "      <td>784.0</td>\n",
       "      <td>8741.0</td>\n",
       "      <td>0.492278</td>\n",
       "      <td>0.089692</td>\n",
       "      <td>0.402586</td>\n",
       "      <td>0.0124</td>\n",
       "      <td>0.491347</td>\n",
       "      <td>0.090067</td>\n",
       "    </tr>\n",
       "    <tr>\n",
       "      <th>94</th>\n",
       "      <td>grocery stores, supermarkets</td>\n",
       "      <td>126398.0</td>\n",
       "      <td>266492.0</td>\n",
       "      <td>25005.0</td>\n",
       "      <td>266492.0</td>\n",
       "      <td>0.474303</td>\n",
       "      <td>0.093830</td>\n",
       "      <td>0.380473</td>\n",
       "      <td>0.3778</td>\n",
       "      <td>0.474277</td>\n",
       "      <td>0.093842</td>\n",
       "    </tr>\n",
       "    <tr>\n",
       "      <th>132</th>\n",
       "      <td>miscellaneous specialty retail</td>\n",
       "      <td>2179.0</td>\n",
       "      <td>5523.0</td>\n",
       "      <td>684.0</td>\n",
       "      <td>5523.0</td>\n",
       "      <td>0.394532</td>\n",
       "      <td>0.123846</td>\n",
       "      <td>0.270686</td>\n",
       "      <td>0.0078</td>\n",
       "      <td>0.394288</td>\n",
       "      <td>0.124009</td>\n",
       "    </tr>\n",
       "    <tr>\n",
       "      <th>52</th>\n",
       "      <td>cosmetic stores</td>\n",
       "      <td>2024.0</td>\n",
       "      <td>5668.0</td>\n",
       "      <td>589.0</td>\n",
       "      <td>5668.0</td>\n",
       "      <td>0.357092</td>\n",
       "      <td>0.103917</td>\n",
       "      <td>0.253176</td>\n",
       "      <td>0.0080</td>\n",
       "      <td>0.357312</td>\n",
       "      <td>0.104319</td>\n",
       "    </tr>\n",
       "    <tr>\n",
       "      <th>13</th>\n",
       "      <td>automated cash disburse</td>\n",
       "      <td>41887.0</td>\n",
       "      <td>129837.0</td>\n",
       "      <td>28301.0</td>\n",
       "      <td>129837.0</td>\n",
       "      <td>0.322612</td>\n",
       "      <td>0.217973</td>\n",
       "      <td>0.104639</td>\n",
       "      <td>0.1841</td>\n",
       "      <td>0.322640</td>\n",
       "      <td>0.217930</td>\n",
       "    </tr>\n",
       "    <tr>\n",
       "      <th>112</th>\n",
       "      <td>lumber, building materials stores</td>\n",
       "      <td>1142.0</td>\n",
       "      <td>3924.0</td>\n",
       "      <td>309.0</td>\n",
       "      <td>3924.0</td>\n",
       "      <td>0.291030</td>\n",
       "      <td>0.078746</td>\n",
       "      <td>0.212283</td>\n",
       "      <td>0.0056</td>\n",
       "      <td>0.292503</td>\n",
       "      <td>0.079765</td>\n",
       "    </tr>\n",
       "    <tr>\n",
       "      <th>165</th>\n",
       "      <td>service stations</td>\n",
       "      <td>5473.0</td>\n",
       "      <td>18802.0</td>\n",
       "      <td>1336.0</td>\n",
       "      <td>18802.0</td>\n",
       "      <td>0.291086</td>\n",
       "      <td>0.071056</td>\n",
       "      <td>0.220030</td>\n",
       "      <td>0.0267</td>\n",
       "      <td>0.291398</td>\n",
       "      <td>0.071300</td>\n",
       "    </tr>\n",
       "    <tr>\n",
       "      <th>120</th>\n",
       "      <td>men’s, women’s clothing stores</td>\n",
       "      <td>1280.0</td>\n",
       "      <td>5139.0</td>\n",
       "      <td>461.0</td>\n",
       "      <td>5139.0</td>\n",
       "      <td>0.249076</td>\n",
       "      <td>0.089706</td>\n",
       "      <td>0.159370</td>\n",
       "      <td>0.0073</td>\n",
       "      <td>0.250769</td>\n",
       "      <td>0.090340</td>\n",
       "    </tr>\n",
       "    <tr>\n",
       "      <th>45</th>\n",
       "      <td>commuter transport, ferries</td>\n",
       "      <td>2707.0</td>\n",
       "      <td>11777.0</td>\n",
       "      <td>838.0</td>\n",
       "      <td>11777.0</td>\n",
       "      <td>0.229855</td>\n",
       "      <td>0.071156</td>\n",
       "      <td>0.158699</td>\n",
       "      <td>0.0167</td>\n",
       "      <td>0.230713</td>\n",
       "      <td>0.071544</td>\n",
       "    </tr>\n",
       "    <tr>\n",
       "      <th>140</th>\n",
       "      <td>nurseries, lawn and garden supply stores</td>\n",
       "      <td>992.0</td>\n",
       "      <td>5252.0</td>\n",
       "      <td>484.0</td>\n",
       "      <td>5252.0</td>\n",
       "      <td>0.188880</td>\n",
       "      <td>0.092155</td>\n",
       "      <td>0.096725</td>\n",
       "      <td>0.0074</td>\n",
       "      <td>0.191329</td>\n",
       "      <td>0.092744</td>\n",
       "    </tr>\n",
       "    <tr>\n",
       "      <th>80</th>\n",
       "      <td>fast food restaurants</td>\n",
       "      <td>11417.0</td>\n",
       "      <td>72225.0</td>\n",
       "      <td>13960.0</td>\n",
       "      <td>72225.0</td>\n",
       "      <td>0.158075</td>\n",
       "      <td>0.193285</td>\n",
       "      <td>-0.035209</td>\n",
       "      <td>0.1024</td>\n",
       "      <td>0.158286</td>\n",
       "      <td>0.193230</td>\n",
       "    </tr>\n",
       "    <tr>\n",
       "      <th>71</th>\n",
       "      <td>eating places, restaurants</td>\n",
       "      <td>4973.0</td>\n",
       "      <td>36126.0</td>\n",
       "      <td>9751.0</td>\n",
       "      <td>36126.0</td>\n",
       "      <td>0.137657</td>\n",
       "      <td>0.269916</td>\n",
       "      <td>-0.132259</td>\n",
       "      <td>0.0512</td>\n",
       "      <td>0.138116</td>\n",
       "      <td>0.269659</td>\n",
       "    </tr>\n",
       "  </tbody>\n",
       "</table>\n",
       "</div>"
      ],
      "text/plain": [
       "                                       irs_description     sum_h   count_h  \\\n",
       "146              package stores-beer, wine, and liquor    7637.0   12958.0   \n",
       "59                                   department stores    3862.0    6789.0   \n",
       "125  miscellaneous food stores - convenience stores...   16083.0   31398.0   \n",
       "66                          drug stores and pharmacies   13360.0   26267.0   \n",
       "191                                     variety stores    4303.0    8741.0   \n",
       "94                        grocery stores, supermarkets  126398.0  266492.0   \n",
       "132                     miscellaneous specialty retail    2179.0    5523.0   \n",
       "52                                     cosmetic stores    2024.0    5668.0   \n",
       "13                             automated cash disburse   41887.0  129837.0   \n",
       "112                  lumber, building materials stores    1142.0    3924.0   \n",
       "165                                  service stations     5473.0   18802.0   \n",
       "120                     men’s, women’s clothing stores    1280.0    5139.0   \n",
       "45                         commuter transport, ferries    2707.0   11777.0   \n",
       "140           nurseries, lawn and garden supply stores     992.0    5252.0   \n",
       "80                               fast food restaurants   11417.0   72225.0   \n",
       "71                          eating places, restaurants    4973.0   36126.0   \n",
       "\n",
       "       sum_w   count_w     frq_h     frq_w  frq_diff  mcc_share  sml_mc_h  \\\n",
       "146   1055.0   12958.0  0.589366  0.081417  0.507949     0.0184  0.588214   \n",
       "59     819.0    6789.0  0.568861  0.120636  0.448225     0.0096  0.566884   \n",
       "125   3825.0   31398.0  0.512230  0.121823  0.390407     0.0445  0.511925   \n",
       "66    2765.0   26267.0  0.508623  0.105265  0.403358     0.0372  0.508268   \n",
       "191    784.0    8741.0  0.492278  0.089692  0.402586     0.0124  0.491347   \n",
       "94   25005.0  266492.0  0.474303  0.093830  0.380473     0.3778  0.474277   \n",
       "132    684.0    5523.0  0.394532  0.123846  0.270686     0.0078  0.394288   \n",
       "52     589.0    5668.0  0.357092  0.103917  0.253176     0.0080  0.357312   \n",
       "13   28301.0  129837.0  0.322612  0.217973  0.104639     0.1841  0.322640   \n",
       "112    309.0    3924.0  0.291030  0.078746  0.212283     0.0056  0.292503   \n",
       "165   1336.0   18802.0  0.291086  0.071056  0.220030     0.0267  0.291398   \n",
       "120    461.0    5139.0  0.249076  0.089706  0.159370     0.0073  0.250769   \n",
       "45     838.0   11777.0  0.229855  0.071156  0.158699     0.0167  0.230713   \n",
       "140    484.0    5252.0  0.188880  0.092155  0.096725     0.0074  0.191329   \n",
       "80   13960.0   72225.0  0.158075  0.193285 -0.035209     0.1024  0.158286   \n",
       "71    9751.0   36126.0  0.137657  0.269916 -0.132259     0.0512  0.138116   \n",
       "\n",
       "     sml_mc_w  \n",
       "146  0.081715  \n",
       "59   0.120802  \n",
       "125  0.121857  \n",
       "66   0.105349  \n",
       "191  0.090067  \n",
       "94   0.093842  \n",
       "132  0.124009  \n",
       "52   0.104319  \n",
       "13   0.217930  \n",
       "112  0.079765  \n",
       "165  0.071300  \n",
       "120  0.090340  \n",
       "45   0.071544  \n",
       "140  0.092744  \n",
       "80   0.193230  \n",
       "71   0.269659  "
      ]
     },
     "execution_count": 59,
     "metadata": {},
     "output_type": "execute_result"
    }
   ],
   "source": [
    "mcc_nearby[mcc_nearby.mcc_share > 0.005].sort_values('sml_mc_h', ascending=False)"
   ]
  },
  {
   "cell_type": "code",
   "execution_count": 60,
   "metadata": {
    "collapsed": false
   },
   "outputs": [],
   "source": [
    "places_nearby = pd.DataFrame(train_and_test_together[train_and_test_together.test_sample.isnull()==1].groupby(\n",
    "    'place').agg({'nearby_home': [np.sum, np.size], 'nearby_work': [np.sum, np.size]}))\n",
    "places_nearby.columns = places_nearby.columns.droplevel(0)\n",
    "places_nearby.columns = ['sum_h', 'count_h', 'sum_w', 'count_w']\n",
    "places_nearby['frq_h'] = places_nearby['sum_h'] / places_nearby['count_h']\n",
    "places_nearby['frq_w'] = places_nearby['sum_w'] / places_nearby['count_w']\n",
    "places_nearby['frq_diff'] = places_nearby['frq_h'] - places_nearby['frq_w']\n",
    "places_nearby['pl_share'] = round(places_nearby.count_h / places_nearby.count_h.sum(), 4)\n",
    "\n",
    "\"\"\"smoothed likelihood\"\"\"\n",
    "\"\"\"новые значения = global mean\"\"\"\n",
    "\n",
    "alpha = 70   ### коэф регуляризации\n",
    "places_nearby['sml_pl_h'] = ((places_nearby['frq_h'] * places_nearby['count_h'] + home_global_mean * alpha) / \n",
    "                            (places_nearby['count_h'] + alpha))\n",
    "places_nearby['sml_pl_w'] = ((places_nearby['frq_w'] * places_nearby['count_w'] + work_global_mean * alpha) / \n",
    "                            (places_nearby['count_w'] + alpha))\n",
    "\n",
    "places_nearby.reset_index(inplace=True)"
   ]
  },
  {
   "cell_type": "code",
   "execution_count": 61,
   "metadata": {
    "collapsed": false
   },
   "outputs": [],
   "source": [
    "\"\"\"dow + region\"\"\"\n",
    "\n",
    "dow_nearby = pd.DataFrame(train_and_test_together[train_and_test_together.test_sample.isnull()==1].groupby(\n",
    "    ['region', 'dow']).agg({'nearby_home': [np.sum, np.size], 'nearby_work': [np.sum, np.size]}))\n",
    "dow_nearby.columns = dow_nearby.columns.droplevel(0)\n",
    "dow_nearby.columns = ['sum_h', 'count_h', 'sum_w', 'count_w']\n",
    "dow_nearby['frq_h'] = dow_nearby['sum_h'] / dow_nearby['count_h']\n",
    "dow_nearby['frq_w'] = dow_nearby['sum_w'] / dow_nearby['count_w']\n",
    "dow_nearby['frq_diff'] = dow_nearby['frq_h'] - dow_nearby['frq_w']\n",
    "dow_nearby['dow_share'] = round(dow_nearby.count_h / dow_nearby.count_h.sum(), 4)\n",
    "\n",
    "\"\"\"smoothed likelihood\"\"\"\n",
    "\"\"\"новые значения = global mean\"\"\"\n",
    "\n",
    "alpha = 100   ### коэф регуляризации\n",
    "dow_nearby['sml_dow_h'] = ((dow_nearby['frq_h'] * dow_nearby['count_h'] + home_global_mean * alpha) / \n",
    "                            (dow_nearby['count_h'] + alpha))\n",
    "dow_nearby['sml_dow_w'] = ((dow_nearby['frq_w'] * dow_nearby['count_w'] + work_global_mean * alpha) / \n",
    "                            (dow_nearby['count_w'] + alpha))\n",
    "\n",
    "dow_nearby.reset_index(inplace=True)"
   ]
  },
  {
   "cell_type": "code",
   "execution_count": 62,
   "metadata": {
    "collapsed": false
   },
   "outputs": [],
   "source": [
    "train_and_test_together = pd.merge(train_and_test_together, mcc_nearby[['irs_description', 'sml_mc_h', ]],\n",
    "                                   on='irs_description', how='left')\n",
    "train_and_test_together = pd.merge(train_and_test_together, places_nearby[['place', 'sml_pl_h', ]],\n",
    "                                   on='place', how='left')\n",
    "train_and_test_together = pd.merge(train_and_test_together, dow_nearby[['region', 'dow', 'sml_dow_h', ]],\n",
    "                                   on=['region', 'dow'], how='left')"
   ]
  },
  {
   "cell_type": "code",
   "execution_count": 63,
   "metadata": {
    "collapsed": false
   },
   "outputs": [],
   "source": [
    "\"\"\"заполняем пропуски глобальным средним HOME\"\"\"\n",
    "train_and_test_together[['sml_mc_h', 'sml_pl_h', 'sml_dow_h']] = train_and_test_together[\n",
    "    ['sml_mc_h', 'sml_pl_h', 'sml_dow_h']].fillna(home_global_mean)"
   ]
  },
  {
   "cell_type": "code",
   "execution_count": null,
   "metadata": {
    "collapsed": true
   },
   "outputs": [],
   "source": [
    "\"\"\"посмотреть какие города в топ!!!\n",
    "    можно попробовать выбрать топ городов из теста\n",
    "    или добавить больше дамми\"\"\""
   ]
  },
  {
   "cell_type": "code",
   "execution_count": 64,
   "metadata": {
    "collapsed": false
   },
   "outputs": [
    {
     "name": "stdout",
     "output_type": "stream",
     "text": [
      "\n"
     ]
    },
    {
     "data": {
      "text/plain": [
       "0.8067646540603081"
      ]
     },
     "execution_count": 64,
     "metadata": {},
     "output_type": "execute_result"
    }
   ],
   "source": [
    "\"\"\"создаем дамми-столбцы для регионов: 80% транзакций в топ-10\"\"\"\n",
    "huge_regions = list(train_and_test_together.region.value_counts()[:10].index)\n",
    "\n",
    "for reg in tqdm_notebook(huge_regions):\n",
    "    train_and_test_together['d_' + reg] = np.where(train_and_test_together['region'] == reg, 1, 0)\n",
    "    \n",
    "(train_and_test_together.region.value_counts() / len(train_and_test_together.region))[:10].sum()"
   ]
  },
  {
   "cell_type": "code",
   "execution_count": 65,
   "metadata": {
    "collapsed": false,
    "scrolled": true
   },
   "outputs": [
    {
     "name": "stdout",
     "output_type": "stream",
     "text": [
      "\n"
     ]
    },
    {
     "data": {
      "text/plain": [
       "0.9171380531525477"
      ]
     },
     "execution_count": 65,
     "metadata": {},
     "output_type": "execute_result"
    }
   ],
   "source": [
    "\"\"\"создаем дамми-столбцы для топ-категорий\"\"\"   ### выбираем дом или работа\n",
    "top_categories = list(mcc_nearby.loc[list(mcc_nearby['sml_mc_h'].sort_values()[-10:].index), 'irs_description'].values)\n",
    "\n",
    "for cat in tqdm_notebook(top_categories):\n",
    "    train_and_test_together['d_' + cat[:5]] = np.where(train_and_test_together['irs_description'] == cat, 1, 0)\n",
    "    \n",
    "(mcc_nearby[mcc_nearby.mcc_share > 0.005]['count_h'].sum() / mcc_nearby['count_h'].sum())"
   ]
  },
  {
   "cell_type": "code",
   "execution_count": 66,
   "metadata": {
    "collapsed": true
   },
   "outputs": [],
   "source": [
    "\"\"\"раставляем одинаковые лейблы в трейне и тесте\"\"\"\n",
    "lbl = LabelEncoder()\n",
    "train_and_test_together['currency'] = lbl.fit_transform(train_and_test_together['currency'])  \n",
    "train_and_test_together['irs_description'] = lbl.fit_transform(train_and_test_together['irs_description'])\n",
    "train_and_test_together['place'] = lbl.fit_transform(train_and_test_together['place'])\n",
    "train_and_test_together['region'] = lbl.fit_transform(train_and_test_together['region'])\n",
    "train_and_test_together['country'] = lbl.fit_transform(train_and_test_together['country'])"
   ]
  },
  {
   "cell_type": "code",
   "execution_count": null,
   "metadata": {
    "collapsed": true
   },
   "outputs": [],
   "source": []
  },
  {
   "cell_type": "code",
   "execution_count": 67,
   "metadata": {
    "collapsed": true
   },
   "outputs": [],
   "source": [
    "\"\"\"расставляем кластеры\"\"\"\n",
    "from sklearn.cluster import DBSCAN\n",
    "kms_per_radian = 6371.0088        # define the number of kilometers in one radian\n",
    "epsilon = 2 / kms_per_radian      # define epsilon as 2 kilometers, converted to radians for use by haversine\n",
    "\n",
    "def dbscan_clusters(df):\n",
    "    coords = df[['address_lat', 'address_lon']].as_matrix()\n",
    "    \n",
    "    if len(coords) <= 15:\n",
    "        min_sample = 2\n",
    "    else:\n",
    "        min_sample = round(len(coords)/10,0)\n",
    "\n",
    "    db = DBSCAN(eps=epsilon, min_samples=min_sample, algorithm='ball_tree', metric='haversine').fit(np.radians(coords))\n",
    "    \n",
    "    return db.labels_, coords"
   ]
  },
  {
   "cell_type": "code",
   "execution_count": 68,
   "metadata": {
    "collapsed": false
   },
   "outputs": [
    {
     "name": "stdout",
     "output_type": "stream",
     "text": [
      "Wall time: 35 s\n"
     ]
    }
   ],
   "source": [
    "%%time\n",
    "from itertools import chain\n",
    "dbscan_df = train_and_test_together.groupby('customer_id').apply(dbscan_clusters)\n",
    "dbscan_df = pd.DataFrame(dbscan_df).reset_index()\n",
    "\n",
    "dbscan_df = pd.DataFrame({ \"customer_id\": np.repeat(dbscan_df.customer_id.values, \n",
    "                                        [len(x[0]) for x in dbscan_df[0]]), \n",
    "              \"clusters\": list(chain.from_iterable([x[0] for x in dbscan_df[0]])),\n",
    "              'gps': list(chain.from_iterable([x[1] for x in dbscan_df[0]]))})"
   ]
  },
  {
   "cell_type": "code",
   "execution_count": 69,
   "metadata": {
    "collapsed": false
   },
   "outputs": [],
   "source": [
    "dbscan_df['gps'] = dbscan_df['gps'].map(lambda x: str(x[0])) + ', ' + dbscan_df['gps'].map(lambda x: str(x[1]))\n",
    "train_and_test_together['gps'] = (train_and_test_together['address_lat'].astype(str) + ', ' \n",
    "                                  + train_and_test_together['address_lon'].astype(str))\n",
    "\n",
    "dbscan_df = dbscan_df.groupby(['customer_id', 'gps'])['clusters'].mean().reset_index()"
   ]
  },
  {
   "cell_type": "code",
   "execution_count": 70,
   "metadata": {
    "collapsed": true
   },
   "outputs": [],
   "source": [
    "train_and_test_together = pd.merge(train_and_test_together, dbscan_df, on=['customer_id', 'gps'], how='left')"
   ]
  },
  {
   "cell_type": "code",
   "execution_count": 71,
   "metadata": {
    "collapsed": true
   },
   "outputs": [],
   "source": [
    "del dbscan_df"
   ]
  },
  {
   "cell_type": "code",
   "execution_count": 72,
   "metadata": {
    "collapsed": false
   },
   "outputs": [],
   "source": [
    "\"\"\"создаем дополнительные факторы на основе кластеров\"\"\"\n",
    "clusters_features = train_and_test_together.groupby(['customer_id', 'clusters']).agg(\n",
    "    {'am_10' : [np.sum, np.mean, np.max, np.min, np.median, np.size, np.std, np.var ],\n",
    "    'dow' : [np.median],\n",
    "    'address_lat' : [np.mean, np.median],\n",
    "    'address_lon' : [np.mean, np.median]}).reset_index()\n",
    "\n",
    "clusters_features.columns = clusters_features.columns.map('_cl_'.join)\n",
    "clusters_features.rename( columns={'customer_id_cl_': 'customer_id', 'clusters_cl_' : 'clusters' }, inplace=True)"
   ]
  },
  {
   "cell_type": "code",
   "execution_count": 73,
   "metadata": {
    "collapsed": false
   },
   "outputs": [
    {
     "data": {
      "text/html": [
       "<div>\n",
       "<table border=\"1\" class=\"dataframe\">\n",
       "  <thead>\n",
       "    <tr style=\"text-align: right;\">\n",
       "      <th></th>\n",
       "      <th>customer_id</th>\n",
       "      <th>clusters</th>\n",
       "      <th>am_10_cl_sum</th>\n",
       "      <th>am_10_cl_mean</th>\n",
       "      <th>am_10_cl_amax</th>\n",
       "      <th>am_10_cl_amin</th>\n",
       "      <th>am_10_cl_median</th>\n",
       "      <th>am_10_cl_size</th>\n",
       "      <th>am_10_cl_std</th>\n",
       "      <th>am_10_cl_var</th>\n",
       "      <th>dow_cl_median</th>\n",
       "      <th>address_lat_cl_mean</th>\n",
       "      <th>address_lat_cl_median</th>\n",
       "      <th>address_lon_cl_mean</th>\n",
       "      <th>address_lon_cl_median</th>\n",
       "    </tr>\n",
       "  </thead>\n",
       "  <tbody>\n",
       "    <tr>\n",
       "      <th>0</th>\n",
       "      <td>0001f322716470bf9bfc1708f06f00fc</td>\n",
       "      <td>0</td>\n",
       "      <td>10096.271622</td>\n",
       "      <td>917.842875</td>\n",
       "      <td>2885.190786</td>\n",
       "      <td>255.758363</td>\n",
       "      <td>602.448720</td>\n",
       "      <td>11.0</td>\n",
       "      <td>757.491642</td>\n",
       "      <td>5.737936e+05</td>\n",
       "      <td>2.0</td>\n",
       "      <td>44.744210</td>\n",
       "      <td>44.743984</td>\n",
       "      <td>37.725279</td>\n",
       "      <td>37.725888</td>\n",
       "    </tr>\n",
       "    <tr>\n",
       "      <th>1</th>\n",
       "      <td>0001f322716470bf9bfc1708f06f00fc</td>\n",
       "      <td>1</td>\n",
       "      <td>2878.258729</td>\n",
       "      <td>411.179818</td>\n",
       "      <td>940.547705</td>\n",
       "      <td>222.372953</td>\n",
       "      <td>299.939703</td>\n",
       "      <td>7.0</td>\n",
       "      <td>263.284441</td>\n",
       "      <td>6.931870e+04</td>\n",
       "      <td>4.0</td>\n",
       "      <td>56.251347</td>\n",
       "      <td>56.251347</td>\n",
       "      <td>43.446254</td>\n",
       "      <td>43.446254</td>\n",
       "    </tr>\n",
       "    <tr>\n",
       "      <th>2</th>\n",
       "      <td>0001f322716470bf9bfc1708f06f00fc</td>\n",
       "      <td>2</td>\n",
       "      <td>1183.106801</td>\n",
       "      <td>169.015257</td>\n",
       "      <td>247.882819</td>\n",
       "      <td>89.075055</td>\n",
       "      <td>160.612619</td>\n",
       "      <td>7.0</td>\n",
       "      <td>57.706786</td>\n",
       "      <td>3.330073e+03</td>\n",
       "      <td>3.0</td>\n",
       "      <td>44.711199</td>\n",
       "      <td>44.711199</td>\n",
       "      <td>37.846624</td>\n",
       "      <td>37.846624</td>\n",
       "    </tr>\n",
       "    <tr>\n",
       "      <th>3</th>\n",
       "      <td>0001f322716470bf9bfc1708f06f00fc</td>\n",
       "      <td>3</td>\n",
       "      <td>250766.899047</td>\n",
       "      <td>13931.494392</td>\n",
       "      <td>29357.136956</td>\n",
       "      <td>581.407121</td>\n",
       "      <td>14289.119628</td>\n",
       "      <td>18.0</td>\n",
       "      <td>11730.059286</td>\n",
       "      <td>1.375943e+08</td>\n",
       "      <td>3.0</td>\n",
       "      <td>44.729231</td>\n",
       "      <td>44.728500</td>\n",
       "      <td>37.811779</td>\n",
       "      <td>37.815000</td>\n",
       "    </tr>\n",
       "    <tr>\n",
       "      <th>4</th>\n",
       "      <td>0001f322716470bf9bfc1708f06f00fc</td>\n",
       "      <td>4</td>\n",
       "      <td>68657.509434</td>\n",
       "      <td>13731.501887</td>\n",
       "      <td>41193.909543</td>\n",
       "      <td>162.034131</td>\n",
       "      <td>3846.635771</td>\n",
       "      <td>5.0</td>\n",
       "      <td>17836.368716</td>\n",
       "      <td>3.181360e+08</td>\n",
       "      <td>2.0</td>\n",
       "      <td>44.720482</td>\n",
       "      <td>44.721000</td>\n",
       "      <td>37.767720</td>\n",
       "      <td>37.766000</td>\n",
       "    </tr>\n",
       "  </tbody>\n",
       "</table>\n",
       "</div>"
      ],
      "text/plain": [
       "                        customer_id  clusters   am_10_cl_sum  am_10_cl_mean  \\\n",
       "0  0001f322716470bf9bfc1708f06f00fc         0   10096.271622     917.842875   \n",
       "1  0001f322716470bf9bfc1708f06f00fc         1    2878.258729     411.179818   \n",
       "2  0001f322716470bf9bfc1708f06f00fc         2    1183.106801     169.015257   \n",
       "3  0001f322716470bf9bfc1708f06f00fc         3  250766.899047   13931.494392   \n",
       "4  0001f322716470bf9bfc1708f06f00fc         4   68657.509434   13731.501887   \n",
       "\n",
       "   am_10_cl_amax  am_10_cl_amin  am_10_cl_median  am_10_cl_size  am_10_cl_std  \\\n",
       "0    2885.190786     255.758363       602.448720           11.0    757.491642   \n",
       "1     940.547705     222.372953       299.939703            7.0    263.284441   \n",
       "2     247.882819      89.075055       160.612619            7.0     57.706786   \n",
       "3   29357.136956     581.407121     14289.119628           18.0  11730.059286   \n",
       "4   41193.909543     162.034131      3846.635771            5.0  17836.368716   \n",
       "\n",
       "   am_10_cl_var  dow_cl_median  address_lat_cl_mean  address_lat_cl_median  \\\n",
       "0  5.737936e+05            2.0            44.744210              44.743984   \n",
       "1  6.931870e+04            4.0            56.251347              56.251347   \n",
       "2  3.330073e+03            3.0            44.711199              44.711199   \n",
       "3  1.375943e+08            3.0            44.729231              44.728500   \n",
       "4  3.181360e+08            2.0            44.720482              44.721000   \n",
       "\n",
       "   address_lon_cl_mean  address_lon_cl_median  \n",
       "0            37.725279              37.725888  \n",
       "1            43.446254              43.446254  \n",
       "2            37.846624              37.846624  \n",
       "3            37.811779              37.815000  \n",
       "4            37.767720              37.766000  "
      ]
     },
     "execution_count": 73,
     "metadata": {},
     "output_type": "execute_result"
    }
   ],
   "source": [
    "clusters_features.head()"
   ]
  },
  {
   "cell_type": "code",
   "execution_count": 74,
   "metadata": {
    "collapsed": false
   },
   "outputs": [],
   "source": [
    "train_and_test_together = pd.merge(train_and_test_together, clusters_features, on=['customer_id', 'clusters'], how='left')"
   ]
  },
  {
   "cell_type": "code",
   "execution_count": 75,
   "metadata": {
    "collapsed": false
   },
   "outputs": [],
   "source": [
    "del clusters_features"
   ]
  },
  {
   "cell_type": "code",
   "execution_count": null,
   "metadata": {
    "collapsed": true
   },
   "outputs": [],
   "source": [
    "\"\"\"вернуться к анализу: mcc, terminal_id, currency, reverse_geo  (online version), amount\"\"\"\n",
    "\n",
    "\"\"\"попробовать модели: \n",
    "    1) регрессия: растояние до дома/работы\n",
    "    2) классификация (логлосс): 1, 2, 3\n",
    "    3) кластеризация / pca \n",
    "    4) отдельная модель/анализ: дом-работа >100 км \n",
    "    5) Logistic regression \"\"\"\n",
    "\n",
    "\"\"\"написать функцию для рассчета метрики с радиусом 0.02\"\"\"\n",
    "\n",
    "\"\"\"дополнительные факторы:\n",
    "    1) время/ праздники\n",
    "    2) atm/pos dummy\n",
    "    3) решить проблему индивидуально для: Москва/МО, Санкт-Пет/Ленинград.обл\n",
    "    4) (!) убрать выбросы: дистанция от дома до работы > 100 км\n",
    "    5) расстояние для ближайших точек\n",
    "    6) av/m/m/m/si для каждого id, region, month(?)\n",
    "    7) автовладелец / без авто (обратный геокодинг или mcc) \"\"\""
   ]
  },
  {
   "cell_type": "code",
   "execution_count": null,
   "metadata": {
    "collapsed": true
   },
   "outputs": [],
   "source": [
    "\"\"\"возвращаем выборку для обчения и для теста (используем дамми-столбец)\"\"\""
   ]
  },
  {
   "cell_type": "code",
   "execution_count": null,
   "metadata": {
    "collapsed": true
   },
   "outputs": [],
   "source": [
    "\"\"\"изменить train > train_df\"\"\""
   ]
  },
  {
   "cell_type": "code",
   "execution_count": 76,
   "metadata": {
    "collapsed": false
   },
   "outputs": [
    {
     "name": "stdout",
     "output_type": "stream",
     "text": [
      "train_df: 705366, \n",
      "test: 917836 \n"
     ]
    }
   ],
   "source": [
    "train_df = train_and_test_together[train_and_test_together.test_sample != 1]\n",
    "test = train_and_test_together[train_and_test_together.test_sample == 1]\n",
    "\n",
    "print(\"train_df: {0}, \\ntest: {1} \".format(len(train_df), len(test)))"
   ]
  },
  {
   "cell_type": "code",
   "execution_count": 77,
   "metadata": {
    "collapsed": false
   },
   "outputs": [
    {
     "name": "stdout",
     "output_type": "stream",
     "text": [
      "мин. кол-во транзакций для 1 id в train_df: 4, \n",
      "кол-во уник. id  в test: 9997 \n"
     ]
    }
   ],
   "source": [
    "\"\"\"проверяем, какое минимальное кол-во транзакций для 1 id в трейне,\n",
    "   сколько уникальных id попало в тестовую выборку (из 9997) \"\"\"\n",
    "\n",
    "print(\"мин. кол-во транзакций для 1 id в train_df: {0}, \\nкол-во уник. id  в test: {1} \".format(\n",
    "    min(train_df.customer_id.value_counts()), \n",
    "    test.customer_id.nunique()))"
   ]
  },
  {
   "cell_type": "code",
   "execution_count": null,
   "metadata": {
    "collapsed": true
   },
   "outputs": [],
   "source": [
    "\"\"\"востанавливаем реальные адреса (дом, работа)\"\"\""
   ]
  },
  {
   "cell_type": "code",
   "execution_count": 78,
   "metadata": {
    "collapsed": false
   },
   "outputs": [],
   "source": [
    "real_address = pd.DataFrame(train_df.customer_id.unique())\n",
    "real_address.columns = ['customer_id']\n",
    "real_address = pd.merge(real_address, \n",
    "                        data['tra'][['customer_id', 'home_add_lat', 'home_add_lon', 'work_add_lat', 'work_add_lon']],\n",
    "                        on='customer_id', how='left').drop_duplicates().reset_index(drop=True)\n",
    "real_address[real_address.columns[1:]] = real_address[real_address.columns[1:]].astype(float)"
   ]
  },
  {
   "cell_type": "code",
   "execution_count": 94,
   "metadata": {
    "collapsed": false
   },
   "outputs": [],
   "source": [
    "real_address.to_excel('2018_03_13_train_real_address.xlsx')"
   ]
  },
  {
   "cell_type": "code",
   "execution_count": null,
   "metadata": {
    "collapsed": true
   },
   "outputs": [],
   "source": []
  },
  {
   "cell_type": "code",
   "execution_count": null,
   "metadata": {
    "collapsed": true
   },
   "outputs": [],
   "source": [
    "\"\"\"этот блок пропускаем\"\"\""
   ]
  },
  {
   "cell_type": "code",
   "execution_count": 111,
   "metadata": {
    "collapsed": false
   },
   "outputs": [
    {
     "name": "stdout",
     "output_type": "stream",
     "text": [
      "\n"
     ]
    }
   ],
   "source": [
    "\"\"\"расстояие от дома до работы: убираем выбросы (?)\"\"\"\n",
    "home_to_work_distance = []\n",
    "\n",
    "for i, row in tqdm_notebook(enumerate(train_df_new[['home_add_lat', 'home_add_lon', \n",
    "                                                    'work_add_lat', 'work_add_lon']].itertuples())):\n",
    "    home_to_work_distance.append(haversine_fast(row[1], row[2], row[3], row[4]))\n",
    "    \n",
    "train_df_new['home_to_work_dist'] = np.array(home_to_work_distance)\n"
   ]
  },
  {
   "cell_type": "code",
   "execution_count": 119,
   "metadata": {
    "collapsed": false
   },
   "outputs": [
    {
     "name": "stdout",
     "output_type": "stream",
     "text": [
      "размер train_df_new: 457964, с учетом threshold по расстоянию: 409018 (0.89) \n"
     ]
    },
    {
     "data": {
      "image/png": "[encoded data removed]",
      "text/plain": [
       "<matplotlib.figure.Figure at 0x20189eee278>"
      ]
     },
     "metadata": {},
     "output_type": "display_data"
    }
   ],
   "source": [
    "threshold = 40000\n",
    "train_df_new[train_df_new['home_to_work_dist'] < threshold]['home_to_work_dist'].hist();\n",
    "\n",
    "print(\"размер train_df_new: {0}, с учетом threshold по расстоянию: {1} ({2}) \".format(\n",
    "    len(train_df_new), \n",
    "    len(train_df_new[train_df_new['home_to_work_dist'] < threshold]), \n",
    "    round((len(train_df_new[train_df_new['home_to_work_dist'] < threshold]))/len(train_df_new),2)))"
   ]
  },
  {
   "cell_type": "code",
   "execution_count": 120,
   "metadata": {
    "collapsed": true
   },
   "outputs": [],
   "source": [
    "\"\"\"запоминаем новый train\"\"\"\n",
    "train_df_new = train_df_new[train_df_new['home_to_work_dist'] < threshold].copy()"
   ]
  },
  {
   "cell_type": "code",
   "execution_count": null,
   "metadata": {
    "collapsed": true
   },
   "outputs": [],
   "source": []
  },
  {
   "cell_type": "code",
   "execution_count": null,
   "metadata": {
    "collapsed": true
   },
   "outputs": [],
   "source": [
    "\"\"\"добавлем фильтр для тех ID, у которых дом и работа находятся далеко от транзакций\"\"\""
   ]
  },
  {
   "cell_type": "code",
   "execution_count": 318,
   "metadata": {
    "collapsed": false
   },
   "outputs": [
    {
     "data": {
      "text/plain": [
       "3732"
      ]
     },
     "execution_count": 318,
     "metadata": {},
     "output_type": "execute_result"
    }
   ],
   "source": [
    "train_df.customer_id.nunique()"
   ]
  },
  {
   "cell_type": "code",
   "execution_count": null,
   "metadata": {
    "collapsed": true
   },
   "outputs": [],
   "source": [
    "\"\"\"в классификации этот блок пропускаем\"\"\""
   ]
  },
  {
   "cell_type": "code",
   "execution_count": 107,
   "metadata": {
    "collapsed": false
   },
   "outputs": [
    {
     "name": "stdout",
     "output_type": "stream",
     "text": [
      "\n"
     ]
    }
   ],
   "source": [
    "\"\"\"растояние до дома: создаем целевую переменную для моделирования / функция для расчета дистанции ниже\"\"\"\n",
    "y_home_distance = []\n",
    "\n",
    "for i, row in tqdm_notebook(enumerate(train_df[['home_add_lat', 'home_add_lon', 'address_lat', 'address_lon']].itertuples())):\n",
    "    y_home_distance.append(haversine_fast(row[1], row[2], row[3], row[4]))"
   ]
  },
  {
   "cell_type": "code",
   "execution_count": 115,
   "metadata": {
    "collapsed": false
   },
   "outputs": [
    {
     "name": "stdout",
     "output_type": "stream",
     "text": [
      "\n"
     ]
    }
   ],
   "source": [
    "\"\"\"растояние до работы: создаем целевую переменную для моделирования / функция для расчета дистанции ниже\"\"\"\n",
    "y_work_distance = []\n",
    "\n",
    "for i, row in tqdm_notebook(enumerate(train_df[['work_add_lat', 'work_add_lon', 'address_lat', 'address_lon']].itertuples())):\n",
    "    y_work_distance.append(haversine_fast(row[1], row[2], row[3], row[4]))"
   ]
  },
  {
   "cell_type": "code",
   "execution_count": 109,
   "metadata": {
    "collapsed": true
   },
   "outputs": [],
   "source": [
    "y_df = train_df[['home_add_lat', 'home_add_lon' ,'work_add_lat', 'work_add_lon']].copy()\n",
    "y_df['y_home_distance'] = y_home_distance\n",
    "y_df['y_work_distance'] = y_work_distance"
   ]
  },
  {
   "cell_type": "code",
   "execution_count": 110,
   "metadata": {
    "collapsed": false
   },
   "outputs": [
    {
     "data": {
      "image/png": "[encoded data removed]",
      "text/plain": [
       "<matplotlib.figure.Figure at 0x105e5d4e630>"
      ]
     },
     "metadata": {},
     "output_type": "display_data"
    }
   ],
   "source": [
    "y_df[y_df['y_home_distance'] < 2000]['y_home_distance'].hist();"
   ]
  },
  {
   "cell_type": "code",
   "execution_count": null,
   "metadata": {
    "collapsed": false
   },
   "outputs": [],
   "source": []
  },
  {
   "cell_type": "code",
   "execution_count": 79,
   "metadata": {
    "collapsed": true
   },
   "outputs": [],
   "source": [
    "\"\"\"HOME\"\"\"\n",
    "y = train_df['nearby_home']"
   ]
  },
  {
   "cell_type": "code",
   "execution_count": 80,
   "metadata": {
    "collapsed": false
   },
   "outputs": [
    {
     "data": {
      "text/plain": [
       "(705366, 705366)"
      ]
     },
     "execution_count": 80,
     "metadata": {},
     "output_type": "execute_result"
    }
   ],
   "source": [
    "len(train_df), len(y)"
   ]
  },
  {
   "cell_type": "code",
   "execution_count": 88,
   "metadata": {
    "collapsed": false
   },
   "outputs": [
    {
     "data": {
      "text/plain": [
       "Index(['address_lat', 'address_lon', 'amount', 'currency', 'mcc', 'tr_type',\n",
       "       'country', 'region', 'place', 'frq_rg', 'frq_pl', 'am_e', 'am_10',\n",
       "       'am_10_sum', 'am_10_mean', 'am_10_amax', 'am_10_amin', 'am_10_median',\n",
       "       'am_10_size', 'am_10_std', 'am_10_var', 'month', 'week', 'day', 'dow',\n",
       "       'winm', 'is_wkend', '23feb', '8mar', '1may', '9may', '12jun', '4nov',\n",
       "       '24feb', '8may', 'tr_qty_time', 'time_diff', 'id_gps_count',\n",
       "       'cum_neighb_dist', 'neighb_count', 'irs_description', 'is_dr',\n",
       "       'frq_mcc', 'amr_sum', 'amr_mean', 'amr_median', 'amr_size', 'amr_std',\n",
       "       'amr_var', 'amp_sum', 'amp_mean', 'amp_median', 'amp_size', 'amp_std',\n",
       "       'amp_var', 'ammc_sum', 'ammc_mean', 'ammc_median', 'ammc_size',\n",
       "       'ammc_std', 'ammc_var', 'sml_mc_w', 'sml_pl_w', 'sml_dow_w', 'd_Moscow',\n",
       "       'd_Moskovskaya', 'd_St.-Petersburg', 'd_Leningrad', 'd_Krasnodarskiy',\n",
       "       'd_Sverdlovsk', 'd_Novosibirsk', 'd_Nizjnij Novgorod', 'd_Vologda',\n",
       "       'd_Krasnoyarskiy', 'd_groce', 'd_varie', 'd_drug ', 'd_misce',\n",
       "       'd_depar', 'd_pet s', 'd_const', 'd_packa', 'd_cater', 'am_10_cl_sum',\n",
       "       'am_10_cl_mean', 'am_10_cl_amax', 'am_10_cl_amin', 'am_10_cl_median',\n",
       "       'am_10_cl_size', 'am_10_cl_std', 'am_10_cl_var', 'dow_cl_median',\n",
       "       'address_lat_cl_mean', 'address_lat_cl_median', 'address_lon_cl_mean',\n",
       "       'address_lon_cl_median'],\n",
       "      dtype='object')"
      ]
     },
     "execution_count": 88,
     "metadata": {},
     "output_type": "execute_result"
    }
   ],
   "source": [
    "train.columns"
   ]
  },
  {
   "cell_type": "code",
   "execution_count": null,
   "metadata": {
    "collapsed": true
   },
   "outputs": [],
   "source": []
  },
  {
   "cell_type": "code",
   "execution_count": 81,
   "metadata": {
    "collapsed": false
   },
   "outputs": [],
   "source": [
    "train = train_df.drop(['customer_id', 'terminal_id', 'transaction_date', 'gps', 'test_sample', 'clusters',\n",
    "              'nearby_home', 'nearby_work'],axis=1)"
   ]
  },
  {
   "cell_type": "code",
   "execution_count": 82,
   "metadata": {
    "collapsed": true
   },
   "outputs": [],
   "source": [
    "test = test.drop(['customer_id', 'terminal_id', 'transaction_date', 'gps', 'test_sample', 'clusters',\n",
    "                 'nearby_home', 'nearby_work'], axis=1)"
   ]
  },
  {
   "cell_type": "code",
   "execution_count": 83,
   "metadata": {
    "collapsed": true
   },
   "outputs": [],
   "source": [
    "\"\"\"добавляем факторы расстояния\"\"\"\n",
    "train['ttl_count'] = train[\"id_gps_count\"] + train[\"neighb_count\"]\n",
    "train['av_dist'] = train['cum_neighb_dist'] / train['neighb_count']\n",
    "\n",
    "test['ttl_count'] = test[\"id_gps_count\"] + test[\"neighb_count\"]\n",
    "test['av_dist'] = test['cum_neighb_dist'] / test['neighb_count']\n",
    "\n",
    "\"\"\"факторы с latlon\"\"\"\n",
    "train['latlon_sum'] = train[\"address_lat\"] + train[\"address_lon\"]\n",
    "train['latlon_mult'] = train[\"address_lat\"] * train[\"address_lon\"]\n",
    "\n",
    "test['latlon_sum'] = test[\"address_lat\"] + test[\"address_lon\"]\n",
    "test['latlon_mult'] = test[\"address_lat\"] * test[\"address_lon\"]"
   ]
  },
  {
   "cell_type": "code",
   "execution_count": 84,
   "metadata": {
    "collapsed": false
   },
   "outputs": [],
   "source": [
    "\"\"\"новые признаки\"\"\"\n",
    "train['lat_sq'] = train['address_lat'] ** 2\n",
    "train['lon_sq'] = train['address_lon'] ** 2\n",
    "test['lat_sq'] = test['address_lat'] ** 2\n",
    "test['lon_sq'] = test['address_lon'] ** 2\n",
    "\n",
    "train['amount_sq'] = train['amount'] ** 2\n",
    "test['amount_sq'] = test['amount'] ** 2\n",
    "\n",
    "train['ball_share'] = train['ttl_count'] / train['am_10_size']\n",
    "test['ball_share'] = test['ttl_count'] / test['am_10_size']\n",
    "\n",
    "train['ln_av_dist'] = np.log1p(train['av_dist'])\n",
    "test['ln_av_dist'] = np.log1p(test['av_dist'])\n",
    "\n",
    "train['sq_av_dist'] = train['av_dist'] ** 2\n",
    "test['sq_av_dist'] = test['av_dist'] ** 2"
   ]
  },
  {
   "cell_type": "code",
   "execution_count": 85,
   "metadata": {
    "collapsed": false
   },
   "outputs": [],
   "source": [
    "\"\"\"признаки с центроидом // отклонение от медианы\"\"\"\n",
    "train['centr_lat_dev'] = train['address_lat_cl_median'] - train['address_lat']\n",
    "train['centr_lon_dev'] = train['address_lon_cl_median'] - train['address_lon']\n",
    "\n",
    "test['centr_lat_dev'] = test['address_lat_cl_median'] - test['address_lat']\n",
    "test['centr_lon_dev'] = test['address_lon_cl_median'] - test['address_lon']"
   ]
  },
  {
   "cell_type": "code",
   "execution_count": 86,
   "metadata": {
    "collapsed": true
   },
   "outputs": [],
   "source": [
    "\"\"\"убираем NA\"\"\"\n",
    "train = train.fillna(0)\n",
    "test = test.fillna(0)"
   ]
  },
  {
   "cell_type": "code",
   "execution_count": 87,
   "metadata": {
    "collapsed": false
   },
   "outputs": [
    {
     "name": "stdout",
     "output_type": "stream",
     "text": [
      "149 149\n"
     ]
    },
    {
     "data": {
      "text/plain": [
       "(None, 705366)"
      ]
     },
     "execution_count": 87,
     "metadata": {},
     "output_type": "execute_result"
    }
   ],
   "source": [
    "print(len(train.columns), len(test.columns)), len(train)"
   ]
  },
  {
   "cell_type": "code",
   "execution_count": null,
   "metadata": {
    "collapsed": false
   },
   "outputs": [],
   "source": []
  },
  {
   "cell_type": "code",
   "execution_count": 88,
   "metadata": {
    "collapsed": true
   },
   "outputs": [],
   "source": [
    "from sklearn.model_selection import StratifiedKFold, train_test_split, KFold\n",
    "from sklearn.metrics import accuracy_score, log_loss\n",
    "\n",
    "#https://github.com/Yorko/mlcourse_open/tree/master/jupyter_russian/topic10_boosting\n",
    "\n",
    "import xgboost as xgb"
   ]
  },
  {
   "cell_type": "code",
   "execution_count": 89,
   "metadata": {
    "collapsed": true
   },
   "outputs": [],
   "source": [
    "#https://districtdatalabs.silvrback.com/parameter-tuning-with-hyperopt\n",
    "\n",
    "from hyperopt import hp\n",
    "from hyperopt import fmin, tpe, hp, STATUS_OK, Trials"
   ]
  },
  {
   "cell_type": "code",
   "execution_count": 90,
   "metadata": {
    "collapsed": true
   },
   "outputs": [],
   "source": [
    "\"\"\"переводим в формат float32\"\"\"\n",
    "for c, dtype in zip(train.columns, train.dtypes):\n",
    "    if dtype == np.float64:\n",
    "        train[c] = train[c].astype(np.float32)\n",
    "        \n",
    "for c, dtype in zip(test.columns, test.dtypes):\n",
    "    if dtype == np.float64:\n",
    "        test[c] = test[c].astype(np.float32)"
   ]
  },
  {
   "cell_type": "code",
   "execution_count": 91,
   "metadata": {
    "collapsed": true
   },
   "outputs": [],
   "source": [
    "X_train, X_test, y_train, y_test = train_test_split(train, y, test_size=0.3, random_state=17)\n",
    "\n",
    "dtrain = xgb.DMatrix(X_train, y_train)\n",
    "dtest = xgb.DMatrix(X_test, y_test)"
   ]
  },
  {
   "cell_type": "code",
   "execution_count": 92,
   "metadata": {
    "collapsed": true
   },
   "outputs": [],
   "source": [
    "def score(params):\n",
    "    from sklearn.metrics import log_loss\n",
    "    print(\"Training with params:\")\n",
    "    print(params)\n",
    "    params['max_depth'] = int(params['max_depth'])\n",
    "    dtrain = xgb.DMatrix(X_train, label=y_train)\n",
    "    dvalid = xgb.DMatrix(X_test, label=y_test)\n",
    "    model = xgb.train(params, dtrain, params['num_round'])\n",
    "    predictions = model.predict(dvalid).reshape((X_test.shape[0], 1))\n",
    "    score = log_loss(y_test, predictions)\n",
    "    print(\"\\tScore {0}\\n\\n\".format(score))\n",
    "    return {'loss': score, 'status': STATUS_OK}"
   ]
  },
  {
   "cell_type": "code",
   "execution_count": 93,
   "metadata": {
    "collapsed": true
   },
   "outputs": [],
   "source": [
    "def optimize(trials):\n",
    "    space = {\n",
    "             'num_round': 100,\n",
    "             'learning_rate': hp.quniform('eta', 0.01, 0.1, 0.01),\n",
    "             'max_depth': hp.quniform('max_depth', 5, 14, 1),\n",
    "             'min_child_weight': hp.quniform('min_child_weight', 1, 10, 1),\n",
    "             'subsample': hp.quniform('subsample', 0.5, 1, 0.05),\n",
    "             'gamma': hp.quniform('gamma', 0.5, 1, 0.01),\n",
    "             'colsample_bytree': hp.quniform('colsample_bytree', 0.4, 1, 0.05),\n",
    "             'eval_metric': 'error',\n",
    "             'objective': 'binary:logistic',\n",
    "             'nthread' : 4,\n",
    "             'silent' : 1\n",
    "             }\n",
    "    \n",
    "    best = fmin(score, space, algo=tpe.suggest, trials=trials, max_evals=10)\n",
    "    return best"
   ]
  },
  {
   "cell_type": "code",
   "execution_count": 94,
   "metadata": {
    "collapsed": false
   },
   "outputs": [
    {
     "name": "stdout",
     "output_type": "stream",
     "text": [
      "Training with params:\n",
      "{'colsample_bytree': 0.7000000000000001, 'eval_metric': 'error', 'gamma': 0.65, 'learning_rate': 0.06, 'max_depth': 9.0, 'min_child_weight': 4.0, 'nthread': 4, 'num_round': 100, 'objective': 'binary:logistic', 'silent': 1, 'subsample': 0.9}\n",
      "\tScore 0.2630228029489578\n",
      "\n",
      "\n",
      "Training with params:\n",
      "{'colsample_bytree': 0.6000000000000001, 'eval_metric': 'error', 'gamma': 1.0, 'learning_rate': 0.04, 'max_depth': 13.0, 'min_child_weight': 8.0, 'nthread': 4, 'num_round': 100, 'objective': 'binary:logistic', 'silent': 1, 'subsample': 0.8500000000000001}\n",
      "\tScore 0.18140067302947452\n",
      "\n",
      "\n",
      "Training with params:\n",
      "{'colsample_bytree': 0.9, 'eval_metric': 'error', 'gamma': 0.85, 'learning_rate': 0.08, 'max_depth': 6.0, 'min_child_weight': 9.0, 'nthread': 4, 'num_round': 100, 'objective': 'binary:logistic', 'silent': 1, 'subsample': 0.6000000000000001}\n",
      "\tScore 0.35867848270555225\n",
      "\n",
      "\n",
      "Training with params:\n",
      "{'colsample_bytree': 0.6000000000000001, 'eval_metric': 'error', 'gamma': 0.5, 'learning_rate': 0.04, 'max_depth': 9.0, 'min_child_weight': 1.0, 'nthread': 4, 'num_round': 100, 'objective': 'binary:logistic', 'silent': 1, 'subsample': 0.65}\n",
      "\tScore 0.30529221003559753\n",
      "\n",
      "\n",
      "Training with params:\n",
      "{'colsample_bytree': 0.9, 'eval_metric': 'error', 'gamma': 0.81, 'learning_rate': 0.06, 'max_depth': 8.0, 'min_child_weight': 6.0, 'nthread': 4, 'num_round': 100, 'objective': 'binary:logistic', 'silent': 1, 'subsample': 0.9}\n",
      "\tScore 0.3074495108285063\n",
      "\n",
      "\n",
      "Training with params:\n",
      "{'colsample_bytree': 0.65, 'eval_metric': 'error', 'gamma': 0.9500000000000001, 'learning_rate': 0.05, 'max_depth': 8.0, 'min_child_weight': 4.0, 'nthread': 4, 'num_round': 100, 'objective': 'binary:logistic', 'silent': 1, 'subsample': 0.65}\n",
      "\tScore 0.32559076089545635\n",
      "\n",
      "\n",
      "Training with params:\n",
      "{'colsample_bytree': 0.5, 'eval_metric': 'error', 'gamma': 0.92, 'learning_rate': 0.05, 'max_depth': 11.0, 'min_child_weight': 3.0, 'nthread': 4, 'num_round': 100, 'objective': 'binary:logistic', 'silent': 1, 'subsample': 0.6000000000000001}\n",
      "\tScore 0.2068100659007539\n",
      "\n",
      "\n",
      "Training with params:\n",
      "{'colsample_bytree': 1.0, 'eval_metric': 'error', 'gamma': 0.52, 'learning_rate': 0.02, 'max_depth': 11.0, 'min_child_weight': 1.0, 'nthread': 4, 'num_round': 100, 'objective': 'binary:logistic', 'silent': 1, 'subsample': 0.6000000000000001}\n",
      "\tScore 0.31237917860965414\n",
      "\n",
      "\n",
      "Training with params:\n",
      "{'colsample_bytree': 0.75, 'eval_metric': 'error', 'gamma': 0.97, 'learning_rate': 0.08, 'max_depth': 12.0, 'min_child_weight': 6.0, 'nthread': 4, 'num_round': 100, 'objective': 'binary:logistic', 'silent': 1, 'subsample': 0.5}\n",
      "\tScore 0.14466346343273875\n",
      "\n",
      "\n",
      "Training with params:\n",
      "{'colsample_bytree': 0.4, 'eval_metric': 'error', 'gamma': 0.6900000000000001, 'learning_rate': 0.09, 'max_depth': 8.0, 'min_child_weight': 2.0, 'nthread': 4, 'num_round': 100, 'objective': 'binary:logistic', 'silent': 1, 'subsample': 0.7000000000000001}\n",
      "\tScore 0.26938249784330764\n",
      "\n",
      "\n",
      "Wall time: 27min 30s\n"
     ]
    }
   ],
   "source": [
    "%%time\n",
    "\"\"\"поиск набора гиперпараметров\"\"\"\n",
    "trials = Trials()\n",
    "best_params = optimize(trials)\n",
    "best_params"
   ]
  },
  {
   "cell_type": "code",
   "execution_count": 95,
   "metadata": {
    "collapsed": false
   },
   "outputs": [
    {
     "data": {
      "text/plain": [
       "{'colsample_bytree': 0.75,\n",
       " 'eta': 0.08,\n",
       " 'gamma': 0.97,\n",
       " 'max_depth': 12.0,\n",
       " 'min_child_weight': 6.0,\n",
       " 'subsample': 0.5}"
      ]
     },
     "execution_count": 95,
     "metadata": {},
     "output_type": "execute_result"
    }
   ],
   "source": [
    "best_params"
   ]
  },
  {
   "cell_type": "code",
   "execution_count": 96,
   "metadata": {
    "collapsed": true
   },
   "outputs": [],
   "source": [
    "\"\"\"устанавливаем параметры для модели\"\"\"\n",
    "best_params['max_depth'] = int(best_params['max_depth'])\n",
    "#best_params['num_class'] = 2\n",
    "best_params['eval_metric'] = 'error'\n",
    "#best_params['objective'] = 'multi:softprob'\n",
    "best_params['objective'] = 'binary:logistic'\n",
    "best_params['nthread'] = 4\n",
    "best_params['silent'] = 1"
   ]
  },
  {
   "cell_type": "code",
   "execution_count": 97,
   "metadata": {
    "collapsed": true
   },
   "outputs": [],
   "source": [
    "\"\"\"тренируем модель на всех данных трейна\"\"\"\n",
    "dtrain = xgb.DMatrix(train, y)"
   ]
  },
  {
   "cell_type": "code",
   "execution_count": null,
   "metadata": {
    "collapsed": true
   },
   "outputs": [],
   "source": []
  },
  {
   "cell_type": "code",
   "execution_count": 136,
   "metadata": {
    "collapsed": false
   },
   "outputs": [
    {
     "name": "stdout",
     "output_type": "stream",
     "text": [
      "Wall time: 11min 19s\n"
     ]
    }
   ],
   "source": [
    "%%time\n",
    "\"\"\"кросс-валидация\"\"\"\n",
    "xgbCvResult = xgb.cv(best_params, dtrain, \n",
    "                      num_boost_round=500,  \n",
    "                      nfold=3, early_stopping_rounds=50)"
   ]
  },
  {
   "cell_type": "code",
   "execution_count": 137,
   "metadata": {
    "collapsed": false
   },
   "outputs": [
    {
     "data": {
      "image/png": "[encoded data removed]",
      "text/plain": [
       "<matplotlib.figure.Figure at 0x1fc0cff3f28>"
      ]
     },
     "metadata": {},
     "output_type": "display_data"
    }
   ],
   "source": [
    "plt.plot(range(xgbCvResult.shape[0]), xgbCvResult['test-merror-mean'])\n",
    "plt.plot(range(xgbCvResult.shape[0]), xgbCvResult['train-merror-mean']);"
   ]
  },
  {
   "cell_type": "code",
   "execution_count": 138,
   "metadata": {
    "collapsed": false
   },
   "outputs": [
    {
     "data": {
      "text/plain": [
       "497"
      ]
     },
     "execution_count": 138,
     "metadata": {},
     "output_type": "execute_result"
    }
   ],
   "source": [
    "best_num_round = np.argmin(xgbCvResult['test-merror-mean'])\n",
    "best_num_round"
   ]
  },
  {
   "cell_type": "code",
   "execution_count": null,
   "metadata": {
    "collapsed": true
   },
   "outputs": [],
   "source": []
  },
  {
   "cell_type": "code",
   "execution_count": 98,
   "metadata": {
    "collapsed": false
   },
   "outputs": [
    {
     "name": "stdout",
     "output_type": "stream",
     "text": [
      "Wall time: 21min 58s\n"
     ]
    }
   ],
   "source": [
    "%%time\n",
    "bestXgb = xgb.train(best_params, dtrain, num_boost_round=500)"
   ]
  },
  {
   "cell_type": "code",
   "execution_count": null,
   "metadata": {
    "collapsed": true
   },
   "outputs": [],
   "source": []
  },
  {
   "cell_type": "code",
   "execution_count": 99,
   "metadata": {
    "collapsed": false
   },
   "outputs": [
    {
     "data": {
      "image/png": "[encoded data removed]",
      "text/plain": [
       "<matplotlib.figure.Figure at 0x287ee859d30>"
      ]
     },
     "metadata": {},
     "output_type": "display_data"
    }
   ],
   "source": [
    "#важные факторы (сколько раз использовались для разбиения дерева)\n",
    "fig, ax = plt.subplots(figsize=(14, 20))\n",
    "xgb.plot_importance(bestXgb, ax=ax);"
   ]
  },
  {
   "cell_type": "code",
   "execution_count": null,
   "metadata": {
    "collapsed": false
   },
   "outputs": [],
   "source": []
  },
  {
   "cell_type": "code",
   "execution_count": null,
   "metadata": {
    "collapsed": false
   },
   "outputs": [],
   "source": []
  },
  {
   "cell_type": "code",
   "execution_count": null,
   "metadata": {
    "collapsed": false
   },
   "outputs": [],
   "source": []
  },
  {
   "cell_type": "code",
   "execution_count": null,
   "metadata": {
    "collapsed": true
   },
   "outputs": [],
   "source": [
    "import operator\n",
    "importance = bestXgb.get_fscore()\n",
    "importance = sorted(importance.items(), key=operator.itemgetter(1))\n",
    "importance_df = pd.DataFrame(importance, columns=['feature', 'fscore'])\n",
    "importance_df['fscr_share'] = importance_df['fscore'] / importance_df['fscore'].sum()"
   ]
  },
  {
   "cell_type": "code",
   "execution_count": null,
   "metadata": {
    "collapsed": true
   },
   "outputs": [],
   "source": [
    "\"\"\"возвести в экспоненту\"\"\""
   ]
  },
  {
   "cell_type": "code",
   "execution_count": 116,
   "metadata": {
    "collapsed": true
   },
   "outputs": [],
   "source": [
    "\"\"\"выводим табличку с результатами: факт и модель\"\"\"\n",
    "train_results_table = pd.DataFrame(bestXgb.predict(dtrain))\n",
    "train_results_table['y'] = y.copy()"
   ]
  },
  {
   "cell_type": "code",
   "execution_count": null,
   "metadata": {
    "collapsed": false
   },
   "outputs": [],
   "source": []
  },
  {
   "cell_type": "code",
   "execution_count": null,
   "metadata": {
    "collapsed": false
   },
   "outputs": [],
   "source": []
  },
  {
   "cell_type": "code",
   "execution_count": null,
   "metadata": {
    "collapsed": false
   },
   "outputs": [],
   "source": [
    "y_pred = np.argmax(bestXgb.predict(dtrain))\n",
    "\n",
    "log_loss(y, y_pred)"
   ]
  },
  {
   "cell_type": "code",
   "execution_count": null,
   "metadata": {
    "collapsed": true
   },
   "outputs": [],
   "source": [
    "\"\"\"строим табличку с результатами для локальной валидации\"\"\""
   ]
  },
  {
   "cell_type": "code",
   "execution_count": 118,
   "metadata": {
    "collapsed": true
   },
   "outputs": [],
   "source": [
    "train_results_table['ttl_count'] = train['ttl_count'].reset_index(drop=True)\n",
    "#train_results_table['prob_1'] = train_results_table[1] * train_results_table['ttl_count']\n",
    "#train_results_table['prob_0'] = train_results_table[0] * train_results_table['ttl_count']\n",
    "train_results_table['address_lat'] = train['address_lat'].reset_index(drop=True)\n",
    "train_results_table['address_lon'] = train['address_lon'].reset_index(drop=True)\n",
    "train_results_table['customer_id'] = train_df.customer_id.reset_index(drop=True)\n",
    "#train_results_table['y_pred'] = y_pred"
   ]
  },
  {
   "cell_type": "code",
   "execution_count": 120,
   "metadata": {
    "collapsed": true
   },
   "outputs": [],
   "source": [
    "train_results_table['clusters'] = train_and_test_together[\n",
    "    train_and_test_together.test_sample!=1]['clusters'].reset_index(drop=True).copy()"
   ]
  },
  {
   "cell_type": "code",
   "execution_count": 123,
   "metadata": {
    "collapsed": false
   },
   "outputs": [
    {
     "data": {
      "text/html": [
       "<div>\n",
       "<table border=\"1\" class=\"dataframe\">\n",
       "  <thead>\n",
       "    <tr style=\"text-align: right;\">\n",
       "      <th></th>\n",
       "      <th>0</th>\n",
       "      <th>y</th>\n",
       "      <th>ttl_count</th>\n",
       "      <th>address_lat</th>\n",
       "      <th>address_lon</th>\n",
       "      <th>customer_id</th>\n",
       "      <th>clusters</th>\n",
       "      <th>home_add_lat</th>\n",
       "      <th>home_add_lon</th>\n",
       "      <th>work_add_lat</th>\n",
       "      <th>work_add_lon</th>\n",
       "    </tr>\n",
       "  </thead>\n",
       "  <tbody>\n",
       "    <tr>\n",
       "      <th>0</th>\n",
       "      <td>0.018225</td>\n",
       "      <td>0.0</td>\n",
       "      <td>38.0</td>\n",
       "      <td>59.844074</td>\n",
       "      <td>30.179153</td>\n",
       "      <td>0dc0137d280a2a82d2dc89282450ff1b</td>\n",
       "      <td>0</td>\n",
       "      <td>59.851</td>\n",
       "      <td>30.232</td>\n",
       "      <td>59.847</td>\n",
       "      <td>30.177</td>\n",
       "    </tr>\n",
       "    <tr>\n",
       "      <th>1</th>\n",
       "      <td>0.016951</td>\n",
       "      <td>0.0</td>\n",
       "      <td>38.0</td>\n",
       "      <td>59.844074</td>\n",
       "      <td>30.179153</td>\n",
       "      <td>0dc0137d280a2a82d2dc89282450ff1b</td>\n",
       "      <td>0</td>\n",
       "      <td>59.851</td>\n",
       "      <td>30.232</td>\n",
       "      <td>59.847</td>\n",
       "      <td>30.177</td>\n",
       "    </tr>\n",
       "    <tr>\n",
       "      <th>2</th>\n",
       "      <td>0.927293</td>\n",
       "      <td>1.0</td>\n",
       "      <td>17.0</td>\n",
       "      <td>59.858200</td>\n",
       "      <td>30.229023</td>\n",
       "      <td>0dc0137d280a2a82d2dc89282450ff1b</td>\n",
       "      <td>1</td>\n",
       "      <td>59.851</td>\n",
       "      <td>30.232</td>\n",
       "      <td>59.847</td>\n",
       "      <td>30.177</td>\n",
       "    </tr>\n",
       "    <tr>\n",
       "      <th>3</th>\n",
       "      <td>0.017793</td>\n",
       "      <td>0.0</td>\n",
       "      <td>38.0</td>\n",
       "      <td>59.844074</td>\n",
       "      <td>30.179153</td>\n",
       "      <td>0dc0137d280a2a82d2dc89282450ff1b</td>\n",
       "      <td>0</td>\n",
       "      <td>59.851</td>\n",
       "      <td>30.232</td>\n",
       "      <td>59.847</td>\n",
       "      <td>30.177</td>\n",
       "    </tr>\n",
       "    <tr>\n",
       "      <th>4</th>\n",
       "      <td>0.020062</td>\n",
       "      <td>0.0</td>\n",
       "      <td>38.0</td>\n",
       "      <td>59.844074</td>\n",
       "      <td>30.179153</td>\n",
       "      <td>0dc0137d280a2a82d2dc89282450ff1b</td>\n",
       "      <td>0</td>\n",
       "      <td>59.851</td>\n",
       "      <td>30.232</td>\n",
       "      <td>59.847</td>\n",
       "      <td>30.177</td>\n",
       "    </tr>\n",
       "  </tbody>\n",
       "</table>\n",
       "</div>"
      ],
      "text/plain": [
       "          0    y  ttl_count  address_lat  address_lon  \\\n",
       "0  0.018225  0.0       38.0    59.844074    30.179153   \n",
       "1  0.016951  0.0       38.0    59.844074    30.179153   \n",
       "2  0.927293  1.0       17.0    59.858200    30.229023   \n",
       "3  0.017793  0.0       38.0    59.844074    30.179153   \n",
       "4  0.020062  0.0       38.0    59.844074    30.179153   \n",
       "\n",
       "                        customer_id  clusters  home_add_lat  home_add_lon  \\\n",
       "0  0dc0137d280a2a82d2dc89282450ff1b         0        59.851        30.232   \n",
       "1  0dc0137d280a2a82d2dc89282450ff1b         0        59.851        30.232   \n",
       "2  0dc0137d280a2a82d2dc89282450ff1b         1        59.851        30.232   \n",
       "3  0dc0137d280a2a82d2dc89282450ff1b         0        59.851        30.232   \n",
       "4  0dc0137d280a2a82d2dc89282450ff1b         0        59.851        30.232   \n",
       "\n",
       "   work_add_lat  work_add_lon  \n",
       "0        59.847        30.177  \n",
       "1        59.847        30.177  \n",
       "2        59.847        30.177  \n",
       "3        59.847        30.177  \n",
       "4        59.847        30.177  "
      ]
     },
     "execution_count": 123,
     "metadata": {},
     "output_type": "execute_result"
    }
   ],
   "source": [
    "train_results_table.head()"
   ]
  },
  {
   "cell_type": "code",
   "execution_count": 122,
   "metadata": {
    "collapsed": false
   },
   "outputs": [],
   "source": [
    "train_results_table = pd.merge(train_results_table, real_address, on='customer_id', how='left')"
   ]
  },
  {
   "cell_type": "code",
   "execution_count": 124,
   "metadata": {
    "collapsed": true
   },
   "outputs": [],
   "source": [
    "train_results_table.to_csv(r'...\\mod results\\\\\n",
    "2018_03_16_home_xgb_biclass_train.csv')"
   ]
  },
  {
   "cell_type": "code",
   "execution_count": null,
   "metadata": {
    "collapsed": true
   },
   "outputs": [],
   "source": []
  },
  {
   "cell_type": "code",
   "execution_count": null,
   "metadata": {
    "collapsed": false
   },
   "outputs": [],
   "source": []
  },
  {
   "cell_type": "code",
   "execution_count": 293,
   "metadata": {
    "collapsed": true
   },
   "outputs": [],
   "source": [
    "work_answer_train = train_results_table[train_results_table.groupby(\n",
    "['customer_id'])[1].transform(max) == train_results_table[1] ].drop_duplicates(\n",
    "    'customer_id')[['customer_id','address_lat','address_lon']]"
   ]
  },
  {
   "cell_type": "code",
   "execution_count": 288,
   "metadata": {
    "collapsed": true
   },
   "outputs": [],
   "source": [
    "work_answer_train.columns = ['customer_id', 'work_add_lat_p','work_add_lon_p']"
   ]
  },
  {
   "cell_type": "code",
   "execution_count": 294,
   "metadata": {
    "collapsed": false
   },
   "outputs": [],
   "source": [
    "validation_table = pd.merge(work_answer_train[work_answer_train.customer_id.isin(\n",
    "    list(real_address[real_address.work_add_lat.isnull() == 0]['customer_id'].unique()))==1], \n",
    "                            real_address[real_address.work_add_lat.isnull() == 0], \n",
    "                            on='customer_id', how='left')"
   ]
  },
  {
   "cell_type": "code",
   "execution_count": null,
   "metadata": {
    "collapsed": false
   },
   "outputs": [],
   "source": []
  },
  {
   "cell_type": "code",
   "execution_count": 178,
   "metadata": {
    "collapsed": false
   },
   "outputs": [
    {
     "name": "stdout",
     "output_type": "stream",
     "text": [
      "\n",
      "Wall time: 3min 38s\n"
     ]
    }
   ],
   "source": [
    "%%time\n",
    "from sklearn.cluster import DBSCAN\n",
    "kms_per_radian = 6371.0088                        # define the number of kilometers in one radian\n",
    "epsilon = 2 / kms_per_radian                      # define epsilon as 3 kilometers, converted to radians for use by haversine\n",
    "\n",
    "train_results_table['DBSCAN'] = 0\n",
    "\n",
    "for cust in tqdm_notebook(list(train_results_table.customer_id.unique())):\n",
    "    \n",
    "    coords = train_results_table[train_results_table.customer_id == cust][['address_lat', 'address_lon']].as_matrix() \n",
    "    index = train_results_table[train_results_table.customer_id == cust].index\n",
    "    \n",
    "    if len(coords) <= 15:\n",
    "        min_sample = 2\n",
    "    else:\n",
    "        min_sample = round(len(coords)/10,0)\n",
    "    \n",
    "    db = DBSCAN(eps=epsilon, min_samples=min_sample, algorithm='ball_tree', metric='haversine').fit(np.radians(coords))\n",
    "    \n",
    "    train_results_table.loc[index,'DBSCAN'] = db.labels_"
   ]
  },
  {
   "cell_type": "code",
   "execution_count": 179,
   "metadata": {
    "collapsed": true
   },
   "outputs": [],
   "source": [
    "work_train_answer_keys = train_results_table[train_results_table.groupby(['customer_id'])[1].transform(max) == \n",
    "                               train_results_table[1]].drop_duplicates('customer_id')"
   ]
  },
  {
   "cell_type": "code",
   "execution_count": 180,
   "metadata": {
    "collapsed": false
   },
   "outputs": [
    {
     "name": "stdout",
     "output_type": "stream",
     "text": [
      "\n",
      "Wall time: 1min 58s\n"
     ]
    }
   ],
   "source": [
    "%%time\n",
    "\"\"\"выбераем макс веротности по кластерам, делаем небольшое смещение: среднее по 3-ем точкам\"\"\"\n",
    "work_train_answer_dict = {}\n",
    "\n",
    "for cust in tqdm_notebook(list(work_train_answer_keys.customer_id)):\n",
    "    cluster = work_train_answer_keys.loc[work_train_answer_keys[work_train_answer_keys.customer_id==cust].index[0],'DBSCAN']\n",
    "    index = train_results_table[train_results_table.customer_id==cust].index\n",
    "    df_ = train_results_table.loc[index,['address_lat', 'address_lon', 'DBSCAN', 1]]\n",
    "    df_ = df_[df_['DBSCAN'] == cluster] \n",
    "    \n",
    "    if (cluster == -1) | (len(df_) < 3) :\n",
    "        work_train_answer_dict[cust] = [df_.loc[df_[1].nlargest(1).index,'address_lat'].item(),\n",
    "                                  df_.loc[df_[1].nlargest(1).index,'address_lon'].item()]\n",
    "    else:\n",
    "        work_train_answer_dict[cust] = [df_.loc[df_[1].nlargest(3).index,'address_lat'].mean(), \n",
    "                                  df_.loc[df_[1].nlargest(3).index,'address_lon'].mean()]"
   ]
  },
  {
   "cell_type": "code",
   "execution_count": null,
   "metadata": {
    "collapsed": true
   },
   "outputs": [],
   "source": []
  },
  {
   "cell_type": "code",
   "execution_count": 184,
   "metadata": {
    "collapsed": true
   },
   "outputs": [],
   "source": [
    "\"\"\"DBSCAN\"\"\"\n",
    "\"\"\"с dbscan хуже (3km), такой же(2km)\"\"\"\n",
    "work_train_answer_dbscan = pd.DataFrame(work_train_answer_dict).T.reset_index()\n",
    "work_train_answer_dbscan.columns = ['customer_id', 'work_add_lat_p_dbscan', 'work_add_lon_p_dbscan']\n",
    "validation_table = pd.merge(validation_table, work_train_answer_dbscan, on='customer_id', how='left')\n",
    "validation_table['work_add_lat_p'] = validation_table['work_add_lat_p_dbscan']\n",
    "validation_table['work_add_lon_p'] = validation_table['work_add_lon_p_dbscan']"
   ]
  },
  {
   "cell_type": "code",
   "execution_count": null,
   "metadata": {
    "collapsed": true
   },
   "outputs": [],
   "source": []
  },
  {
   "cell_type": "code",
   "execution_count": 433,
   "metadata": {
    "collapsed": true
   },
   "outputs": [],
   "source": [
    "\"\"\"подход с фильтрацией вер-ти\"\"\"\n",
    "\"\"\"устанавливаем порог для вер-ти\"\"\"\n",
    "treshold = 0.95\n",
    "work_train_answer_prob = train_results_table[train_results_table[1] >= treshold].groupby('customer_id')[\n",
    "    ['address_lat', 'address_lon']].mean().reset_index()\n",
    "validation_table = pd.merge(validation_table, work_train_answer_prob, on='customer_id', how='left')\n",
    "\n",
    "\n",
    "\"\"\"заполняем пропуски, т.к. не у все ID вер-ть выше порога\"\"\"\n",
    "validation_table['address_lat_y'] = validation_table['address_lat_y'].fillna(validation_table['work_add_lat'])\n",
    "validation_table['address_lon_y'] = validation_table['address_lon_y'].fillna(validation_table['work_add_lon'])\n",
    "\n",
    "validation_table['work_add_lat_p'] = validation_table['address_lat_y']\n",
    "validation_table['work_add_lon_p'] = validation_table['address_lon_y']"
   ]
  },
  {
   "cell_type": "code",
   "execution_count": 231,
   "metadata": {
    "collapsed": true
   },
   "outputs": [],
   "source": [
    "\"\"\"значительное увеличение метрики на трейне\"\"\""
   ]
  },
  {
   "cell_type": "code",
   "execution_count": null,
   "metadata": {
    "collapsed": true
   },
   "outputs": [],
   "source": [
    "\"\"\"рассчитываем метрику с радиусом\"\"\""
   ]
  },
  {
   "cell_type": "code",
   "execution_count": null,
   "metadata": {
    "collapsed": false
   },
   "outputs": [],
   "source": []
  },
  {
   "cell_type": "code",
   "execution_count": 290,
   "metadata": {
    "collapsed": false
   },
   "outputs": [
    {
     "data": {
      "text/plain": [
       "0.4947654129507561"
      ]
     },
     "execution_count": 290,
     "metadata": {},
     "output_type": "execute_result"
    }
   ],
   "source": [
    "\"\"\"WORK\"\"\"\n",
    "np.where((np.sqrt(((validation_table.work_add_lat_p - validation_table.work_add_lat) ** 2) + \n",
    "        ((validation_table.work_add_lon_p - validation_table.work_add_lon) ** 2)) <= RADIUS), 1, 0).sum() / len(validation_table)"
   ]
  },
  {
   "cell_type": "code",
   "execution_count": 132,
   "metadata": {
    "collapsed": false
   },
   "outputs": [
    {
     "data": {
      "text/plain": [
       "0.91284547738693467"
      ]
     },
     "execution_count": 132,
     "metadata": {},
     "output_type": "execute_result"
    }
   ],
   "source": [
    "\"\"\"HOME\"\"\"\n",
    "np.where((np.sqrt(((validation_table.home_add_lat_p - validation_table.home_add_lat) ** 2) + \n",
    "        ((validation_table.home_add_lon_p - validation_table.home_add_lon) ** 2)) <= RADIUS), 1, 0).sum() / len(validation_table)"
   ]
  },
  {
   "cell_type": "code",
   "execution_count": null,
   "metadata": {
    "collapsed": true
   },
   "outputs": [],
   "source": []
  },
  {
   "cell_type": "code",
   "execution_count": null,
   "metadata": {
    "collapsed": true
   },
   "outputs": [],
   "source": []
  },
  {
   "cell_type": "code",
   "execution_count": null,
   "metadata": {
    "collapsed": true
   },
   "outputs": [],
   "source": []
  },
  {
   "cell_type": "code",
   "execution_count": 300,
   "metadata": {
    "collapsed": false,
    "scrolled": true
   },
   "outputs": [
    {
     "name": "stdout",
     "output_type": "stream",
     "text": [
      "Wall time: 1.75 s\n"
     ]
    }
   ],
   "source": [
    "%%time\n",
    "work_tresholds_dic = {}\n",
    "\n",
    "for steps in np.arange(0.02,0.98, 0.02):\n",
    "\n",
    "\n",
    "    validation_table = pd.merge(work_answer_train[work_answer_train.customer_id.isin(\n",
    "    list(real_address[real_address.work_add_lat.isnull() == 0]['customer_id'].unique()))==1], \n",
    "                            real_address[real_address.work_add_lat.isnull() == 0], \n",
    "                            on='customer_id', how='left')\n",
    "\n",
    "    \"\"\"подход с фильтрацией вер-ти\"\"\"\n",
    "    \"\"\"устанавливаем порог для вер-ти\"\"\"\n",
    "    treshold = steps\n",
    "    work_train_answer_prob = train_results_table[train_results_table[1] >= treshold].groupby('customer_id')[\n",
    "        ['address_lat', 'address_lon']].mean().reset_index()\n",
    "    validation_table = pd.merge(validation_table, work_train_answer_prob, on='customer_id', how='left')\n",
    "\n",
    "\n",
    "    \"\"\"заполняем пропуски, т.к. не у все ID вер-ть выше порога\"\"\"\n",
    "    validation_table['address_lat_y'] = validation_table['address_lat_y'].fillna(validation_table['address_lat_x'])\n",
    "    validation_table['address_lon_y'] = validation_table['address_lon_y'].fillna(validation_table['address_lon_x'])\n",
    "\n",
    "    validation_table['work_add_lat_p'] = validation_table['address_lat_y']\n",
    "    validation_table['work_add_lon_p'] = validation_table['address_lon_y']\n",
    "\n",
    "    \"\"\"WORK\"\"\"\n",
    "    work_tresholds_dic[steps] = np.where((np.sqrt(((validation_table.work_add_lat_p - validation_table.work_add_lat) ** 2) + \n",
    "            ((validation_table.work_add_lon_p - \n",
    "              validation_table.work_add_lon) ** 2)) <= RADIUS), 1, 0).sum() / len(validation_table)"
   ]
  },
  {
   "cell_type": "code",
   "execution_count": 301,
   "metadata": {
    "collapsed": false,
    "scrolled": true
   },
   "outputs": [
    {
     "data": {
      "image/png": "[encoded data removed]",
      "text/plain": [
       "<matplotlib.figure.Figure at 0x1cf18533198>"
      ]
     },
     "metadata": {},
     "output_type": "display_data"
    }
   ],
   "source": [
    "pd.Series(work_tresholds_dic).plot();"
   ]
  },
  {
   "cell_type": "code",
   "execution_count": null,
   "metadata": {
    "collapsed": false
   },
   "outputs": [],
   "source": []
  },
  {
   "cell_type": "code",
   "execution_count": 550,
   "metadata": {
    "collapsed": false
   },
   "outputs": [
    {
     "data": {
      "text/plain": [
       "0.34000000000000002"
      ]
     },
     "execution_count": 550,
     "metadata": {},
     "output_type": "execute_result"
    }
   ],
   "source": [
    "pd.Series(work_tresholds_dic).argmax()"
   ]
  },
  {
   "cell_type": "code",
   "execution_count": 569,
   "metadata": {
    "collapsed": false
   },
   "outputs": [
    {
     "data": {
      "text/plain": [
       "<matplotlib.axes._subplots.AxesSubplot at 0x1c4c22fe470>"
      ]
     },
     "execution_count": 569,
     "metadata": {},
     "output_type": "execute_result"
    },
    {
     "data": {
      "image/png": "[encoded data removed]",
      "text/plain": [
       "<matplotlib.figure.Figure at 0x1c4aae59d30>"
      ]
     },
     "metadata": {},
     "output_type": "display_data"
    }
   ],
   "source": [
    "train_results_table[1].plot.hist()"
   ]
  },
  {
   "cell_type": "code",
   "execution_count": null,
   "metadata": {
    "collapsed": true
   },
   "outputs": [],
   "source": []
  },
  {
   "cell_type": "code",
   "execution_count": null,
   "metadata": {
    "collapsed": true
   },
   "outputs": [],
   "source": []
  },
  {
   "cell_type": "code",
   "execution_count": 302,
   "metadata": {
    "collapsed": true
   },
   "outputs": [],
   "source": [
    "\"\"\"добавляем результат (1 или 0) в таблицу\"\"\"\n",
    "validation_table['work_answer'] = np.where((np.sqrt(((validation_table.work_add_lat_p - validation_table.work_add_lat) ** 2) + \n",
    "        ((validation_table.work_add_lon_p - validation_table.work_add_lon) ** 2)) <= RADIUS), 1, 0)\n",
    "#validation_table['home_answer'] = np.where((np.sqrt(((validation_table.home_add_lat_p - validation_table.home_add_lat) ** 2) + \n",
    "#        ((validation_table.home_add_lon_p - validation_table.home_add_lon) ** 2)) <= RADIUS), 1, 0)"
   ]
  },
  {
   "cell_type": "code",
   "execution_count": null,
   "metadata": {
    "collapsed": true
   },
   "outputs": [],
   "source": [
    "\"\"\"анализируем получившиеся реузльаты/ошибку\"\"\""
   ]
  },
  {
   "cell_type": "code",
   "execution_count": 165,
   "metadata": {
    "collapsed": false
   },
   "outputs": [
    {
     "name": "stdout",
     "output_type": "stream",
     "text": [
      "0.628440366972\n",
      "0.581755593804\n"
     ]
    }
   ],
   "source": [
    "print(validation_table[validation_table.work_answer==0]['home_answer'].sum()/\n",
    " len(validation_table[validation_table.work_answer==0]['home_answer']))\n",
    "\n",
    "print(validation_table[validation_table.home_answer==0]['work_answer'].sum()/\n",
    " len(validation_table[validation_table.home_answer==0]['work_answer']))"
   ]
  },
  {
   "cell_type": "code",
   "execution_count": 303,
   "metadata": {
    "collapsed": true
   },
   "outputs": [],
   "source": [
    "validation_table['work_score'] = (np.sqrt(((validation_table.work_add_lat_p - validation_table.work_add_lat) ** 2) + \n",
    "        ((validation_table.work_add_lon_p - validation_table.work_add_lon) ** 2)))\n",
    "#validation_table['home_score'] = (np.sqrt(((validation_table.home_add_lat_p - validation_table.home_add_lat) ** 2) + \n",
    "#        ((validation_table.home_add_lon_p - validation_table.home_add_lon) ** 2)))"
   ]
  },
  {
   "cell_type": "code",
   "execution_count": null,
   "metadata": {
    "collapsed": true
   },
   "outputs": [],
   "source": []
  },
  {
   "cell_type": "code",
   "execution_count": null,
   "metadata": {
    "collapsed": true
   },
   "outputs": [],
   "source": []
  },
  {
   "cell_type": "code",
   "execution_count": 304,
   "metadata": {
    "collapsed": false
   },
   "outputs": [
    {
     "data": {
      "text/plain": [
       "15    5ddef25d2fd7bc42b794ccbf364bae3f\n",
       "16    69ec92af42dd2c771f73008893c356d0\n",
       "19    a89fca446f4c5dcf68820f22d4a5d424\n",
       "20    b0535ffedfd0679c7edd0ec137929dd5\n",
       "21    c21dc6277f05c7a6387ce21fb88a16d5\n",
       "22    f3dc8ff7f2ca28147dfde8de1e8fa1c1\n",
       "23    fd39bb8d9328e9001b748068fbd3e39b\n",
       "24    01a3f2fe4b53e557118811af184e9922\n",
       "26    1c749bd5e88406d4441440b858793823\n",
       "28    3bae2f725ee822e0775d9557a4a25441\n",
       "Name: customer_id, dtype: object"
      ]
     },
     "execution_count": 304,
     "metadata": {},
     "output_type": "execute_result"
    }
   ],
   "source": [
    "validation_table[validation_table.work_answer==0]['customer_id'][10:20]"
   ]
  },
  {
   "cell_type": "code",
   "execution_count": null,
   "metadata": {
    "collapsed": true
   },
   "outputs": [],
   "source": []
  },
  {
   "cell_type": "code",
   "execution_count": 337,
   "metadata": {
    "collapsed": true
   },
   "outputs": [],
   "source": [
    "idn = '01a3f2fe4b53e557118811af184e9922'\n",
    "\n",
    "coords = train_results_table[train_results_table.customer_id==idn][['address_lat','address_lon', \n",
    "                                                                                   1, 'y_pred']].copy()\n",
    "\n",
    "latlon_pred = validation_table[validation_table.customer_id==idn][['work_add_lat_p', 'work_add_lon_p']]\n",
    "\n",
    "latlon_fact = validation_table[validation_table.customer_id==idn][['work_add_lat', 'work_add_lon']]"
   ]
  },
  {
   "cell_type": "code",
   "execution_count": 338,
   "metadata": {
    "collapsed": false
   },
   "outputs": [
    {
     "data": {
      "image/png": "[encoded data removed]",
      "text/plain": [
       "<matplotlib.figure.Figure at 0x1cf7de62f28>"
      ]
     },
     "metadata": {},
     "output_type": "display_data"
    }
   ],
   "source": [
    "y, x = coords.address_lat, coords.address_lon\n",
    "labels = coords.y_pred\n",
    "df = pd.DataFrame(dict(x=x, y=y, label=labels))\n",
    "\n",
    "groups = df.groupby('label')\n",
    "\n",
    "circle1 = plt.Circle((latlon_fact.values[0,0], latlon_fact.values[0,1]), 0.02, fill=False, color='g', ls='--');\n",
    "#circle2 = plt.Circle((latlon_fact.values[0,2], latlon_fact.values[0,3]), 0.02, fill=False, color='g', ls='--');\n",
    "circle3 = plt.Circle((latlon_pred.values[0,0], latlon_pred.values[0,1]), 0.02, fill=False, color='r', ls='--');\n",
    "#circle4 = plt.Circle((latlon_pred.values[0,2], latlon_pred.values[0,3]), 0.02, fill=False, color='r', ls='--');\n",
    "\n",
    "# Plot\n",
    "fig, ax = plt.subplots(figsize=(10, 10))\n",
    "ax.margins(0.05) # Optional, just adds 5% padding to the autoscaling\n",
    "for name, group in groups:\n",
    "    ax.scatter(group.y, group.x, s=coords[1]*100,marker='o', label=name)\n",
    "\n",
    "plt.scatter(latlon_fact.values[0,0], latlon_fact.values[0,1], s=70, marker='x', color='g', label='work');\n",
    "#plt.scatter(latlon_fact.values[0,2], latlon_fact.values[0,3], s=70, marker='v', color='g', label='home');\n",
    "plt.scatter(latlon_pred.values[0,0], latlon_pred.values[0,1], s=70, marker='x', color='r', label='work_p');\n",
    "#plt.scatter(latlon_pred.values[0,2], latlon_pred.values[0,3], s=70, marker='v', color='r', label='home_p');\n",
    "\n",
    "\n",
    "ax.legend()\n",
    "\n",
    "ax.add_artist(circle1)\n",
    "#ax.add_artist(circle2)\n",
    "ax.add_artist(circle3)\n",
    "#ax.add_artist(circle4)\n",
    "\n",
    "plt.title(idn)\n",
    "#plt.ylim(50.7,51.0)\n",
    "#plt.xlim(61.0,61.8)\n",
    "plt.show()"
   ]
  },
  {
   "cell_type": "code",
   "execution_count": null,
   "metadata": {
    "collapsed": true
   },
   "outputs": [],
   "source": []
  },
  {
   "cell_type": "code",
   "execution_count": 163,
   "metadata": {
    "collapsed": true
   },
   "outputs": [],
   "source": [
    "train_results_table_class = pd.read_csv(r'...\\mod results\\2018_03_07_xgb_im_work_class_train.csv')"
   ]
  },
  {
   "cell_type": "code",
   "execution_count": null,
   "metadata": {
    "collapsed": true
   },
   "outputs": [],
   "source": []
  },
  {
   "cell_type": "code",
   "execution_count": null,
   "metadata": {
    "collapsed": true
   },
   "outputs": [],
   "source": [
    "\"\"\"делаем прогноз для теста\"\"\""
   ]
  },
  {
   "cell_type": "code",
   "execution_count": 101,
   "metadata": {
    "collapsed": true
   },
   "outputs": [],
   "source": [
    "dtest = xgb.DMatrix(test)"
   ]
  },
  {
   "cell_type": "code",
   "execution_count": 102,
   "metadata": {
    "collapsed": false
   },
   "outputs": [
    {
     "name": "stdout",
     "output_type": "stream",
     "text": [
      "Wall time: 17.7 s\n"
     ]
    }
   ],
   "source": [
    "%%time\n",
    "xgboost_predict_proba = bestXgb.predict(dtest)"
   ]
  },
  {
   "cell_type": "code",
   "execution_count": 116,
   "metadata": {
    "collapsed": false
   },
   "outputs": [],
   "source": []
  },
  {
   "cell_type": "code",
   "execution_count": 103,
   "metadata": {
    "collapsed": true
   },
   "outputs": [],
   "source": [
    "sub_results = test[['address_lat', 'address_lon', 'ttl_count']].reset_index(drop=True).copy()\n",
    "sub_results['customer_id'] = train_and_test_together[train_and_test_together['test_sample']==1]['customer_id'].reset_index(\n",
    "    drop=True)\n",
    "sub_results = sub_results.reset_index().join(pd.DataFrame(xgboost_predict_proba))\n",
    "sub_results['clusters'] = train_and_test_together[\n",
    "    train_and_test_together.test_sample==1]['clusters'].reset_index(drop=True).copy()"
   ]
  },
  {
   "cell_type": "code",
   "execution_count": 104,
   "metadata": {
    "collapsed": false
   },
   "outputs": [
    {
     "data": {
      "text/html": [
       "<div>\n",
       "<table border=\"1\" class=\"dataframe\">\n",
       "  <thead>\n",
       "    <tr style=\"text-align: right;\">\n",
       "      <th></th>\n",
       "      <th>index</th>\n",
       "      <th>address_lat</th>\n",
       "      <th>address_lon</th>\n",
       "      <th>ttl_count</th>\n",
       "      <th>customer_id</th>\n",
       "      <th>0</th>\n",
       "      <th>clusters</th>\n",
       "    </tr>\n",
       "  </thead>\n",
       "  <tbody>\n",
       "    <tr>\n",
       "      <th>0</th>\n",
       "      <td>0</td>\n",
       "      <td>55.967487</td>\n",
       "      <td>37.913681</td>\n",
       "      <td>21.0</td>\n",
       "      <td>00fd410f5c580c8351cafa88d82b60f3</td>\n",
       "      <td>0.965517</td>\n",
       "      <td>0</td>\n",
       "    </tr>\n",
       "    <tr>\n",
       "      <th>1</th>\n",
       "      <td>1</td>\n",
       "      <td>55.971294</td>\n",
       "      <td>37.905186</td>\n",
       "      <td>13.0</td>\n",
       "      <td>00fd410f5c580c8351cafa88d82b60f3</td>\n",
       "      <td>0.937469</td>\n",
       "      <td>0</td>\n",
       "    </tr>\n",
       "    <tr>\n",
       "      <th>2</th>\n",
       "      <td>2</td>\n",
       "      <td>56.016590</td>\n",
       "      <td>37.909100</td>\n",
       "      <td>4.0</td>\n",
       "      <td>00fd410f5c580c8351cafa88d82b60f3</td>\n",
       "      <td>0.009483</td>\n",
       "      <td>1</td>\n",
       "    </tr>\n",
       "    <tr>\n",
       "      <th>3</th>\n",
       "      <td>3</td>\n",
       "      <td>55.964508</td>\n",
       "      <td>37.937912</td>\n",
       "      <td>2.0</td>\n",
       "      <td>00fd410f5c580c8351cafa88d82b60f3</td>\n",
       "      <td>0.182402</td>\n",
       "      <td>0</td>\n",
       "    </tr>\n",
       "    <tr>\n",
       "      <th>4</th>\n",
       "      <td>4</td>\n",
       "      <td>55.776802</td>\n",
       "      <td>37.657352</td>\n",
       "      <td>3.0</td>\n",
       "      <td>00fd410f5c580c8351cafa88d82b60f3</td>\n",
       "      <td>0.000974</td>\n",
       "      <td>-1</td>\n",
       "    </tr>\n",
       "  </tbody>\n",
       "</table>\n",
       "</div>"
      ],
      "text/plain": [
       "   index  address_lat  address_lon  ttl_count  \\\n",
       "0      0    55.967487    37.913681       21.0   \n",
       "1      1    55.971294    37.905186       13.0   \n",
       "2      2    56.016590    37.909100        4.0   \n",
       "3      3    55.964508    37.937912        2.0   \n",
       "4      4    55.776802    37.657352        3.0   \n",
       "\n",
       "                        customer_id         0  clusters  \n",
       "0  00fd410f5c580c8351cafa88d82b60f3  0.965517         0  \n",
       "1  00fd410f5c580c8351cafa88d82b60f3  0.937469         0  \n",
       "2  00fd410f5c580c8351cafa88d82b60f3  0.009483         1  \n",
       "3  00fd410f5c580c8351cafa88d82b60f3  0.182402         0  \n",
       "4  00fd410f5c580c8351cafa88d82b60f3  0.000974        -1  "
      ]
     },
     "execution_count": 104,
     "metadata": {},
     "output_type": "execute_result"
    }
   ],
   "source": [
    "sub_results.head()"
   ]
  },
  {
   "cell_type": "code",
   "execution_count": 105,
   "metadata": {
    "collapsed": true
   },
   "outputs": [],
   "source": [
    "sub_results.to_csv(r'...\\\\\n",
    "mod results\\2018_03_16_work_xgb_biclass_test02.csv')"
   ]
  },
  {
   "cell_type": "code",
   "execution_count": null,
   "metadata": {
    "collapsed": true
   },
   "outputs": [],
   "source": []
  },
  {
   "cell_type": "code",
   "execution_count": null,
   "metadata": {
    "collapsed": true
   },
   "outputs": [],
   "source": []
  },
  {
   "cell_type": "code",
   "execution_count": 274,
   "metadata": {
    "collapsed": true
   },
   "outputs": [],
   "source": [
    "work_answer = sub_results[sub_results.groupby(\n",
    "['customer_id'])['dist_prob'].transform(max) == sub_results['dist_prob'] ].drop_duplicates(\n",
    "    'customer_id')[['customer_id','address_lat','address_lon']]"
   ]
  },
  {
   "cell_type": "code",
   "execution_count": 275,
   "metadata": {
    "collapsed": false
   },
   "outputs": [
    {
     "data": {
      "text/plain": [
       "9997"
      ]
     },
     "execution_count": 275,
     "metadata": {},
     "output_type": "execute_result"
    }
   ],
   "source": [
    "len(work_answer)"
   ]
  },
  {
   "cell_type": "code",
   "execution_count": 276,
   "metadata": {
    "collapsed": true
   },
   "outputs": [],
   "source": [
    "submission = data['sub'].copy()\n",
    "submission.drop(['work_add_lat', 'work_add_lon', 'home_add_lat','home_add_lon'], axis=1, inplace=True)"
   ]
  },
  {
   "cell_type": "code",
   "execution_count": 277,
   "metadata": {
    "collapsed": true
   },
   "outputs": [],
   "source": [
    "submission = pd.merge(submission, work_answer, on='customer_id', how='left')"
   ]
  },
  {
   "cell_type": "code",
   "execution_count": 278,
   "metadata": {
    "collapsed": true
   },
   "outputs": [],
   "source": [
    "\"\"\"подход с фильтрацией вер-ти\"\"\"\n",
    "\"\"\"устанавливаем порог для вер-ти\"\"\"\n",
    "treshold = 0.45\n",
    "work_answer_prob = sub_results[sub_results['cl_1'] >= treshold].groupby('customer_id')[\n",
    "    ['address_lat', 'address_lon']].mean().reset_index()\n",
    "submission = pd.merge(submission, work_answer_prob, on='customer_id', how='left')\n",
    "submission = pd.merge(submission, work_answer, on='customer_id', how='left')\n",
    "\n",
    "\"\"\"заполняем пропуски, т.к. не у все ID вер-ть выше порога\"\"\"\n",
    "submission['address_lat_x'] = submission['address_lat_x'].fillna(submission['address_lat_y'])\n",
    "submission['address_lon_x'] = submission['address_lon_x'].fillna(submission['address_lon_y'])\n",
    "\n",
    "submission['address_lat_y'] = 0\n",
    "submission['address_lon_y'] = 0"
   ]
  },
  {
   "cell_type": "code",
   "execution_count": 280,
   "metadata": {
    "collapsed": true
   },
   "outputs": [],
   "source": [
    "submission.columns = ['_ID_', '_WORK_LAT_', '_WORK_LON_', '_HOME_LAT_', '_HOME_LON_']\n",
    "submission.index = submission._ID_\n",
    "submission.drop(\"_ID_\", axis=1, inplace=True)"
   ]
  },
  {
   "cell_type": "code",
   "execution_count": 278,
   "metadata": {
    "collapsed": true
   },
   "outputs": [],
   "source": [
    "\"\"\"скрещиваем с 20-ым сабом\"\"\"\n",
    "sub20 = pd.read_csv(r'...\\subs\\sub23h.csv')\n",
    "sub20.set_index('_ID_', inplace=True)"
   ]
  },
  {
   "cell_type": "code",
   "execution_count": 281,
   "metadata": {
    "collapsed": true
   },
   "outputs": [],
   "source": [
    "submission['_HOME_LAT_'] = sub20['_HOME_LAT_']\n",
    "submission['_HOME_LON_'] = sub20['_HOME_LON_']"
   ]
  },
  {
   "cell_type": "code",
   "execution_count": 284,
   "metadata": {
    "collapsed": true
   },
   "outputs": [],
   "source": [
    "submission.to_csv(r'...\\subs\\sub24.csv')"
   ]
  },
  {
   "cell_type": "code",
   "execution_count": 283,
   "metadata": {
    "collapsed": false
   },
   "outputs": [
    {
     "name": "stdout",
     "output_type": "stream",
     "text": [
      "<class 'pandas.core.frame.DataFrame'>\n",
      "Index: 9997 entries, 00021683ccb416637fe9a4cd35e4606e to ffebf4ea02c72183128d966721976ec9\n",
      "Data columns (total 4 columns):\n",
      "_WORK_LAT_    9997 non-null float32\n",
      "_WORK_LON_    9997 non-null float32\n",
      "_HOME_LAT_    9997 non-null float64\n",
      "_HOME_LON_    9997 non-null float64\n",
      "dtypes: float32(2), float64(2)\n",
      "memory usage: 312.4+ KB\n"
     ]
    }
   ],
   "source": [
    "submission.info()"
   ]
  },
  {
   "cell_type": "code",
   "execution_count": null,
   "metadata": {
    "collapsed": true
   },
   "outputs": [],
   "source": []
  },
  {
   "cell_type": "code",
   "execution_count": 286,
   "metadata": {
    "collapsed": true
   },
   "outputs": [],
   "source": [
    "train_results_table.to_csv(r'...\\mod results\\2018_03_07_xgb_im_work_regres_train.csv')"
   ]
  },
  {
   "cell_type": "code",
   "execution_count": 285,
   "metadata": {
    "collapsed": true
   },
   "outputs": [],
   "source": [
    "sub_results.to_csv(r'...\\mod results\\2018_03_07_xgb_im_work_regres_test.csv')"
   ]
  },
  {
   "cell_type": "code",
   "execution_count": null,
   "metadata": {
    "collapsed": true
   },
   "outputs": [],
   "source": []
  },
  {
   "cell_type": "code",
   "execution_count": 155,
   "metadata": {
    "collapsed": false
   },
   "outputs": [
    {
     "name": "stdout",
     "output_type": "stream",
     "text": [
      "\n",
      "Wall time: 26min 22s\n"
     ]
    }
   ],
   "source": [
    "%%time\n",
    "from sklearn.cluster import DBSCAN\n",
    "kms_per_radian = 6371.0088                        # define the number of kilometers in one radian\n",
    "epsilon = 3 / kms_per_radian                      # define epsilon as 3 kilometers, converted to radians for use by haversine\n",
    "\n",
    "sub_results['DBSCAN'] = 0\n",
    "\n",
    "for cust in tqdm_notebook(list(sub_results.customer_id.unique())):\n",
    "    \n",
    "    coords = sub_results[sub_results.customer_id == cust][['address_lat', 'address_lon']].as_matrix() \n",
    "    index = sub_results[sub_results.customer_id == cust].index\n",
    "    \n",
    "    if len(coords) <= 15:\n",
    "        min_sample = 2\n",
    "    else:\n",
    "        min_sample = round(len(coords)/10,0)\n",
    "    \n",
    "    db = DBSCAN(eps=epsilon, min_samples=min_sample, algorithm='ball_tree', metric='haversine').fit(np.radians(coords))\n",
    "    \n",
    "    sub_results.loc[index,'DBSCAN'] = db.labels_"
   ]
  },
  {
   "cell_type": "code",
   "execution_count": 161,
   "metadata": {
    "collapsed": true
   },
   "outputs": [],
   "source": [
    "sub_results['DBSCAN_max'] = sub_results.groupby(['customer_id', 'DBSCAN'])['cl_1'].transform(np.max)"
   ]
  },
  {
   "cell_type": "code",
   "execution_count": 172,
   "metadata": {
    "collapsed": true
   },
   "outputs": [],
   "source": [
    "home_answer_keys = sub_results.groupby('customer_id')[['DBSCAN_max', 'DBSCAN']].max()"
   ]
  },
  {
   "cell_type": "code",
   "execution_count": 173,
   "metadata": {
    "collapsed": false
   },
   "outputs": [
    {
     "name": "stdout",
     "output_type": "stream",
     "text": [
      "\n",
      "Wall time: 14min 31s\n"
     ]
    }
   ],
   "source": [
    "%%time\n",
    "\"\"\"выбераем макс веротности по кластерам, делаем небольшое смещение: среднее по 3-ем точкам\"\"\"\n",
    "home_answer_dict = {}\n",
    "\n",
    "for cust in tqdm_notebook(list(home_answer_keys.index)):\n",
    "    cluster = home_answer_keys.loc[cust,:][1].astype(int)\n",
    "    index = sub_results[sub_results.customer_id==cust].index\n",
    "    df_ = sub_results.loc[index,['address_lat', 'address_lon', 'DBSCAN', 'cl_1']]\n",
    "    df_ = df_[df_['DBSCAN'] == cluster] \n",
    "    \n",
    "    if (cluster == -1) | (len(df_) < 3) :\n",
    "        index_ = df_['cl_1'].argmax()\n",
    "        home_answer_dict[cust] = list(df_.loc[index_, ['address_lat', 'address_lon'] ].values)\n",
    "    else:\n",
    "        lat_3poi = ((df_.loc[list(df_['cl_1'].argsort()[-3:].index)[2], ['address_lat', 'address_lon']].values[0] + \n",
    "                     df_.loc[list(df_['cl_1'].argsort()[-3:].index)[1], ['address_lat', 'address_lon']].values[0] + \n",
    "                     df_.loc[list(df_['cl_1'].argsort()[-3:].index)[0], ['address_lat', 'address_lon']].values[0]) / 3)\n",
    "        lon_3poi = ((df_.loc[list(df_['cl_1'].argsort()[-3:].index)[2], ['address_lat', 'address_lon']].values[1] + \n",
    "                     df_.loc[list(df_['cl_1'].argsort()[-3:].index)[1], ['address_lat', 'address_lon']].values[1] + \n",
    "                     df_.loc[list(df_['cl_1'].argsort()[-3:].index)[0], ['address_lat', 'address_lon']].values[1]) / 3)\n",
    "        \n",
    "        home_answer_dict[cust] = [lat_3poi, lon_3poi]"
   ]
  },
  {
   "cell_type": "code",
   "execution_count": null,
   "metadata": {
    "collapsed": true
   },
   "outputs": [],
   "source": []
  },
  {
   "cell_type": "code",
   "execution_count": 174,
   "metadata": {
    "collapsed": true
   },
   "outputs": [],
   "source": [
    "home_answer = pd.DataFrame(home_answer_dict).T"
   ]
  },
  {
   "cell_type": "code",
   "execution_count": 175,
   "metadata": {
    "collapsed": true
   },
   "outputs": [],
   "source": [
    "home_answer.reset_index(inplace=True)\n",
    "home_answer.columns = ['customer_id', 'wlat', 'wlon']"
   ]
  },
  {
   "cell_type": "code",
   "execution_count": 179,
   "metadata": {
    "collapsed": true
   },
   "outputs": [],
   "source": [
    "submission = pd.merge(submission, home_answer, on='customer_id', how='left')"
   ]
  },
  {
   "cell_type": "code",
   "execution_count": 180,
   "metadata": {
    "collapsed": true
   },
   "outputs": [],
   "source": [
    "submission.columns = ['_ID_', '_WORK_LAT_', '_WORK_LON_', '_HOME_LAT_', '_HOME_LON_']\n",
    "submission.index = submission._ID_\n",
    "submission.drop(\"_ID_\", axis=1, inplace=True)"
   ]
  },
  {
   "cell_type": "code",
   "execution_count": 182,
   "metadata": {
    "collapsed": true
   },
   "outputs": [],
   "source": [
    "submission.to_csv(r'...\\subs\\sub18.csv')"
   ]
  },
  {
   "cell_type": "code",
   "execution_count": null,
   "metadata": {
    "collapsed": true
   },
   "outputs": [],
   "source": []
  },
  {
   "cell_type": "code",
   "execution_count": null,
   "metadata": {
    "collapsed": true
   },
   "outputs": [],
   "source": []
  },
  {
   "cell_type": "code",
   "execution_count": 195,
   "metadata": {
    "collapsed": true
   },
   "outputs": [],
   "source": [
    "sub_results['prob_1'] = sub_results['cl_1'] * sub_results['ttl_count']\n",
    "sub_results['prob_2'] = sub_results['cl_2'] * sub_results['ttl_count']"
   ]
  },
  {
   "cell_type": "code",
   "execution_count": null,
   "metadata": {
    "collapsed": true
   },
   "outputs": [],
   "source": [
    "\"\"\" СДЕЛАТЬ С CL_1 & CL_2 \"\"\""
   ]
  },
  {
   "cell_type": "code",
   "execution_count": 249,
   "metadata": {
    "collapsed": true
   },
   "outputs": [],
   "source": [
    "home_answer = sub_results[sub_results.groupby(\n",
    "['customer_id'])['cl_1'].transform(max) == sub_results['cl_1'] ].drop_duplicates(\n",
    "    'customer_id')[['customer_id','address_lat','address_lon']]"
   ]
  },
  {
   "cell_type": "code",
   "execution_count": 250,
   "metadata": {
    "collapsed": true
   },
   "outputs": [],
   "source": [
    "work_answer = sub_results[sub_results.groupby(\n",
    "['customer_id'])['cl_2'].transform(max) == sub_results['cl_2'] ].drop_duplicates(\n",
    "    'customer_id')[['customer_id','address_lat','address_lon']]"
   ]
  },
  {
   "cell_type": "code",
   "execution_count": null,
   "metadata": {
    "collapsed": true
   },
   "outputs": [],
   "source": []
  },
  {
   "cell_type": "code",
   "execution_count": 642,
   "metadata": {
    "collapsed": true
   },
   "outputs": [],
   "source": [
    "\"\"\"(II) approach\"\"\"\n",
    "\n",
    "treshold1 = 0.40\n",
    "treshold2 = 0.40\n",
    "treshold3 = 0.40\n",
    "\n",
    "high_prob_work =  sub_results[(sub_results['cl_2'] > treshold2)]\n",
    "high_prob_home = sub_results[(sub_results['cl_1'] > treshold1)]\n",
    "high_prob_wh = sub_results[(sub_results['cl_3'] > treshold3)]"
   ]
  },
  {
   "cell_type": "code",
   "execution_count": 643,
   "metadata": {
    "collapsed": true
   },
   "outputs": [],
   "source": [
    "home_answer = high_prob_home[high_prob_home.groupby(\n",
    "['customer_id'])['cl_1'].transform(max) == high_prob_home['cl_1'] ].drop_duplicates(\n",
    "    'customer_id')[['customer_id','address_lat','address_lon']]"
   ]
  },
  {
   "cell_type": "code",
   "execution_count": 644,
   "metadata": {
    "collapsed": true
   },
   "outputs": [],
   "source": [
    "work_answer = high_prob_work[high_prob_work.groupby(\n",
    "['customer_id'])['cl_2'].transform(max) == high_prob_work['cl_2'] ].drop_duplicates(\n",
    "    'customer_id')[['customer_id','address_lat','address_lon']]"
   ]
  },
  {
   "cell_type": "code",
   "execution_count": 645,
   "metadata": {
    "collapsed": true
   },
   "outputs": [],
   "source": [
    "submission = data['sub'].copy()\n",
    "submission.drop(['work_add_lat', 'work_add_lon', 'home_add_lat','home_add_lon'], axis=1, inplace=True)\n",
    "submission = pd.merge(submission, work_answer, on='customer_id', how='left')\n",
    "submission = pd.merge(submission, home_answer, on='customer_id', how='left')\n",
    "submission.columns = ['customer_id', 'work_add_lat_p', 'work_add_lon_p', 'home_add_lat_p','home_add_lon_p']"
   ]
  },
  {
   "cell_type": "code",
   "execution_count": 646,
   "metadata": {
    "collapsed": true
   },
   "outputs": [],
   "source": [
    "home_answer = high_prob_wh[high_prob_wh.groupby(\n",
    "['customer_id'])['cl_3'].transform(max) == high_prob_wh['cl_3'] ].drop_duplicates(\n",
    "    'customer_id')[['customer_id','address_lat','address_lon']]\n",
    "work_answer = high_prob_wh[high_prob_wh.groupby(\n",
    "['customer_id'])['cl_3'].transform(max) == high_prob_wh['cl_3'] ].drop_duplicates(\n",
    "    'customer_id')[['customer_id','address_lat','address_lon']]"
   ]
  },
  {
   "cell_type": "code",
   "execution_count": 647,
   "metadata": {
    "collapsed": true
   },
   "outputs": [],
   "source": [
    "submission = pd.merge(submission, work_answer, on='customer_id', how='left')\n",
    "submission = pd.merge(submission, home_answer, on='customer_id', how='left')"
   ]
  },
  {
   "cell_type": "code",
   "execution_count": 648,
   "metadata": {
    "collapsed": true
   },
   "outputs": [],
   "source": [
    "submission['work_add_lat_p'] = submission['work_add_lat_p'].fillna(submission.address_lat_x)\n",
    "submission['work_add_lon_p'] = submission['work_add_lon_p'].fillna(submission.address_lon_x)\n",
    "submission['home_add_lat_p'] = submission['home_add_lat_p'].fillna(submission.address_lat_y)\n",
    "submission['home_add_lon_p'] = submission['home_add_lon_p'].fillna(submission.address_lon_y)"
   ]
  },
  {
   "cell_type": "code",
   "execution_count": 649,
   "metadata": {
    "collapsed": true
   },
   "outputs": [],
   "source": [
    "submission.drop(list(submission.columns[5:]), axis=1, inplace=True)"
   ]
  },
  {
   "cell_type": "code",
   "execution_count": 656,
   "metadata": {
    "collapsed": true
   },
   "outputs": [],
   "source": [
    "sub10 = pd.read_csv(r'...\\subs\\sub10.csv')"
   ]
  },
  {
   "cell_type": "code",
   "execution_count": 650,
   "metadata": {
    "collapsed": true
   },
   "outputs": [],
   "source": [
    "submission.columns = ['_ID_', '_WORK_LAT_', '_WORK_LON_', '_HOME_LAT_', '_HOME_LON_']"
   ]
  },
  {
   "cell_type": "code",
   "execution_count": 651,
   "metadata": {
    "collapsed": true
   },
   "outputs": [],
   "source": [
    "for col in list(submission.columns)[1:]:\n",
    "    submission[col] = submission[col].fillna(sub11[col])"
   ]
  },
  {
   "cell_type": "code",
   "execution_count": 658,
   "metadata": {
    "collapsed": true
   },
   "outputs": [],
   "source": [
    "submission.columns = ['_ID_', '_WORK_LAT_', '_WORK_LON_', '_HOME_LAT_', '_HOME_LON_']\n",
    "submission.index = submission._ID_\n",
    "submission.drop(\"_ID_\", axis=1, inplace=True)"
   ]
  },
  {
   "cell_type": "code",
   "execution_count": 660,
   "metadata": {
    "collapsed": false,
    "scrolled": true
   },
   "outputs": [
    {
     "data": {
      "text/html": [
       "<div>\n",
       "<table border=\"1\" class=\"dataframe\">\n",
       "  <thead>\n",
       "    <tr style=\"text-align: right;\">\n",
       "      <th></th>\n",
       "      <th>_WORK_LAT_</th>\n",
       "      <th>_WORK_LON_</th>\n",
       "      <th>_HOME_LAT_</th>\n",
       "      <th>_HOME_LON_</th>\n",
       "    </tr>\n",
       "    <tr>\n",
       "      <th>_ID_</th>\n",
       "      <th></th>\n",
       "      <th></th>\n",
       "      <th></th>\n",
       "      <th></th>\n",
       "    </tr>\n",
       "  </thead>\n",
       "  <tbody>\n",
       "    <tr>\n",
       "      <th>00021683ccb416637fe9a4cd35e4606e</th>\n",
       "      <td>0.0</td>\n",
       "      <td>0.0</td>\n",
       "      <td>55.038212</td>\n",
       "      <td>82.977364</td>\n",
       "    </tr>\n",
       "    <tr>\n",
       "      <th>0002d0f8a642272b41c292c12ab6e602</th>\n",
       "      <td>0.0</td>\n",
       "      <td>0.0</td>\n",
       "      <td>44.028999</td>\n",
       "      <td>42.841000</td>\n",
       "    </tr>\n",
       "    <tr>\n",
       "      <th>0004d182d9fede3ba2534b2d5e5ad27e</th>\n",
       "      <td>0.0</td>\n",
       "      <td>0.0</td>\n",
       "      <td>43.597000</td>\n",
       "      <td>39.727001</td>\n",
       "    </tr>\n",
       "    <tr>\n",
       "      <th>0008c2445518c9392cb356c5c3db3392</th>\n",
       "      <td>0.0</td>\n",
       "      <td>0.0</td>\n",
       "      <td>51.529018</td>\n",
       "      <td>46.029404</td>\n",
       "    </tr>\n",
       "    <tr>\n",
       "      <th>000b373cc4969c0be8e0933c08da67e1</th>\n",
       "      <td>0.0</td>\n",
       "      <td>0.0</td>\n",
       "      <td>56.237175</td>\n",
       "      <td>43.463005</td>\n",
       "    </tr>\n",
       "  </tbody>\n",
       "</table>\n",
       "</div>"
      ],
      "text/plain": [
       "                                  _WORK_LAT_  _WORK_LON_  _HOME_LAT_  \\\n",
       "_ID_                                                                   \n",
       "00021683ccb416637fe9a4cd35e4606e         0.0         0.0   55.038212   \n",
       "0002d0f8a642272b41c292c12ab6e602         0.0         0.0   44.028999   \n",
       "0004d182d9fede3ba2534b2d5e5ad27e         0.0         0.0   43.597000   \n",
       "0008c2445518c9392cb356c5c3db3392         0.0         0.0   51.529018   \n",
       "000b373cc4969c0be8e0933c08da67e1         0.0         0.0   56.237175   \n",
       "\n",
       "                                  _HOME_LON_  \n",
       "_ID_                                          \n",
       "00021683ccb416637fe9a4cd35e4606e   82.977364  \n",
       "0002d0f8a642272b41c292c12ab6e602   42.841000  \n",
       "0004d182d9fede3ba2534b2d5e5ad27e   39.727001  \n",
       "0008c2445518c9392cb356c5c3db3392   46.029404  \n",
       "000b373cc4969c0be8e0933c08da67e1   43.463005  "
      ]
     },
     "execution_count": 660,
     "metadata": {},
     "output_type": "execute_result"
    }
   ],
   "source": [
    "submission.head()"
   ]
  },
  {
   "cell_type": "code",
   "execution_count": 661,
   "metadata": {
    "collapsed": true
   },
   "outputs": [],
   "source": [
    "submission.to_csv(r'...\\subs\\sub14.csv')"
   ]
  },
  {
   "cell_type": "code",
   "execution_count": 659,
   "metadata": {
    "collapsed": true
   },
   "outputs": [],
   "source": [
    "submission[['_WORK_LAT_']] = 0\n",
    "submission[['_WORK_LON_']] = 0"
   ]
  },
  {
   "cell_type": "code",
   "execution_count": 657,
   "metadata": {
    "collapsed": true
   },
   "outputs": [],
   "source": [
    "submission = sub10"
   ]
  },
  {
   "cell_type": "code",
   "execution_count": null,
   "metadata": {
    "collapsed": true
   },
   "outputs": [],
   "source": []
  },
  {
   "cell_type": "code",
   "execution_count": 252,
   "metadata": {
    "collapsed": true
   },
   "outputs": [],
   "source": [
    "submission = pd.merge(submission, work_answer, on='customer_id', how='left')\n",
    "submission = pd.merge(submission, home_answer, on='customer_id', how='left')"
   ]
  },
  {
   "cell_type": "code",
   "execution_count": 253,
   "metadata": {
    "collapsed": false
   },
   "outputs": [
    {
     "data": {
      "text/plain": [
       "(9997, 9997)"
      ]
     },
     "execution_count": 253,
     "metadata": {},
     "output_type": "execute_result"
    }
   ],
   "source": [
    "len(home_answer), len(work_answer)"
   ]
  },
  {
   "cell_type": "code",
   "execution_count": 254,
   "metadata": {
    "collapsed": true
   },
   "outputs": [],
   "source": [
    "submission.columns = ['_ID_', '_WORK_LAT_', '_WORK_LON_', '_HOME_LAT_', '_HOME_LON_']\n",
    "submission.index = submission._ID_\n",
    "submission.drop(\"_ID_\", axis=1, inplace=True)"
   ]
  },
  {
   "cell_type": "code",
   "execution_count": 259,
   "metadata": {
    "collapsed": true
   },
   "outputs": [],
   "source": []
  },
  {
   "cell_type": "code",
   "execution_count": 664,
   "metadata": {
    "collapsed": true
   },
   "outputs": [],
   "source": [
    "sub_results.to_excel(r'...\\data\\2018_03_02_sub_results.xlsx')"
   ]
  },
  {
   "cell_type": "code",
   "execution_count": null,
   "metadata": {
    "collapsed": true
   },
   "outputs": [],
   "source": []
  },
  {
   "cell_type": "code",
   "execution_count": null,
   "metadata": {
    "collapsed": true
   },
   "outputs": [],
   "source": []
  },
  {
   "cell_type": "code",
   "execution_count": 226,
   "metadata": {
    "collapsed": true
   },
   "outputs": [],
   "source": [
    "sub_results.to_csv('2018_02_26_sub_results.csv')"
   ]
  },
  {
   "cell_type": "code",
   "execution_count": null,
   "metadata": {
    "collapsed": true
   },
   "outputs": [],
   "source": []
  },
  {
   "cell_type": "code",
   "execution_count": 350,
   "metadata": {
    "collapsed": false
   },
   "outputs": [
    {
     "data": {
      "text/plain": [
       "c0f276f4e7400587a98086eb4d373fdc    418\n",
       "e7d70df45e92b6837713cbeb0a8ed8fb    417\n",
       "71da3dfac9d864a8ab8a32c8ed07238f    417\n",
       "7d8271f339e2fb1fadd40b4b1d900bd0    416\n",
       "9b73f7f2a07a977e2b3add8e86787272    416\n",
       "3ff2ae87afdaacd41cfde4157c648421    412\n",
       "11f8d62c3b837d11f28a624efcee06ab    408\n",
       "24c6844f369dfdf3b5ed09ae6a44d504    407\n",
       "ebcc25347e38d684c38cb33f97f9b9ff    406\n",
       "a07c1faa182754ea0164b51ba35b2913    405\n",
       "Name: customer_id, dtype: int64"
      ]
     },
     "execution_count": 350,
     "metadata": {},
     "output_type": "execute_result"
    }
   ],
   "source": [
    "sub_results.customer_id.value_counts()[100:110]"
   ]
  },
  {
   "cell_type": "code",
   "execution_count": 150,
   "metadata": {
    "collapsed": true
   },
   "outputs": [],
   "source": [
    "idn = '00021683ccb416637fe9a4cd35e4606e'\n",
    "\n",
    "coords = sub_results[sub_results.customer_id==idn][['address_lat','address_lon', \n",
    "                                                                                   'cl_1', 'cl_2', 'cl_3', 'y_pred',\n",
    "                                                                                  'prob_1', 'prob_2']].copy()\n",
    "\n",
    "#latlon_pred = np.array(submission[submission.index==idn])"
   ]
  },
  {
   "cell_type": "code",
   "execution_count": 151,
   "metadata": {
    "collapsed": false
   },
   "outputs": [
    {
     "data": {
      "image/png": "[encoded data removed]",
      "text/plain": [
       "<matplotlib.figure.Figure at 0x6af11fc518>"
      ]
     },
     "metadata": {},
     "output_type": "display_data"
    }
   ],
   "source": [
    "y, x = coords.address_lat, coords.address_lon\n",
    "labels = coords.y_pred\n",
    "df = pd.DataFrame(dict(x=x, y=y, label=labels))\n",
    "\n",
    "groups = df.groupby('label')\n",
    "\n",
    "#circle3 = plt.Circle((latlon_pred[0,0], latlon_pred[0,1]), 0.02, fill=False, color='r', ls='--');\n",
    "#circle4 = plt.Circle((latlon_pred[0,2], latlon_pred[0,3]), 0.02, fill=False, color='r', ls='--');\n",
    "\n",
    "# Plot\n",
    "fig, ax = plt.subplots(figsize=(8, 6))\n",
    "#ax.margins(0.05) # Optional, just adds 5% padding to the autoscaling\n",
    "for name, group in groups:\n",
    "    ax.scatter(group.x, group.y, s=coords.cl_1*100, marker='o', label=name)\n",
    "\n",
    "#plt.scatter(latlon_pred[0,0], latlon_pred[0,1], s=70, marker='x', color='r', label='work_p');\n",
    "#plt.scatter(latlon_pred[0,2], latlon_pred[0,3], s=70, marker='v', color='r', label='home_p');    \n",
    "\n",
    "ax.legend()\n",
    "\n",
    "#ax.add_artist(circle3)\n",
    "#ax.add_artist(circle4)\n",
    "plt.show()"
   ]
  },
  {
   "cell_type": "code",
   "execution_count": null,
   "metadata": {
    "collapsed": true
   },
   "outputs": [],
   "source": []
  },
  {
   "cell_type": "code",
   "execution_count": null,
   "metadata": {
    "collapsed": true
   },
   "outputs": [],
   "source": []
  },
  {
   "cell_type": "code",
   "execution_count": null,
   "metadata": {
    "collapsed": true
   },
   "outputs": [],
   "source": []
  },
  {
   "cell_type": "code",
   "execution_count": null,
   "metadata": {
    "collapsed": true
   },
   "outputs": [],
   "source": []
  },
  {
   "cell_type": "code",
   "execution_count": null,
   "metadata": {
    "collapsed": true
   },
   "outputs": [],
   "source": [
    "\"\"\"sub03: первый (работа) и последний (дом) \"\"\""
   ]
  },
  {
   "cell_type": "code",
   "execution_count": 375,
   "metadata": {
    "collapsed": true
   },
   "outputs": [],
   "source": [
    "first_and_last_home = df_for_Vanya[['customer_id', 'address_lat', 'address_lon']].iloc[1::2,:]\n",
    "first_and_last_home.columns = ['customer_id', 'home_lat', 'home_lon']"
   ]
  },
  {
   "cell_type": "code",
   "execution_count": 376,
   "metadata": {
    "collapsed": true
   },
   "outputs": [],
   "source": [
    "first_and_last_work = df_for_Vanya[['customer_id', 'address_lat', 'address_lon']].iloc[::2,:]\n",
    "first_and_last_work.columns = ['customer_id', 'work_lat', 'work_lon']"
   ]
  },
  {
   "cell_type": "code",
   "execution_count": 200,
   "metadata": {
    "collapsed": true
   },
   "outputs": [],
   "source": [
    "submission = data['sub'].copy()\n",
    "submission.drop(['work_add_lat', 'work_add_lon', 'home_add_lat','home_add_lon'], axis=1, inplace=True)"
   ]
  },
  {
   "cell_type": "code",
   "execution_count": 378,
   "metadata": {
    "collapsed": true
   },
   "outputs": [],
   "source": [
    "submission = pd.merge(submission, first_and_last_work, on='customer_id', how='left')\n",
    "submission = pd.merge(submission, first_and_last_home, on='customer_id', how='left')"
   ]
  },
  {
   "cell_type": "code",
   "execution_count": 288,
   "metadata": {
    "collapsed": true
   },
   "outputs": [],
   "source": [
    "submission.columns = ['_ID_', '_WORK_LAT_', '_WORK_LON_', '_HOME_LAT_', '_HOME_LON_']\n",
    "submission.index = submission._ID_\n",
    "submission.drop(\"_ID_\", axis=1, inplace=True)"
   ]
  },
  {
   "cell_type": "code",
   "execution_count": 289,
   "metadata": {
    "collapsed": true
   },
   "outputs": [],
   "source": []
  },
  {
   "cell_type": "code",
   "execution_count": 291,
   "metadata": {
    "collapsed": true
   },
   "outputs": [],
   "source": [
    "submission.to_csv(r'...\\subs\\sub08.csv')"
   ]
  },
  {
   "cell_type": "code",
   "execution_count": null,
   "metadata": {
    "collapsed": true
   },
   "outputs": [],
   "source": []
  },
  {
   "cell_type": "code",
   "execution_count": null,
   "metadata": {
    "collapsed": true
   },
   "outputs": [],
   "source": []
  },
  {
   "cell_type": "code",
   "execution_count": 135,
   "metadata": {
    "collapsed": false
   },
   "outputs": [
    {
     "data": {
      "image/png": "[encoded data removed]",
      "text/plain": [
       "<matplotlib.figure.Figure at 0x2094ed4d518>"
      ]
     },
     "metadata": {},
     "output_type": "display_data"
    },
    {
     "name": "stdout",
     "output_type": "stream",
     "text": [
      "Wall time: 260 ms\n"
     ]
    }
   ],
   "source": [
    "%%time\n",
    "# DBSCAN clustering\n",
    "# represent points consistently as (lat, lon)\n",
    "idn = '000c589e94c95984721de4b2bfb9ee4e'\n",
    "coords = train_and_test_together[train_and_test_together.customer_id \n",
    "                        == idn][['address_lat', 'address_lon']].as_matrix()\n",
    "kms_per_radian = 6371.0088        # define the number of kilometers in one radian\n",
    "epsilon = 2 / kms_per_radian      # define epsilon as 3 kilometers, converted to radians for use by haversine\n",
    "\n",
    "if len(coords) <= 15:\n",
    "    min_sample = 2\n",
    "else:\n",
    "    min_sample = round(len(coords)/10,0)\n",
    "\n",
    "db = DBSCAN(eps=epsilon, min_samples=min_sample, algorithm='ball_tree', metric='haversine').fit(np.radians(coords))\n",
    "cluster_labels = db.labels_\n",
    "unique_labels = set(cluster_labels)\n",
    "\n",
    "# get the number of clusters\n",
    "num_clusters = len(set(cluster_labels))\n",
    "\n",
    "# get colors and plot all the points, color-coded by cluster (or gray if not in any cluster, aka noise)\n",
    "fig, ax = plt.subplots(figsize=(8, 6))\n",
    "colors = plt.cm.rainbow(np.linspace(0, 1, len(unique_labels)))\n",
    "\n",
    "# for each cluster label and color, plot the cluster's points\n",
    "for cluster_label, color in zip(unique_labels, colors):\n",
    "    \n",
    "    size = 150\n",
    "    if cluster_label == -1: #make the noise (which is labeled -1) appear as smaller gray points\n",
    "        color = 'gray'\n",
    "        size = 30\n",
    "    \n",
    "    # plot the points that match the current cluster label\n",
    "    x_coords = coords[cluster_labels==cluster_label][:,1]\n",
    "    y_coords = coords[cluster_labels==cluster_label][:,0]\n",
    "    ax.scatter(x=x_coords, y=y_coords, c=color, edgecolor='k', s=size, alpha=0.5)\n",
    "\n",
    "ax.set_title('Number of clusters: {0}, min_sample: {2} \\n id: {1}'.format(num_clusters, idn, db.min_samples))\n",
    "plt.show()"
   ]
  },
  {
   "cell_type": "code",
   "execution_count": 134,
   "metadata": {
    "collapsed": false
   },
   "outputs": [
    {
     "data": {
      "text/plain": [
       "array([ 0,  1,  0,  0,  1, -1,  0,  1,  0,  0, -1], dtype=int64)"
      ]
     },
     "execution_count": 134,
     "metadata": {},
     "output_type": "execute_result"
    }
   ],
   "source": [
    "db.labels_"
   ]
  }
 ],
 "metadata": {
  "kernelspec": {
   "display_name": "Python 3",
   "language": "python",
   "name": "python3"
  },
  "language_info": {
   "codemirror_mode": {
    "name": "ipython",
    "version": 3
   },
   "file_extension": ".py",
   "mimetype": "text/x-python",
   "name": "python",
   "nbconvert_exporter": "python",
   "pygments_lexer": "ipython3",
   "version": "3.6.2"
  }
 },
 "nbformat": 4,
 "nbformat_minor": 2
}
